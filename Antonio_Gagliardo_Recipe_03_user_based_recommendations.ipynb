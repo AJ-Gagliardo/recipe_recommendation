{
 "cells": [
  {
   "cell_type": "markdown",
   "id": "240ac077",
   "metadata": {},
   "source": [
    "### Antonio Gagliardo | Recipe Sentiment Analysis and Recommendation System\n",
    "\n",
    "# Index\n",
    "\n",
    "\n",
    "## [Section 1: Exploring and Cleaning](#Section1)\n",
    "## [Section 2: User-item Matrix](#Section2)\n",
    "## [Section 3: Similarity Calculation](#Section3)\n",
    "## [Section 4: Recommendation Generation](#Section4)\n",
    "## [Section 5: Conclusion](#Section5)\n",
    "\n",
    "\n",
    "------------------\n",
    "-----------------"
   ]
  },
  {
   "cell_type": "markdown",
   "id": "a5ea58c8",
   "metadata": {},
   "source": [
    "## Intro\n",
    "\n",
    "This project aimed to develop a collaborative food recommender system based user reviews. The project involved collecting user reviews, building a user-item matrix, calculating user similarities, and predicting ratings for recipes. At the end I will put all together in a  function to give recommendation based on similar users.\n",
    "\n",
    "This approach helps users discover new recipes tailored to their tastes, enhancing user experience and satisfaction with the recommendation system.\n",
    " \n",
    "### Data\n",
    "The data was taken from Kaggle and is a dataset from Food.com credit to the person who created the dataset: https://www.kaggle.com/datasets/irkaal/foodcom-recipes-and-reviews\n",
    "\n",
    "or you can use my **drive link** to download the dataset: https://drive.google.com/drive/folders/17rwRC48Lk1K36z6mU6M3t6ePOsDz51fR\n"
   ]
  },
  {
   "cell_type": "markdown",
   "id": "a55058ba",
   "metadata": {},
   "source": [
    "# Section1 \n",
    "## Exploring and Cleaning"
   ]
  },
  {
   "cell_type": "markdown",
   "id": "c668b47a",
   "metadata": {},
   "source": [
    "First I import some of the required libraries"
   ]
  },
  {
   "cell_type": "code",
   "execution_count": 1,
   "id": "941c3b80",
   "metadata": {},
   "outputs": [],
   "source": [
    "import pandas as pd\n",
    "import numpy as np\n",
    "import matplotlib.pyplot as plt"
   ]
  },
  {
   "cell_type": "markdown",
   "id": "730a5bcf",
   "metadata": {},
   "source": [
    "Loading the data:"
   ]
  },
  {
   "cell_type": "code",
   "execution_count": 2,
   "id": "9d4b63c5",
   "metadata": {},
   "outputs": [],
   "source": [
    "rev = pd.read_csv('foodcom_with_reviews/reviews.csv')"
   ]
  },
  {
   "cell_type": "markdown",
   "id": "75b12943",
   "metadata": {},
   "source": [
    "Previewing the DataFrame"
   ]
  },
  {
   "cell_type": "code",
   "execution_count": 3,
   "id": "c77b38e3",
   "metadata": {
    "scrolled": true
   },
   "outputs": [
    {
     "data": {
      "text/html": [
       "<div>\n",
       "<style scoped>\n",
       "    .dataframe tbody tr th:only-of-type {\n",
       "        vertical-align: middle;\n",
       "    }\n",
       "\n",
       "    .dataframe tbody tr th {\n",
       "        vertical-align: top;\n",
       "    }\n",
       "\n",
       "    .dataframe thead th {\n",
       "        text-align: right;\n",
       "    }\n",
       "</style>\n",
       "<table border=\"1\" class=\"dataframe\">\n",
       "  <thead>\n",
       "    <tr style=\"text-align: right;\">\n",
       "      <th></th>\n",
       "      <th>ReviewId</th>\n",
       "      <th>RecipeId</th>\n",
       "      <th>AuthorId</th>\n",
       "      <th>AuthorName</th>\n",
       "      <th>Rating</th>\n",
       "      <th>Review</th>\n",
       "      <th>DateSubmitted</th>\n",
       "      <th>DateModified</th>\n",
       "    </tr>\n",
       "  </thead>\n",
       "  <tbody>\n",
       "    <tr>\n",
       "      <th>0</th>\n",
       "      <td>2</td>\n",
       "      <td>992</td>\n",
       "      <td>2008</td>\n",
       "      <td>gayg msft</td>\n",
       "      <td>5</td>\n",
       "      <td>better than any you can get at a restaurant!</td>\n",
       "      <td>2000-01-25T21:44:00Z</td>\n",
       "      <td>2000-01-25T21:44:00Z</td>\n",
       "    </tr>\n",
       "    <tr>\n",
       "      <th>1</th>\n",
       "      <td>7</td>\n",
       "      <td>4384</td>\n",
       "      <td>1634</td>\n",
       "      <td>Bill Hilbrich</td>\n",
       "      <td>4</td>\n",
       "      <td>I cut back on the mayo, and made up the differ...</td>\n",
       "      <td>2001-10-17T16:49:59Z</td>\n",
       "      <td>2001-10-17T16:49:59Z</td>\n",
       "    </tr>\n",
       "    <tr>\n",
       "      <th>2</th>\n",
       "      <td>9</td>\n",
       "      <td>4523</td>\n",
       "      <td>2046</td>\n",
       "      <td>Gay Gilmore ckpt</td>\n",
       "      <td>2</td>\n",
       "      <td>i think i did something wrong because i could ...</td>\n",
       "      <td>2000-02-25T09:00:00Z</td>\n",
       "      <td>2000-02-25T09:00:00Z</td>\n",
       "    </tr>\n",
       "  </tbody>\n",
       "</table>\n",
       "</div>"
      ],
      "text/plain": [
       "   ReviewId  RecipeId  AuthorId        AuthorName  Rating  \\\n",
       "0         2       992      2008         gayg msft       5   \n",
       "1         7      4384      1634     Bill Hilbrich       4   \n",
       "2         9      4523      2046  Gay Gilmore ckpt       2   \n",
       "\n",
       "                                              Review         DateSubmitted  \\\n",
       "0       better than any you can get at a restaurant!  2000-01-25T21:44:00Z   \n",
       "1  I cut back on the mayo, and made up the differ...  2001-10-17T16:49:59Z   \n",
       "2  i think i did something wrong because i could ...  2000-02-25T09:00:00Z   \n",
       "\n",
       "           DateModified  \n",
       "0  2000-01-25T21:44:00Z  \n",
       "1  2001-10-17T16:49:59Z  \n",
       "2  2000-02-25T09:00:00Z  "
      ]
     },
     "execution_count": 3,
     "metadata": {},
     "output_type": "execute_result"
    }
   ],
   "source": [
    "rev.head(3)"
   ]
  },
  {
   "cell_type": "markdown",
   "id": "0cb8c35c",
   "metadata": {},
   "source": [
    "Exploring the DataFrame to know more about it"
   ]
  },
  {
   "cell_type": "code",
   "execution_count": 4,
   "id": "b5cefb36",
   "metadata": {
    "scrolled": true
   },
   "outputs": [
    {
     "data": {
      "text/plain": [
       "Index(['ReviewId', 'RecipeId', 'AuthorId', 'AuthorName', 'Rating', 'Review',\n",
       "       'DateSubmitted', 'DateModified'],\n",
       "      dtype='object')"
      ]
     },
     "execution_count": 4,
     "metadata": {},
     "output_type": "execute_result"
    }
   ],
   "source": [
    "rev.columns"
   ]
  },
  {
   "cell_type": "code",
   "execution_count": 5,
   "id": "856f24b4",
   "metadata": {},
   "outputs": [
    {
     "data": {
      "text/plain": [
       "ReviewId          int64\n",
       "RecipeId          int64\n",
       "AuthorId          int64\n",
       "AuthorName       object\n",
       "Rating            int64\n",
       "Review           object\n",
       "DateSubmitted    object\n",
       "DateModified     object\n",
       "dtype: object"
      ]
     },
     "execution_count": 5,
     "metadata": {},
     "output_type": "execute_result"
    }
   ],
   "source": [
    "rev.dtypes"
   ]
  },
  {
   "cell_type": "code",
   "execution_count": 6,
   "id": "fb3d52fb",
   "metadata": {
    "scrolled": true
   },
   "outputs": [
    {
     "data": {
      "text/plain": [
       "424680        8842\n",
       "37449         6605\n",
       "383346        5438\n",
       "128473        4693\n",
       "169430        4586\n",
       "              ... \n",
       "1701969          1\n",
       "1585419          1\n",
       "1704446          1\n",
       "1417548          1\n",
       "2002812127       1\n",
       "Name: AuthorId, Length: 271907, dtype: int64"
      ]
     },
     "execution_count": 6,
     "metadata": {},
     "output_type": "execute_result"
    }
   ],
   "source": [
    "rev['AuthorId'].value_counts()"
   ]
  },
  {
   "cell_type": "code",
   "execution_count": 7,
   "id": "f9f3edaa",
   "metadata": {},
   "outputs": [
    {
     "data": {
      "text/plain": [
       "AuthorId\n",
       "1533           153\n",
       "1535          1044\n",
       "1566             1\n",
       "1581             2\n",
       "1634            79\n",
       "              ... \n",
       "2002901749       1\n",
       "2002901759       1\n",
       "2002901787       1\n",
       "2002901848       1\n",
       "2002901938       1\n",
       "Name: ReviewId, Length: 271907, dtype: int64"
      ]
     },
     "execution_count": 7,
     "metadata": {},
     "output_type": "execute_result"
    }
   ],
   "source": [
    "author_reviews = rev.groupby('AuthorId')['ReviewId'].count()\n",
    "author_reviews"
   ]
  },
  {
   "cell_type": "code",
   "execution_count": 8,
   "id": "8917dbe9",
   "metadata": {},
   "outputs": [
    {
     "data": {
      "text/plain": [
       "1       199808\n",
       "2        27067\n",
       "3        11243\n",
       "4         6106\n",
       "5         4114\n",
       "         ...  \n",
       "4586         1\n",
       "4693         1\n",
       "5438         1\n",
       "6605         1\n",
       "8842         1\n",
       "Name: ReviewId, Length: 699, dtype: int64"
      ]
     },
     "execution_count": 8,
     "metadata": {},
     "output_type": "execute_result"
    }
   ],
   "source": [
    "author_reviews.value_counts().sort_index()"
   ]
  },
  {
   "cell_type": "code",
   "execution_count": 9,
   "id": "7cf53f66",
   "metadata": {},
   "outputs": [
    {
     "data": {
      "text/plain": [
       "424680        False\n",
       "37449         False\n",
       "383346        False\n",
       "128473        False\n",
       "169430        False\n",
       "              ...  \n",
       "1701969        True\n",
       "1585419        True\n",
       "1704446        True\n",
       "1417548        True\n",
       "2002812127     True\n",
       "Name: AuthorId, Length: 271907, dtype: bool"
      ]
     },
     "execution_count": 9,
     "metadata": {},
     "output_type": "execute_result"
    }
   ],
   "source": [
    "rev_less_10 = rev['AuthorId'].value_counts()<10\n",
    "rev_less_10"
   ]
  },
  {
   "cell_type": "markdown",
   "id": "34bced90",
   "metadata": {},
   "source": [
    "### Selecting\n",
    "Bellow I will be checking how the data will look if i take all the reviewers, or if i take only reviewers that did more than 10, 20, 50 reviews."
   ]
  },
  {
   "cell_type": "code",
   "execution_count": 10,
   "id": "547f4f2a",
   "metadata": {},
   "outputs": [
    {
     "data": {
      "image/png": "[encoded data removed]",
      "text/plain": [
       "<Figure size 1200x1000 with 4 Axes>"
      ]
     },
     "metadata": {},
     "output_type": "display_data"
    }
   ],
   "source": [
    "\n",
    "# Group the DataFrame by AuthorId and count the number of reviews per author\n",
    "review_counts = rev['AuthorId'].value_counts()\n",
    "\n",
    "# Define the thresholds\n",
    "thresholds = [0, 10, 20, 50]\n",
    "\n",
    "# Create a 2x2 subplot grid\n",
    "fig, axs = plt.subplots(2, 2, figsize=(12, 10))\n",
    "\n",
    "# Plot histograms for different thresholds\n",
    "for i, threshold in enumerate(thresholds):\n",
    "    # Filter authors based on the threshold\n",
    "    filtered_authors = review_counts[review_counts >= threshold]\n",
    "\n",
    "    # Plotting the histogram on the corresponding subplot\n",
    "    ax = axs[i // 2][i % 2]\n",
    "    filtered_authors.plot(kind='hist', bins=50, ax=ax)\n",
    "\n",
    "    # Set the labels and title of each subplot\n",
    "    ax.set_xlabel('Number of Reviews')\n",
    "    ax.set_ylabel('Number of Authors')\n",
    "    ax.set_title(f'Threshold: {threshold}')\n",
    "\n",
    "# Adjust the spacing between subplots\n",
    "fig.tight_layout()\n",
    "\n",
    "# Display the chart\n",
    "plt.show()\n",
    "\n",
    "# this subplot code was done with the help of chat gpt"
   ]
  },
  {
   "cell_type": "markdown",
   "id": "51a61f15",
   "metadata": {},
   "source": [
    "Since the Data is huge I have to cut it either way, so the best thing is start thinking what data would be better to get rid of. In this case, the best thing would be getting rid of users that have reviews less than X amount of times, since it would make difficult to test my data if my sample ends up being full of users that have never rated."
   ]
  },
  {
   "cell_type": "code",
   "execution_count": 11,
   "id": "4e269378",
   "metadata": {},
   "outputs": [
    {
     "data": {
      "text/plain": [
       "True     256734\n",
       "False     15173\n",
       "Name: AuthorId, dtype: int64"
      ]
     },
     "execution_count": 11,
     "metadata": {},
     "output_type": "execute_result"
    }
   ],
   "source": [
    "rev_less_10.value_counts()"
   ]
  },
  {
   "cell_type": "markdown",
   "id": "7b478d18",
   "metadata": {},
   "source": [
    "With this info I know that at least 15,000 users have rated more than 10 recipes, which then 10 its an ok number to work with.\n",
    "\n",
    "Still I will explore with other values to see which one I could choose."
   ]
  },
  {
   "cell_type": "code",
   "execution_count": 12,
   "id": "e1b8398f",
   "metadata": {},
   "outputs": [
    {
     "name": "stdout",
     "output_type": "stream",
     "text": [
      "The number of users who rated more than 0 recipes is: 271907\n",
      "The number of users who rated more than 10 recipes is: 15173\n",
      "The number of users who rated more than 20 recipes is: 8213\n",
      "The number of users who rated more than 50 recipes is: 3427\n"
     ]
    }
   ],
   "source": [
    "thresholds = [0, 10, 20, 50]\n",
    "for i in thresholds:\n",
    "    filtered_users = rev['AuthorId'].value_counts() >= i\n",
    "    num_filtered_users = sum(filtered_users)\n",
    "    print(f\"The number of users who rated more than {i} recipes is: {num_filtered_users}\")\n"
   ]
  },
  {
   "cell_type": "code",
   "execution_count": 13,
   "id": "99c37f6e",
   "metadata": {
    "scrolled": true
   },
   "outputs": [
    {
     "name": "stdout",
     "output_type": "stream",
     "text": [
      "Number of users with at least 50 occurrences: 3427\n"
     ]
    }
   ],
   "source": [
    "# Groups by AuthorId and count the number of occurrences per author\n",
    "user_counts = rev['AuthorId'].value_counts()\n",
    "\n",
    "# Filter out users with less than 50 occurrences\n",
    "filtered_users = user_counts[user_counts >= 50]\n",
    "\n",
    "# Count the number of filtered users\n",
    "num_filtered_users = len(filtered_users)\n",
    "\n",
    "# Print the result\n",
    "print(\"Number of users with at least 50 occurrences:\", num_filtered_users)\n"
   ]
  },
  {
   "cell_type": "markdown",
   "id": "be6fc647",
   "metadata": {},
   "source": [
    "Cheking the shape before reducing my dataset"
   ]
  },
  {
   "cell_type": "code",
   "execution_count": 14,
   "id": "975d8d3f",
   "metadata": {},
   "outputs": [
    {
     "data": {
      "text/plain": [
       "424680        8842\n",
       "37449         6605\n",
       "383346        5438\n",
       "128473        4693\n",
       "169430        4586\n",
       "              ... \n",
       "1701969          1\n",
       "1585419          1\n",
       "1704446          1\n",
       "1417548          1\n",
       "2002812127       1\n",
       "Name: AuthorId, Length: 271907, dtype: int64"
      ]
     },
     "execution_count": 14,
     "metadata": {},
     "output_type": "execute_result"
    }
   ],
   "source": [
    "rev['AuthorId'].value_counts()"
   ]
  },
  {
   "cell_type": "code",
   "execution_count": 15,
   "id": "5b8746f8",
   "metadata": {},
   "outputs": [
    {
     "data": {
      "text/plain": [
       "(1401982, 8)"
      ]
     },
     "execution_count": 15,
     "metadata": {},
     "output_type": "execute_result"
    }
   ],
   "source": [
    "rev.shape"
   ]
  },
  {
   "cell_type": "markdown",
   "id": "f3685396",
   "metadata": {},
   "source": [
    "Reducing my dataset to users with only users that have done at least 50 reviews."
   ]
  },
  {
   "cell_type": "code",
   "execution_count": 16,
   "id": "ed547966",
   "metadata": {},
   "outputs": [],
   "source": [
    "\n",
    "# Group by AuthorId and count the number of occurrences per author\n",
    "user_counts = rev['AuthorId'].value_counts()\n",
    "\n",
    "# Filter out users with less than 50 occurrences\n",
    "filtered_users = user_counts[user_counts >= 50]\n",
    "\n",
    "# Filter the  DataFrame based on the filtered users\n",
    "rev = rev[rev['AuthorId'].isin(filtered_users.index)]\n",
    "\n"
   ]
  },
  {
   "cell_type": "code",
   "execution_count": 17,
   "id": "c985b7ad",
   "metadata": {},
   "outputs": [
    {
     "data": {
      "text/plain": [
       "424680    8842\n",
       "37449     6605\n",
       "383346    5438\n",
       "128473    4693\n",
       "169430    4586\n",
       "          ... \n",
       "381538      50\n",
       "346812      50\n",
       "371350      50\n",
       "416537      50\n",
       "38901       50\n",
       "Name: AuthorId, Length: 3427, dtype: int64"
      ]
     },
     "execution_count": 17,
     "metadata": {},
     "output_type": "execute_result"
    }
   ],
   "source": [
    "rev['AuthorId'].value_counts()"
   ]
  },
  {
   "cell_type": "markdown",
   "id": "def55fc0",
   "metadata": {},
   "source": [
    "As it can be seen it worked, and the dataset is still huge (more than 750,000  rows still)"
   ]
  },
  {
   "cell_type": "code",
   "execution_count": 18,
   "id": "5c971243",
   "metadata": {},
   "outputs": [
    {
     "data": {
      "text/plain": [
       "(769042, 8)"
      ]
     },
     "execution_count": 18,
     "metadata": {},
     "output_type": "execute_result"
    }
   ],
   "source": [
    "rev.shape"
   ]
  },
  {
   "cell_type": "markdown",
   "id": "89bdfa0c",
   "metadata": {},
   "source": [
    "For speed purposes I still need to decrease the dataset, so instead of randomly sample right away, another criteria that would make it easier to test and try my models is getting rid of recipes that don't have many ratings. So the code above will take care of that."
   ]
  },
  {
   "cell_type": "code",
   "execution_count": 19,
   "id": "50c83e52",
   "metadata": {
    "scrolled": false
   },
   "outputs": [
    {
     "data": {
      "text/html": [
       "<div>\n",
       "<style scoped>\n",
       "    .dataframe tbody tr th:only-of-type {\n",
       "        vertical-align: middle;\n",
       "    }\n",
       "\n",
       "    .dataframe tbody tr th {\n",
       "        vertical-align: top;\n",
       "    }\n",
       "\n",
       "    .dataframe thead th {\n",
       "        text-align: right;\n",
       "    }\n",
       "</style>\n",
       "<table border=\"1\" class=\"dataframe\">\n",
       "  <thead>\n",
       "    <tr style=\"text-align: right;\">\n",
       "      <th></th>\n",
       "      <th>ReviewId</th>\n",
       "      <th>RecipeId</th>\n",
       "      <th>AuthorId</th>\n",
       "      <th>AuthorName</th>\n",
       "      <th>Rating</th>\n",
       "      <th>Review</th>\n",
       "      <th>DateSubmitted</th>\n",
       "      <th>DateModified</th>\n",
       "    </tr>\n",
       "  </thead>\n",
       "  <tbody>\n",
       "    <tr>\n",
       "      <th>159</th>\n",
       "      <td>243</td>\n",
       "      <td>810</td>\n",
       "      <td>2312</td>\n",
       "      <td>Gay Gilmore</td>\n",
       "      <td>0</td>\n",
       "      <td>Good, but I wished they were a bit more moist.</td>\n",
       "      <td>2001-01-02T16:15:26Z</td>\n",
       "      <td>2001-01-02T16:15:26Z</td>\n",
       "    </tr>\n",
       "    <tr>\n",
       "      <th>366</th>\n",
       "      <td>526</td>\n",
       "      <td>8600</td>\n",
       "      <td>2312</td>\n",
       "      <td>Gay Gilmore</td>\n",
       "      <td>4</td>\n",
       "      <td>Fancy macaroni and cheese, so you don't have t...</td>\n",
       "      <td>2001-03-13T19:51:36Z</td>\n",
       "      <td>2001-03-13T19:51:36Z</td>\n",
       "    </tr>\n",
       "    <tr>\n",
       "      <th>485</th>\n",
       "      <td>700</td>\n",
       "      <td>2886</td>\n",
       "      <td>2312</td>\n",
       "      <td>Gay Gilmore</td>\n",
       "      <td>5</td>\n",
       "      <td>I used one more banana than called for because...</td>\n",
       "      <td>2001-04-18T08:53:27Z</td>\n",
       "      <td>2001-04-18T08:53:27Z</td>\n",
       "    </tr>\n",
       "  </tbody>\n",
       "</table>\n",
       "</div>"
      ],
      "text/plain": [
       "     ReviewId  RecipeId  AuthorId   AuthorName  Rating  \\\n",
       "159       243       810      2312  Gay Gilmore       0   \n",
       "366       526      8600      2312  Gay Gilmore       4   \n",
       "485       700      2886      2312  Gay Gilmore       5   \n",
       "\n",
       "                                                Review         DateSubmitted  \\\n",
       "159     Good, but I wished they were a bit more moist.  2001-01-02T16:15:26Z   \n",
       "366  Fancy macaroni and cheese, so you don't have t...  2001-03-13T19:51:36Z   \n",
       "485  I used one more banana than called for because...  2001-04-18T08:53:27Z   \n",
       "\n",
       "             DateModified  \n",
       "159  2001-01-02T16:15:26Z  \n",
       "366  2001-03-13T19:51:36Z  \n",
       "485  2001-04-18T08:53:27Z  "
      ]
     },
     "execution_count": 19,
     "metadata": {},
     "output_type": "execute_result"
    }
   ],
   "source": [
    "\n",
    "# Group  by AuthorId and count the number of occurrences per author\n",
    "recipe_counts = rev['RecipeId'].value_counts()\n",
    "\n",
    "# Filter out users with less than 10 occurrences\n",
    "filtered_recipes = recipe_counts[recipe_counts >= 10]\n",
    "\n",
    "# Filter the  DataFrame based on the filtered users\n",
    "rev = rev[rev['RecipeId'].isin(filtered_recipes.index)]\n",
    "rev.head(3)"
   ]
  },
  {
   "cell_type": "code",
   "execution_count": 20,
   "id": "2a7f276f",
   "metadata": {},
   "outputs": [
    {
     "data": {
      "text/plain": [
       "45809     708\n",
       "27208     489\n",
       "89204     433\n",
       "39087     371\n",
       "32204     371\n",
       "         ... \n",
       "71245      10\n",
       "278421     10\n",
       "71257      10\n",
       "281851     10\n",
       "517410     10\n",
       "Name: RecipeId, Length: 13261, dtype: int64"
      ]
     },
     "execution_count": 20,
     "metadata": {},
     "output_type": "execute_result"
    }
   ],
   "source": [
    "rev['RecipeId'].value_counts()"
   ]
  },
  {
   "cell_type": "code",
   "execution_count": 21,
   "id": "4d11e58a",
   "metadata": {},
   "outputs": [
    {
     "data": {
      "text/plain": [
       "(294260, 8)"
      ]
     },
     "execution_count": 21,
     "metadata": {},
     "output_type": "execute_result"
    }
   ],
   "source": [
    "rev.shape"
   ]
  },
  {
   "cell_type": "markdown",
   "id": "3f0a7d52",
   "metadata": {},
   "source": [
    "Gladly in terms of reviews, it means that I still have a bit more than 294,000 reviews."
   ]
  },
  {
   "cell_type": "code",
   "execution_count": 22,
   "id": "c80c6a44",
   "metadata": {},
   "outputs": [
    {
     "data": {
      "text/html": [
       "<div>\n",
       "<style scoped>\n",
       "    .dataframe tbody tr th:only-of-type {\n",
       "        vertical-align: middle;\n",
       "    }\n",
       "\n",
       "    .dataframe tbody tr th {\n",
       "        vertical-align: top;\n",
       "    }\n",
       "\n",
       "    .dataframe thead th {\n",
       "        text-align: right;\n",
       "    }\n",
       "</style>\n",
       "<table border=\"1\" class=\"dataframe\">\n",
       "  <thead>\n",
       "    <tr style=\"text-align: right;\">\n",
       "      <th></th>\n",
       "      <th>ReviewId</th>\n",
       "      <th>RecipeId</th>\n",
       "      <th>AuthorId</th>\n",
       "      <th>AuthorName</th>\n",
       "      <th>Rating</th>\n",
       "      <th>Review</th>\n",
       "      <th>DateSubmitted</th>\n",
       "      <th>DateModified</th>\n",
       "    </tr>\n",
       "  </thead>\n",
       "  <tbody>\n",
       "    <tr>\n",
       "      <th>159</th>\n",
       "      <td>243</td>\n",
       "      <td>810</td>\n",
       "      <td>2312</td>\n",
       "      <td>Gay Gilmore</td>\n",
       "      <td>0</td>\n",
       "      <td>Good, but I wished they were a bit more moist.</td>\n",
       "      <td>2001-01-02T16:15:26Z</td>\n",
       "      <td>2001-01-02T16:15:26Z</td>\n",
       "    </tr>\n",
       "    <tr>\n",
       "      <th>366</th>\n",
       "      <td>526</td>\n",
       "      <td>8600</td>\n",
       "      <td>2312</td>\n",
       "      <td>Gay Gilmore</td>\n",
       "      <td>4</td>\n",
       "      <td>Fancy macaroni and cheese, so you don't have t...</td>\n",
       "      <td>2001-03-13T19:51:36Z</td>\n",
       "      <td>2001-03-13T19:51:36Z</td>\n",
       "    </tr>\n",
       "    <tr>\n",
       "      <th>485</th>\n",
       "      <td>700</td>\n",
       "      <td>2886</td>\n",
       "      <td>2312</td>\n",
       "      <td>Gay Gilmore</td>\n",
       "      <td>5</td>\n",
       "      <td>I used one more banana than called for because...</td>\n",
       "      <td>2001-04-18T08:53:27Z</td>\n",
       "      <td>2001-04-18T08:53:27Z</td>\n",
       "    </tr>\n",
       "  </tbody>\n",
       "</table>\n",
       "</div>"
      ],
      "text/plain": [
       "     ReviewId  RecipeId  AuthorId   AuthorName  Rating  \\\n",
       "159       243       810      2312  Gay Gilmore       0   \n",
       "366       526      8600      2312  Gay Gilmore       4   \n",
       "485       700      2886      2312  Gay Gilmore       5   \n",
       "\n",
       "                                                Review         DateSubmitted  \\\n",
       "159     Good, but I wished they were a bit more moist.  2001-01-02T16:15:26Z   \n",
       "366  Fancy macaroni and cheese, so you don't have t...  2001-03-13T19:51:36Z   \n",
       "485  I used one more banana than called for because...  2001-04-18T08:53:27Z   \n",
       "\n",
       "             DateModified  \n",
       "159  2001-01-02T16:15:26Z  \n",
       "366  2001-03-13T19:51:36Z  \n",
       "485  2001-04-18T08:53:27Z  "
      ]
     },
     "execution_count": 22,
     "metadata": {},
     "output_type": "execute_result"
    }
   ],
   "source": [
    "rev.head(3)"
   ]
  },
  {
   "cell_type": "code",
   "execution_count": 23,
   "id": "71ee12a8",
   "metadata": {
    "scrolled": true
   },
   "outputs": [
    {
     "name": "stdout",
     "output_type": "stream",
     "text": [
      "1656\n"
     ]
    }
   ],
   "source": [
    "print(sum(rev['AuthorId'].value_counts()<50))"
   ]
  },
  {
   "cell_type": "markdown",
   "id": "1f56e9e3",
   "metadata": {},
   "source": [
    "I also have more than 1600 different Authors (of reviews)"
   ]
  },
  {
   "cell_type": "code",
   "execution_count": 24,
   "id": "ac8ceeca",
   "metadata": {
    "scrolled": true
   },
   "outputs": [
    {
     "data": {
      "text/plain": [
       "ReviewId         0\n",
       "RecipeId         0\n",
       "AuthorId         0\n",
       "AuthorName       0\n",
       "Rating           0\n",
       "Review           1\n",
       "DateSubmitted    0\n",
       "DateModified     0\n",
       "dtype: int64"
      ]
     },
     "execution_count": 24,
     "metadata": {},
     "output_type": "execute_result"
    }
   ],
   "source": [
    "rev.isna().sum()"
   ]
  },
  {
   "cell_type": "code",
   "execution_count": 25,
   "id": "6850f993",
   "metadata": {},
   "outputs": [],
   "source": [
    "rev.dropna(inplace = True)"
   ]
  },
  {
   "cell_type": "code",
   "execution_count": 26,
   "id": "9eae42da",
   "metadata": {},
   "outputs": [
    {
     "data": {
      "text/plain": [
       "ReviewId         0\n",
       "RecipeId         0\n",
       "AuthorId         0\n",
       "AuthorName       0\n",
       "Rating           0\n",
       "Review           0\n",
       "DateSubmitted    0\n",
       "DateModified     0\n",
       "dtype: int64"
      ]
     },
     "execution_count": 26,
     "metadata": {},
     "output_type": "execute_result"
    }
   ],
   "source": [
    "rev.isna().sum()"
   ]
  },
  {
   "cell_type": "code",
   "execution_count": 27,
   "id": "949cb066",
   "metadata": {},
   "outputs": [
    {
     "data": {
      "text/plain": [
       "ReviewId         0\n",
       "RecipeId         0\n",
       "AuthorId         0\n",
       "AuthorName       0\n",
       "Rating           0\n",
       "Review           0\n",
       "DateSubmitted    0\n",
       "DateModified     0\n",
       "dtype: int64"
      ]
     },
     "execution_count": 27,
     "metadata": {},
     "output_type": "execute_result"
    }
   ],
   "source": [
    "rev.isna().sum()"
   ]
  },
  {
   "cell_type": "code",
   "execution_count": 28,
   "id": "e06627bf",
   "metadata": {},
   "outputs": [
    {
     "data": {
      "text/plain": [
       "0"
      ]
     },
     "execution_count": 28,
     "metadata": {},
     "output_type": "execute_result"
    }
   ],
   "source": [
    "rev.duplicated().sum()"
   ]
  },
  {
   "cell_type": "markdown",
   "id": "51e77955",
   "metadata": {},
   "source": [
    "There is no duplicates. Now just doble checking the shape of my DataFram"
   ]
  },
  {
   "cell_type": "code",
   "execution_count": 29,
   "id": "23c3b6be",
   "metadata": {},
   "outputs": [
    {
     "data": {
      "text/plain": [
       "(294259, 8)"
      ]
     },
     "execution_count": 29,
     "metadata": {},
     "output_type": "execute_result"
    }
   ],
   "source": [
    "rev.shape"
   ]
  },
  {
   "cell_type": "code",
   "execution_count": 30,
   "id": "b5ddec1e",
   "metadata": {},
   "outputs": [
    {
     "name": "stdout",
     "output_type": "stream",
     "text": [
      "There are 3424 user that reviews 294259 times in total in my final dataset\n"
     ]
    }
   ],
   "source": [
    "rev_n_users = rev['AuthorId'].nunique()\n",
    "rev_n_reviews = rev.shape[0]\n",
    "print(f'There are {rev_n_users} user that reviews {rev_n_reviews} times in total in my final dataset')"
   ]
  },
  {
   "cell_type": "markdown",
   "id": "8b079fba",
   "metadata": {},
   "source": [
    "The code below is the one I was using for sampling. In summary, if I choose a sample higher than the current dataset, it just picks the dataset. If my sample is lower, it takes the sample. I used this a lot to play aorund with different thresholds and to see what my computer can handle, and this came to be the best size for my case."
   ]
  },
  {
   "cell_type": "code",
   "execution_count": 31,
   "id": "6b5095c6",
   "metadata": {},
   "outputs": [],
   "source": [
    "rev_sample_size = 300000\n",
    "\n",
    "\n",
    "# Check if the dataset has more rows than the sample \n",
    "if len(rev) > rev_sample_size:\n",
    "    # Take a random sample \n",
    "    sample_rev = rev.sample(n=rev_sample_size, random_state=1) \n",
    "else:\n",
    "    # this is in case i set the sample to a number higher than the dataset\n",
    "    sample_rev = rev"
   ]
  },
  {
   "cell_type": "markdown",
   "id": "f8eb222a",
   "metadata": {},
   "source": [
    "In this specific case since the dataset is 294,000 I will take all of them."
   ]
  },
  {
   "cell_type": "code",
   "execution_count": 32,
   "id": "5af2b661",
   "metadata": {
    "scrolled": true
   },
   "outputs": [
    {
     "data": {
      "text/plain": [
       "(294259, 8)"
      ]
     },
     "execution_count": 32,
     "metadata": {},
     "output_type": "execute_result"
    }
   ],
   "source": [
    "sample_rev.shape"
   ]
  },
  {
   "cell_type": "code",
   "execution_count": 33,
   "id": "0b289fe3",
   "metadata": {},
   "outputs": [
    {
     "data": {
      "text/plain": [
       "3424"
      ]
     },
     "execution_count": 33,
     "metadata": {},
     "output_type": "execute_result"
    }
   ],
   "source": [
    "sample_rev['AuthorId'].nunique()"
   ]
  },
  {
   "cell_type": "code",
   "execution_count": 34,
   "id": "aacb9b7a",
   "metadata": {
    "scrolled": true
   },
   "outputs": [
    {
     "data": {
      "text/html": [
       "<div>\n",
       "<style scoped>\n",
       "    .dataframe tbody tr th:only-of-type {\n",
       "        vertical-align: middle;\n",
       "    }\n",
       "\n",
       "    .dataframe tbody tr th {\n",
       "        vertical-align: top;\n",
       "    }\n",
       "\n",
       "    .dataframe thead th {\n",
       "        text-align: right;\n",
       "    }\n",
       "</style>\n",
       "<table border=\"1\" class=\"dataframe\">\n",
       "  <thead>\n",
       "    <tr style=\"text-align: right;\">\n",
       "      <th></th>\n",
       "      <th>ReviewId</th>\n",
       "      <th>RecipeId</th>\n",
       "      <th>AuthorId</th>\n",
       "      <th>AuthorName</th>\n",
       "      <th>Rating</th>\n",
       "      <th>Review</th>\n",
       "      <th>DateSubmitted</th>\n",
       "      <th>DateModified</th>\n",
       "    </tr>\n",
       "  </thead>\n",
       "  <tbody>\n",
       "    <tr>\n",
       "      <th>159</th>\n",
       "      <td>243</td>\n",
       "      <td>810</td>\n",
       "      <td>2312</td>\n",
       "      <td>Gay Gilmore</td>\n",
       "      <td>0</td>\n",
       "      <td>Good, but I wished they were a bit more moist.</td>\n",
       "      <td>2001-01-02T16:15:26Z</td>\n",
       "      <td>2001-01-02T16:15:26Z</td>\n",
       "    </tr>\n",
       "    <tr>\n",
       "      <th>366</th>\n",
       "      <td>526</td>\n",
       "      <td>8600</td>\n",
       "      <td>2312</td>\n",
       "      <td>Gay Gilmore</td>\n",
       "      <td>4</td>\n",
       "      <td>Fancy macaroni and cheese, so you don't have t...</td>\n",
       "      <td>2001-03-13T19:51:36Z</td>\n",
       "      <td>2001-03-13T19:51:36Z</td>\n",
       "    </tr>\n",
       "    <tr>\n",
       "      <th>485</th>\n",
       "      <td>700</td>\n",
       "      <td>2886</td>\n",
       "      <td>2312</td>\n",
       "      <td>Gay Gilmore</td>\n",
       "      <td>5</td>\n",
       "      <td>I used one more banana than called for because...</td>\n",
       "      <td>2001-04-18T08:53:27Z</td>\n",
       "      <td>2001-04-18T08:53:27Z</td>\n",
       "    </tr>\n",
       "  </tbody>\n",
       "</table>\n",
       "</div>"
      ],
      "text/plain": [
       "     ReviewId  RecipeId  AuthorId   AuthorName  Rating  \\\n",
       "159       243       810      2312  Gay Gilmore       0   \n",
       "366       526      8600      2312  Gay Gilmore       4   \n",
       "485       700      2886      2312  Gay Gilmore       5   \n",
       "\n",
       "                                                Review         DateSubmitted  \\\n",
       "159     Good, but I wished they were a bit more moist.  2001-01-02T16:15:26Z   \n",
       "366  Fancy macaroni and cheese, so you don't have t...  2001-03-13T19:51:36Z   \n",
       "485  I used one more banana than called for because...  2001-04-18T08:53:27Z   \n",
       "\n",
       "             DateModified  \n",
       "159  2001-01-02T16:15:26Z  \n",
       "366  2001-03-13T19:51:36Z  \n",
       "485  2001-04-18T08:53:27Z  "
      ]
     },
     "execution_count": 34,
     "metadata": {},
     "output_type": "execute_result"
    }
   ],
   "source": [
    "sample_rev.head(3)"
   ]
  },
  {
   "cell_type": "markdown",
   "id": "56136e19",
   "metadata": {},
   "source": [
    "# Section2\n",
    "## User-item Matrix"
   ]
  },
  {
   "cell_type": "markdown",
   "id": "c28a4c5d",
   "metadata": {},
   "source": [
    "I reset the index, now I will reset the Author ids and Recipe Id to make it easier for me and the machine"
   ]
  },
  {
   "cell_type": "code",
   "execution_count": 35,
   "id": "3108430c",
   "metadata": {},
   "outputs": [],
   "source": [
    "sample_rev.reset_index(drop=True, inplace=True)"
   ]
  },
  {
   "cell_type": "code",
   "execution_count": 36,
   "id": "a1894e5e",
   "metadata": {},
   "outputs": [
    {
     "data": {
      "text/html": [
       "<div>\n",
       "<style scoped>\n",
       "    .dataframe tbody tr th:only-of-type {\n",
       "        vertical-align: middle;\n",
       "    }\n",
       "\n",
       "    .dataframe tbody tr th {\n",
       "        vertical-align: top;\n",
       "    }\n",
       "\n",
       "    .dataframe thead th {\n",
       "        text-align: right;\n",
       "    }\n",
       "</style>\n",
       "<table border=\"1\" class=\"dataframe\">\n",
       "  <thead>\n",
       "    <tr style=\"text-align: right;\">\n",
       "      <th></th>\n",
       "      <th>ReviewId</th>\n",
       "      <th>RecipeId</th>\n",
       "      <th>AuthorId</th>\n",
       "      <th>AuthorName</th>\n",
       "      <th>Rating</th>\n",
       "      <th>Review</th>\n",
       "      <th>DateSubmitted</th>\n",
       "      <th>DateModified</th>\n",
       "    </tr>\n",
       "  </thead>\n",
       "  <tbody>\n",
       "    <tr>\n",
       "      <th>0</th>\n",
       "      <td>243</td>\n",
       "      <td>810</td>\n",
       "      <td>2312</td>\n",
       "      <td>Gay Gilmore</td>\n",
       "      <td>0</td>\n",
       "      <td>Good, but I wished they were a bit more moist.</td>\n",
       "      <td>2001-01-02T16:15:26Z</td>\n",
       "      <td>2001-01-02T16:15:26Z</td>\n",
       "    </tr>\n",
       "    <tr>\n",
       "      <th>1</th>\n",
       "      <td>526</td>\n",
       "      <td>8600</td>\n",
       "      <td>2312</td>\n",
       "      <td>Gay Gilmore</td>\n",
       "      <td>4</td>\n",
       "      <td>Fancy macaroni and cheese, so you don't have t...</td>\n",
       "      <td>2001-03-13T19:51:36Z</td>\n",
       "      <td>2001-03-13T19:51:36Z</td>\n",
       "    </tr>\n",
       "    <tr>\n",
       "      <th>2</th>\n",
       "      <td>700</td>\n",
       "      <td>2886</td>\n",
       "      <td>2312</td>\n",
       "      <td>Gay Gilmore</td>\n",
       "      <td>5</td>\n",
       "      <td>I used one more banana than called for because...</td>\n",
       "      <td>2001-04-18T08:53:27Z</td>\n",
       "      <td>2001-04-18T08:53:27Z</td>\n",
       "    </tr>\n",
       "  </tbody>\n",
       "</table>\n",
       "</div>"
      ],
      "text/plain": [
       "   ReviewId  RecipeId  AuthorId   AuthorName  Rating  \\\n",
       "0       243       810      2312  Gay Gilmore       0   \n",
       "1       526      8600      2312  Gay Gilmore       4   \n",
       "2       700      2886      2312  Gay Gilmore       5   \n",
       "\n",
       "                                              Review         DateSubmitted  \\\n",
       "0     Good, but I wished they were a bit more moist.  2001-01-02T16:15:26Z   \n",
       "1  Fancy macaroni and cheese, so you don't have t...  2001-03-13T19:51:36Z   \n",
       "2  I used one more banana than called for because...  2001-04-18T08:53:27Z   \n",
       "\n",
       "           DateModified  \n",
       "0  2001-01-02T16:15:26Z  \n",
       "1  2001-03-13T19:51:36Z  \n",
       "2  2001-04-18T08:53:27Z  "
      ]
     },
     "execution_count": 36,
     "metadata": {},
     "output_type": "execute_result"
    }
   ],
   "source": [
    "sample_rev.head(3)"
   ]
  },
  {
   "cell_type": "markdown",
   "id": "d5aa9c15",
   "metadata": {},
   "source": [
    "Just checking a few things out o my data:"
   ]
  },
  {
   "cell_type": "code",
   "execution_count": 38,
   "id": "373ba7e1",
   "metadata": {},
   "outputs": [
    {
     "data": {
      "text/plain": [
       "2002754832"
      ]
     },
     "execution_count": 38,
     "metadata": {},
     "output_type": "execute_result"
    }
   ],
   "source": [
    "sample_rev['AuthorId'].max()"
   ]
  },
  {
   "cell_type": "code",
   "execution_count": 39,
   "id": "2929b317",
   "metadata": {},
   "outputs": [
    {
     "data": {
      "text/plain": [
       "517594"
      ]
     },
     "execution_count": 39,
     "metadata": {},
     "output_type": "execute_result"
    }
   ],
   "source": [
    "sample_rev['RecipeId'].max()"
   ]
  },
  {
   "cell_type": "code",
   "execution_count": 40,
   "id": "d4c69928",
   "metadata": {
    "scrolled": false
   },
   "outputs": [
    {
     "data": {
      "text/html": [
       "<div>\n",
       "<style scoped>\n",
       "    .dataframe tbody tr th:only-of-type {\n",
       "        vertical-align: middle;\n",
       "    }\n",
       "\n",
       "    .dataframe tbody tr th {\n",
       "        vertical-align: top;\n",
       "    }\n",
       "\n",
       "    .dataframe thead th {\n",
       "        text-align: right;\n",
       "    }\n",
       "</style>\n",
       "<table border=\"1\" class=\"dataframe\">\n",
       "  <thead>\n",
       "    <tr style=\"text-align: right;\">\n",
       "      <th></th>\n",
       "      <th>ReviewId</th>\n",
       "      <th>RecipeId</th>\n",
       "      <th>AuthorId</th>\n",
       "      <th>AuthorName</th>\n",
       "      <th>Rating</th>\n",
       "      <th>Review</th>\n",
       "      <th>DateSubmitted</th>\n",
       "      <th>DateModified</th>\n",
       "    </tr>\n",
       "  </thead>\n",
       "  <tbody>\n",
       "    <tr>\n",
       "      <th>0</th>\n",
       "      <td>243</td>\n",
       "      <td>810</td>\n",
       "      <td>2312</td>\n",
       "      <td>Gay Gilmore</td>\n",
       "      <td>0</td>\n",
       "      <td>Good, but I wished they were a bit more moist.</td>\n",
       "      <td>2001-01-02T16:15:26Z</td>\n",
       "      <td>2001-01-02T16:15:26Z</td>\n",
       "    </tr>\n",
       "    <tr>\n",
       "      <th>1</th>\n",
       "      <td>526</td>\n",
       "      <td>8600</td>\n",
       "      <td>2312</td>\n",
       "      <td>Gay Gilmore</td>\n",
       "      <td>4</td>\n",
       "      <td>Fancy macaroni and cheese, so you don't have t...</td>\n",
       "      <td>2001-03-13T19:51:36Z</td>\n",
       "      <td>2001-03-13T19:51:36Z</td>\n",
       "    </tr>\n",
       "    <tr>\n",
       "      <th>2</th>\n",
       "      <td>700</td>\n",
       "      <td>2886</td>\n",
       "      <td>2312</td>\n",
       "      <td>Gay Gilmore</td>\n",
       "      <td>5</td>\n",
       "      <td>I used one more banana than called for because...</td>\n",
       "      <td>2001-04-18T08:53:27Z</td>\n",
       "      <td>2001-04-18T08:53:27Z</td>\n",
       "    </tr>\n",
       "  </tbody>\n",
       "</table>\n",
       "</div>"
      ],
      "text/plain": [
       "   ReviewId  RecipeId  AuthorId   AuthorName  Rating  \\\n",
       "0       243       810      2312  Gay Gilmore       0   \n",
       "1       526      8600      2312  Gay Gilmore       4   \n",
       "2       700      2886      2312  Gay Gilmore       5   \n",
       "\n",
       "                                              Review         DateSubmitted  \\\n",
       "0     Good, but I wished they were a bit more moist.  2001-01-02T16:15:26Z   \n",
       "1  Fancy macaroni and cheese, so you don't have t...  2001-03-13T19:51:36Z   \n",
       "2  I used one more banana than called for because...  2001-04-18T08:53:27Z   \n",
       "\n",
       "           DateModified  \n",
       "0  2001-01-02T16:15:26Z  \n",
       "1  2001-03-13T19:51:36Z  \n",
       "2  2001-04-18T08:53:27Z  "
      ]
     },
     "execution_count": 40,
     "metadata": {},
     "output_type": "execute_result"
    }
   ],
   "source": [
    "sample_rev.head(3)"
   ]
  },
  {
   "cell_type": "code",
   "execution_count": 41,
   "id": "7fbc6be7",
   "metadata": {},
   "outputs": [
    {
     "data": {
      "text/plain": [
       "2002754832"
      ]
     },
     "execution_count": 41,
     "metadata": {},
     "output_type": "execute_result"
    }
   ],
   "source": [
    "sample_rev['AuthorId'].max()"
   ]
  },
  {
   "cell_type": "markdown",
   "id": "d23065a2",
   "metadata": {},
   "source": [
    "doing a reduced version of my DataFrame with the columns I will need to make the collaborative based recommendation system."
   ]
  },
  {
   "cell_type": "code",
   "execution_count": 42,
   "id": "e05cb740",
   "metadata": {},
   "outputs": [
    {
     "data": {
      "text/html": [
       "<div>\n",
       "<style scoped>\n",
       "    .dataframe tbody tr th:only-of-type {\n",
       "        vertical-align: middle;\n",
       "    }\n",
       "\n",
       "    .dataframe tbody tr th {\n",
       "        vertical-align: top;\n",
       "    }\n",
       "\n",
       "    .dataframe thead th {\n",
       "        text-align: right;\n",
       "    }\n",
       "</style>\n",
       "<table border=\"1\" class=\"dataframe\">\n",
       "  <thead>\n",
       "    <tr style=\"text-align: right;\">\n",
       "      <th></th>\n",
       "      <th>RecipeId</th>\n",
       "      <th>AuthorId</th>\n",
       "      <th>Rating</th>\n",
       "    </tr>\n",
       "  </thead>\n",
       "  <tbody>\n",
       "    <tr>\n",
       "      <th>266147</th>\n",
       "      <td>89925</td>\n",
       "      <td>140132</td>\n",
       "      <td>5</td>\n",
       "    </tr>\n",
       "    <tr>\n",
       "      <th>184920</th>\n",
       "      <td>11168</td>\n",
       "      <td>140132</td>\n",
       "      <td>4</td>\n",
       "    </tr>\n",
       "    <tr>\n",
       "      <th>286428</th>\n",
       "      <td>52087</td>\n",
       "      <td>140132</td>\n",
       "      <td>5</td>\n",
       "    </tr>\n",
       "    <tr>\n",
       "      <th>184921</th>\n",
       "      <td>41169</td>\n",
       "      <td>140132</td>\n",
       "      <td>5</td>\n",
       "    </tr>\n",
       "    <tr>\n",
       "      <th>184922</th>\n",
       "      <td>42603</td>\n",
       "      <td>140132</td>\n",
       "      <td>4</td>\n",
       "    </tr>\n",
       "  </tbody>\n",
       "</table>\n",
       "</div>"
      ],
      "text/plain": [
       "        RecipeId  AuthorId  Rating\n",
       "266147     89925    140132       5\n",
       "184920     11168    140132       4\n",
       "286428     52087    140132       5\n",
       "184921     41169    140132       5\n",
       "184922     42603    140132       4"
      ]
     },
     "execution_count": 42,
     "metadata": {},
     "output_type": "execute_result"
    }
   ],
   "source": [
    "sample_rev_core = sample_rev[['RecipeId', 'AuthorId', 'Rating']]\n",
    "sample_rev_core = sample_rev_core.sort_values(by='AuthorId', key=lambda x: x.map(x.value_counts()), ascending = False)\n",
    "sample_rev_core.head(5)"
   ]
  },
  {
   "cell_type": "code",
   "execution_count": 43,
   "id": "a1d47a71",
   "metadata": {},
   "outputs": [
    {
     "name": "stdout",
     "output_type": "stream",
     "text": [
      "RecipeId max number is: 517594\n",
      "AuthorId max number is: 2002754832\n",
      "Rating max number is: 5\n"
     ]
    }
   ],
   "source": [
    "for column in sample_rev_core.columns:\n",
    "    print(f'{column} max number is: {sample_rev_core[column].max()}')"
   ]
  },
  {
   "cell_type": "markdown",
   "id": "b0d26b43",
   "metadata": {},
   "source": [
    "Doing a small prototype of what will be my code."
   ]
  },
  {
   "cell_type": "code",
   "execution_count": 44,
   "id": "288384e1",
   "metadata": {},
   "outputs": [
    {
     "data": {
      "text/plain": [
       "array([[nan, nan, nan, ..., nan, nan, nan],\n",
       "       [nan, nan, nan, ..., nan, nan, nan],\n",
       "       [nan, nan, nan, ..., nan, nan, nan],\n",
       "       ...,\n",
       "       [nan, nan, nan, ..., nan, nan, nan],\n",
       "       [nan, nan, nan, ..., nan, nan, nan],\n",
       "       [nan, nan, nan, ..., nan, nan, nan]])"
      ]
     },
     "execution_count": 44,
     "metadata": {},
     "output_type": "execute_result"
    }
   ],
   "source": [
    "users = sample_rev_core['AuthorId'].unique()\n",
    "rec = sample_rev_core['RecipeId'].unique()\n",
    "\n",
    "num_users = len(users)\n",
    "num_recipes = len(rec)\n",
    "           \n",
    "# np.nan means they user has not reviewed the movie\n",
    "R = np.full((num_users, num_recipes), np.nan)\n",
    "R"
   ]
  },
  {
   "cell_type": "code",
   "execution_count": 45,
   "id": "32048173",
   "metadata": {},
   "outputs": [
    {
     "data": {
      "text/plain": [
       "(3424, 13261)"
      ]
     },
     "execution_count": 45,
     "metadata": {},
     "output_type": "execute_result"
    }
   ],
   "source": [
    "R.shape"
   ]
  },
  {
   "cell_type": "markdown",
   "id": "f8eb02f4",
   "metadata": {},
   "source": [
    "The code below does an user-item matrix from the 'sample_rev_core' dataset for a food recommender system. It extracts unique users and recipes, initializes the matrix with NaN values, and fills the matrix  with ratings. Finally, it creates a DataFrame representation of the matrix."
   ]
  },
  {
   "cell_type": "code",
   "execution_count": 48,
   "id": "4a3180e9",
   "metadata": {},
   "outputs": [],
   "source": [
    "users = sample_rev_core['AuthorId'].unique()\n",
    "rec = sample_rev_core['RecipeId'].unique()\n",
    "\n",
    "num_users = len(users)\n",
    "num_recipes = len(rec)\n",
    "\n",
    "# np.nan means the user has not reviewed the recipe\n",
    "R = np.full((num_users, num_recipes), np.nan)\n",
    "\n",
    "# Build the user-item matrix\n",
    "for row in sample_rev_core.itertuples():\n",
    "    user = np.where(users == row.AuthorId)[0][0]  \n",
    "    recipe = np.where(rec == row.RecipeId)[0][0] \n",
    "    rating = row.Rating\n",
    "    R[user, recipe] = rating\n",
    "\n",
    "R_df = pd.DataFrame(data=R, index=users, columns=rec)\n"
   ]
  },
  {
   "cell_type": "code",
   "execution_count": 49,
   "id": "67e84311",
   "metadata": {},
   "outputs": [
    {
     "data": {
      "text/plain": [
       "Pandas(Index=266147, RecipeId=89925, AuthorId=140132, Rating=5)"
      ]
     },
     "execution_count": 49,
     "metadata": {},
     "output_type": "execute_result"
    }
   ],
   "source": [
    "list(sample_rev_core.itertuples())[0]"
   ]
  },
  {
   "cell_type": "markdown",
   "id": "440b2a1a",
   "metadata": {},
   "source": [
    "Just searching a few recipes to see how my data looks like, and will use some of these numbers to test my code later on (recipes and users, to see if they appear in common and see if my recommender is working effectively)."
   ]
  },
  {
   "cell_type": "code",
   "execution_count": 50,
   "id": "af2ab1ea",
   "metadata": {},
   "outputs": [
    {
     "data": {
      "text/html": [
       "<div>\n",
       "<style scoped>\n",
       "    .dataframe tbody tr th:only-of-type {\n",
       "        vertical-align: middle;\n",
       "    }\n",
       "\n",
       "    .dataframe tbody tr th {\n",
       "        vertical-align: top;\n",
       "    }\n",
       "\n",
       "    .dataframe thead th {\n",
       "        text-align: right;\n",
       "    }\n",
       "</style>\n",
       "<table border=\"1\" class=\"dataframe\">\n",
       "  <thead>\n",
       "    <tr style=\"text-align: right;\">\n",
       "      <th></th>\n",
       "      <th>RecipeId</th>\n",
       "      <th>AuthorId</th>\n",
       "      <th>Rating</th>\n",
       "    </tr>\n",
       "  </thead>\n",
       "  <tbody>\n",
       "    <tr>\n",
       "      <th>248618</th>\n",
       "      <td>53496</td>\n",
       "      <td>280271</td>\n",
       "      <td>4</td>\n",
       "    </tr>\n",
       "    <tr>\n",
       "      <th>188941</th>\n",
       "      <td>53496</td>\n",
       "      <td>486725</td>\n",
       "      <td>5</td>\n",
       "    </tr>\n",
       "    <tr>\n",
       "      <th>79955</th>\n",
       "      <td>53496</td>\n",
       "      <td>68460</td>\n",
       "      <td>5</td>\n",
       "    </tr>\n",
       "    <tr>\n",
       "      <th>151388</th>\n",
       "      <td>53496</td>\n",
       "      <td>285039</td>\n",
       "      <td>5</td>\n",
       "    </tr>\n",
       "    <tr>\n",
       "      <th>39078</th>\n",
       "      <td>53496</td>\n",
       "      <td>173314</td>\n",
       "      <td>5</td>\n",
       "    </tr>\n",
       "    <tr>\n",
       "      <th>8595</th>\n",
       "      <td>53496</td>\n",
       "      <td>46660</td>\n",
       "      <td>5</td>\n",
       "    </tr>\n",
       "    <tr>\n",
       "      <th>273947</th>\n",
       "      <td>53496</td>\n",
       "      <td>315055</td>\n",
       "      <td>3</td>\n",
       "    </tr>\n",
       "    <tr>\n",
       "      <th>224809</th>\n",
       "      <td>53496</td>\n",
       "      <td>143318</td>\n",
       "      <td>5</td>\n",
       "    </tr>\n",
       "    <tr>\n",
       "      <th>9586</th>\n",
       "      <td>53496</td>\n",
       "      <td>8606</td>\n",
       "      <td>5</td>\n",
       "    </tr>\n",
       "    <tr>\n",
       "      <th>78814</th>\n",
       "      <td>53496</td>\n",
       "      <td>148316</td>\n",
       "      <td>4</td>\n",
       "    </tr>\n",
       "    <tr>\n",
       "      <th>225079</th>\n",
       "      <td>53496</td>\n",
       "      <td>738454</td>\n",
       "      <td>5</td>\n",
       "    </tr>\n",
       "    <tr>\n",
       "      <th>89929</th>\n",
       "      <td>53496</td>\n",
       "      <td>416807</td>\n",
       "      <td>5</td>\n",
       "    </tr>\n",
       "  </tbody>\n",
       "</table>\n",
       "</div>"
      ],
      "text/plain": [
       "        RecipeId  AuthorId  Rating\n",
       "248618     53496    280271       4\n",
       "188941     53496    486725       5\n",
       "79955      53496     68460       5\n",
       "151388     53496    285039       5\n",
       "39078      53496    173314       5\n",
       "8595       53496     46660       5\n",
       "273947     53496    315055       3\n",
       "224809     53496    143318       5\n",
       "9586       53496      8606       5\n",
       "78814      53496    148316       4\n",
       "225079     53496    738454       5\n",
       "89929      53496    416807       5"
      ]
     },
     "execution_count": 50,
     "metadata": {},
     "output_type": "execute_result"
    }
   ],
   "source": [
    "sample_rev_core[sample_rev_core['RecipeId']== 53496]"
   ]
  },
  {
   "cell_type": "code",
   "execution_count": 51,
   "id": "194a73c4",
   "metadata": {
    "scrolled": true
   },
   "outputs": [
    {
     "data": {
      "text/html": [
       "<div>\n",
       "<style scoped>\n",
       "    .dataframe tbody tr th:only-of-type {\n",
       "        vertical-align: middle;\n",
       "    }\n",
       "\n",
       "    .dataframe tbody tr th {\n",
       "        vertical-align: top;\n",
       "    }\n",
       "\n",
       "    .dataframe thead th {\n",
       "        text-align: right;\n",
       "    }\n",
       "</style>\n",
       "<table border=\"1\" class=\"dataframe\">\n",
       "  <thead>\n",
       "    <tr style=\"text-align: right;\">\n",
       "      <th></th>\n",
       "      <th>RecipeId</th>\n",
       "      <th>AuthorId</th>\n",
       "      <th>Rating</th>\n",
       "    </tr>\n",
       "  </thead>\n",
       "  <tbody>\n",
       "    <tr>\n",
       "      <th>231123</th>\n",
       "      <td>67781</td>\n",
       "      <td>140132</td>\n",
       "      <td>5</td>\n",
       "    </tr>\n",
       "    <tr>\n",
       "      <th>183919</th>\n",
       "      <td>67781</td>\n",
       "      <td>158086</td>\n",
       "      <td>5</td>\n",
       "    </tr>\n",
       "    <tr>\n",
       "      <th>181217</th>\n",
       "      <td>67781</td>\n",
       "      <td>1072593</td>\n",
       "      <td>5</td>\n",
       "    </tr>\n",
       "    <tr>\n",
       "      <th>71821</th>\n",
       "      <td>67781</td>\n",
       "      <td>145352</td>\n",
       "      <td>5</td>\n",
       "    </tr>\n",
       "    <tr>\n",
       "      <th>98811</th>\n",
       "      <td>67781</td>\n",
       "      <td>394077</td>\n",
       "      <td>5</td>\n",
       "    </tr>\n",
       "    <tr>\n",
       "      <th>...</th>\n",
       "      <td>...</td>\n",
       "      <td>...</td>\n",
       "      <td>...</td>\n",
       "    </tr>\n",
       "    <tr>\n",
       "      <th>158736</th>\n",
       "      <td>67781</td>\n",
       "      <td>346383</td>\n",
       "      <td>5</td>\n",
       "    </tr>\n",
       "    <tr>\n",
       "      <th>41035</th>\n",
       "      <td>67781</td>\n",
       "      <td>147095</td>\n",
       "      <td>5</td>\n",
       "    </tr>\n",
       "    <tr>\n",
       "      <th>79959</th>\n",
       "      <td>67781</td>\n",
       "      <td>78682</td>\n",
       "      <td>5</td>\n",
       "    </tr>\n",
       "    <tr>\n",
       "      <th>263659</th>\n",
       "      <td>67781</td>\n",
       "      <td>145448</td>\n",
       "      <td>5</td>\n",
       "    </tr>\n",
       "    <tr>\n",
       "      <th>30015</th>\n",
       "      <td>67781</td>\n",
       "      <td>63070</td>\n",
       "      <td>5</td>\n",
       "    </tr>\n",
       "  </tbody>\n",
       "</table>\n",
       "<p>77 rows × 3 columns</p>\n",
       "</div>"
      ],
      "text/plain": [
       "        RecipeId  AuthorId  Rating\n",
       "231123     67781    140132       5\n",
       "183919     67781    158086       5\n",
       "181217     67781   1072593       5\n",
       "71821      67781    145352       5\n",
       "98811      67781    394077       5\n",
       "...          ...       ...     ...\n",
       "158736     67781    346383       5\n",
       "41035      67781    147095       5\n",
       "79959      67781     78682       5\n",
       "263659     67781    145448       5\n",
       "30015      67781     63070       5\n",
       "\n",
       "[77 rows x 3 columns]"
      ]
     },
     "execution_count": 51,
     "metadata": {},
     "output_type": "execute_result"
    }
   ],
   "source": [
    "sample_rev_core[sample_rev_core['RecipeId']== 67781]"
   ]
  },
  {
   "cell_type": "markdown",
   "id": "344f4594",
   "metadata": {},
   "source": [
    "Below I will finally print the R dataframe that I did before, which shows all the users and recipes."
   ]
  },
  {
   "cell_type": "code",
   "execution_count": 52,
   "id": "ef455b3b",
   "metadata": {
    "scrolled": true
   },
   "outputs": [
    {
     "data": {
      "text/html": [
       "<div>\n",
       "<style scoped>\n",
       "    .dataframe tbody tr th:only-of-type {\n",
       "        vertical-align: middle;\n",
       "    }\n",
       "\n",
       "    .dataframe tbody tr th {\n",
       "        vertical-align: top;\n",
       "    }\n",
       "\n",
       "    .dataframe thead th {\n",
       "        text-align: right;\n",
       "    }\n",
       "</style>\n",
       "<table border=\"1\" class=\"dataframe\">\n",
       "  <thead>\n",
       "    <tr style=\"text-align: right;\">\n",
       "      <th></th>\n",
       "      <th>89925</th>\n",
       "      <th>11168</th>\n",
       "      <th>52087</th>\n",
       "      <th>41169</th>\n",
       "      <th>42603</th>\n",
       "      <th>11595</th>\n",
       "      <th>137562</th>\n",
       "      <th>46267</th>\n",
       "      <th>53692</th>\n",
       "      <th>81764</th>\n",
       "      <th>...</th>\n",
       "      <th>48000</th>\n",
       "      <th>40383</th>\n",
       "      <th>46543</th>\n",
       "      <th>34398</th>\n",
       "      <th>260375</th>\n",
       "      <th>261418</th>\n",
       "      <th>220348</th>\n",
       "      <th>261718</th>\n",
       "      <th>261683</th>\n",
       "      <th>38883</th>\n",
       "    </tr>\n",
       "  </thead>\n",
       "  <tbody>\n",
       "    <tr>\n",
       "      <th>140132</th>\n",
       "      <td>5.0</td>\n",
       "      <td>4.0</td>\n",
       "      <td>5.0</td>\n",
       "      <td>5.0</td>\n",
       "      <td>4.0</td>\n",
       "      <td>4.0</td>\n",
       "      <td>5.0</td>\n",
       "      <td>5.0</td>\n",
       "      <td>5.0</td>\n",
       "      <td>5.0</td>\n",
       "      <td>...</td>\n",
       "      <td>NaN</td>\n",
       "      <td>NaN</td>\n",
       "      <td>NaN</td>\n",
       "      <td>NaN</td>\n",
       "      <td>NaN</td>\n",
       "      <td>NaN</td>\n",
       "      <td>NaN</td>\n",
       "      <td>NaN</td>\n",
       "      <td>NaN</td>\n",
       "      <td>NaN</td>\n",
       "    </tr>\n",
       "    <tr>\n",
       "      <th>37449</th>\n",
       "      <td>NaN</td>\n",
       "      <td>NaN</td>\n",
       "      <td>NaN</td>\n",
       "      <td>NaN</td>\n",
       "      <td>NaN</td>\n",
       "      <td>NaN</td>\n",
       "      <td>NaN</td>\n",
       "      <td>NaN</td>\n",
       "      <td>NaN</td>\n",
       "      <td>NaN</td>\n",
       "      <td>...</td>\n",
       "      <td>NaN</td>\n",
       "      <td>NaN</td>\n",
       "      <td>NaN</td>\n",
       "      <td>NaN</td>\n",
       "      <td>NaN</td>\n",
       "      <td>NaN</td>\n",
       "      <td>NaN</td>\n",
       "      <td>NaN</td>\n",
       "      <td>NaN</td>\n",
       "      <td>NaN</td>\n",
       "    </tr>\n",
       "    <tr>\n",
       "      <th>383346</th>\n",
       "      <td>NaN</td>\n",
       "      <td>NaN</td>\n",
       "      <td>NaN</td>\n",
       "      <td>NaN</td>\n",
       "      <td>NaN</td>\n",
       "      <td>NaN</td>\n",
       "      <td>NaN</td>\n",
       "      <td>NaN</td>\n",
       "      <td>NaN</td>\n",
       "      <td>NaN</td>\n",
       "      <td>...</td>\n",
       "      <td>NaN</td>\n",
       "      <td>NaN</td>\n",
       "      <td>NaN</td>\n",
       "      <td>NaN</td>\n",
       "      <td>NaN</td>\n",
       "      <td>NaN</td>\n",
       "      <td>NaN</td>\n",
       "      <td>NaN</td>\n",
       "      <td>NaN</td>\n",
       "      <td>NaN</td>\n",
       "    </tr>\n",
       "    <tr>\n",
       "      <th>176615</th>\n",
       "      <td>NaN</td>\n",
       "      <td>NaN</td>\n",
       "      <td>NaN</td>\n",
       "      <td>5.0</td>\n",
       "      <td>5.0</td>\n",
       "      <td>NaN</td>\n",
       "      <td>NaN</td>\n",
       "      <td>5.0</td>\n",
       "      <td>NaN</td>\n",
       "      <td>NaN</td>\n",
       "      <td>...</td>\n",
       "      <td>NaN</td>\n",
       "      <td>NaN</td>\n",
       "      <td>NaN</td>\n",
       "      <td>NaN</td>\n",
       "      <td>NaN</td>\n",
       "      <td>NaN</td>\n",
       "      <td>NaN</td>\n",
       "      <td>NaN</td>\n",
       "      <td>NaN</td>\n",
       "      <td>NaN</td>\n",
       "    </tr>\n",
       "    <tr>\n",
       "      <th>126440</th>\n",
       "      <td>NaN</td>\n",
       "      <td>NaN</td>\n",
       "      <td>NaN</td>\n",
       "      <td>NaN</td>\n",
       "      <td>NaN</td>\n",
       "      <td>NaN</td>\n",
       "      <td>NaN</td>\n",
       "      <td>NaN</td>\n",
       "      <td>NaN</td>\n",
       "      <td>NaN</td>\n",
       "      <td>...</td>\n",
       "      <td>NaN</td>\n",
       "      <td>NaN</td>\n",
       "      <td>NaN</td>\n",
       "      <td>NaN</td>\n",
       "      <td>NaN</td>\n",
       "      <td>NaN</td>\n",
       "      <td>NaN</td>\n",
       "      <td>NaN</td>\n",
       "      <td>NaN</td>\n",
       "      <td>NaN</td>\n",
       "    </tr>\n",
       "    <tr>\n",
       "      <th>...</th>\n",
       "      <td>...</td>\n",
       "      <td>...</td>\n",
       "      <td>...</td>\n",
       "      <td>...</td>\n",
       "      <td>...</td>\n",
       "      <td>...</td>\n",
       "      <td>...</td>\n",
       "      <td>...</td>\n",
       "      <td>...</td>\n",
       "      <td>...</td>\n",
       "      <td>...</td>\n",
       "      <td>...</td>\n",
       "      <td>...</td>\n",
       "      <td>...</td>\n",
       "      <td>...</td>\n",
       "      <td>...</td>\n",
       "      <td>...</td>\n",
       "      <td>...</td>\n",
       "      <td>...</td>\n",
       "      <td>...</td>\n",
       "      <td>...</td>\n",
       "    </tr>\n",
       "    <tr>\n",
       "      <th>362499</th>\n",
       "      <td>NaN</td>\n",
       "      <td>NaN</td>\n",
       "      <td>NaN</td>\n",
       "      <td>NaN</td>\n",
       "      <td>NaN</td>\n",
       "      <td>NaN</td>\n",
       "      <td>NaN</td>\n",
       "      <td>NaN</td>\n",
       "      <td>NaN</td>\n",
       "      <td>NaN</td>\n",
       "      <td>...</td>\n",
       "      <td>NaN</td>\n",
       "      <td>NaN</td>\n",
       "      <td>NaN</td>\n",
       "      <td>NaN</td>\n",
       "      <td>NaN</td>\n",
       "      <td>NaN</td>\n",
       "      <td>NaN</td>\n",
       "      <td>NaN</td>\n",
       "      <td>NaN</td>\n",
       "      <td>NaN</td>\n",
       "    </tr>\n",
       "    <tr>\n",
       "      <th>487279</th>\n",
       "      <td>NaN</td>\n",
       "      <td>NaN</td>\n",
       "      <td>NaN</td>\n",
       "      <td>NaN</td>\n",
       "      <td>NaN</td>\n",
       "      <td>NaN</td>\n",
       "      <td>NaN</td>\n",
       "      <td>NaN</td>\n",
       "      <td>NaN</td>\n",
       "      <td>NaN</td>\n",
       "      <td>...</td>\n",
       "      <td>NaN</td>\n",
       "      <td>NaN</td>\n",
       "      <td>NaN</td>\n",
       "      <td>NaN</td>\n",
       "      <td>NaN</td>\n",
       "      <td>NaN</td>\n",
       "      <td>NaN</td>\n",
       "      <td>NaN</td>\n",
       "      <td>NaN</td>\n",
       "      <td>NaN</td>\n",
       "    </tr>\n",
       "    <tr>\n",
       "      <th>1169937</th>\n",
       "      <td>NaN</td>\n",
       "      <td>NaN</td>\n",
       "      <td>NaN</td>\n",
       "      <td>NaN</td>\n",
       "      <td>NaN</td>\n",
       "      <td>NaN</td>\n",
       "      <td>NaN</td>\n",
       "      <td>NaN</td>\n",
       "      <td>NaN</td>\n",
       "      <td>NaN</td>\n",
       "      <td>...</td>\n",
       "      <td>NaN</td>\n",
       "      <td>NaN</td>\n",
       "      <td>NaN</td>\n",
       "      <td>NaN</td>\n",
       "      <td>NaN</td>\n",
       "      <td>NaN</td>\n",
       "      <td>NaN</td>\n",
       "      <td>NaN</td>\n",
       "      <td>NaN</td>\n",
       "      <td>NaN</td>\n",
       "    </tr>\n",
       "    <tr>\n",
       "      <th>1806667</th>\n",
       "      <td>NaN</td>\n",
       "      <td>NaN</td>\n",
       "      <td>NaN</td>\n",
       "      <td>NaN</td>\n",
       "      <td>NaN</td>\n",
       "      <td>NaN</td>\n",
       "      <td>NaN</td>\n",
       "      <td>NaN</td>\n",
       "      <td>NaN</td>\n",
       "      <td>NaN</td>\n",
       "      <td>...</td>\n",
       "      <td>NaN</td>\n",
       "      <td>NaN</td>\n",
       "      <td>NaN</td>\n",
       "      <td>NaN</td>\n",
       "      <td>NaN</td>\n",
       "      <td>NaN</td>\n",
       "      <td>NaN</td>\n",
       "      <td>NaN</td>\n",
       "      <td>NaN</td>\n",
       "      <td>NaN</td>\n",
       "    </tr>\n",
       "    <tr>\n",
       "      <th>371096</th>\n",
       "      <td>NaN</td>\n",
       "      <td>NaN</td>\n",
       "      <td>NaN</td>\n",
       "      <td>NaN</td>\n",
       "      <td>NaN</td>\n",
       "      <td>NaN</td>\n",
       "      <td>NaN</td>\n",
       "      <td>NaN</td>\n",
       "      <td>NaN</td>\n",
       "      <td>NaN</td>\n",
       "      <td>...</td>\n",
       "      <td>NaN</td>\n",
       "      <td>NaN</td>\n",
       "      <td>NaN</td>\n",
       "      <td>NaN</td>\n",
       "      <td>NaN</td>\n",
       "      <td>NaN</td>\n",
       "      <td>NaN</td>\n",
       "      <td>NaN</td>\n",
       "      <td>NaN</td>\n",
       "      <td>NaN</td>\n",
       "    </tr>\n",
       "  </tbody>\n",
       "</table>\n",
       "<p>3424 rows × 13261 columns</p>\n",
       "</div>"
      ],
      "text/plain": [
       "         89925   11168   52087   41169   42603   11595   137562  46267   \\\n",
       "140132      5.0     4.0     5.0     5.0     4.0     4.0     5.0     5.0   \n",
       "37449       NaN     NaN     NaN     NaN     NaN     NaN     NaN     NaN   \n",
       "383346      NaN     NaN     NaN     NaN     NaN     NaN     NaN     NaN   \n",
       "176615      NaN     NaN     NaN     5.0     5.0     NaN     NaN     5.0   \n",
       "126440      NaN     NaN     NaN     NaN     NaN     NaN     NaN     NaN   \n",
       "...         ...     ...     ...     ...     ...     ...     ...     ...   \n",
       "362499      NaN     NaN     NaN     NaN     NaN     NaN     NaN     NaN   \n",
       "487279      NaN     NaN     NaN     NaN     NaN     NaN     NaN     NaN   \n",
       "1169937     NaN     NaN     NaN     NaN     NaN     NaN     NaN     NaN   \n",
       "1806667     NaN     NaN     NaN     NaN     NaN     NaN     NaN     NaN   \n",
       "371096      NaN     NaN     NaN     NaN     NaN     NaN     NaN     NaN   \n",
       "\n",
       "         53692   81764   ...  48000   40383   46543   34398   260375  261418  \\\n",
       "140132      5.0     5.0  ...     NaN     NaN     NaN     NaN     NaN     NaN   \n",
       "37449       NaN     NaN  ...     NaN     NaN     NaN     NaN     NaN     NaN   \n",
       "383346      NaN     NaN  ...     NaN     NaN     NaN     NaN     NaN     NaN   \n",
       "176615      NaN     NaN  ...     NaN     NaN     NaN     NaN     NaN     NaN   \n",
       "126440      NaN     NaN  ...     NaN     NaN     NaN     NaN     NaN     NaN   \n",
       "...         ...     ...  ...     ...     ...     ...     ...     ...     ...   \n",
       "362499      NaN     NaN  ...     NaN     NaN     NaN     NaN     NaN     NaN   \n",
       "487279      NaN     NaN  ...     NaN     NaN     NaN     NaN     NaN     NaN   \n",
       "1169937     NaN     NaN  ...     NaN     NaN     NaN     NaN     NaN     NaN   \n",
       "1806667     NaN     NaN  ...     NaN     NaN     NaN     NaN     NaN     NaN   \n",
       "371096      NaN     NaN  ...     NaN     NaN     NaN     NaN     NaN     NaN   \n",
       "\n",
       "         220348  261718  261683  38883   \n",
       "140132      NaN     NaN     NaN     NaN  \n",
       "37449       NaN     NaN     NaN     NaN  \n",
       "383346      NaN     NaN     NaN     NaN  \n",
       "176615      NaN     NaN     NaN     NaN  \n",
       "126440      NaN     NaN     NaN     NaN  \n",
       "...         ...     ...     ...     ...  \n",
       "362499      NaN     NaN     NaN     NaN  \n",
       "487279      NaN     NaN     NaN     NaN  \n",
       "1169937     NaN     NaN     NaN     NaN  \n",
       "1806667     NaN     NaN     NaN     NaN  \n",
       "371096      NaN     NaN     NaN     NaN  \n",
       "\n",
       "[3424 rows x 13261 columns]"
      ]
     },
     "execution_count": 52,
     "metadata": {},
     "output_type": "execute_result"
    }
   ],
   "source": [
    "R_df"
   ]
  },
  {
   "cell_type": "markdown",
   "id": "78ce4a80",
   "metadata": {},
   "source": [
    "# Section3\n",
    "## Similarity Calculation"
   ]
  },
  {
   "cell_type": "markdown",
   "id": "1bfb6757",
   "metadata": {},
   "source": [
    "The code below selects a user, retrieves their ratings from the matrix that I did before, finds common recipes with other users, identifies similar users who have rated at least 5 common recipes, excludes the given user, and prints the list of similar users for potential recommendations. "
   ]
  },
  {
   "cell_type": "code",
   "execution_count": 55,
   "id": "87c9f499",
   "metadata": {},
   "outputs": [
    {
     "name": "stdout",
     "output_type": "stream",
     "text": [
      "Similar users who have rated at least 5 common items with User 288351 :\n",
      "Int64Index([ 140132,   37449,  383346,  176615,  126440,  128473,   89831,\n",
      "             226863,  173579,  133174,\n",
      "            ...\n",
      "             427101,  763856,  247241, 1330315,  899120,  950577,  651269,\n",
      "             350910,  518275,   75726],\n",
      "           dtype='int64', length=725)\n"
     ]
    }
   ],
   "source": [
    "\n",
    "\n",
    "# Select the desired user ID\n",
    "given_user_id = 288351\n",
    "\n",
    "# Get the ratings for the given user\n",
    "given_user_ratings = R_df.loc[given_user_id, :]\n",
    "\n",
    "# Find the common recipes between the given user and other users\n",
    "common_recipes = R_df.columns[given_user_ratings.notna()]\n",
    "\n",
    "# Find users who have rated the common recipes\n",
    "similar_users = R_df[R_df[common_recipes].notna().sum(axis=1) >= 5].index\n",
    "\n",
    "# Exclude the given user from the similar users list\n",
    "similar_users = similar_users[similar_users != given_user_id]\n",
    "\n",
    "print(\"Similar users who have rated at least 5 common items with User\", given_user_id, \":\")\n",
    "print(similar_users)\n",
    "\n",
    "# This code was done with help of chat gpt\n"
   ]
  },
  {
   "cell_type": "markdown",
   "id": "d9d6abd1",
   "metadata": {},
   "source": [
    "The code above was very useful to help me test the next codes, since there are so many recipes and users that most of the time by picking at random, users had no rated recipes in common (or just 1 or 2).\n",
    "\n",
    "The code below tells how many recipes (in common) both users rated."
   ]
  },
  {
   "cell_type": "code",
   "execution_count": 56,
   "id": "5094390c",
   "metadata": {},
   "outputs": [
    {
     "name": "stdout",
     "output_type": "stream",
     "text": [
      "8\n"
     ]
    }
   ],
   "source": [
    "recipes_1st_user_rated = ~R_df.loc[288351, :].isna()\n",
    "recipes_2nd_user_rated = ~R_df.loc[91867, :].isna()\n",
    "\n",
    "recipes_both_users_rated = recipes_1st_user_rated & recipes_2nd_user_rated\n",
    "print(recipes_both_users_rated.sum())"
   ]
  },
  {
   "cell_type": "markdown",
   "id": "c1feb783",
   "metadata": {},
   "source": [
    "Finally, if gives me a matrix showing and comparing all the recipes they both rated and what score they gave them."
   ]
  },
  {
   "cell_type": "code",
   "execution_count": 57,
   "id": "37a98273",
   "metadata": {},
   "outputs": [
    {
     "name": "stdout",
     "output_type": "stream",
     "text": [
      "Reviewers' scores:\n"
     ]
    },
    {
     "data": {
      "text/html": [
       "<div>\n",
       "<style scoped>\n",
       "    .dataframe tbody tr th:only-of-type {\n",
       "        vertical-align: middle;\n",
       "    }\n",
       "\n",
       "    .dataframe tbody tr th {\n",
       "        vertical-align: top;\n",
       "    }\n",
       "\n",
       "    .dataframe thead th {\n",
       "        text-align: right;\n",
       "    }\n",
       "</style>\n",
       "<table border=\"1\" class=\"dataframe\">\n",
       "  <thead>\n",
       "    <tr style=\"text-align: right;\">\n",
       "      <th></th>\n",
       "      <th>15072</th>\n",
       "      <th>22782</th>\n",
       "      <th>64138</th>\n",
       "      <th>4957</th>\n",
       "      <th>35813</th>\n",
       "      <th>79116</th>\n",
       "      <th>32614</th>\n",
       "      <th>22176</th>\n",
       "    </tr>\n",
       "  </thead>\n",
       "  <tbody>\n",
       "    <tr>\n",
       "      <th>288351</th>\n",
       "      <td>5.0</td>\n",
       "      <td>5.0</td>\n",
       "      <td>5.0</td>\n",
       "      <td>5.0</td>\n",
       "      <td>5.0</td>\n",
       "      <td>5.0</td>\n",
       "      <td>5.0</td>\n",
       "      <td>5.0</td>\n",
       "    </tr>\n",
       "    <tr>\n",
       "      <th>91867</th>\n",
       "      <td>5.0</td>\n",
       "      <td>4.0</td>\n",
       "      <td>5.0</td>\n",
       "      <td>5.0</td>\n",
       "      <td>5.0</td>\n",
       "      <td>5.0</td>\n",
       "      <td>4.0</td>\n",
       "      <td>5.0</td>\n",
       "    </tr>\n",
       "  </tbody>\n",
       "</table>\n",
       "</div>"
      ],
      "text/plain": [
       "        15072  22782  64138  4957   35813  79116  32614  22176\n",
       "288351    5.0    5.0    5.0    5.0    5.0    5.0    5.0    5.0\n",
       "91867     5.0    4.0    5.0    5.0    5.0    5.0    4.0    5.0"
      ]
     },
     "execution_count": 57,
     "metadata": {},
     "output_type": "execute_result"
    }
   ],
   "source": [
    "print(\"Reviewers' scores:\")\n",
    "R_df.loc[[288351, 91867], recipes_both_users_rated]"
   ]
  },
  {
   "cell_type": "code",
   "execution_count": 58,
   "id": "4bff8790",
   "metadata": {},
   "outputs": [
    {
     "name": "stderr",
     "output_type": "stream",
     "text": [
      "C:\\Users\\ajgag\\anaconda3\\envs\\capstone2\\lib\\site-packages\\scipy\\__init__.py:146: UserWarning: A NumPy version >=1.16.5 and <1.23.0 is required for this version of SciPy (detected version 1.23.1\n",
      "  warnings.warn(f\"A NumPy version >={np_minversion} and <{np_maxversion}\"\n"
     ]
    }
   ],
   "source": [
    "from sklearn.metrics.pairwise import cosine_similarity "
   ]
  },
  {
   "cell_type": "markdown",
   "id": "43113e9f",
   "metadata": {},
   "source": [
    "Now I will search how similar this 2 users are with cosine_similarity."
   ]
  },
  {
   "cell_type": "code",
   "execution_count": 59,
   "id": "26e1dfa3",
   "metadata": {},
   "outputs": [
    {
     "name": "stdout",
     "output_type": "stream",
     "text": [
      "Similarity: [[0.99587059]]\n"
     ]
    }
   ],
   "source": [
    "print(\"Similarity:\", cosine_similarity(R_df.loc[288351, recipes_both_users_rated].values.reshape(1,-1), \n",
    "                                       R_df.loc[91867, recipes_both_users_rated].values.reshape(1,-1)))"
   ]
  },
  {
   "cell_type": "markdown",
   "id": "e24446bf",
   "metadata": {},
   "source": [
    "# Section4 \n",
    "## Recommendation Generation"
   ]
  },
  {
   "cell_type": "markdown",
   "id": "e028875a",
   "metadata": {},
   "source": [
    "The similarity is amazingly good, its normal since they rated everything almost the same, there are jus 2 recipes that they rated different but both of them gave a high score to it.\n",
    "\n",
    "After doing it manually, here is a function that will automate it, to make it in a single step:"
   ]
  },
  {
   "cell_type": "code",
   "execution_count": 60,
   "id": "b5f799e7",
   "metadata": {},
   "outputs": [],
   "source": [
    "def find_user_similarity(user_1, user_2, R_df):\n",
    "    \n",
    "    # Define the mask which finds all recipes they rated together\n",
    "    recipes_1st_user_rated = ~R_df.loc[user_1, :].isna()\n",
    "    recipes_2nd_user_rated = ~R_df.loc[user_2, :].isna()\n",
    "\n",
    "    recipes_both_users_rated = recipes_1st_user_rated & recipes_2nd_user_rated\n",
    "    \n",
    "    if recipes_both_users_rated.sum() == 0:\n",
    "         return 0, 0\n",
    "\n",
    "    # Sum boolean to get the counts\n",
    "    number_of_recipes_rated_together = recipes_both_users_rated.sum()\n",
    "        \n",
    "    # Finding the ratings of both users for recipes they both reated\n",
    "    ratings_of_user1 = R_df.loc[user_1, recipes_both_users_rated].values.reshape(1, -1)\n",
    "    ratings_of_user2 = R_df.loc[user_2, recipes_both_users_rated].values.reshape(1, -1)\n",
    "    \n",
    "    # Finally, calculate the similarity between them\n",
    "    similarity = cosine_similarity(ratings_of_user1, ratings_of_user2)[0][0]\n",
    "    \n",
    "    return similarity, number_of_recipes_rated_together"
   ]
  },
  {
   "cell_type": "code",
   "execution_count": 61,
   "id": "8e0fbb3e",
   "metadata": {},
   "outputs": [
    {
     "data": {
      "text/plain": [
       "(0.9958705948858223, 8)"
      ]
     },
     "execution_count": 61,
     "metadata": {},
     "output_type": "execute_result"
    }
   ],
   "source": [
    "find_user_similarity(288351, 91867, R_df)"
   ]
  },
  {
   "cell_type": "markdown",
   "id": "414ae768",
   "metadata": {},
   "source": [
    "And there we have the same similarity~\n",
    "\n",
    "The next I will load the recipe dataset so I an also have recipe and author names and not only work with ids"
   ]
  },
  {
   "cell_type": "code",
   "execution_count": 64,
   "id": "dd9b053d",
   "metadata": {},
   "outputs": [
    {
     "data": {
      "text/html": [
       "<div>\n",
       "<style scoped>\n",
       "    .dataframe tbody tr th:only-of-type {\n",
       "        vertical-align: middle;\n",
       "    }\n",
       "\n",
       "    .dataframe tbody tr th {\n",
       "        vertical-align: top;\n",
       "    }\n",
       "\n",
       "    .dataframe thead th {\n",
       "        text-align: right;\n",
       "    }\n",
       "</style>\n",
       "<table border=\"1\" class=\"dataframe\">\n",
       "  <thead>\n",
       "    <tr style=\"text-align: right;\">\n",
       "      <th></th>\n",
       "      <th>RecipeId</th>\n",
       "      <th>Name</th>\n",
       "      <th>AuthorId</th>\n",
       "      <th>AuthorName</th>\n",
       "      <th>CookTime</th>\n",
       "      <th>PrepTime</th>\n",
       "      <th>TotalTime</th>\n",
       "      <th>DatePublished</th>\n",
       "      <th>Description</th>\n",
       "      <th>Images</th>\n",
       "      <th>...</th>\n",
       "      <th>SaturatedFatContent</th>\n",
       "      <th>CholesterolContent</th>\n",
       "      <th>SodiumContent</th>\n",
       "      <th>CarbohydrateContent</th>\n",
       "      <th>FiberContent</th>\n",
       "      <th>SugarContent</th>\n",
       "      <th>ProteinContent</th>\n",
       "      <th>RecipeServings</th>\n",
       "      <th>RecipeYield</th>\n",
       "      <th>RecipeInstructions</th>\n",
       "    </tr>\n",
       "  </thead>\n",
       "  <tbody>\n",
       "    <tr>\n",
       "      <th>0</th>\n",
       "      <td>38</td>\n",
       "      <td>Low-Fat Berry Blue Frozen Dessert</td>\n",
       "      <td>1533</td>\n",
       "      <td>Dancer</td>\n",
       "      <td>PT24H</td>\n",
       "      <td>PT45M</td>\n",
       "      <td>PT24H45M</td>\n",
       "      <td>1999-08-09T21:46:00Z</td>\n",
       "      <td>Make and share this Low-Fat Berry Blue Frozen ...</td>\n",
       "      <td>c(\"https://img.sndimg.com/food/image/upload/w_...</td>\n",
       "      <td>...</td>\n",
       "      <td>1.3</td>\n",
       "      <td>8.0</td>\n",
       "      <td>29.8</td>\n",
       "      <td>37.1</td>\n",
       "      <td>3.6</td>\n",
       "      <td>30.2</td>\n",
       "      <td>3.2</td>\n",
       "      <td>4.0</td>\n",
       "      <td>NaN</td>\n",
       "      <td>c(\"Toss 2 cups berries with sugar.\", \"Let stan...</td>\n",
       "    </tr>\n",
       "    <tr>\n",
       "      <th>1</th>\n",
       "      <td>39</td>\n",
       "      <td>Biryani</td>\n",
       "      <td>1567</td>\n",
       "      <td>elly9812</td>\n",
       "      <td>PT25M</td>\n",
       "      <td>PT4H</td>\n",
       "      <td>PT4H25M</td>\n",
       "      <td>1999-08-29T13:12:00Z</td>\n",
       "      <td>Make and share this Biryani recipe from Food.com.</td>\n",
       "      <td>c(\"https://img.sndimg.com/food/image/upload/w_...</td>\n",
       "      <td>...</td>\n",
       "      <td>16.6</td>\n",
       "      <td>372.8</td>\n",
       "      <td>368.4</td>\n",
       "      <td>84.4</td>\n",
       "      <td>9.0</td>\n",
       "      <td>20.4</td>\n",
       "      <td>63.4</td>\n",
       "      <td>6.0</td>\n",
       "      <td>NaN</td>\n",
       "      <td>c(\"Soak saffron in warm milk for 5 minutes and...</td>\n",
       "    </tr>\n",
       "  </tbody>\n",
       "</table>\n",
       "<p>2 rows × 28 columns</p>\n",
       "</div>"
      ],
      "text/plain": [
       "   RecipeId                               Name  AuthorId AuthorName CookTime  \\\n",
       "0        38  Low-Fat Berry Blue Frozen Dessert      1533     Dancer    PT24H   \n",
       "1        39                            Biryani      1567   elly9812    PT25M   \n",
       "\n",
       "  PrepTime TotalTime         DatePublished  \\\n",
       "0    PT45M  PT24H45M  1999-08-09T21:46:00Z   \n",
       "1     PT4H   PT4H25M  1999-08-29T13:12:00Z   \n",
       "\n",
       "                                         Description  \\\n",
       "0  Make and share this Low-Fat Berry Blue Frozen ...   \n",
       "1  Make and share this Biryani recipe from Food.com.   \n",
       "\n",
       "                                              Images  ... SaturatedFatContent  \\\n",
       "0  c(\"https://img.sndimg.com/food/image/upload/w_...  ...                 1.3   \n",
       "1  c(\"https://img.sndimg.com/food/image/upload/w_...  ...                16.6   \n",
       "\n",
       "  CholesterolContent SodiumContent CarbohydrateContent  FiberContent  \\\n",
       "0                8.0          29.8                37.1           3.6   \n",
       "1              372.8         368.4                84.4           9.0   \n",
       "\n",
       "   SugarContent  ProteinContent  RecipeServings  RecipeYield  \\\n",
       "0          30.2             3.2             4.0          NaN   \n",
       "1          20.4            63.4             6.0          NaN   \n",
       "\n",
       "                                  RecipeInstructions  \n",
       "0  c(\"Toss 2 cups berries with sugar.\", \"Let stan...  \n",
       "1  c(\"Soak saffron in warm milk for 5 minutes and...  \n",
       "\n",
       "[2 rows x 28 columns]"
      ]
     },
     "execution_count": 64,
     "metadata": {},
     "output_type": "execute_result"
    }
   ],
   "source": [
    "recipe = pd.read_csv('foodcom_with_reviews/recipes.csv')\n",
    "recipe.head(2)"
   ]
  },
  {
   "cell_type": "markdown",
   "id": "1736b9fa",
   "metadata": {},
   "source": [
    "The next few block of codes would just be me testing how to get the RecipeId -> 'Name' of the recipe , and the same with AuthorId -> 'AuthorName' and also giving them a variable so it can work with any recipe name and author name."
   ]
  },
  {
   "cell_type": "code",
   "execution_count": 65,
   "id": "dc105250",
   "metadata": {
    "scrolled": true
   },
   "outputs": [
    {
     "data": {
      "text/plain": [
       "41924    Bourbon Chicken\n",
       "Name: Name, dtype: object"
      ]
     },
     "execution_count": 65,
     "metadata": {},
     "output_type": "execute_result"
    }
   ],
   "source": [
    "recipe_name = recipe.loc[recipe['RecipeId'] == current_recipe, 'Name']\n",
    "recipe_name"
   ]
  },
  {
   "cell_type": "code",
   "execution_count": 66,
   "id": "0a746881",
   "metadata": {},
   "outputs": [
    {
     "name": "stdout",
     "output_type": "stream",
     "text": [
      "41924    Bourbon Chicken\n",
      "Name: Name, dtype: object\n"
     ]
    }
   ],
   "source": [
    "print(recipe_name)"
   ]
  },
  {
   "cell_type": "code",
   "execution_count": 67,
   "id": "d418d9ef",
   "metadata": {},
   "outputs": [
    {
     "data": {
      "text/plain": [
       "pandas.core.series.Series"
      ]
     },
     "execution_count": 67,
     "metadata": {},
     "output_type": "execute_result"
    }
   ],
   "source": [
    "type(recipe_name)"
   ]
  },
  {
   "cell_type": "code",
   "execution_count": 68,
   "id": "5a36109f",
   "metadata": {},
   "outputs": [],
   "source": [
    "recipe_name_str = recipe_name.item()"
   ]
  },
  {
   "cell_type": "code",
   "execution_count": 69,
   "id": "bd96d4da",
   "metadata": {},
   "outputs": [
    {
     "data": {
      "text/plain": [
       "'Bourbon Chicken'"
      ]
     },
     "execution_count": 69,
     "metadata": {},
     "output_type": "execute_result"
    }
   ],
   "source": [
    "recipe_name_str"
   ]
  },
  {
   "cell_type": "code",
   "execution_count": 70,
   "id": "f586bc21",
   "metadata": {},
   "outputs": [
    {
     "data": {
      "text/plain": [
       "61840    The Giggle Box\n",
       "Name: AuthorName, dtype: object"
      ]
     },
     "execution_count": 70,
     "metadata": {},
     "output_type": "execute_result"
    }
   ],
   "source": [
    "username000 = recipe.loc[recipe['AuthorId'] == current_user, 'AuthorName'].head(1)\n",
    "username000"
   ]
  },
  {
   "cell_type": "code",
   "execution_count": 71,
   "id": "bf7c7832",
   "metadata": {},
   "outputs": [
    {
     "data": {
      "text/plain": [
       "'The Giggle Box'"
      ]
     },
     "execution_count": 71,
     "metadata": {},
     "output_type": "execute_result"
    }
   ],
   "source": [
    "username001 = username000.item()\n",
    "username001"
   ]
  },
  {
   "cell_type": "code",
   "execution_count": 73,
   "id": "4e5de9f9",
   "metadata": {},
   "outputs": [
    {
     "name": "stdout",
     "output_type": "stream",
     "text": [
      "Predicted rating for recipe 45809 (Bourbon Chicken) by user 91867 (The Giggle Box) is 4.55\n"
     ]
    }
   ],
   "source": [
    "predicted_rating = np.dot(ratings_given_to_recipe, similarities_to_user)/np.sum(similarities_to_user)\n",
    "\n",
    "print(f'Predicted rating for recipe {current_recipe} ({recipe_name_str}) by user {current_user} ({username001}) is {round(predicted_rating, 2)}')"
   ]
  },
  {
   "cell_type": "markdown",
   "id": "1d486ba7",
   "metadata": {},
   "source": [
    "Finally a function that incorporates everything I did before. The predict_rating function takes a current user and recipe, along with a user-item matrix (R_df) and recipe DataFrame. It predicts the rating based on similarities to other users, returns the predicted rating, recipe id & name, and user id & name."
   ]
  },
  {
   "cell_type": "code",
   "execution_count": 74,
   "id": "dc7286c3",
   "metadata": {},
   "outputs": [],
   "source": [
    "# now I put everything together on a function and this is what came out:\n",
    "\n",
    "def predict_rating(current_user, current_recipe, R_df, recipe):\n",
    "    similarities_to_user = []\n",
    "    ratings_given_to_recipe = []\n",
    "\n",
    "    # Find only the users who rated the current recipe (rows)\n",
    "    R_df_recipe = R_df[~R_df[current_recipe].isna()].copy()\n",
    "\n",
    "    for other_user in R_df_recipe.index:\n",
    "        similarity, number_of_recipes_rated_together = find_user_similarity(current_user, other_user, R_df)\n",
    "        similarities_to_user.append(similarity)\n",
    "        ratings_given_to_recipe.append(R_df.loc[other_user, current_recipe])\n",
    "\n",
    "    # Convert to numpy arrays\n",
    "    similarities_to_user = np.array(similarities_to_user)\n",
    "    ratings_given_to_recipe = np.array(ratings_given_to_recipe)\n",
    "\n",
    "    predicted_rating = np.dot(ratings_given_to_recipe, similarities_to_user) / np.sum(similarities_to_user)\n",
    "    recipe_name = recipe.loc[recipe['RecipeId'] == current_recipe, 'Name'].item()\n",
    "    username = recipe.loc[recipe['AuthorId'] == current_user, 'AuthorName'].head(1).item()\n",
    "\n",
    "    return predicted_rating, recipe_name, username\n",
    "\n",
    "\n",
    "\n"
   ]
  },
  {
   "cell_type": "code",
   "execution_count": 75,
   "id": "69cb0492",
   "metadata": {},
   "outputs": [
    {
     "name": "stdout",
     "output_type": "stream",
     "text": [
      "Predicted rating for recipe 45809 (Bourbon Chicken) by user 91867 (The Giggle Box) is 4.55\n"
     ]
    }
   ],
   "source": [
    "#testing the function\n",
    "current_user = 91867\n",
    "current_recipe = 45809\n",
    "\n",
    "predicted_rating, recipe_name, username = predict_rating(current_user, current_recipe, R_df, recipe)\n",
    "print(f\"Predicted rating for recipe {current_recipe} ({recipe_name}) by user {current_user} ({username}) is {round(predicted_rating, 2)}\")\n"
   ]
  },
  {
   "cell_type": "code",
   "execution_count": 76,
   "id": "ed9318d3",
   "metadata": {},
   "outputs": [
    {
     "name": "stdout",
     "output_type": "stream",
     "text": [
      "Predicted rating for recipe 89925 (Popeye's Fried Chicken Copycat) by user 126440 (adopt a greyhound) is 3.71\n"
     ]
    }
   ],
   "source": [
    "#testing the function\n",
    "current_user = 126440\n",
    "current_recipe = 89925\n",
    "\n",
    "predicted_rating, recipe_name, username = predict_rating(current_user, current_recipe, R_df, recipe)\n",
    "print(f\"Predicted rating for recipe {current_recipe} ({recipe_name}) by user {current_user} ({username}) is {round(predicted_rating, 2)}\")\n"
   ]
  },
  {
   "cell_type": "markdown",
   "id": "75cfe22c",
   "metadata": {},
   "source": [
    "Tested it twice, and it works!"
   ]
  },
  {
   "cell_type": "markdown",
   "id": "12a6bb8a",
   "metadata": {},
   "source": [
    "#\n",
    "## Conclusion"
   ]
  },
  {
   "cell_type": "markdown",
   "id": "a814bd8e",
   "metadata": {},
   "source": [
    "In conclusion, this project implemented a collaborative based recommender system for predicting ratings of recipes. The `predict_rating` function utilized user similarities and ratings given to the recipe by other users to estimate the rating that the current user would provide. The system considered the recipe name and the username to provide personalized recommendations. By using user reviews, the project successfully generated predictions and can serve as a basis for building a practical food recommendation system, either for personal use or commercial use."
   ]
  }
 ],
 "metadata": {
  "kernelspec": {
   "display_name": "capstone2",
   "language": "python",
   "name": "capstone2"
  },
  "language_info": {
   "codemirror_mode": {
    "name": "ipython",
    "version": 3
   },
   "file_extension": ".py",
   "mimetype": "text/x-python",
   "name": "python",
   "nbconvert_exporter": "python",
   "pygments_lexer": "ipython3",
   "version": "3.8.16"
  }
 },
 "nbformat": 4,
 "nbformat_minor": 5
}
