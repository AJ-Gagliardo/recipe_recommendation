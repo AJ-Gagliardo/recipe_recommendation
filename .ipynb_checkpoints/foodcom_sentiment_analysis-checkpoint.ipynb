{
 "cells": [
  {
   "cell_type": "code",
   "execution_count": 1,
   "id": "9ef3e40e",
   "metadata": {},
   "outputs": [],
   "source": [
    "import pandas as pd\n",
    "import numpy as np\n",
    "import nltk\n",
    "import string\n",
    "import fasttext\n",
    "import contractions\n",
    "import seaborn as sns\n",
    "import matplotlib.pyplot as plt\n",
    "\n",
    "from wordcloud import WordCloud\n",
    "import nltk\n",
    "\n",
    "\n",
    "#######needed these ones on the first run####\n",
    "#nltk.download('punkt') \n",
    "#nltk.download('averaged_perceptron_tagger')\n",
    "#nltk.download('maxent_ne_chunker')\n",
    "#nltk.download('words')\n",
    "#nltk.download('vader_lexicon')\n",
    "\n",
    "from sklearn.linear_model import LogisticRegression\n",
    "from sklearn.model_selection import train_test_split\n",
    "from sklearn.feature_extraction.text import CountVectorizer\n",
    "\n",
    "\n",
    "\n",
    "from nltk.tokenize import word_tokenize\n",
    "from nltk.stem import PorterStemmer\n",
    "from nltk.corpus import stopwords, wordnet\n",
    "from nltk.stem import WordNetLemmatizer\n",
    "from nltk.sentiment import SentimentIntensityAnalyzer\n",
    "from tqdm.notebook import tqdm\n",
    "\n",
    "plt.xticks(rotation=70)\n",
    "pd.options.mode.chained_assignment = None\n",
    "pd.set_option('display.max_colwidth', 100)\n",
    "plt.style.use('ggplot')\n",
    "%matplotlib inline\n",
    "# import a lot of libraries that could be used on the project"
   ]
  },
  {
   "cell_type": "code",
   "execution_count": 2,
   "id": "fb7f6015",
   "metadata": {},
   "outputs": [],
   "source": [
    "# recipes = pd.read_csv('foodcom_with_reviews/recipes.csv')\n",
    "reviews = pd.read_csv('foodcom_with_reviews/reviews.csv')"
   ]
  },
  {
   "cell_type": "code",
   "execution_count": 3,
   "id": "1df032e7",
   "metadata": {},
   "outputs": [],
   "source": [
    "# recipes.head(1)"
   ]
  },
  {
   "cell_type": "code",
   "execution_count": 4,
   "id": "9c7cce44",
   "metadata": {},
   "outputs": [
    {
     "data": {
      "text/plain": [
       "pandas.core.frame.DataFrame"
      ]
     },
     "execution_count": 4,
     "metadata": {},
     "output_type": "execute_result"
    }
   ],
   "source": [
    "type(reviews)"
   ]
  },
  {
   "cell_type": "code",
   "execution_count": 5,
   "id": "40592971",
   "metadata": {
    "scrolled": true
   },
   "outputs": [
    {
     "data": {
      "text/html": [
       "<div>\n",
       "<style scoped>\n",
       "    .dataframe tbody tr th:only-of-type {\n",
       "        vertical-align: middle;\n",
       "    }\n",
       "\n",
       "    .dataframe tbody tr th {\n",
       "        vertical-align: top;\n",
       "    }\n",
       "\n",
       "    .dataframe thead th {\n",
       "        text-align: right;\n",
       "    }\n",
       "</style>\n",
       "<table border=\"1\" class=\"dataframe\">\n",
       "  <thead>\n",
       "    <tr style=\"text-align: right;\">\n",
       "      <th></th>\n",
       "      <th>ReviewId</th>\n",
       "      <th>RecipeId</th>\n",
       "      <th>AuthorId</th>\n",
       "      <th>AuthorName</th>\n",
       "      <th>Rating</th>\n",
       "      <th>Review</th>\n",
       "      <th>DateSubmitted</th>\n",
       "      <th>DateModified</th>\n",
       "    </tr>\n",
       "  </thead>\n",
       "  <tbody>\n",
       "    <tr>\n",
       "      <th>0</th>\n",
       "      <td>2</td>\n",
       "      <td>992</td>\n",
       "      <td>2008</td>\n",
       "      <td>gayg msft</td>\n",
       "      <td>5</td>\n",
       "      <td>better than any you can get at a restaurant!</td>\n",
       "      <td>2000-01-25T21:44:00Z</td>\n",
       "      <td>2000-01-25T21:44:00Z</td>\n",
       "    </tr>\n",
       "  </tbody>\n",
       "</table>\n",
       "</div>"
      ],
      "text/plain": [
       "   ReviewId  RecipeId  AuthorId AuthorName  Rating  \\\n",
       "0         2       992      2008  gayg msft       5   \n",
       "\n",
       "                                         Review         DateSubmitted  \\\n",
       "0  better than any you can get at a restaurant!  2000-01-25T21:44:00Z   \n",
       "\n",
       "           DateModified  \n",
       "0  2000-01-25T21:44:00Z  "
      ]
     },
     "execution_count": 5,
     "metadata": {},
     "output_type": "execute_result"
    }
   ],
   "source": [
    "reviews.head(1)"
   ]
  },
  {
   "cell_type": "markdown",
   "id": "1a193217",
   "metadata": {},
   "source": [
    "# Cleaning"
   ]
  },
  {
   "cell_type": "code",
   "execution_count": 6,
   "id": "ad71e77b",
   "metadata": {},
   "outputs": [
    {
     "data": {
      "text/plain": [
       "ReviewId           0\n",
       "RecipeId           0\n",
       "AuthorId           0\n",
       "AuthorName         0\n",
       "Rating             0\n",
       "Review           214\n",
       "DateSubmitted      0\n",
       "DateModified       0\n",
       "dtype: int64"
      ]
     },
     "execution_count": 6,
     "metadata": {},
     "output_type": "execute_result"
    }
   ],
   "source": [
    "reviews.isna().sum()"
   ]
  },
  {
   "cell_type": "code",
   "execution_count": 7,
   "id": "446c65cd",
   "metadata": {},
   "outputs": [
    {
     "data": {
      "text/html": [
       "<div>\n",
       "<style scoped>\n",
       "    .dataframe tbody tr th:only-of-type {\n",
       "        vertical-align: middle;\n",
       "    }\n",
       "\n",
       "    .dataframe tbody tr th {\n",
       "        vertical-align: top;\n",
       "    }\n",
       "\n",
       "    .dataframe thead th {\n",
       "        text-align: right;\n",
       "    }\n",
       "</style>\n",
       "<table border=\"1\" class=\"dataframe\">\n",
       "  <thead>\n",
       "    <tr style=\"text-align: right;\">\n",
       "      <th></th>\n",
       "      <th>ReviewId</th>\n",
       "      <th>RecipeId</th>\n",
       "      <th>AuthorId</th>\n",
       "      <th>AuthorName</th>\n",
       "      <th>Rating</th>\n",
       "      <th>Review</th>\n",
       "      <th>DateSubmitted</th>\n",
       "      <th>DateModified</th>\n",
       "    </tr>\n",
       "  </thead>\n",
       "  <tbody>\n",
       "    <tr>\n",
       "      <th>165686</th>\n",
       "      <td>177521</td>\n",
       "      <td>121490</td>\n",
       "      <td>125458</td>\n",
       "      <td>eatrealfood</td>\n",
       "      <td>5</td>\n",
       "      <td>NaN</td>\n",
       "      <td>2017-03-24T13:32:48Z</td>\n",
       "      <td>2017-03-24T13:32:48Z</td>\n",
       "    </tr>\n",
       "    <tr>\n",
       "      <th>381499</th>\n",
       "      <td>408467</td>\n",
       "      <td>74971</td>\n",
       "      <td>362819</td>\n",
       "      <td>Loryn</td>\n",
       "      <td>4</td>\n",
       "      <td>NaN</td>\n",
       "      <td>2017-02-22T22:22:01Z</td>\n",
       "      <td>2017-02-22T22:22:01Z</td>\n",
       "    </tr>\n",
       "    <tr>\n",
       "      <th>511712</th>\n",
       "      <td>555485</td>\n",
       "      <td>22210</td>\n",
       "      <td>362819</td>\n",
       "      <td>Loryn</td>\n",
       "      <td>5</td>\n",
       "      <td>NaN</td>\n",
       "      <td>2017-02-22T22:03:55Z</td>\n",
       "      <td>2017-02-22T22:03:55Z</td>\n",
       "    </tr>\n",
       "    <tr>\n",
       "      <th>589730</th>\n",
       "      <td>643706</td>\n",
       "      <td>22274</td>\n",
       "      <td>448426</td>\n",
       "      <td>Kids Stuff</td>\n",
       "      <td>3</td>\n",
       "      <td>NaN</td>\n",
       "      <td>2017-06-09T03:10:30Z</td>\n",
       "      <td>2017-06-09T03:10:30Z</td>\n",
       "    </tr>\n",
       "    <tr>\n",
       "      <th>1109687</th>\n",
       "      <td>1270189</td>\n",
       "      <td>359662</td>\n",
       "      <td>547648</td>\n",
       "      <td>leanna.heiman</td>\n",
       "      <td>5</td>\n",
       "      <td>NaN</td>\n",
       "      <td>2017-05-30T05:25:20Z</td>\n",
       "      <td>2017-05-30T05:25:20Z</td>\n",
       "    </tr>\n",
       "    <tr>\n",
       "      <th>...</th>\n",
       "      <td>...</td>\n",
       "      <td>...</td>\n",
       "      <td>...</td>\n",
       "      <td>...</td>\n",
       "      <td>...</td>\n",
       "      <td>...</td>\n",
       "      <td>...</td>\n",
       "      <td>...</td>\n",
       "    </tr>\n",
       "    <tr>\n",
       "      <th>1378730</th>\n",
       "      <td>2065335</td>\n",
       "      <td>252449</td>\n",
       "      <td>2002310785</td>\n",
       "      <td>Cecily S.</td>\n",
       "      <td>4</td>\n",
       "      <td>NaN</td>\n",
       "      <td>2018-10-24T18:23:15Z</td>\n",
       "      <td>2018-10-24T18:23:15Z</td>\n",
       "    </tr>\n",
       "    <tr>\n",
       "      <th>1378916</th>\n",
       "      <td>2065538</td>\n",
       "      <td>122475</td>\n",
       "      <td>2002313998</td>\n",
       "      <td>ayateisheh</td>\n",
       "      <td>5</td>\n",
       "      <td>NaN</td>\n",
       "      <td>2018-10-27T21:58:55Z</td>\n",
       "      <td>2018-10-27T21:58:55Z</td>\n",
       "    </tr>\n",
       "    <tr>\n",
       "      <th>1380429</th>\n",
       "      <td>2067166</td>\n",
       "      <td>452478</td>\n",
       "      <td>2002360118</td>\n",
       "      <td>Nancy D.</td>\n",
       "      <td>5</td>\n",
       "      <td>NaN</td>\n",
       "      <td>2018-12-08T19:33:59Z</td>\n",
       "      <td>2018-12-08T19:33:59Z</td>\n",
       "    </tr>\n",
       "    <tr>\n",
       "      <th>1385870</th>\n",
       "      <td>2072984</td>\n",
       "      <td>12975</td>\n",
       "      <td>2002375480</td>\n",
       "      <td>Anonymous</td>\n",
       "      <td>5</td>\n",
       "      <td>NaN</td>\n",
       "      <td>2019-06-03T15:26:09Z</td>\n",
       "      <td>2019-06-03T15:26:09Z</td>\n",
       "    </tr>\n",
       "    <tr>\n",
       "      <th>1394535</th>\n",
       "      <td>2082360</td>\n",
       "      <td>2886</td>\n",
       "      <td>2002706600</td>\n",
       "      <td>billf112266</td>\n",
       "      <td>5</td>\n",
       "      <td>NaN</td>\n",
       "      <td>2020-04-23T04:17:27Z</td>\n",
       "      <td>2020-04-23T04:17:27Z</td>\n",
       "    </tr>\n",
       "  </tbody>\n",
       "</table>\n",
       "<p>214 rows × 8 columns</p>\n",
       "</div>"
      ],
      "text/plain": [
       "         ReviewId  RecipeId    AuthorId     AuthorName  Rating Review  \\\n",
       "165686     177521    121490      125458    eatrealfood       5    NaN   \n",
       "381499     408467     74971      362819          Loryn       4    NaN   \n",
       "511712     555485     22210      362819          Loryn       5    NaN   \n",
       "589730     643706     22274      448426     Kids Stuff       3    NaN   \n",
       "1109687   1270189    359662      547648  leanna.heiman       5    NaN   \n",
       "...           ...       ...         ...            ...     ...    ...   \n",
       "1378730   2065335    252449  2002310785      Cecily S.       4    NaN   \n",
       "1378916   2065538    122475  2002313998     ayateisheh       5    NaN   \n",
       "1380429   2067166    452478  2002360118       Nancy D.       5    NaN   \n",
       "1385870   2072984     12975  2002375480      Anonymous       5    NaN   \n",
       "1394535   2082360      2886  2002706600    billf112266       5    NaN   \n",
       "\n",
       "                DateSubmitted          DateModified  \n",
       "165686   2017-03-24T13:32:48Z  2017-03-24T13:32:48Z  \n",
       "381499   2017-02-22T22:22:01Z  2017-02-22T22:22:01Z  \n",
       "511712   2017-02-22T22:03:55Z  2017-02-22T22:03:55Z  \n",
       "589730   2017-06-09T03:10:30Z  2017-06-09T03:10:30Z  \n",
       "1109687  2017-05-30T05:25:20Z  2017-05-30T05:25:20Z  \n",
       "...                       ...                   ...  \n",
       "1378730  2018-10-24T18:23:15Z  2018-10-24T18:23:15Z  \n",
       "1378916  2018-10-27T21:58:55Z  2018-10-27T21:58:55Z  \n",
       "1380429  2018-12-08T19:33:59Z  2018-12-08T19:33:59Z  \n",
       "1385870  2019-06-03T15:26:09Z  2019-06-03T15:26:09Z  \n",
       "1394535  2020-04-23T04:17:27Z  2020-04-23T04:17:27Z  \n",
       "\n",
       "[214 rows x 8 columns]"
      ]
     },
     "execution_count": 7,
     "metadata": {},
     "output_type": "execute_result"
    }
   ],
   "source": [
    "reviews.loc[reviews['Review'].isna()]"
   ]
  },
  {
   "cell_type": "code",
   "execution_count": 8,
   "id": "f2ed04e1",
   "metadata": {},
   "outputs": [
    {
     "data": {
      "text/plain": [
       "pandas.core.frame.DataFrame"
      ]
     },
     "execution_count": 8,
     "metadata": {},
     "output_type": "execute_result"
    }
   ],
   "source": [
    "type(reviews)"
   ]
  },
  {
   "cell_type": "code",
   "execution_count": 9,
   "id": "5376384c",
   "metadata": {},
   "outputs": [],
   "source": [
    "reviews = reviews.dropna()\n"
   ]
  },
  {
   "cell_type": "code",
   "execution_count": 10,
   "id": "3913767b",
   "metadata": {},
   "outputs": [
    {
     "data": {
      "text/plain": [
       "ReviewId         0\n",
       "RecipeId         0\n",
       "AuthorId         0\n",
       "AuthorName       0\n",
       "Rating           0\n",
       "Review           0\n",
       "DateSubmitted    0\n",
       "DateModified     0\n",
       "dtype: int64"
      ]
     },
     "execution_count": 10,
     "metadata": {},
     "output_type": "execute_result"
    }
   ],
   "source": [
    "reviews.isna().sum()"
   ]
  },
  {
   "cell_type": "code",
   "execution_count": 68,
   "id": "11ceed70",
   "metadata": {},
   "outputs": [
    {
     "data": {
      "text/plain": [
       "0"
      ]
     },
     "execution_count": 68,
     "metadata": {},
     "output_type": "execute_result"
    }
   ],
   "source": [
    "reviews.duplicated().sum()"
   ]
  },
  {
   "cell_type": "markdown",
   "id": "5f1fa7d9",
   "metadata": {},
   "source": [
    "# EDA"
   ]
  },
  {
   "cell_type": "code",
   "execution_count": 11,
   "id": "6bfe6eea",
   "metadata": {},
   "outputs": [
    {
     "data": {
      "image/png": "[encoded data removed]",
      "text/plain": [
       "<Figure size 640x480 with 1 Axes>"
      ]
     },
     "metadata": {},
     "output_type": "display_data"
    }
   ],
   "source": [
    "values, counts = np.unique(reviews['Rating'], return_counts = True)\n",
    "normalized_counts = counts/counts.sum()\n",
    "\n",
    "plt.figure()\n",
    "plt.bar(values, normalized_counts * 100)\n",
    "plt.xlabel('Review rating')\n",
    "plt.ylabel('Percentage of reviews')\n",
    "plt.title('Rating Distribution')\n",
    "plt.show()"
   ]
  },
  {
   "cell_type": "code",
   "execution_count": 12,
   "id": "185cc374",
   "metadata": {},
   "outputs": [
    {
     "data": {
      "text/plain": [
       "(1401768, 8)"
      ]
     },
     "execution_count": 12,
     "metadata": {},
     "output_type": "execute_result"
    }
   ],
   "source": [
    "reviews.shape"
   ]
  },
  {
   "cell_type": "code",
   "execution_count": 13,
   "id": "9727a951",
   "metadata": {},
   "outputs": [],
   "source": [
    "# dropping reviews that are 3 or 4\n",
    "reviews = reviews.drop(reviews[(reviews['Rating'] == 3) | (reviews['Rating'] == 4)].index)"
   ]
  },
  {
   "cell_type": "markdown",
   "id": "f06d5f0e",
   "metadata": {},
   "source": [
    "I droped reviews that are 3 and 4 because I want to take only extremes to have a better training on if the word is positive or negative. 3 and 4 could be neutral or mixed review which could confuse my model."
   ]
  },
  {
   "cell_type": "code",
   "execution_count": 14,
   "id": "38f7b2f7",
   "metadata": {
    "scrolled": false
   },
   "outputs": [
    {
     "data": {
      "text/html": [
       "<div>\n",
       "<style scoped>\n",
       "    .dataframe tbody tr th:only-of-type {\n",
       "        vertical-align: middle;\n",
       "    }\n",
       "\n",
       "    .dataframe tbody tr th {\n",
       "        vertical-align: top;\n",
       "    }\n",
       "\n",
       "    .dataframe thead th {\n",
       "        text-align: right;\n",
       "    }\n",
       "</style>\n",
       "<table border=\"1\" class=\"dataframe\">\n",
       "  <thead>\n",
       "    <tr style=\"text-align: right;\">\n",
       "      <th></th>\n",
       "      <th>ReviewId</th>\n",
       "      <th>RecipeId</th>\n",
       "      <th>AuthorId</th>\n",
       "      <th>AuthorName</th>\n",
       "      <th>Rating</th>\n",
       "      <th>Review</th>\n",
       "      <th>DateSubmitted</th>\n",
       "      <th>DateModified</th>\n",
       "      <th>Sentiment</th>\n",
       "    </tr>\n",
       "  </thead>\n",
       "  <tbody>\n",
       "    <tr>\n",
       "      <th>0</th>\n",
       "      <td>2</td>\n",
       "      <td>992</td>\n",
       "      <td>2008</td>\n",
       "      <td>gayg msft</td>\n",
       "      <td>5</td>\n",
       "      <td>better than any you can get at a restaurant!</td>\n",
       "      <td>2000-01-25T21:44:00Z</td>\n",
       "      <td>2000-01-25T21:44:00Z</td>\n",
       "      <td>1</td>\n",
       "    </tr>\n",
       "    <tr>\n",
       "      <th>2</th>\n",
       "      <td>9</td>\n",
       "      <td>4523</td>\n",
       "      <td>2046</td>\n",
       "      <td>Gay Gilmore ckpt</td>\n",
       "      <td>2</td>\n",
       "      <td>i think i did something wrong because i could taste the cornstarch in the finished product.</td>\n",
       "      <td>2000-02-25T09:00:00Z</td>\n",
       "      <td>2000-02-25T09:00:00Z</td>\n",
       "      <td>0</td>\n",
       "    </tr>\n",
       "    <tr>\n",
       "      <th>3</th>\n",
       "      <td>13</td>\n",
       "      <td>7435</td>\n",
       "      <td>1773</td>\n",
       "      <td>Malarkey Test</td>\n",
       "      <td>5</td>\n",
       "      <td>easily the best i have ever had.  juicy flavorful, not dry.  the vegetables retain crispness as ...</td>\n",
       "      <td>2000-03-13T21:15:00Z</td>\n",
       "      <td>2000-03-13T21:15:00Z</td>\n",
       "      <td>1</td>\n",
       "    </tr>\n",
       "  </tbody>\n",
       "</table>\n",
       "</div>"
      ],
      "text/plain": [
       "   ReviewId  RecipeId  AuthorId        AuthorName  Rating  \\\n",
       "0         2       992      2008         gayg msft       5   \n",
       "2         9      4523      2046  Gay Gilmore ckpt       2   \n",
       "3        13      7435      1773     Malarkey Test       5   \n",
       "\n",
       "                                                                                                Review  \\\n",
       "0                                                         better than any you can get at a restaurant!   \n",
       "2          i think i did something wrong because i could taste the cornstarch in the finished product.   \n",
       "3  easily the best i have ever had.  juicy flavorful, not dry.  the vegetables retain crispness as ...   \n",
       "\n",
       "          DateSubmitted          DateModified  Sentiment  \n",
       "0  2000-01-25T21:44:00Z  2000-01-25T21:44:00Z          1  \n",
       "2  2000-02-25T09:00:00Z  2000-02-25T09:00:00Z          0  \n",
       "3  2000-03-13T21:15:00Z  2000-03-13T21:15:00Z          1  "
      ]
     },
     "execution_count": 14,
     "metadata": {},
     "output_type": "execute_result"
    }
   ],
   "source": [
    "reviews['Sentiment'] = np.where(reviews['Rating'] >=4, 1, 0) \n",
    "#later replace with reviews_simple or something like that\n",
    "reviews.head(3)"
   ]
  },
  {
   "cell_type": "code",
   "execution_count": 74,
   "id": "9688fc88",
   "metadata": {},
   "outputs": [
    {
     "data": {
      "image/png": "[encoded data removed]",
      "text/plain": [
       "<Figure size 640x480 with 1 Axes>"
      ]
     },
     "metadata": {},
     "output_type": "display_data"
    }
   ],
   "source": [
    "values, counts = np.unique(reviews['Sentiment'], return_counts=True)\n",
    "normalized_counts = counts/counts.sum()\n",
    "\n",
    "plt.figure()\n",
    "plt.bar(['0','1'], normalized_counts*100)\n",
    "plt.title('Positive (1) and Negative (0) Reviews')\n",
    "plt.ylabel('Percentage of Total Reviews')\n",
    "plt.xticks(ticks = [0,1], labels=['Negative', 'Positive'])\n",
    "plt.show()"
   ]
  },
  {
   "cell_type": "code",
   "execution_count": 16,
   "id": "2c70c6f3",
   "metadata": {},
   "outputs": [
    {
     "name": "stdout",
     "output_type": "stream",
     "text": [
      "[0 1]\n",
      "[ 110399 1011912]\n"
     ]
    }
   ],
   "source": [
    "print(values)\n",
    "print(counts)"
   ]
  },
  {
   "cell_type": "code",
   "execution_count": 17,
   "id": "28a02b40",
   "metadata": {},
   "outputs": [],
   "source": [
    "from sklearn.utils import resample\n",
    "\n",
    "majority_sentiment = reviews[reviews['Sentiment'] == 1]  # Majority sentiment (positive)\n",
    "minority_sentiment = reviews[reviews['Sentiment'] == 0]  # Minority sentiment (negative)\n",
    "\n",
    "# Upsample the minority sentiment\n",
    "oversampled_minority = resample(minority_sentiment,\n",
    "                                replace=True,  # Allow duplication\n",
    "                                n_samples=len(majority_sentiment),  # Match majority sentiment size\n",
    "                                random_state=42)  # Set a random seed for reproducibility\n",
    "\n",
    "# Combine the majority sentiment with the oversampled minority sentiment\n",
    "balanced_reviews = pd.concat([majority_sentiment, oversampled_minority])\n",
    "\n",
    "# Shuffle the balanced dataset\n",
    "balanced_reviews = balanced_reviews.sample(frac=1, random_state=42).reset_index(drop=True)"
   ]
  },
  {
   "cell_type": "code",
   "execution_count": 18,
   "id": "7732dc63",
   "metadata": {},
   "outputs": [
    {
     "data": {
      "text/html": [
       "<div>\n",
       "<style scoped>\n",
       "    .dataframe tbody tr th:only-of-type {\n",
       "        vertical-align: middle;\n",
       "    }\n",
       "\n",
       "    .dataframe tbody tr th {\n",
       "        vertical-align: top;\n",
       "    }\n",
       "\n",
       "    .dataframe thead th {\n",
       "        text-align: right;\n",
       "    }\n",
       "</style>\n",
       "<table border=\"1\" class=\"dataframe\">\n",
       "  <thead>\n",
       "    <tr style=\"text-align: right;\">\n",
       "      <th></th>\n",
       "      <th>ReviewId</th>\n",
       "      <th>RecipeId</th>\n",
       "      <th>AuthorId</th>\n",
       "      <th>AuthorName</th>\n",
       "      <th>Rating</th>\n",
       "      <th>Review</th>\n",
       "      <th>DateSubmitted</th>\n",
       "      <th>DateModified</th>\n",
       "      <th>Sentiment</th>\n",
       "    </tr>\n",
       "  </thead>\n",
       "  <tbody>\n",
       "    <tr>\n",
       "      <th>0</th>\n",
       "      <td>212628</td>\n",
       "      <td>75103</td>\n",
       "      <td>252556</td>\n",
       "      <td>jtmmmatthews</td>\n",
       "      <td>5</td>\n",
       "      <td>I love this simply yet delicious recipe.\\r\\n\\r\\nI added cinnamon and nutmeg to my cool whip for ...</td>\n",
       "      <td>2005-10-16T14:44:20Z</td>\n",
       "      <td>2005-10-16T14:44:20Z</td>\n",
       "      <td>1</td>\n",
       "    </tr>\n",
       "    <tr>\n",
       "      <th>1</th>\n",
       "      <td>484567</td>\n",
       "      <td>254184</td>\n",
       "      <td>356476</td>\n",
       "      <td>Lolas Mama</td>\n",
       "      <td>5</td>\n",
       "      <td>I'm on a low fat low sodium diet, so it's really hard to find tasty things to eat.Considering th...</td>\n",
       "      <td>2007-09-23T17:49:47Z</td>\n",
       "      <td>2007-09-23T17:49:47Z</td>\n",
       "      <td>1</td>\n",
       "    </tr>\n",
       "    <tr>\n",
       "      <th>2</th>\n",
       "      <td>1085417</td>\n",
       "      <td>2886</td>\n",
       "      <td>68941</td>\n",
       "      <td>Trickey</td>\n",
       "      <td>0</td>\n",
       "      <td>Thanks for this wonderful recipe.  I have made it many times now. I usually double the recipe an...</td>\n",
       "      <td>2010-04-16T10:55:46Z</td>\n",
       "      <td>2010-04-16T10:55:46Z</td>\n",
       "      <td>0</td>\n",
       "    </tr>\n",
       "    <tr>\n",
       "      <th>3</th>\n",
       "      <td>1452481</td>\n",
       "      <td>476676</td>\n",
       "      <td>1803083664</td>\n",
       "      <td>Ryan B.</td>\n",
       "      <td>5</td>\n",
       "      <td>The first time I made his recipe the cookies turned out too solid and round. I made another batc...</td>\n",
       "      <td>2014-08-29T18:27:03Z</td>\n",
       "      <td>2014-08-29T18:27:03Z</td>\n",
       "      <td>1</td>\n",
       "    </tr>\n",
       "    <tr>\n",
       "      <th>4</th>\n",
       "      <td>2037971</td>\n",
       "      <td>48383</td>\n",
       "      <td>2001793617</td>\n",
       "      <td>Mary L.</td>\n",
       "      <td>0</td>\n",
       "      <td>I did a bone in Turkey for Thanksgiving. I put quartered onions and halved garlic in the bottom ...</td>\n",
       "      <td>2017-12-06T00:17:17Z</td>\n",
       "      <td>2017-12-06T00:17:17Z</td>\n",
       "      <td>0</td>\n",
       "    </tr>\n",
       "  </tbody>\n",
       "</table>\n",
       "</div>"
      ],
      "text/plain": [
       "   ReviewId  RecipeId    AuthorId    AuthorName  Rating  \\\n",
       "0    212628     75103      252556  jtmmmatthews       5   \n",
       "1    484567    254184      356476    Lolas Mama       5   \n",
       "2   1085417      2886       68941       Trickey       0   \n",
       "3   1452481    476676  1803083664       Ryan B.       5   \n",
       "4   2037971     48383  2001793617       Mary L.       0   \n",
       "\n",
       "                                                                                                Review  \\\n",
       "0  I love this simply yet delicious recipe.\\r\\n\\r\\nI added cinnamon and nutmeg to my cool whip for ...   \n",
       "1  I'm on a low fat low sodium diet, so it's really hard to find tasty things to eat.Considering th...   \n",
       "2  Thanks for this wonderful recipe.  I have made it many times now. I usually double the recipe an...   \n",
       "3  The first time I made his recipe the cookies turned out too solid and round. I made another batc...   \n",
       "4  I did a bone in Turkey for Thanksgiving. I put quartered onions and halved garlic in the bottom ...   \n",
       "\n",
       "          DateSubmitted          DateModified  Sentiment  \n",
       "0  2005-10-16T14:44:20Z  2005-10-16T14:44:20Z          1  \n",
       "1  2007-09-23T17:49:47Z  2007-09-23T17:49:47Z          1  \n",
       "2  2010-04-16T10:55:46Z  2010-04-16T10:55:46Z          0  \n",
       "3  2014-08-29T18:27:03Z  2014-08-29T18:27:03Z          1  \n",
       "4  2017-12-06T00:17:17Z  2017-12-06T00:17:17Z          0  "
      ]
     },
     "execution_count": 18,
     "metadata": {},
     "output_type": "execute_result"
    }
   ],
   "source": [
    "balanced_reviews.head()"
   ]
  },
  {
   "cell_type": "code",
   "execution_count": 19,
   "id": "7850bb3e",
   "metadata": {},
   "outputs": [
    {
     "data": {
      "text/html": [
       "<div>\n",
       "<style scoped>\n",
       "    .dataframe tbody tr th:only-of-type {\n",
       "        vertical-align: middle;\n",
       "    }\n",
       "\n",
       "    .dataframe tbody tr th {\n",
       "        vertical-align: top;\n",
       "    }\n",
       "\n",
       "    .dataframe thead th {\n",
       "        text-align: right;\n",
       "    }\n",
       "</style>\n",
       "<table border=\"1\" class=\"dataframe\">\n",
       "  <thead>\n",
       "    <tr style=\"text-align: right;\">\n",
       "      <th></th>\n",
       "      <th>RecipeId</th>\n",
       "      <th>AuthorId</th>\n",
       "      <th>AuthorName</th>\n",
       "      <th>Rating</th>\n",
       "      <th>Review</th>\n",
       "      <th>DateSubmitted</th>\n",
       "      <th>DateModified</th>\n",
       "      <th>Sentiment</th>\n",
       "    </tr>\n",
       "    <tr>\n",
       "      <th>ReviewId</th>\n",
       "      <th></th>\n",
       "      <th></th>\n",
       "      <th></th>\n",
       "      <th></th>\n",
       "      <th></th>\n",
       "      <th></th>\n",
       "      <th></th>\n",
       "      <th></th>\n",
       "    </tr>\n",
       "  </thead>\n",
       "  <tbody>\n",
       "    <tr>\n",
       "      <th>212628</th>\n",
       "      <td>75103</td>\n",
       "      <td>252556</td>\n",
       "      <td>jtmmmatthews</td>\n",
       "      <td>5</td>\n",
       "      <td>I love this simply yet delicious recipe.\\r\\n\\r\\nI added cinnamon and nutmeg to my cool whip for ...</td>\n",
       "      <td>2005-10-16T14:44:20Z</td>\n",
       "      <td>2005-10-16T14:44:20Z</td>\n",
       "      <td>1</td>\n",
       "    </tr>\n",
       "    <tr>\n",
       "      <th>484567</th>\n",
       "      <td>254184</td>\n",
       "      <td>356476</td>\n",
       "      <td>Lolas Mama</td>\n",
       "      <td>5</td>\n",
       "      <td>I'm on a low fat low sodium diet, so it's really hard to find tasty things to eat.Considering th...</td>\n",
       "      <td>2007-09-23T17:49:47Z</td>\n",
       "      <td>2007-09-23T17:49:47Z</td>\n",
       "      <td>1</td>\n",
       "    </tr>\n",
       "    <tr>\n",
       "      <th>1085417</th>\n",
       "      <td>2886</td>\n",
       "      <td>68941</td>\n",
       "      <td>Trickey</td>\n",
       "      <td>0</td>\n",
       "      <td>Thanks for this wonderful recipe.  I have made it many times now. I usually double the recipe an...</td>\n",
       "      <td>2010-04-16T10:55:46Z</td>\n",
       "      <td>2010-04-16T10:55:46Z</td>\n",
       "      <td>0</td>\n",
       "    </tr>\n",
       "    <tr>\n",
       "      <th>1452481</th>\n",
       "      <td>476676</td>\n",
       "      <td>1803083664</td>\n",
       "      <td>Ryan B.</td>\n",
       "      <td>5</td>\n",
       "      <td>The first time I made his recipe the cookies turned out too solid and round. I made another batc...</td>\n",
       "      <td>2014-08-29T18:27:03Z</td>\n",
       "      <td>2014-08-29T18:27:03Z</td>\n",
       "      <td>1</td>\n",
       "    </tr>\n",
       "    <tr>\n",
       "      <th>2037971</th>\n",
       "      <td>48383</td>\n",
       "      <td>2001793617</td>\n",
       "      <td>Mary L.</td>\n",
       "      <td>0</td>\n",
       "      <td>I did a bone in Turkey for Thanksgiving. I put quartered onions and halved garlic in the bottom ...</td>\n",
       "      <td>2017-12-06T00:17:17Z</td>\n",
       "      <td>2017-12-06T00:17:17Z</td>\n",
       "      <td>0</td>\n",
       "    </tr>\n",
       "  </tbody>\n",
       "</table>\n",
       "</div>"
      ],
      "text/plain": [
       "          RecipeId    AuthorId    AuthorName  Rating  \\\n",
       "ReviewId                                               \n",
       "212628       75103      252556  jtmmmatthews       5   \n",
       "484567      254184      356476    Lolas Mama       5   \n",
       "1085417       2886       68941       Trickey       0   \n",
       "1452481     476676  1803083664       Ryan B.       5   \n",
       "2037971      48383  2001793617       Mary L.       0   \n",
       "\n",
       "                                                                                                       Review  \\\n",
       "ReviewId                                                                                                        \n",
       "212628    I love this simply yet delicious recipe.\\r\\n\\r\\nI added cinnamon and nutmeg to my cool whip for ...   \n",
       "484567    I'm on a low fat low sodium diet, so it's really hard to find tasty things to eat.Considering th...   \n",
       "1085417   Thanks for this wonderful recipe.  I have made it many times now. I usually double the recipe an...   \n",
       "1452481   The first time I made his recipe the cookies turned out too solid and round. I made another batc...   \n",
       "2037971   I did a bone in Turkey for Thanksgiving. I put quartered onions and halved garlic in the bottom ...   \n",
       "\n",
       "                 DateSubmitted          DateModified  Sentiment  \n",
       "ReviewId                                                         \n",
       "212628    2005-10-16T14:44:20Z  2005-10-16T14:44:20Z          1  \n",
       "484567    2007-09-23T17:49:47Z  2007-09-23T17:49:47Z          1  \n",
       "1085417   2010-04-16T10:55:46Z  2010-04-16T10:55:46Z          0  \n",
       "1452481   2014-08-29T18:27:03Z  2014-08-29T18:27:03Z          1  \n",
       "2037971   2017-12-06T00:17:17Z  2017-12-06T00:17:17Z          0  "
      ]
     },
     "execution_count": 19,
     "metadata": {},
     "output_type": "execute_result"
    }
   ],
   "source": [
    "# getting rid of the default index and replacing it with review id\n",
    "balanced_reviews.set_index('ReviewId', inplace=True)\n",
    "balanced_reviews.head()"
   ]
  },
  {
   "cell_type": "code",
   "execution_count": 20,
   "id": "0fac570d",
   "metadata": {},
   "outputs": [
    {
     "name": "stdout",
     "output_type": "stream",
     "text": [
      "Normal reviews: (1122311, 9)\n",
      "balanced reviews: (2023824, 8)\n"
     ]
    }
   ],
   "source": [
    "print(f'Normal reviews: {reviews.shape}')\n",
    "print(f'balanced reviews: {balanced_reviews.shape}')"
   ]
  },
  {
   "cell_type": "code",
   "execution_count": 21,
   "id": "fe68a155",
   "metadata": {},
   "outputs": [
    {
     "data": {
      "text/plain": [
       "1    1011912\n",
       "0    1011912\n",
       "Name: Sentiment, dtype: int64"
      ]
     },
     "execution_count": 21,
     "metadata": {},
     "output_type": "execute_result"
    }
   ],
   "source": [
    "balanced_reviews['Sentiment'].value_counts()"
   ]
  },
  {
   "cell_type": "code",
   "execution_count": null,
   "id": "e2399e7c",
   "metadata": {},
   "outputs": [],
   "source": []
  },
  {
   "cell_type": "code",
   "execution_count": 22,
   "id": "56b16e2a",
   "metadata": {},
   "outputs": [],
   "source": [
    "sample_size = 50000\n",
    "\n",
    "# Assuming you have the 'balanced_reviews' DataFrame\n",
    "\n",
    "# Check if the dataset has more than 50,000 rows\n",
    "if len(balanced_reviews) > sample_size:\n",
    "    # Take a random sample of 50,000 rows from the balanced_reviews DataFrame\n",
    "    sample_reviews = balanced_reviews.sample(n=sample_size, random_state=1)\n",
    "else:\n",
    "    # If the dataset has fewer than 50,000 rows, use the entire dataset as the sample\n",
    "    sample_reviews = balanced_reviews"
   ]
  },
  {
   "cell_type": "code",
   "execution_count": 23,
   "id": "77c8d0af",
   "metadata": {},
   "outputs": [
    {
     "data": {
      "text/plain": [
       "1    25048\n",
       "0    24952\n",
       "Name: Sentiment, dtype: int64"
      ]
     },
     "execution_count": 23,
     "metadata": {},
     "output_type": "execute_result"
    }
   ],
   "source": [
    "sample_reviews['Sentiment'].value_counts()"
   ]
  },
  {
   "cell_type": "code",
   "execution_count": 77,
   "id": "29e65670",
   "metadata": {},
   "outputs": [
    {
     "data": {
      "image/png": "[encoded data removed]",
      "text/plain": [
       "<Figure size 640x480 with 1 Axes>"
      ]
     },
     "metadata": {},
     "output_type": "display_data"
    }
   ],
   "source": [
    "values, counts = np.unique(sample_reviews['Sentiment'], return_counts=True)\n",
    "normalized_counts = counts/counts.sum()\n",
    "\n",
    "plt.figure()\n",
    "plt.bar(['0','1'], normalized_counts*100)\n",
    "plt.title(\"Sample's Total Positive (1) and Negative (0) Reviews\")\n",
    "plt.ylabel('Percentage of Total Reviews')\n",
    "plt.xticks(ticks = [0,1], labels=['Negative', 'Positive'])\n",
    "plt.show()"
   ]
  },
  {
   "cell_type": "markdown",
   "id": "fe81fcc7",
   "metadata": {},
   "source": [
    "# Start to tokenize"
   ]
  },
  {
   "cell_type": "code",
   "execution_count": 24,
   "id": "81e6950a",
   "metadata": {},
   "outputs": [],
   "source": [
    "def my_tokenizer(sentence):\n",
    "    # Instantiate stemmer and stopwords from nltk\n",
    "    stemmer = PorterStemmer()\n",
    "    stop_words = set(stopwords.words('english'))\n",
    "\n",
    "    # Tokenize the sentence into words\n",
    "    words = word_tokenize(sentence)\n",
    "\n",
    "    # Making them lower case and remove punctuation\n",
    "    stemmed_words = [stemmer.stem(word.lower()) for word in words if word.isalpha()]\n",
    "\n",
    "    # Remove if it is a stop words\n",
    "    filtered_words = [word for word in stemmed_words if word not in stop_words]\n",
    "\n",
    "    return filtered_words"
   ]
  },
  {
   "cell_type": "code",
   "execution_count": 25,
   "id": "237b9cd4",
   "metadata": {},
   "outputs": [
    {
     "data": {
      "text/plain": [
       "['quick', 'brown', 'fox', 'jump', 'lazi', 'dog']"
      ]
     },
     "execution_count": 25,
     "metadata": {},
     "output_type": "execute_result"
    }
   ],
   "source": [
    "# checking my tokenizer\n",
    "example_sentence = \"The quick brown fox, jumped over the lazy dog!!\"\n",
    "my_tokenizer(example_sentence)"
   ]
  },
  {
   "cell_type": "code",
   "execution_count": 26,
   "id": "a361ef97",
   "metadata": {
    "scrolled": true
   },
   "outputs": [],
   "source": [
    "# reviews['Tokenized_Reviews'] = reviews['Review'].apply(my_tokenizer)\n",
    "# reviews.head(2)"
   ]
  },
  {
   "cell_type": "code",
   "execution_count": 27,
   "id": "8cb3b228",
   "metadata": {
    "scrolled": true
   },
   "outputs": [],
   "source": [
    "# # I am testing another way of doing sample that is maybe better than this one\n",
    "# # Convert the values in the 'Review' column to strings\n",
    "# reviews['Review'] = reviews['Review'].astype(str)\n",
    "\n",
    "\n",
    "# # Sample a subset of the data\n",
    "# sample_reviews = reviews.sample(n=50000, random_state=1)\n",
    "\n",
    "\n"
   ]
  },
  {
   "cell_type": "code",
   "execution_count": 28,
   "id": "c5cdc0fe",
   "metadata": {},
   "outputs": [],
   "source": [
    "######### took this off for now for testing purposes ############"
   ]
  },
  {
   "cell_type": "code",
   "execution_count": 29,
   "id": "d700b105",
   "metadata": {},
   "outputs": [],
   "source": [
    "# # Apply the tokenizer function to the sampled reviews\n",
    "# tokenized_reviews = sample_reviews['Review'].apply(my_tokenizer)\n",
    "\n",
    "# sample_reviews['Tokenized_Reviews'] = tokenized_reviews\n",
    "# sample_reviews['Tokenized_Reviews'].head(3)"
   ]
  },
  {
   "cell_type": "code",
   "execution_count": null,
   "id": "883618a2",
   "metadata": {},
   "outputs": [],
   "source": []
  },
  {
   "cell_type": "code",
   "execution_count": 30,
   "id": "74a41607",
   "metadata": {},
   "outputs": [],
   "source": [
    "# # Separate the data into features (X) and target (y)\n",
    "# X = reviews.drop('Sentiment', axis=1)\n",
    "# y = reviews['Sentiment']\n",
    "\n",
    "# # Taking a chunk for our 20% test set\n",
    "# X_remainder, X_test, y_remainder, y_test = \\\n",
    "#     train_test_split(X, y, stratify=y, test_size = 0.2,\n",
    "#                      random_state=1)\n",
    "\n"
   ]
  },
  {
   "cell_type": "code",
   "execution_count": 31,
   "id": "abbe69c5",
   "metadata": {},
   "outputs": [],
   "source": [
    "# # Splitting the remainder in two chunks\n",
    "# X_train, X_validation, y_train, y_validation = \\\n",
    "#     train_test_split(X_remainder, y_remainder, test_size = 0.3,\n",
    "#                      random_state=1)\n"
   ]
  },
  {
   "cell_type": "code",
   "execution_count": 32,
   "id": "1d4a06c3",
   "metadata": {},
   "outputs": [],
   "source": [
    "# X_test.shape #just checking the shape"
   ]
  },
  {
   "cell_type": "code",
   "execution_count": 33,
   "id": "3f495fae",
   "metadata": {},
   "outputs": [],
   "source": [
    "# X_train.shape"
   ]
  },
  {
   "cell_type": "code",
   "execution_count": 34,
   "id": "bcc325aa",
   "metadata": {},
   "outputs": [],
   "source": [
    "\n",
    "\n",
    "X_sample = sample_reviews['Review'].astype(str)\n",
    "y_sample = sample_reviews['Sentiment']\n",
    "\n",
    "# Perform stratified sampling to obtain a balanced sample\n",
    "X_remainder_sample, X_test_sample, y_remainder_sample, y_test_sample = train_test_split(X_sample, y_sample,  test_size=0.2, stratify=y_sample, random_state=1)\n",
    "\n",
    "# Splitting the remainder in two chunks\n",
    "X_train_sample, X_validation_sample, y_train_sample, y_validation_sample = \\\n",
    "    train_test_split(X_remainder_sample, y_remainder_sample, test_size = 0.3,\n",
    "                     random_state=1)\n",
    "    "
   ]
  },
  {
   "cell_type": "code",
   "execution_count": 35,
   "id": "ce64eb28",
   "metadata": {},
   "outputs": [
    {
     "data": {
      "text/plain": [
       "(28000,)"
      ]
     },
     "execution_count": 35,
     "metadata": {},
     "output_type": "execute_result"
    }
   ],
   "source": [
    "X_train_sample.shape"
   ]
  },
  {
   "cell_type": "code",
   "execution_count": 36,
   "id": "c3295157",
   "metadata": {},
   "outputs": [
    {
     "data": {
      "text/plain": [
       "(10000,)"
      ]
     },
     "execution_count": 36,
     "metadata": {},
     "output_type": "execute_result"
    }
   ],
   "source": [
    "X_test_sample.shape"
   ]
  },
  {
   "cell_type": "code",
   "execution_count": 37,
   "id": "d62fbfe4",
   "metadata": {},
   "outputs": [
    {
     "data": {
      "text/html": [
       "<div>\n",
       "<style scoped>\n",
       "    .dataframe tbody tr th:only-of-type {\n",
       "        vertical-align: middle;\n",
       "    }\n",
       "\n",
       "    .dataframe tbody tr th {\n",
       "        vertical-align: top;\n",
       "    }\n",
       "\n",
       "    .dataframe thead th {\n",
       "        text-align: right;\n",
       "    }\n",
       "</style>\n",
       "<table border=\"1\" class=\"dataframe\">\n",
       "  <thead>\n",
       "    <tr style=\"text-align: right;\">\n",
       "      <th></th>\n",
       "      <th>Review</th>\n",
       "      <th>Sentiment</th>\n",
       "    </tr>\n",
       "    <tr>\n",
       "      <th>ReviewId</th>\n",
       "      <th></th>\n",
       "      <th></th>\n",
       "    </tr>\n",
       "  </thead>\n",
       "  <tbody>\n",
       "    <tr>\n",
       "      <th>1109027</th>\n",
       "      <td>Delicious!!! ...and an easy to follow recipe. \\n\\nHowever, I found that the middle layer didn't ...</td>\n",
       "      <td>1</td>\n",
       "    </tr>\n",
       "    <tr>\n",
       "      <th>1395449</th>\n",
       "      <td>This actually turned out to be much more creamy than the usual baba ganouj that I actually make....</td>\n",
       "      <td>1</td>\n",
       "    </tr>\n",
       "    <tr>\n",
       "      <th>472074</th>\n",
       "      <td>This recipe comes from a WW card several years back. I have used it many times with great results.</td>\n",
       "      <td>1</td>\n",
       "    </tr>\n",
       "  </tbody>\n",
       "</table>\n",
       "</div>"
      ],
      "text/plain": [
       "                                                                                                       Review  \\\n",
       "ReviewId                                                                                                        \n",
       "1109027   Delicious!!! ...and an easy to follow recipe. \\n\\nHowever, I found that the middle layer didn't ...   \n",
       "1395449   This actually turned out to be much more creamy than the usual baba ganouj that I actually make....   \n",
       "472074     This recipe comes from a WW card several years back. I have used it many times with great results.   \n",
       "\n",
       "          Sentiment  \n",
       "ReviewId             \n",
       "1109027           1  \n",
       "1395449           1  \n",
       "472074            1  "
      ]
     },
     "execution_count": 37,
     "metadata": {},
     "output_type": "execute_result"
    }
   ],
   "source": [
    "# Combine the features and target back into a DataFrame\n",
    "sampled_reviews = pd.concat([X_remainder_sample, y_remainder_sample], axis=1)\n",
    "sampled_reviews.head(3)"
   ]
  },
  {
   "cell_type": "code",
   "execution_count": 38,
   "id": "507208a0",
   "metadata": {},
   "outputs": [
    {
     "data": {
      "text/plain": [
       "ReviewId\n",
       "1382477    They forgot to to mention that when your oven is this hot and using this combination of ingredie...\n",
       "2055925    work in progress, A friend of mine made Seafood Gumbo, with out okra. Many different meat items....\n",
       "2018188    The first time I tried this recipe, it was too thin, but I had never made it before so I thought...\n",
       "Name: Review, dtype: object"
      ]
     },
     "execution_count": 38,
     "metadata": {},
     "output_type": "execute_result"
    }
   ],
   "source": [
    "X_train_sample.head(3)"
   ]
  },
  {
   "cell_type": "code",
   "execution_count": 39,
   "id": "56ac3695",
   "metadata": {},
   "outputs": [
    {
     "data": {
      "text/plain": [
       "ReviewId\n",
       "1129184    This was really good. I added a some leftover chicken from another meal and it was a great dinne...\n",
       "1465140    it&#039;s simple and have a good taste.My family like it.I have add almond esensse and eat short...\n",
       "1224704    Very good rice dish. I used fresh pineapple, as I don't think canned has much flavour. My husban...\n",
       "Name: Review, dtype: object"
      ]
     },
     "execution_count": 39,
     "metadata": {},
     "output_type": "execute_result"
    }
   ],
   "source": [
    "X_test_sample.head(3)"
   ]
  },
  {
   "cell_type": "code",
   "execution_count": 40,
   "id": "424a2dc6",
   "metadata": {},
   "outputs": [
    {
     "data": {
      "text/plain": [
       "1    20038\n",
       "0    19962\n",
       "Name: Sentiment, dtype: int64"
      ]
     },
     "execution_count": 40,
     "metadata": {},
     "output_type": "execute_result"
    }
   ],
   "source": [
    "sampled_reviews['Sentiment'].value_counts()\n",
    "# imbalance on the values"
   ]
  },
  {
   "cell_type": "code",
   "execution_count": 41,
   "id": "624995a3",
   "metadata": {},
   "outputs": [],
   "source": [
    "# from imblearn.over_sampling import RandomOverSampler\n",
    "# oversampler = RandomOverSampler(sampling_strategy='auto', random_state=1)\n",
    "\n",
    "# X_train_sample = X_train_sample.to_numpy().reshape(-1, 1)\n",
    "# y_train_sample = y_train_sample.to_numpy().reshape(-1, 1)\n",
    "\n",
    "# X_train_oversampled, y_train_oversampled = oversampler.fit_resample(X_train_sample, y_train_sample)\n"
   ]
  },
  {
   "cell_type": "code",
   "execution_count": 42,
   "id": "8b484a19",
   "metadata": {},
   "outputs": [],
   "source": [
    "# # Convert oversampled data to DataFrames\n",
    "# X_train_oversampled = pd.DataFrame(X_train_oversampled, columns=['Review'])\n",
    "# y_train_oversampled = pd.DataFrame(y_train_oversampled, columns=['Sentiment'])\n",
    "\n",
    "# # Combine the features and target back into a DataFrame\n",
    "# oversampled_reviews = pd.concat([X_train_oversampled, y_train_oversampled], axis=1)\n",
    "# oversampled_reviews.head(3)"
   ]
  },
  {
   "cell_type": "code",
   "execution_count": 43,
   "id": "c1f4fb8f",
   "metadata": {},
   "outputs": [],
   "source": [
    "# oversampled_reviews['Sentiment'].value_counts()"
   ]
  },
  {
   "cell_type": "markdown",
   "id": "56b5e681",
   "metadata": {},
   "source": [
    "This is a lot more balanced!"
   ]
  },
  {
   "cell_type": "code",
   "execution_count": 44,
   "id": "d6ea029c",
   "metadata": {},
   "outputs": [],
   "source": [
    "# type(X_train_oversampled)"
   ]
  },
  {
   "cell_type": "code",
   "execution_count": 45,
   "id": "dee30c16",
   "metadata": {},
   "outputs": [],
   "source": [
    "# type(X_train_sample)"
   ]
  },
  {
   "cell_type": "code",
   "execution_count": 46,
   "id": "8a23b481",
   "metadata": {},
   "outputs": [],
   "source": [
    "# X_train_sample, y_train_sample = oversampler.fit_resample(X_train_sample, y_train_sample)"
   ]
  },
  {
   "cell_type": "code",
   "execution_count": 47,
   "id": "495baa87",
   "metadata": {},
   "outputs": [],
   "source": [
    "# type(X_train_sample)"
   ]
  },
  {
   "cell_type": "code",
   "execution_count": null,
   "id": "99f3a2a9",
   "metadata": {},
   "outputs": [],
   "source": []
  },
  {
   "cell_type": "code",
   "execution_count": 48,
   "id": "ec2abe33",
   "metadata": {},
   "outputs": [],
   "source": [
    "# # Convert oversampled data to DataFrames\n",
    "# X_train_sample = pd.DataFrame(X_train_sample, columns=['Review'])\n",
    "# y_train_sample = pd.DataFrame(y_train_sample, columns=['Sentiment'])\n",
    "\n",
    "# # Combine the features and target back into a DataFrame\n",
    "# sampled_reviews = pd.concat([X_train_sample, y_train_sample], axis=1)\n",
    "# sampled_reviews.head(3)"
   ]
  },
  {
   "cell_type": "code",
   "execution_count": 49,
   "id": "2a8c7e57",
   "metadata": {},
   "outputs": [],
   "source": [
    "# sampled_reviews['Sentiment'].value_counts()"
   ]
  },
  {
   "cell_type": "code",
   "execution_count": 50,
   "id": "803834d0",
   "metadata": {},
   "outputs": [],
   "source": [
    "# print(X_train_sample.dtypes)\n",
    "# print(y_train_sample.dtypes)"
   ]
  },
  {
   "cell_type": "code",
   "execution_count": 51,
   "id": "b9d64dd8",
   "metadata": {},
   "outputs": [],
   "source": [
    "# type(X_train) #I was having problem with the type for some reason\n",
    "# # solved it by using '.astype(str)'"
   ]
  },
  {
   "cell_type": "code",
   "execution_count": 52,
   "id": "d9d2b348",
   "metadata": {},
   "outputs": [
    {
     "name": "stdout",
     "output_type": "stream",
     "text": [
      "(28000, 4716)\n",
      "(10000, 4716)\n"
     ]
    }
   ],
   "source": [
    "from sklearn.feature_extraction.text import CountVectorizer\n",
    "\n",
    "# Initialize CountVectorizer with your tokenizer function\n",
    "bagofwords = CountVectorizer(min_df=5, tokenizer = my_tokenizer)\n",
    "\n",
    "# Fit and transform the training data\n",
    "X_train_sample_transformed = bagofwords.fit_transform(X_train_sample)\n",
    "\n",
    "# Transform the test data using the fitted CountVectorizer\n",
    "X_test_sample_transformed = bagofwords.transform(X_test_sample)\n",
    "\n",
    "# Check the shape of the transformed data\n",
    "print(X_train_sample_transformed.shape)\n",
    "print(X_test_sample_transformed.shape)"
   ]
  },
  {
   "cell_type": "code",
   "execution_count": 53,
   "id": "23015318",
   "metadata": {
    "scrolled": true
   },
   "outputs": [
    {
     "data": {
      "text/plain": [
       "array(['abandon', 'abc', 'abit', ..., 'zuchinni', 'zuri', 'zwt'],\n",
       "      dtype=object)"
      ]
     },
     "execution_count": 53,
     "metadata": {},
     "output_type": "execute_result"
    }
   ],
   "source": [
    "bagofwords.get_feature_names_out()"
   ]
  },
  {
   "cell_type": "code",
   "execution_count": 54,
   "id": "54884eab",
   "metadata": {},
   "outputs": [
    {
     "data": {
      "image/png": "[encoded data removed]",
      "text/plain": [
       "<Figure size 1500x500 with 1 Axes>"
      ]
     },
     "metadata": {},
     "output_type": "display_data"
    }
   ],
   "source": [
    "word_counts = pd.DataFrame(\n",
    "    {\"counts\": X_train_sample_transformed.toarray().sum(axis=0)},\n",
    "    index=bagofwords.get_feature_names_out()\n",
    ").sort_values(\"counts\", ascending=False)\n",
    "\n",
    "word_counts.head(20).plot(kind=\"bar\", figsize=(15, 5), legend=False)\n",
    "plt.title(\"Top 20 most frequently occurring words\")\n",
    "plt.ylabel(\"Count\")\n",
    "plt.xticks(rotation=45)\n",
    "plt.show()"
   ]
  },
  {
   "cell_type": "code",
   "execution_count": 55,
   "id": "9a2e3d23",
   "metadata": {},
   "outputs": [
    {
     "name": "stdout",
     "output_type": "stream",
     "text": [
      "Train score: 0.7960357142857143\n",
      "Test score: 0.7592\n"
     ]
    }
   ],
   "source": [
    "# Fitting a model\n",
    "logreg = LogisticRegression(C = 0.1)\n",
    "logreg.fit(X_train_sample_transformed, y_train_sample)\n",
    "\n",
    "# Training and test score\n",
    "print(f\"Train score: {logreg.score(X_train_sample_transformed, y_train_sample)}\")\n",
    "print(f\"Test score: {logreg.score(X_test_sample_transformed, y_test_sample)}\")"
   ]
  },
  {
   "cell_type": "code",
   "execution_count": 56,
   "id": "a476f9c1",
   "metadata": {},
   "outputs": [
    {
     "data": {
      "image/png": "[encoded data removed]",
      "text/plain": [
       "<Figure size 1500x500 with 1 Axes>"
      ]
     },
     "metadata": {},
     "output_type": "display_data"
    }
   ],
   "source": [
    "word_counts = pd.DataFrame(\n",
    "    {\"coefficients\": logreg.coef_[0]},\n",
    "    index=bagofwords.get_feature_names_out()\n",
    ").sort_values(\"coefficients\", ascending=False)\n",
    "\n",
    "word_counts.head(20).plot(kind=\"bar\", figsize=(15, 5), legend=False)\n",
    "plt.title(\"The 20 highest model coefficients indicating positive sentiment\")\n",
    "plt.ylabel(\"Coefficients\")\n",
    "plt.xticks(rotation=45)\n",
    "plt.show()"
   ]
  },
  {
   "cell_type": "code",
   "execution_count": 57,
   "id": "ab50d521",
   "metadata": {},
   "outputs": [
    {
     "data": {
      "image/png": "[encoded data removed]",
      "text/plain": [
       "<Figure size 1500x500 with 1 Axes>"
      ]
     },
     "metadata": {},
     "output_type": "display_data"
    }
   ],
   "source": [
    "word_counts.sort_values(\"coefficients\", ascending=True).head(20).plot(kind=\"bar\", figsize=(15, 5), legend=False)\n",
    "plt.title(\"The 20 lowest model coefficients indicating negative sentiment\")\n",
    "plt.ylabel(\"Coefficients\")\n",
    "plt.xticks(rotation=45)\n",
    "plt.show()"
   ]
  },
  {
   "cell_type": "code",
   "execution_count": 80,
   "id": "94c132ee",
   "metadata": {},
   "outputs": [
    {
     "name": "stdout",
     "output_type": "stream",
     "text": [
      "{'forgot': 1589, 'mention': 2529, 'oven': 2868, 'thi': 4169, 'hot': 1965, 'use': 4418, 'combin': 807, 'ingredi': 2064, 'smoke': 3745, 'fill': 1500, 'hous': 1971, 'work': 4620, 'progress': 3174, 'friend': 1625, 'mine': 2572, 'made': 2419, 'seafood': 3559, 'gumbo': 1825, 'okra': 2807, 'mani': 2442, 'differ': 1136, 'meat': 2504, 'item': 2112, 'hope': 1955, 'turn': 4331, 'correctli': 902, 'edibl': 1285, 'first': 1517, 'time': 4213, 'tri': 4296, 'recip': 3299, 'wa': 4492, 'thin': 4174, 'never': 2716, 'befor': 322, 'thought': 4186, 'suppos': 4037, 'like': 2333, 'put': 3221, 'top': 4253, 'fridg': 1624, 'rise': 3418, 'cold': 795, 'clear': 757, 'pitcher': 3043, 'could': 910, 'see': 3571, 'happen': 1849, 'insid': 2071, 'surpris': 4044, 'kept': 2192, 'separ': 3590, 'sometim': 3784, 'inch': 2034, 'water': 4519, 'would': 4632, 'sit': 3691, 'stir': 3934, 'back': 252, 'togeth': 4231, 'onli': 2824, 'hour': 1970, 'later': 2264, 'dump': 1251, 'quot': 3245, 'version': 4457, 'talk': 4084, 'night': 2730, 'day': 1039, 'actual': 30, 'creat': 944, 'expect': 1398, 'sticki': 3930, 'dough': 1209, 'want': 4507, 'feed': 1470, 'starter': 3905, 'came': 565, 'get': 1693, 'right': 3410, 'consist': 859, 'add': 33, 'anoth': 145, 'cup': 992, 'half': 1837, 'flour': 1557, 'total': 4265, 'instead': 2077, 'sugar': 4015, 'vinegar': 4471, 'wrong': 4642, 'oz': 2887, 'elbow': 1302, 'easi': 1271, 'make': 2429, 'quickli': 3242, 'chocol': 715, 'syrup': 4068, 'left': 2296, 'milk': 2563, 'gave': 1679, 'veri': 4454, 'pleas': 3056, 'result': 3384, 'ghirardelli': 1697, 'cocoa': 784, 'powder': 3120, 'rich': 3402, 'delici': 1084, 'love': 2391, 'crave': 936, 'comfort': 810, 'food': 1578, 'follow': 1574, 'except': 1389, 'wine': 4590, 'part': 2935, 'ad': 31, 'mushroom': 2670, 'happi': 1850, 'play': 3055, 'around': 187, 'lot': 2387, 'two': 4345, 'tomato': 4239, 'otherwis': 2856, 'dri': 1227, 'virtual': 4477, 'flavor': 1538, 'salt': 3488, 'pepper': 2981, 'italian': 2111, 'season': 3564, 'also': 99, 'famili': 1437, 'agre': 66, 'better': 349, 'mix': 2592, 'chees': 678, 'gnocchi': 1724, 'sprinkl': 3872, 'parmesean': 2931, 'broil': 485, 'give': 1707, 'star': 3900, 'great': 1786, 'omg': 2816, 'smoothi': 3751, 'week': 4537, 'breakfast': 463, 'usual': 4421, 'banana': 274, 'strawberri': 3958, 'frozen': 1638, 'need': 2702, 'ice': 1997, 'packet': 2895, 'equal': 1348, 'nutriti': 2771, 'thank': 4158, 'heavenli': 1890, 'whi': 4558, 'grandmoth': 1768, 'call': 561, 'rock': 3430, 'without': 4602, 'ani': 136, 'bake': 264, 'leaven': 2290, 'bit': 370, 'heavi': 1891, 'yummi': 4688, 'nonetheless': 2740, 'doe': 1190, 'russian': 3468, 'come': 809, 'chop': 722, 'almond': 90, 'nut': 2766, 'drop': 1236, 'spoon': 3862, 'parchment': 2924, 'paper': 2920, 'cooki': 883, 'sheet': 3616, 'think': 4176, 'next': 2724, 'might': 2554, 'leav': 2289, 'cinnamon': 743, 'tast': 4101, 'fruit': 1640, 'bar': 277, 'chunki': 735, 'good': 1736, 'one': 2821, 'cook': 879, 'crockpot': 965, 'year': 4659, 'round': 3447, 'nice': 2726, 'summer': 4022, 'becaus': 312, 'heat': 1886, 'kitchen': 2214, 'winter': 4593, 'home': 1939, 'meal': 2497, 'lack': 2243, 'thing': 4175, 'slice': 3712, 'granni': 1771, 'smith': 3744, 'appl': 167, 'littl': 2358, 'post': 3106, 'word': 4619, 'yuck': 4681, 'ca': 547, 'believ': 332, 'got': 1747, 'review': 3392, 'salti': 3489, 'fake': 1434, 'horribl': 1957, 'tradit': 4279, 'cardamom': 597, 'omit': 2818, 'molass': 2616, 'hard': 1853, 'excel': 1388, 'everyon': 1376, 'marin': 2455, 'chicken': 696, 'moist': 2610, 'chang': 661, 'grill': 1797, 'shell': 3618, 'georg': 1689, 'foreman': 1583, 'butter': 535, 'kid': 2200, 'alreadi': 97, 'ask': 202, 'definit': 1070, 'keeper': 2189, 'host': 1963, 'japanes': 2127, 'dinner': 1149, 'parti': 2936, 'guest': 1818, 'realli': 3287, 'enjoy': 1334, 'daughter': 1036, 'tripl': 4305, 'coupl': 917, 'fri': 1622, 'ahead': 67, 'serv': 3596, 'room': 3435, 'temperatur': 4134, 'leftov': 2297, 'guess': 1817, 'minut': 2581, 'undercook': 4374, 'long': 2375, 'shot': 3642, 'direct': 1152, 'even': 1368, 'let': 2315, 'bread': 457, 'extra': 1411, 'notic': 2753, 'section': 3569, 'complet': 829, 'uncook': 4372, 'almost': 91, 'photograph': 3011, 'tool': 4249, 'check': 673, 'done': 1198, 'trash': 4287, 'enough': 1336, 'say': 3527, 'number': 2761, 'googl': 1740, 'way': 4526, 'problem': 3163, 'recommend': 3305, 'much': 2658, 'vinegari': 4473, 'sauc': 3510, 'gener': 1684, 'whole': 4571, 'freez': 1614, 'rice': 3401, 'cauliflow': 631, 'garlic': 1675, 'cayenn': 638, 'idea': 2004, 'certainli': 651, 'deserv': 1102, 'homemad': 1941, 'suggest': 4017, 'color': 804, 'dress': 1226, 'present': 3143, 'appet': 164, 'pickl': 3018, 'ginger': 1702, 'still': 3932, 'fantast': 1445, 'absolut': 5, 'delish': 1086, 'howev': 1975, 'flat': 1534, 'either': 1299, 'plan': 3049, 'nilla': 2732, 'sorri': 3804, 'twice': 4340, 'probabl': 3162, 'seem': 3574, 'amount': 125, 'consid': 857, 'inexperienc': 2054, 'must': 2672, 'took': 4248, 'luncheon': 2407, 'peopl': 2980, 'scrape': 3551, 'soup': 3810, 'lunch': 2405, 'far': 1446, 'favorit': 1462, 'reduc': 3315, 'fat': 1454, 'cream': 939, 'shock': 3629, 'potato': 3111, 'across': 27, 'incred': 2042, 'easier': 1272, 'best': 345, 'vegan': 4440, 'chip': 709, 'ever': 1372, 'dessert': 1107, 'vanilla': 4431, 'yogurt': 4672, 'raspberri': 3268, 'thick': 4170, 'blend': 385, 'well': 4546, 'blueberri': 403, 'babe': 250, 'wing': 4591, 'dip': 1150, 'texa': 4152, 'tabasco': 4072, 'care': 599, 'dredg': 1224, 'plain': 3048, 'wash': 4514, 'toni': 4245, 'cajun': 555, 'toss': 4262, 'someth': 3783, 'stick': 3928, 'shrimp': 3650, 'eat': 1278, 'look': 2378, 'forward': 1598, 'style': 3987, 'found': 1600, 'tuna': 4325, 'bland': 381, 'salsa': 3487, 'somehow': 3781, 'belong': 337, 'opinion': 2836, 'sub': 3988, 'provolon': 3191, 'swiss': 4064, 'hand': 1844, 'miller': 2566, 'thousand': 4188, 'island': 2107, 'discov': 1163, 'caraway': 590, 'seed': 3572, 'cut': 1007, 'dh': 1122, 'hoagi': 1928, 'bun': 521, 'sauerkraut': 3514, 'wonder': 4609, 'saw': 3525, 'today': 4227, 'show': 3645, 'ten': 4138, 'ago': 65, 'west': 4549, 'southwest': 3817, 'south': 3815, 'new': 2718, 'england': 1330, 'stuf': 3981, 'worthwhil': 4631, 'find': 1506, 'cherri': 685, 'sensat': 3587, 'everi': 1373, 'error': 1353, 'addit': 35, 'second': 3566, 'sweeten': 4058, 'condens': 842, 'portion': 3099, 'crisco': 957, 'biscuit': 367, 'exactli': 1385, 'buy': 545, 'boston': 429, 'bakeri': 266, 'everywher': 1379, 'touch': 4266, 'holiday': 1936, 'feast': 1465, 'hehe': 1896, 'drink': 1229, 'beer': 319, 'corn': 894, 'beef': 317, 'veggi': 4444, 'overwhelm': 2883, 'carrot': 612, 'less': 2311, 'brine': 477, 'cabbag': 548, 'quit': 3244, 'last': 2260, 'rest': 3380, 'unfortun': 4383, 'simpl': 3676, 'drumstick': 1239, 'finish': 1512, 'wow': 4635, 'bottom': 432, 'crust': 979, 'type': 4349, 'golden': 1732, 'red': 3311, 'ye': 4656, 'real': 3283, 'perfect': 2989, 'runni': 3464, 'pleasantli': 3058, 'juici': 2159, 'pie': 3022, 'bag': 259, 'farm': 1448, 'market': 2460, 'wisconsin': 4596, 'camp': 567, 'rememb': 3349, 'heaven': 1889, 'delight': 1085, 'dd': 1040, 'inhal': 2066, 'ha': 1831, 'oatmeal': 2777, 'healthi': 1877, 'fall': 1435, 'scone': 3544, 'went': 4548, 'spici': 3847, 'go': 1725, 'pea': 2964, 'per': 2988, 'photo': 3010, 'broke': 487, 'pasti': 2948, 'reason': 3288, 'sure': 4041, 'fine': 1507, 'overpow': 2882, 'rate': 3269, 'tad': 4076, 'earli': 1266, 'cool': 887, 'tasti': 4106, 'splenda': 3856, 'honey': 1950, 'babi': 251, 'share': 3611, 'pud': 3200, 'troubl': 4307, 'updat': 4407, 'grew': 1794, 'bean': 305, 'bacon': 255, 'broiler': 486, 'hmmm': 1925, 'onion': 2822, 'tsp': 4318, 'pimiento': 3030, 'puff': 3204, 'pastri': 2949, 'glad': 1709, 'may': 2490, 'la': 2239, 'king': 2211, 'includ': 2036, 'quick': 3240, 'bubbl': 500, 'grow': 1809, 'mold': 2617, 'spot': 3864, 'mayb': 2491, 'baker': 265, 'repeatedli': 3358, 'breast': 464, 'stay': 3910, 'low': 2394, 'sodium': 3768, 'broth': 489, 'stock': 3937, 'absorb': 8, 'regular': 3332, 'bunch': 522, 'huge': 1981, 'batch': 297, 'chili': 703, 'els': 1312, 'muffin': 2662, 'cupcak': 994, 'liner': 2342, 'roll': 3431, 'entir': 1342, 'mixtur': 2594, 'size': 3694, 'tray': 4289, 'bite': 371, 'juli': 2162, 'super': 4029, 'southern': 3816, 'tree': 4294, 'alway': 109, 'abund': 9, 'orang': 2842, 'salmon': 3486, 'husband': 1995, 'light': 2329, 'compani': 818, 'futur': 1659, 'tablespoon': 4074, 'minc': 2570, 'dollop': 1194, 'mustard': 2673, 'marinad': 2456, 'textur': 4153, 'tomorrow': 4241, 'overnight': 2880, 'sinc': 3683, 'late': 2263, 'step': 3920, 'wo': 4603, 'gal': 1665, 'appreci': 172, 'tip': 4219, 'soon': 3789, 'request': 3365, 'past': 2945, 'sever': 3602, 'attempt': 218, 'gluten': 1721, 'free': 1613, 'cross': 967, 'finger': 1509, 'yum': 4685, 'typic': 4350, 'man': 2436, 'guy': 1828, 'carri': 611, 'church': 736, 'pot': 3108, 'cakey': 557, 'halfway': 1838, 'cake': 556, 'browni': 494, 'hit': 1923, 'boyfriend': 445, 'hi': 1912, 'bisquick': 369, 'tailgat': 4080, 'realiz': 3286, 'tortilla': 4261, 'layer': 2276, 'enchilada': 1323, 'casserol': 618, 'although': 103, 'liber': 2320, 'know': 2227, 'soggi': 3772, 'burrito': 529, 'averag': 237, 'keep': 2188, 'tweak': 4336, 'mash': 2476, 'press': 3145, 'side': 3657, 'dish': 1168, 'option': 2841, 'dijon': 1142, 'special': 3833, 'cottag': 907, 'cheddar': 674, 'chive': 711, 'mmmmmmm': 2601, 'thanx': 4161, 'bran': 450, 'cereal': 649, 'bud': 504, 'end': 1326, 'stuck': 3978, 'small': 3733, 'soooooo': 3794, 'chocolatey': 716, 'imagin': 2016, 'bigger': 358, 'calori': 562, 'smaller': 3734, 'nutrit': 2770, 'rather': 3270, 'pan': 2911, 'trout': 4308, 'pumpkin': 3211, 'soften': 3770, 'suffici': 4014, 'readi': 3281, 'secondli': 3567, 'instruct': 2079, 'oil': 2802, 'leek': 2294, 'pretti': 3147, 'mean': 2499, 'turnip': 4332, 'confus': 851, 'final': 1505, 'outcom': 2861, 'kind': 2208, 'sesam': 3598, 'us': 4415, 'spinach': 3851, 'wilt': 4584, 'start': 3904, 'place': 3047, 'breezermom': 467, 'uniqu': 4388, 'egg': 1289, 'salad': 3481, 'sour': 3812, 'cumin': 991, 'ta': 4071, 'lettuc': 2317, 'avocado': 239, 'wrap': 4636, 'stew': 3926, 'person': 3000, 'prefer': 3133, 'smell': 3740, 'admit': 39, 'mexican': 2544, 'zwt': 4715, 'fellow': 1475, 'queen': 3234, 'sound': 3809, 'liquid': 2349, 'ketchup': 2194, 'substitut': 3999, 'pure': 3217, 'deep': 1061, 'flavour': 1541, 'meatbal': 2505, 'lb': 2279, 'hubbi': 1979, 'ate': 213, 'full': 1650, 'satisfi': 3507, 'ok': 2805, 'chill': 704, 'fail': 1428, 'glass': 1711, 'stove': 3950, 'shake': 3603, 'unless': 4391, 'mind': 2571, 'ruin': 3459, 'ounc': 2858, 'orient': 2849, 'groceri': 1804, 'store': 3945, 'wish': 4598, 'help': 1902, 'brand': 451, 'name': 2682, 'paid': 2900, 'attent': 220, 'grab': 1754, 'bought': 434, 'fresh': 1619, 'luck': 2400, 'set': 3599, 'solid': 3775, 'anyway': 155, 'vegetarian': 4443, 'black': 374, 'boost': 423, 'refriger': 3324, 'raw': 3275, 'though': 4185, 'threw': 4192, 'cookbook': 881, 'awhil': 247, 'cheeseburg': 679, 'sloppi': 3725, 'joe': 2148, 'supper': 4034, 'spray': 3866, 'coconut': 785, 'lime': 2337, 'warm': 4509, 'temp': 4131, 'replac': 3360, 'cornbread': 895, 'collect': 801, 'note': 2751, 'bundt': 523, 'everyth': 1377, 'sink': 3686, 'awesom': 246, 'sooo': 3791, 'exact': 1384, 'adjust': 38, 'doubl': 1207, 'old': 2809, 'accident': 14, 'read': 3279, 'extract': 1412, 'christma': 732, 'concern': 840, 'decor': 1057, 'frost': 1633, 'away': 244, 'cover': 922, 'aluminum': 108, 'foil': 1571, 'soft': 3769, 'everybodi': 1374, 'piec': 3023, 'brown': 492, 'broccoli': 483, 'floret': 1554, 'pictur': 3021, 'prior': 3158, 'trader': 4278, 'green': 1792, 'ground': 1807, 'granul': 1774, 'toast': 4224, 'medium': 2515, 'peel': 2974, 'eggplant': 1294, 'soak': 3764, 'unusu': 4405, 'tonight': 4246, 'oh': 2799, 'larg': 2256, 'base': 288, 'amp': 126, 'bouillon': 436, 'cube': 984, 'tbl': 4113, 'lemon': 2300, 'juic': 2158, 'strong': 3974, 'order': 2843, 'greek': 1791, 'restaur': 3381, 'bowl': 442, 'often': 2797, 'meh': 2518, 'disappoint': 1159, 'hanker': 1848, 'cute': 1008, 'introduct': 2099, 'method': 2542, 'assembl': 206, 'peach': 2965, 'sweet': 4057, 'halv': 1841, 'moment': 2620, 'pop': 3084, 'mouth': 2647, 'terribl': 4147, 'divid': 1186, 'third': 4179, 'mess': 2538, 'lt': 2398, 'gt': 1812, 'modif': 2608, 'extrem': 1414, 'decent': 1052, 'sore': 3803, 'tb': 4112, 'improv': 2030, 'car': 588, 'school': 3542, 'websit': 4531, 'turkey': 4328, 'peanut': 2967, 'burger': 524, 'especi': 1355, 'tangi': 4091, 'bbq': 301, 'saute': 3518, 'pork': 3093, 'tender': 4140, 'blossom': 398, 'root': 3438, 'anyth': 153, 'titl': 4223, 'matter': 2486, 'treat': 4292, 'consum': 863, 'diet': 1133, 'sliver': 3724, 'fun': 1652, 'fair': 1430, 'walk': 4502, 'spread': 3867, 'beauti': 310, 'creol': 951, 'immedi': 2019, 'ds': 1242, 'lucki': 2401, 'receiv': 3294, 'basket': 294, 'zingi': 4705, 'cornstarch': 900, 'plate': 3053, 'mushi': 2669, 'kick': 2199, 'favourit': 1463, 'element': 1305, 'snack': 3754, 'chorizo': 724, 'sandwich': 3499, 'measur': 2503, 'oliv': 2813, 'regularli': 3333, 'ft': 1645, 'palm': 2907, 'sunday': 4025, 'easter': 1276, 'catherin': 628, 'ny': 2773, 'alon': 92, 'defin': 1066, 'submiss': 3992, 'fabul': 1420, 'oat': 2776, 'cheerio': 677, 'grape': 1776, 'flake': 1527, 'microwav': 2551, 'min': 2569, 'carb': 591, 'u': 4353, 'maintain': 2427, 'shape': 3610, 'throughout': 4195, 'citru': 748, 'felt': 1477, 'decad': 1050, 'pour': 3119, 'squeez': 3880, 'bottl': 431, 'wrote': 4643, 'perfectli': 2990, 'test': 4149, 'dozen': 1214, 'group': 1808, 'six': 3693, 'known': 2229, 'network': 2714, 'winner': 4592, 'easili': 1274, 'overcook': 2873, 'fast': 1452, 'spice': 3845, 'crisp': 958, 'pick': 3015, 'mil': 2558, 'tag': 4077, 'game': 1669, 'dee': 1059, 'arthur': 192, 'dark': 1029, 'dutch': 1258, 'process': 3167, 'run': 3463, 'pack': 2893, 'overli': 2879, 'save': 3520, 'thumb': 4200, 'glaze': 1712, 'whilst': 4559, 'jasmin': 2129, 'thoroughli': 4183, 'crumb': 973, 'meatloaf': 2508, 'smooth': 3749, 'besid': 344, 'tire': 4220, 'morn': 2637, 'angela': 134, 'rel': 3335, 'linguin': 2343, 'spaghetti': 3825, 'walnut': 4505, 'cupboard': 993, 'herb': 1906, 'chevr': 687, 'basil': 293, 'cookiedog': 884, 'caus': 632, 'bitter': 372, 'ador': 45, 'goat': 1726, 'custard': 1005, 'unsweeten': 4403, 'tooth': 4251, 'etc': 1361, 'fourth': 1603, 'jar': 2128, 'cucumb': 985, 'costco': 905, 'sell': 3580, 'hello': 1901, 'biggest': 359, 'issu': 2109, 'solut': 3777, 'correct': 901, 'chemic': 684, 'balanc': 268, 'burn': 526, 'nose': 2749, 'avoid': 240, 'kosher': 2231, 'occas': 2783, 'product': 3170, 'facebook': 1422, 'requir': 3366, 'funki': 1654, 'plu': 3062, 'neck': 2699, 'anymor': 151, 'graini': 1761, 'sugari': 4016, 'flop': 1553, 'film': 1503, 'british': 480, 'chef': 683, 'wok': 4604, 'chines': 708, 'funni': 1655, 'given': 1708, 'along': 93, 'bad': 257, 'beat': 307, 'tell': 4130, 'puerto': 3202, 'rican': 3400, 'said': 3479, 'yield': 4667, 'origin': 2850, 'natur': 2689, 'crumbl': 974, 'thicker': 4172, 'pasta': 2946, 'parmesan': 2930, 'pound': 3118, 'steak': 3912, 'comment': 811, 'vs': 4490, 'anxiou': 148, 'success': 4004, 'someon': 3782, 'function': 1653, 'gobbl': 1727, 'box': 443, 'krispi': 2234, 'local': 2367, 'okay': 2806, 'goe': 1730, 'rib': 3397, 'pb': 2962, 'conveni': 875, 'magazin': 2420, 'straw': 3957, 'adventur': 49, 'eater': 1280, 'freak': 1611, 'mud': 2660, 'dirt': 1154, 'worm': 4624, 'halloween': 1840, 'oreo': 2847, 'plastic': 3052, 'flower': 1560, 'garnish': 1677, 'slow': 3727, 'cooker': 882, 'throw': 4196, 'bewar': 354, 'yet': 4666, 'dog': 1192, 'row': 3450, 'jelli': 2133, 'yellow': 4663, 'soy': 3820, 'organ': 2848, 'starch': 3902, 'thicken': 4171, 'bummer': 519, 'stupid': 3986, 'amaz': 113, 'xo': 4649, 'sage': 3478, 'earthi': 1269, 'credit': 948, 'weekend': 4539, 'miss': 2589, 'receipt': 3293, 'directli': 1153, 'buttermilk': 541, 'roast': 3427, 'proud': 3187, 'gravi': 1783, 'rub': 3454, 'big': 357, 'fan': 1440, 'promis': 3176, 'jalapeno': 2117, 'chimichanga': 706, 'potenti': 3113, 'abl': 3, 'prepar': 3141, 'hate': 1869, 'cost': 903, 'c': 546, 'favor': 1461, 'mojito': 2615, 'club': 772, 'soda': 3767, 'sprite': 3873, 'unexpect': 4380, 'speed': 3839, 'freezer': 1615, 'parm': 2929, 'romano': 3434, 'mozzarella': 2652, 'parsley': 2933, 'pita': 3042, 'pizza': 3045, 'cocktail': 782, 'chilli': 705, 'gorgonzola': 1745, 'saut': 3517, 'thinli': 4177, 'spring': 3870, 'scale': 3530, 'oop': 2832, 'till': 4212, 'sort': 3805, 'souffl': 3807, 'sackvil': 3472, 'odd': 2788, 'gyro': 1830, 'dice': 1130, 'quicker': 3241, 'tastier': 4107, 'kabob': 2172, 'saffron': 3477, 'essenc': 1357, 'view': 4466, 'spanish': 3827, 'artichok': 193, 'heart': 1883, 'melt': 2524, 'boneless': 416, 'skinless': 3703, 'alot': 95, 'twist': 4344, 'lower': 2395, 'mother': 2642, 'impress': 2029, 'pineappl': 3034, 'batter': 299, 'safe': 3475, 'plenti': 3061, 'mesquit': 2537, 'smoki': 3748, 'meant': 2500, 'virginia': 4476, 'inn': 2068, 'tour': 4269, 'copi': 890, 'mountain': 2645, 'lodg': 2370, 'savori': 3523, 'menu': 2530, 'translat': 4283, 'thyme': 4203, 'oregano': 2845, 'coriand': 893, 'allspic': 89, 'depend': 1096, 'upon': 4410, 'pad': 2896, 'thai': 4156, 'cheap': 670, 'mapl': 2447, 'stuff': 3982, 'basic': 292, 'sausag': 3516, 'versatil': 4456, 'money': 2624, 'tight': 4208, 'trick': 4299, 'frequent': 1617, 'yeast': 4661, 'rais': 3255, 'veg': 4439, 'aw': 241, 'mac': 2411, 'ined': 2052, 'wast': 4516, 'expens': 1399, 'salvag': 3492, 'least': 2287, 'onc': 2820, 'specif': 3835, 'gloppi': 1714, 'e': 1261, 'similar': 3673, 'lover': 2392, 'superb': 4030, 'earlier': 1267, 'tbsp': 4115, 'curri': 1004, 'stovetop': 3951, 'wateri': 4521, 'charg': 666, 'provid': 3190, 'mom': 2619, 'thanksgiv': 4159, 'indulg': 2051, 'freshli': 1621, 'whip': 4561, 'mixer': 2593, 'michel': 2549, 'afford': 54, 'berri': 343, 'blackberri': 375, 'el': 1300, 'bet': 347, 'boot': 424, 'surprisingli': 4045, 'geema': 1680, 'wait': 4499, 'inde': 2043, 'skeptic': 3696, 'boil': 409, 'pressur': 3146, 'shred': 3649, 'noodl': 2743, 'import': 2026, 'ripe': 3416, 'loaf': 2364, 'pecan': 2971, 'macadamia': 2412, 'book': 420, 'vacat': 4425, 'sister': 3690, 'gritti': 1802, 'ratio': 3272, 'chestnut': 686, 'crunch': 975, 'file': 1497, 'alittl': 82, 'take': 4081, 'feta': 1481, 'written': 4641, 'truli': 4312, 'close': 765, 'grade': 1756, 'live': 2359, 'mt': 2657, 'incomplet': 2038, 'taco': 4075, 'evenli': 1369, 'kettl': 2195, 'lighter': 2331, 'popcorn': 3085, 'fyi': 1660, 'lastli': 2261, 'beaten': 308, 'soooo': 3792, 'pierogi': 3024, 'dumpl': 1252, 'introduc': 2098, 'usus': 4422, 'suspect': 4050, 'pay': 2961, 'rave': 3273, 'experi': 1400, 'white': 4565, 'wheat': 4553, 'cheaper': 671, 'advantag': 48, 'applesauc': 169, 'dash': 1034, 'nutmeg': 2768, 'afternoon': 58, 'flax': 1544, 'habanero': 1832, 'satur': 3508, 'matzo': 2487, 'ball': 270, 'passov': 2944, 'instanc': 2074, 'ham': 1842, 'eve': 1366, 'worcestershir': 4617, 'frig': 1627, 'california': 560, 'understand': 4377, 'intern': 2092, 'state': 3907, 'desir': 1104, 'rare': 3267, 'rule': 3460, 'worthi': 4630, 'tougher': 4268, 'sear': 3562, 'rush': 3466, 'door': 1202, 'noth': 2752, 'sight': 3661, 'quarter': 3232, 'class': 752, 'abov': 4, 'drain': 1217, 'coland': 793, 'crispi': 960, 'overdon': 2875, 'fact': 1424, 'sooth': 3799, 'slight': 3716, 'grind': 1799, 'pod': 3070, 'point': 3071, 'bring': 478, 'slightli': 3718, 'hint': 1920, 'power': 3121, 'fudg': 1646, 'decreas': 1058, 'shortcak': 3637, 'jam': 2119, 'moosewood': 2635, 'veget': 4442, 'categori': 625, 'cobbler': 781, 'particular': 2938, 'increas': 2041, 'x': 4646, 'thu': 4199, 'strongli': 3976, 'butteri': 540, 'maker': 2430, 'loav': 2365, 'machin': 2416, 'stop': 3943, 'blade': 377, 'transfer': 4282, 'stand': 3896, 'necess': 2696, 'avail': 236, 'improvis': 2031, 'harden': 1854, 'wax': 4524, 'dear': 1045, 'cognac': 790, 'dill': 1144, 'short': 3635, 'prep': 3139, 'sampl': 3495, 'disappear': 1158, 'louisiana': 2390, 'picki': 3016, 'convers': 876, 'ga': 1662, 'mark': 2459, 'sprout': 3875, 'outsid': 2865, 'refresh': 3321, 'mayonnais': 2494, 'tarragon': 4096, 'shower': 3646, 'sad': 3473, 'pint': 3036, 'hotter': 1968, 'altern': 101, 'overflow': 2876, 'disast': 1160, 'dissolv': 1179, 'mush': 2668, 'choc': 712, 'carol': 607, 'bay': 300, 'crush': 978, 'cracker': 929, 'notch': 2750, 'scallop': 3532, 'fish': 1519, 'prmr': 3159, 'pac': 2890, 'mari': 2454, 'pull': 3206, 'crop': 966, 'dollar': 1193, 'tabl': 4073, 'daili': 1018, 'potluck': 3114, 'evapor': 1365, 'teaspoon': 4121, 'mama': 2434, 'kitten': 2216, 'bother': 430, 'drizzl': 1234, 'coat': 779, 'crystal': 981, 'ugli': 4355, 'tend': 4139, 'profession': 3171, 'counti': 914, 'anim': 137, 'sale': 3484, 'sold': 3773, 'son': 3787, 'ingr': 2063, 'filter': 1504, 'shop': 3633, 'pass': 2942, 'fli': 1549, 'dad': 1017, 'pride': 3155, 'face': 1421, 'creation': 945, 'worth': 4629, 'million': 2567, 'couscou': 920, 'chickpea': 697, 'knorr': 2226, 'yr': 4680, 'doubt': 1208, 'longer': 2376, 'marri': 2464, 'choic': 718, 'gotten': 1748, 'pancak': 2912, 'hardli': 1857, 'resembl': 3370, 'execut': 1394, 'weeknight': 4541, 'pair': 2902, 'rosemari': 3440, 'cast': 619, 'iron': 2106, 'skillet': 3699, 'imposs': 2028, 'effect': 1287, 'basmati': 295, 'asparagu': 203, 'spear': 3832, 'rins': 3414, 'pam': 2908, 'colleg': 802, 'page': 2899, 'compon': 833, 'chia': 693, 'magnific': 2422, 'reward': 3394, 'onto': 2826, 'rotisseri': 3445, 'nonfat': 2741, 'tart': 4097, 'simpli': 3679, 'sharon': 3613, 'normal': 2746, 'granola': 1772, 'welcom': 4545, 'variat': 4435, 'swap': 4053, 'kk': 2220, 'apricot': 179, 'fruitcak': 1641, 'due': 1246, 'price': 3153, 'nectar': 2700, 'mango': 2441, 'fewer': 1483, 'perhap': 2993, 'hang': 1847, 'polish': 3078, 'quesadilla': 3235, 'worst': 4627, 'vagu': 4426, 'encount': 1324, 'fryer': 1644, 'seal': 3560, 'chewi': 690, 'guin': 1823, 'simplest': 3678, 'wedg': 4533, 'gummi': 1826, 'lol': 2373, 'cranberri': 933, 'search': 3563, 'convert': 877, 'teriyaki': 4145, 'flavorful': 1539, 'mayo': 2492, 'bath': 298, 'cousin': 921, 'annacia': 140, 'coast': 778, 'oregon': 2846, 'pale': 2904, 'pink': 3035, 'creamier': 942, 'varieti': 4436, 'appeal': 162, 'ultim': 4359, 'main': 2425, 'cours': 919, 'paprika': 2921, 'tho': 4182, 'dare': 1028, 'healthier': 1878, 'stun': 3985, 'pantri': 2917, 'scent': 3539, 'stout': 3949, 'approach': 174, 'head': 1875, 'straight': 3952, 'toaster': 4225, 'move': 2648, 'uncov': 4373, 'newest': 2721, 'zaar': 4697, 'anis': 138, 'biscotti': 366, 'jalepeno': 2118, 'lemonad': 2301, 'lifesav': 2327, 'variant': 4434, 'lent': 2308, 'town': 4273, 'curiou': 1000, 'zest': 4702, 'mini': 2574, 'amaretto': 112, 'tartar': 4098, 'chipotl': 710, 'ran': 3260, 'curdl': 997, 'mahi': 2423, 'fillet': 1502, 'goodi': 1737, 'combo': 808, 'sea': 3558, 'eh': 1297, 'glow': 1719, 'destroy': 1108, 'feel': 1472, 'yummmm': 4691, 'decid': 1053, 'advic': 51, 'balsam': 271, 'cilantro': 740, 'scare': 3536, 'dream': 1222, 'allow': 87, 'spong': 3860, 'knead': 2221, 'develop': 1116, 'form': 1592, 'open': 2834, 'ensur': 1337, 'proper': 3180, 'fulli': 1651, 'colbi': 794, 'die': 1132, 'alton': 106, 'ya': 4651, 'told': 4233, 'motiv': 2643, 'birthday': 365, 'none': 2739, 'ala': 75, 'lick': 2322, 'kidney': 2202, 'splash': 3855, 'remind': 3350, 'minu': 2580, 'fragranc': 1605, 'loos': 2380, 'particularli': 2939, 'hair': 1836, 'clean': 754, 'lavend': 2272, 'essenti': 1358, 'receip': 3292, 'genuin': 1688, 'soo': 3788, 'infact': 2056, 'yo': 4669, 'boy': 444, 'site': 3692, 'pillsburi': 3028, 'steam': 3914, 'pepperoni': 2987, 'bell': 334, 'shoot': 3632, 'shoulder': 3643, 'spelt': 3841, 'noon': 2744, 'packag': 2894, 'factor': 1425, 'cuisinart': 987, 'interest': 2089, 'episod': 1347, 'imag': 2015, 'aroma': 185, 'scrumptiou': 3556, 'bird': 364, 'loosen': 2381, 'skin': 3702, 'reach': 3277, 'skip': 3704, 'sift': 3659, 'fluffi': 1563, 'poster': 3107, 'soap': 3765, 'grate': 1780, 'pamper': 2910, 'grater': 1781, 'coffe': 788, 'grinder': 1800, 'load': 2363, 'laundri': 2269, 'deterg': 1111, 'hesit': 1910, 'sarah': 3503, 'outstand': 2866, 'excit': 1392, 'highli': 1919, 'flavorless': 1540, 'continu': 869, 'sat': 3505, 'spit': 3853, 'nearli': 2693, 'altogeth': 105, 'metric': 2543, 'list': 2353, 'ml': 2596, 'gram': 1762, 'four': 1602, 'mile': 2562, 'world': 4623, 'describ': 1099, 'achiev': 24, 'kielbasa': 2203, 'yay': 4655, 'easiest': 1273, 'busi': 532, 'ravioli': 3274, 'friendli': 1626, 'temper': 4133, 'shine': 3625, 'button': 544, 'insur': 2081, 'qualiti': 3229, 'snap': 3755, 'truffl': 4311, 'trinidad': 4303, 'ganach': 1670, 'grain': 1760, 'leg': 2298, 'girl': 1705, 'transport': 4286, 'si': 3654, 'remov': 3353, 'cat': 622, 'brave': 455, 'proceed': 3166, 'wise': 4597, 'vari': 4433, 'region': 3329, 'german': 1691, 'stone': 3940, 'authent': 231, 'kale': 2175, 'suit': 4018, 'hurt': 1994, 'dens': 1091, 'blah': 378, 'high': 1916, 'altitud': 104, 'level': 2318, 'life': 2326, 'slide': 3715, 'everyday': 1375, 'crock': 963, 'burnt': 528, 'overal': 2870, 'reserv': 3371, 'instant': 2075, 'bulb': 512, 'lost': 2386, 'mozarella': 2650, 'quart': 3231, 'lid': 2323, 'bone': 415, 'garbag': 1672, 'lab': 2240, 'scallion': 3531, 'chile': 702, 'eaten': 1279, 'yesterday': 4665, 'basi': 291, 'thrown': 4197, 'rotat': 3441, 'beet': 320, 'stain': 3892, 'chunk': 734, 'blender': 386, 'zip': 4707, 'lock': 2369, 'mildli': 2561, 'puls': 3208, 'processor': 3168, 'somewher': 3786, 'current': 1003, 'opportun': 2837, 'devour': 1120, 'rita': 3422, 'drinkabl': 1230, 'serious': 3594, 'advis': 52, 'oj': 2804, 'thru': 4198, 'plant': 3050, 'rid': 3406, 'sop': 3800, 'heard': 1882, 'bourbon': 439, 'compar': 820, 'disgust': 1167, 'rude': 3458, 'flaki': 1528, 'break': 462, 'apart': 158, 'slightest': 3717, 'tini': 4216, 'tongu': 4244, 'fatten': 1456, 'anyon': 152, 'ale': 78, 'pilaf': 3026, 'skim': 3700, 'syrupi': 4069, 'gone': 1734, 'broken': 488, 'smear': 3739, 'adult': 46, 'possibl': 3105, 'quantiti': 3230, 'breadcrumb': 458, 'three': 4191, 'delay': 1078, 'smokey': 3747, 'win': 4587, 'kittenc': 2217, 'marriag': 2465, 'english': 1331, 'kate': 2181, 'mum': 2666, 'candi': 576, 'eas': 1270, 'februari': 1468, 'hey': 1911, 'block': 393, 'patti': 2958, 'pat': 2950, 'scoop': 3545, 'rainbow': 3253, 'electr': 1303, 'beater': 309, 'solidifi': 3776, 'fork': 1591, 'yummm': 4690, 'saturday': 3509, 'demolish': 1089, 'addict': 34, 'match': 2484, 'crowd': 970, 'pleaser': 3059, 'wooden': 4614, 'prevent': 3150, 'panko': 2915, 'watch': 4517, 'sensit': 3588, 'spent': 3844, 'armi': 184, 'retir': 3386, 'seven': 3601, 'bliss': 391, 'tx': 4346, 'travel': 4288, 'cole': 796, 'slaw': 3710, 'north': 2747, 'carolina': 609, 'tater': 4109, 'mostli': 2641, 'germani': 1692, 'fix': 1523, 'labor': 2242, 'god': 1728, 'bless': 387, 'recent': 3295, 'studi': 3980, 'publish': 3196, 'emerg': 1317, 'diseas': 1165, 'kill': 2204, 'bacteria': 256, 'contain': 865, 'alcohol': 77, 'trace': 4276, 'attract': 222, 'poultri': 3117, 'eye': 1416, 'determin': 1112, 'heavili': 1893, 'five': 1522, 'fluff': 1562, 'lightli': 2332, 'tricki': 4300, 'failur': 1429, 'worri': 4625, 'jeff': 2131, 'marbl': 2449, 'rye': 3471, 'squar': 3878, 'garlicki': 1676, 'defint': 1072, 'spin': 3850, 'simplic': 3680, 'flatten': 1536, 'bed': 316, 'young': 4677, 'procedur': 3165, 'fondu': 1576, 'celeri': 642, 'soymilk': 3821, 'obvious': 2782, 'creami': 941, 'ricotta': 3405, 'decis': 1054, 'reccommend': 3291, 'cutter': 1011, 'handl': 1846, 'greasi': 1785, 'august': 225, 'month': 2629, 'anniversari': 142, 'brought': 491, 'rose': 3439, 'bore': 426, 'garam': 1671, 'masala': 2474, 'indian': 2046, 'assur': 212, 'digest': 1141, 'richer': 3404, 'advanc': 47, 'ranch': 3261, 'brilliant': 475, 'individu': 2049, 'complement': 828, 'savouri': 3524, 'gouda': 1749, 'monterey': 2627, 'jack': 2115, 'martha': 2469, 'roommat': 3436, 'stem': 3919, 'prettier': 3148, 'hawaii': 1872, 'bright': 473, 'restur': 3383, 'sadli': 3474, 'ideal': 2005, 'hmm': 1924, 'pine': 3033, 'sharp': 3614, 'dian': 1128, 'scorch': 3546, 'middl': 2552, 'http': 1977, 'icecream': 1999, 'repeat': 3357, 'orlean': 2852, 'cowork': 924, 'froze': 1637, 'print': 3157, 'buffet': 508, 'variou': 4437, 'pretzel': 3149, 'standbi': 3898, 'weekli': 4540, 'scotch': 3548, 'teeth': 4129, 'gift': 1699, 'recipi': 3302, 'visit': 4479, 'brandi': 452, 'margarin': 2452, 'ship': 3627, 'liver': 2361, 'spoil': 3859, 'crazi': 938, 'ourselv': 2859, 'common': 814, 'toxic': 4274, 'nobodi': 2737, 'remain': 3344, 'nowher': 2757, 'health': 1876, 'memori': 2527, 'equival': 1350, 'intend': 2085, 'waffl': 4497, 'mistakenli': 2591, 'label': 2241, 'sickli': 3656, 'econom': 1281, 'nasti': 2686, 'im': 2014, 'jimmi': 2144, 'dean': 1044, 'tin': 4215, 'groovi': 1805, 'edg': 1284, 'festiv': 1480, 'incorpor': 2039, 'rhubarb': 3396, 'horseradish': 1961, 'bonu': 419, 'gorgeou': 1744, 'gon': 1733, 'na': 2677, 'hr': 1976, 'zucchini': 4712, 'capsicum': 587, 'mesh': 2536, 'properli': 3181, 'manag': 2437, 'sooooo': 3793, 'knock': 2225, 'french': 1616, 'hummu': 1986, 'contribut': 872, 'dust': 1257, 'sunk': 4028, 'quich': 3239, 'bulk': 514, 'plum': 3063, 'recipezaar': 3301, 'member': 2526, 'choke': 719, 'teenag': 4127, 'term': 4146, 'subtl': 4000, 'forev': 1585, 'gem': 1683, 'reckon': 3303, 'hood': 1952, 'barbi': 281, 'embarrass': 1316, 'cheesecak': 680, 'shame': 3608, 'colombian': 803, 'spell': 3840, 'woohoo': 4615, 'tea': 4116, 'pepperidg': 2984, 'irish': 2105, 'behalf': 328, 'zesti': 4703, 'cal': 558, 'posit': 3104, 'neg': 2704, 'sigh': 3660, 'sincer': 3684, 'fell': 1474, 'liter': 2356, 'split': 3857, 'corner': 896, 'unlik': 4392, 'seen': 3575, 'foam': 1568, 'sun': 4024, 'catalina': 623, 'laude': 2267, 'confection': 847, 'weigh': 4542, 'via': 4462, 'taken': 4082, 'write': 4639, 'spill': 3849, 'involv': 2103, 'nightmar': 2731, 'occass': 2785, 'figur': 1495, 'cider': 739, 'macaroni': 2413, 'alzheim': 110, 'attach': 216, 'n': 2676, 'shorten': 3639, 'cuz': 1012, 'amazingli': 114, 'tastey': 4105, 'alfredo': 79, 'mild': 2559, 'reflect': 3320, 'protein': 3186, 'sweeter': 4059, 'stevia': 3925, 'afterward': 60, 'becam': 311, 'difficult': 1137, 'moistur': 2614, 'accordingli': 19, 'classic': 753, 'hold': 1933, 'veal': 4438, 'parsnip': 2934, 'agav': 61, 'accur': 21, 'nail': 2680, 'leaf': 2281, 'imo': 2022, 'ton': 4242, 'mexico': 2545, 'tasteless': 4103, 'effort': 1288, 'meld': 2520, 'tom': 4237, 'beyond': 355, 'crest': 954, 'whiten': 4566, 'capabl': 584, 'alright': 98, 'didnt': 1131, 'scrambl': 3549, 'complain': 826, 'til': 4210, 'children': 701, 'susi': 4049, 'mizznezz': 2595, 'coleslaw': 797, 'nervou': 2711, 'adopte': 44, 'singl': 3685, 'hide': 1915, 'father': 1455, 'picnic': 3019, 'harm': 1860, 'benefit': 341, 'attribut': 223, 'gain': 1664, 'dome': 1195, 'raisin': 3256, 'squash': 3879, 'smallest': 3735, 'crab': 926, 'themselv': 4165, 'rubi': 3457, 'thinner': 4178, 'crunchier': 977, 'extraordinari': 1413, 'sign': 3662, 'warn': 4512, 'choos': 721, 'mood': 2632, 'reheat': 3334, 'annual': 144, 'trip': 4304, 'dang': 1024, 'platter': 3054, 'caramel': 589, 'ooz': 2833, 'previou': 3151, 'kernel': 2193, 'fit': 1521, 'popper': 3087, 'true': 4309, 'mommi': 2622, 'margarita': 2453, 'rim': 3411, 'spritz': 3874, 'practic': 3122, 'crunchi': 976, 'american': 120, 'explain': 1404, 'blood': 396, 'necessari': 2697, 'degre': 1076, 'weird': 4544, 'bump': 520, 'job': 2147, 'goopi': 1743, 'whether': 4556, 'intrigu': 2096, 'twin': 4341, 'aspect': 205, 'moder': 2606, 'blt': 401, 'avacado': 235, 'glob': 1713, 'spend': 3842, 'buck': 501, 'elimin': 1308, 'greas': 1784, 'diner': 1148, 'stapl': 3899, 'faster': 1453, 'stress': 3963, 'lesser': 2313, 'risk': 3420, 'born': 427, 'ill': 2012, 'bok': 411, 'choy': 729, 'rum': 3461, 'tempt': 4135, 'resist': 3374, 'forc': 1582, 'refer': 3318, 'april': 180, 'speak': 3831, 'lamb': 2251, 'simmer': 3675, 'fault': 1458, 'prosciutto': 3183, 'boomett': 421, 'mmmm': 2598, 'shroom': 3652, 'oyster': 2886, 'shiitak': 3624, 'deliv': 1087, 'lynn': 2410, 'loin': 2372, 'tblsp': 4114, 'slit': 3723, 'length': 2305, 'ive': 2113, 'susan': 4047, 'deal': 1043, 'offic': 2794, 'scratch': 3552, 'terrif': 4148, 'ww': 4645, 'canadian': 572, 'toddler': 4228, 'grandson': 1770, 'butternut': 542, 'rind': 3412, 'struggl': 3977, 'autumn': 234, 'cotton': 908, 'sil': 3666, 'airi': 71, 'lazi': 2277, 'knife': 2224, 'gingerbread': 1703, 'mandolin': 2440, 'slicer': 3713, 'whenev': 4554, 'b': 249, 'crack': 928, 'lite': 2355, 'pear': 2968, 'leeri': 2295, 'hidden': 1914, 'marshmallow': 2467, 'creme': 950, 'ooey': 2828, 'gooey': 1738, 'tzatziki': 4352, 'richard': 3403, 'highest': 1918, 'cookout': 886, 'chose': 725, 'van': 4430, 'de': 1041, 'buddi': 505, 'dg': 1121, 'lasagna': 2259, 'charm': 668, 'merlot': 2534, 'amt': 127, 'lentil': 2309, 'hershey': 1909, 'eleg': 1304, 'teen': 4126, 'cornmeal': 899, 'denser': 1092, 'compliment': 832, 'dure': 1256, 'inez': 2055, 'venison': 4451, 'bf': 356, 'chow': 727, 'hound': 1969, 'team': 4119, 'poach': 3067, 'pesto': 3002, 'penn': 2978, 'roxygirl': 3451, 'wasnt': 4515, 'isnt': 2108, 'darn': 1033, 'unpleas': 4395, 'rescu': 3368, 'flip': 1550, 'assort': 210, 'onlin': 2825, 'accent': 10, 'wild': 4581, 'becom': 314, 'popular': 3090, 'gourmet': 1751, 'sydney': 4067, 'mike': 2556, 'cafe': 553, 'kinda': 2209, 'pa': 2889, 'crescent': 953, 'jerk': 2137, 'creativ': 946, 'entri': 1344, 'franc': 1608, 'hock': 1929, 'immens': 2020, 'oddli': 2789, 'sens': 3586, 'fear': 1464, 'clove': 771, 'relish': 3342, 'tapioca': 4094, 'cleanup': 756, 'expand': 1397, 'hospit': 1962, 'farmer': 1449, 'purpl': 3218, 'nurs': 2764, 'di': 1123, 'delet': 1081, 'zuri': 4714, 'furthermor': 1656, 'smile': 3743, 'report': 3363, 'approv': 176, 'techniqu': 4123, 'hearti': 1884, 'weather': 4529, 'hamburg': 1843, 'helper': 1903, 'macintosh': 2417, 'cheesi': 682, 'yard': 4654, 'fritter': 1631, 'weight': 4543, 'heap': 1880, 'flaxse': 1545, 'monday': 2623, 'miracl': 2582, 'boat': 405, 'catch': 624, 'spicier': 3848, 'modifi': 2609, 'gf': 1694, 'spectacular': 3838, 'celiac': 643, 'household': 1972, 'tough': 4267, 'tang': 4090, 'btw': 499, 'st': 3886, 'loui': 2389, 'canada': 571, 'specifi': 3836, 'toothpick': 4252, 'dont': 1200, 'blue': 402, 'bare': 282, 'swallow': 4052, 'clarifi': 751, 'detail': 1109, 'poke': 3074, 'pare': 2925, 'kudo': 2235, 'metal': 2541, 'sourdough': 3814, 'breadstick': 461, 'neighbor': 2706, 'jersey': 2138, 'chuck': 733, 'stale': 3894, 'qt': 3225, 'asid': 201, 'drip': 1232, 'wet': 4550, 'larger': 2257, 'med': 2510, 'circular': 745, 'pattern': 2957, 'ina': 2032, 'towel': 4272, 'line': 2341, 'suitabl': 4019, 'cloth': 768, 'silki': 3669, 'revers': 3391, 'crouton': 969, 'childhood': 700, 'preserv': 3144, 'background': 253, 'lil': 2334, 'asian': 200, 'lipton': 2347, 'confect': 846, 'blondi': 395, 'doughi': 1210, 'kitchenaid': 2215, 'footbal': 1581, 'allerg': 84, 'portugues': 3103, 'mmm': 2597, 'invit': 2102, 'colleagu': 800, 'insist': 2072, 'held': 1898, 'secret': 3568, 'garden': 1674, 'reduct': 3316, 'feedback': 1471, 'user': 4420, 'commit': 813, 'annoy': 143, 'forgiv': 1588, 'doctor': 1189, 'clog': 763, 'delect': 1080, 'fruiti': 1642, 'wife': 4579, 'parfait': 2927, 'abc': 1, 'elev': 1307, 'spare': 3828, 'uncl': 4370, 'bill': 360, 'intent': 2088, 'mucho': 2659, 'perfecto': 2991, 'yea': 4657, 'skewer': 3697, 'sin': 3682, 'tee': 4125, 'anyhow': 150, 'disintegr': 1170, 'bleu': 388, 'holi': 1935, 'anchovi': 130, 'canning': 580, 'worchestershir': 4618, 'john': 2149, 'hero': 1907, 'kahlua': 2173, 'butterbal': 536, 'mocha': 2604, 'beverag': 352, 'liqueur': 2348, 'kelbel': 2190, 'marshmellow': 2468, 'fav': 1459, 'retain': 3385, 'congrat': 853, 'featur': 1466, 'homepag': 1942, 'preheat': 3136, 'dana': 1021, 'celebr': 641, 'semisweet': 3583, 'wire': 4595, 'rack': 3249, 'vanish': 4432, 'knew': 2223, 'vital': 4482, 'inform': 2059, 'graham': 1759, 'mistak': 2590, 'mislead': 2585, 'send': 3584, 'energi': 1329, 'pray': 3126, 'human': 1983, 'preciou': 3129, 'bend': 340, 'fold': 1572, 'asap': 197, 'march': 2450, 'latter': 2266, 'yummylici': 4695, 'letter': 2316, 'experienc': 1401, 'lemoni': 2303, 'jello': 2134, 'huh': 1982, 'fed': 1469, 'puppi': 3214, 'allergi': 85, 'donut': 1201, 'hockey': 1930, 'puck': 3198, 'alter': 100, 'dab': 1016, 'blob': 392, 'unit': 4389, 'wafer': 4496, 'link': 2345, 'allrecip': 88, 'unnecessari': 4393, 'card': 596, 'wipe': 4594, 'research': 3369, 'thrill': 4193, 'standard': 3897, 'reciev': 3298, 'perman': 2996, 'child': 699, 'diabet': 1124, 'honestli': 1949, 'barbecu': 279, 'learn': 2286, 'previous': 3152, 'refin': 3319, 'random': 3262, 'rachel': 3248, 'unruli': 4398, 'influenc': 2057, 'mate': 2485, 'simpler': 3677, 'question': 3238, 'web': 4530, 'jo': 2145, 'poorli': 3083, 'tilapia': 4211, 'snapper': 3756, 'brush': 497, 'concoct': 841, 'york': 4675, 'pinch': 3032, 'near': 2692, 'whatsoev': 4552, 'clue': 773, 'manicotti': 2443, 'gr': 1753, 'guacamol': 1814, 'vodka': 4484, 'hawaiian': 1873, 'thigh': 4173, 'canola': 581, 'declar': 1056, 'sm': 3731, 'bragg': 446, 'amino': 122, 'acid': 25, 'siracha': 3688, 'voila': 4485, 'mussel': 2671, 'pars': 2932, 'crusti': 980, 'shortbread': 3636, 'multipl': 2664, 'fiber': 1487, 'date': 1035, 'count': 912, 'dancer': 1023, 'dye': 1260, 'began': 325, 'supermarket': 4033, 'fulfil': 1649, 'jiffi': 2142, 'fil': 1496, 'saltin': 3491, 'aftertast': 59, 'opt': 2840, 'shall': 3605, 'devil': 1118, 'yolk': 4673, 'hellman': 1900, 'mccormick': 2495, 'provenc': 3189, 'turmer': 4330, 'moisten': 2611, 'caviti': 636, 'space': 3822, 'maximum': 2489, 'air': 70, 'cancer': 575, 'teeni': 4128, 'nevertheless': 2717, 'neither': 2709, 'compet': 824, 'contest': 868, 'compot': 834, 'excess': 1390, 'nutti': 2772, 'awe': 245, 'cookin': 885, 'afraid': 55, 'sandi': 3498, 'heck': 1894, 'soba': 3766, 'cheat': 672, 'strip': 3971, 'phase': 3005, 'somewhat': 3785, 'whatev': 4551, 'burst': 530, 'desert': 1101, 'drown': 1237, 'condiment': 843, 'shepherd': 3619, 'age': 62, 'delic': 1083, 'weak': 4527, 'gallon': 1668, 'breath': 465, 'case': 616, 'bergi': 342, 'donna': 1199, 'soupi': 3811, 'resort': 3376, 'unbeliev': 4368, 'rotel': 3442, 'quadrupl': 3226, 'pungent': 3213, 'paula': 2959, 'steep': 3917, 'habit': 1833, 'vet': 4460, 'tummi': 4324, 'recipe': 3300, 'alongsid': 94, 'ribey': 3399, 'inspir': 2073, 'restrict': 3382, 'omiss': 2817, 'join': 2150, 'clam': 750, 'ukrainian': 4358, 'velvet': 4448, 'bodi': 408, 'counter': 913, 'shallot': 3606, 'dous': 1212, 'chardonnay': 665, 'mellow': 2522, 'pepperoncini': 2986, 'sand': 3497, 'settl': 3600, 'ps': 3193, 'silicon': 3667, 'apolog': 159, 'creator': 947, 'yumm': 4686, 'confid': 849, 'envelop': 1345, 'sue': 4009, 'mask': 2478, 'ghiradelli': 1696, 'espresso': 1356, 'overwhelmingli': 2884, 'cayann': 637, 'tastebud': 4102, 'kato': 2184, 'challeng': 658, 'tweek': 4337, 'carob': 606, 'hook': 1953, 'author': 232, 'assum': 211, 'reader': 3280, 'tvp': 4334, 'bullion': 516, 'plump': 3064, 'discuss': 1164, 'initi': 2067, 'appear': 163, 'thx': 4202, 'flatbread': 1535, 'chocolati': 717, 'clump': 774, 'accommod': 15, 'period': 2994, 'aunt': 226, 'log': 2371, 'app': 160, 'alarm': 76, 'pit': 3041, 'admittedli': 40, 'discard': 1161, 'marjoram': 2458, 'fanat': 1441, 'lo': 2362, 'mein': 2519, 'san': 3496, 'breez': 466, 'technic': 4122, 'glue': 1720, 'manual': 2445, 'releas': 3338, 'arriv': 189, 'brussel': 498, 'id': 2002, 'poison': 3073, 'cob': 780, 'sherri': 3621, 'saucepan': 3511, 'submerg': 3991, 'commonli': 815, 'cutlet': 1010, 'arrowroot': 190, 'picant': 3014, 'mace': 2415, 'harsh': 1863, 'sweetner': 4061, 'hazelnut': 1874, 'januari': 2125, 'kfc': 2197, 'oili': 2803, 'trifl': 4301, 'major': 2428, 'accuraci': 22, 'bloodi': 397, 'indic': 2048, 'extend': 1409, 'momma': 2621, 'valley': 4428, 'brim': 476, 'sangria': 3500, 'sec': 3565, 'jug': 2157, 'charmi': 669, 'attest': 221, 'mimi': 2568, 'brighten': 474, 'descript': 1100, 'smart': 3737, 'coars': 777, 'cant': 582, 'brother': 490, 'fight': 1494, 'blow': 399, 'puddl': 3201, 'snow': 3761, 'snowbal': 3762, 'emeril': 1318, 'definitli': 1071, 'spicey': 3846, 'accord': 18, 'malt': 2433, 'chutney': 737, 'papaya': 2919, 'suffer': 4012, 'yep': 4664, 'kiss': 2212, 'mint': 2578, 'center': 646, 'reccomend': 3290, 'lowest': 2396, 'buffalo': 507, 'endless': 1328, 'milder': 2560, 'accid': 13, 'distribut': 1182, 'elli': 1310, 'detect': 1110, 'clone': 764, 'jump': 2166, 'mcdonald': 2496, 'wendi': 4547, 'frosti': 1634, 'hostess': 1964, 'twinki': 4342, 'famou': 1439, 'copycat': 891, 'wednesday': 4534, 'bucket': 502, 'within': 4601, 'max': 2488, 'latk': 2265, 'marinara': 2457, 'angel': 133, 'versitil': 4458, 'permeat': 2997, 'barbequ': 280, 'butterfli': 539, 'surfac': 4042, 'area': 181, 'eggless': 1292, 'sunflow': 4027, 'bagel': 260, 'poppi': 3088, 'fragrant': 1606, 'contrast': 871, 'grandma': 1767, 'recal': 3289, 'smother': 3753, 'gather': 1678, 'cornflour': 898, 'nz': 2774, 'cycl': 1013, 'key': 2196, 'elast': 1301, 'seitan': 3577, 'repli': 3361, 'andi': 131, 'valentin': 4427, 'friday': 1623, 'revis': 3393, 'sauci': 3512, 'ramen': 3259, 'g': 1661, 'cholesterol': 720, 'approx': 177, 'fianc': 1485, 'pool': 3081, 'bestest': 346, 'silli': 3670, 'whisk': 4563, 'accompani': 16, 'waaaay': 4494, 'montreal': 2631, 'ridicul': 3408, 'pre': 3127, 'saltier': 3490, 'gross': 1806, 'chew': 688, 'toffe': 4229, 'appar': 161, 'seriou': 3593, 'unclear': 4371, 'explod': 1405, 'laid': 2248, 'wrapper': 4637, 'critic': 962, 'potent': 3112, 'slap': 3707, 'cuisin': 986, 'hater': 1870, 'beach': 304, 'meanwhil': 2502, 'temptat': 4136, 'cod': 786, 'wee': 4535, 'inclin': 2035, 'unhealthi': 4386, 'divin': 1187, 'doughnut': 1211, 'hole': 1934, 'bum': 518, 'kiddo': 2201, 'bruschetta': 496, 'mandarin': 2438, 'tightli': 4209, 'occasion': 2784, 'fresher': 1620, 'anticip': 147, 'net': 2713, 'blanch': 380, 'gosh': 1746, 'toward': 4271, 'swedish': 4056, 'content': 867, 'tot': 4264, 'tortellini': 4260, 'purchas': 3216, 'zing': 4704, 'weekday': 4538, 'duck': 1243, 'empti': 1321, 'harder': 1855, 'flexibl': 1548, 'boiler': 410, 'artifici': 195, 'tinker': 4217, 'bittersweet': 373, 'chedder': 675, 'killer': 2205, 'spud': 3877, 'offer': 2793, 'justic': 2169, 'hurri': 1993, 'begin': 326, 'persian': 2998, 'impart': 2024, 'self': 3579, 'appi': 166, 'superbowl': 4031, 'l': 2238, 'thouroughli': 4187, 'men': 2528, 'non': 2738, 'indiana': 2047, 'al': 74, 'baguett': 262, 'whizz': 4568, 'fennel': 1478, 'magic': 2421, 'reread': 3367, 'virgin': 4475, 'nation': 2687, 'octob': 2787, 'drastic': 1219, 'tish': 4221, 'string': 3969, 'commerci': 812, 'wound': 4634, 'cashew': 617, 'spam': 3826, 'core': 892, 'f': 1418, 'bast': 296, 'kitz': 2218, 'renam': 3354, 'muenster': 2661, 'ann': 139, 'target': 4095, 'appetit': 165, 'sooooooo': 3795, 'rival': 3424, 'event': 1370, 'stabil': 3888, 'gelatin': 1682, 'eacut': 1262, 'limit': 2339, 'crepe': 952, 'watermelon': 4522, 'girlfriend': 1706, 'strictli': 3967, 'offici': 2795, 'filler': 1501, 'homini': 1945, 'articl': 194, 'sourc': 3813, 'tonit': 4247, 'partial': 2937, 'trim': 4302, 'meati': 2506, 'treatment': 4293, 'despit': 1106, 'paddi': 2897, 'taught': 4111, 'panera': 2913, 'smoother': 3750, 'cuke': 988, 'vege': 4441, 'daniel': 1026, 'gm': 1723, 'spaetzl': 3823, 'commun': 816, 'spagetti': 3824, 'greatli': 1789, 'germ': 1690, 'explor': 1406, 'chanc': 660, 'youngest': 4679, 'marmalad': 2461, 'liquidi': 2350, 'folk': 1573, 'sent': 3589, 'oppos': 2838, 'butterscotch': 543, 'firm': 1515, 'fave': 1460, 'partner': 2941, 'evoo': 1382, 'boullion': 437, 'immers': 2021, 'yorkshir': 4676, 'alphabet': 96, 'fatti': 1457, 'puf': 3203, 'popey': 3086, 'def': 1064, 'london': 2374, 'prawn': 3125, 'whiz': 4567, 'beginn': 327, 'judg': 2155, 'regard': 3327, 'havent': 1871, 'courgett': 918, 'wide': 4577, 'assign': 207, 'caper': 585, 'threaten': 4190, 'thaw': 4162, 'unprocess': 4396, 'defrost': 1073, 'parad': 2922, 'choclat': 713, 'subway': 4001, 'frittata': 1630, 'sundri': 4026, 'pomegran': 3080, 'shoe': 3630, 'leather': 2288, 'deer': 1063, 'beefi': 318, 'fragil': 1604, 'dulc': 1249, 'lech': 2291, 'nestl': 2712, 'advers': 50, 'swirl': 4063, 'typo': 4351, 'mad': 2418, 'squirrel': 3881, 'signific': 3664, 'doesnt': 1191, 'parent': 2926, 'complic': 831, 'teacher': 4118, 'nativ': 2688, 'accomplish': 17, 'suppli': 4035, 'drool': 1235, 'produc': 3169, 'certain': 650, 'adapt': 32, 'fuss': 1657, 'tempeh': 4132, 'harissa': 1859, 'ntild': 2758, 'bravo': 456, 'pralin': 3124, 'video': 4465, 'respond': 3378, 'puzzl': 3222, 'curios': 999, 'drive': 1233, 'souvlaki': 3819, 'greatest': 1788, 'entre': 1343, 'champagn': 659, 'vinaigrett': 4468, 'bechamel': 313, 'imit': 2018, 'buttercream': 537, 'enhanc': 1333, 'dimens': 1146, 'proport': 3182, 'qualifi': 3228, 'substitu': 3998, 'loss': 2385, 'ritz': 3423, 'starv': 3906, 'burner': 527, 'epic': 1346, 'nephew': 2710, 'graduat': 1758, 'anybodi': 149, 'niec': 2729, 'ambrosia': 117, 'fluffier': 1564, 'internet': 2093, 'lili': 2335, 'wood': 4613, 'ear': 1265, 'neat': 2694, 'proof': 3178, 'activ': 29, 'waist': 4498, 'shini': 3626, 'dilut': 1145, 'infus': 2060, 'po': 3066, 'aussi': 228, 'master': 2481, 'carmel': 602, 'depth': 1097, 'gruyer': 1811, 'zuchinni': 4713, 'lay': 2275, 'needless': 2703, 'colour': 806, 'watcher': 4518, 'program': 3173, 'sherbet': 3620, 'tofu': 4230, 'limead': 2338, 'concentr': 838, 'skill': 3698, 'mainli': 2426, 'unapp': 4363, 'tso': 4317, 'nectarin': 2701, 'nutrient': 2769, 'whoop': 4573, 'poor': 3082, 'fool': 1579, 'submit': 3993, 'precook': 3131, 'speck': 3837, 'unabl': 4362, 'xanthan': 4647, 'gum': 1824, 'kiwi': 2219, 'wake': 4501, 'countri': 916, 'younger': 4678, 'asham': 198, 'instantli': 2076, 'manner': 2444, 'invent': 2100, 'k': 2171, 'dismay': 1173, 'minor': 2577, 'higher': 1917, 'gold': 1731, 'duplic': 1255, 'stirfri': 3936, 'front': 1632, 'unseason': 4400, 'servic': 3597, 'bang': 276, 'wick': 4576, 'drank': 1218, 'ing': 2061, 'women': 4608, 'meet': 2517, 'devin': 1119, 'stroganoff': 3973, 'deli': 1082, 'publix': 3197, 'skimp': 3701, 'squish': 3883, 'wed': 4532, 'strang': 3956, 'beforehand': 323, 'affect': 53, 'giant': 1698, 'whirl': 4562, 'mozzerella': 2653, 'minim': 2575, 'shave': 3615, 'fructos': 1639, 'recreat': 3308, 'fanci': 1442, 'cone': 845, 'hut': 1996, 'creamsicl': 943, 'squirt': 3882, 'kim': 2207, 'colorado': 805, 'pro': 3160, 'con': 837, 'moister': 2612, 'vidalia': 4464, 'baklava': 267, 'canarygirl': 573, 'marvel': 2471, 'eggrol': 1295, 'numer': 2762, 'forget': 1587, 'forgotten': 1590, 'zap': 4698, 'expert': 1403, 'micro': 2550, 'viola': 4474, 'heather': 1888, 'death': 1046, 'fashion': 1451, 'yam': 4652, 'wasabi': 4513, 'remark': 3347, 'blog': 394, 'eggbeat': 1290, 'lighten': 2330, 'pore': 3092, 'finnish': 1513, 'scandinavian': 3534, 'wouldnt': 4633, 'potassium': 3109, 'protect': 3185, 'pur': 3215, 'ed': 1282, 'flan': 1530, 'hunk': 1990, 'rump': 3462, 'judi': 2156, 'warmer': 4510, 'shown': 3647, 'truth': 4315, 'nonstick': 2742, 'arm': 183, 'spatula': 3830, 'behind': 329, 'smash': 3738, 'reli': 3339, 'timer': 4214, 'inaccur': 2033, 'ultra': 4360, 'moon': 2633, 'frank': 1609, 'laugh': 2268, 'tastiest': 4108, 'patrick': 2956, 'snowi': 3763, 'control': 873, 'joy': 2152, 'jan': 2123, 'mighti': 2555, 'butcher': 533, 'mmmmm': 2599, 'crocker': 964, 'twenti': 4339, 'cookathon': 880, 'amazon': 115, 'upset': 4412, 'saus': 3515, 'hungri': 1989, 'bobbi': 407, 'frito': 1629, 'fifteen': 1491, 'barb': 278, 'hundr': 1987, 'comput': 836, 'beg': 324, 'freakin': 1612, 'craisin': 932, 'pkg': 3046, 'hug': 1980, 'p': 2888, 'east': 1275, 'zero': 4701, 'lusciou': 2408, 'costli': 906, 'blame': 379, 'mysterygirl': 2675, 'floor': 1552, 'badli': 258, 'kit': 2213, 'pain': 2901, 'refus': 3325, 'vote': 4488, 'salisburi': 3485, 'keen': 2187, 'porridg': 3095, 'thankyou': 4160, 'rapid': 3265, 'shrink': 3651, 'slowli': 3728, 'derf': 1098, 'brick': 469, 'tarter': 4099, 'yukon': 4684, 'damp': 1020, 'carla': 601, 'exampl': 1386, 'summertim': 4023, 'palat': 2903, 'slimi': 3720, 'unsuccess': 4401, 'australian': 230, 'concept': 839, 'pimento': 3029, 'softer': 3771, 'seper': 3591, 'ole': 2812, 'tear': 4120, 'account': 20, 'lose': 2384, 'punch': 3212, 'smallish': 3736, 'ring': 3413, 'karen': 2178, 'unflavor': 4382, 'russet': 3467, 'fairli': 1431, 'retri': 3387, 'jambalaya': 2121, 'soul': 3808, 'shallow': 3607, 'fig': 1493, 'grey': 1795, 'shortcut': 3638, 'bev': 351, 'disagre': 1156, 'jalap': 2116, 'track': 4277, 'rubberi': 3456, 'fortun': 1596, 'pleasur': 3060, 'dorito': 1203, 'reg': 3326, 'goddess': 1729, 'impati': 2025, 'grit': 1801, 'rsc': 3453, 'dude': 1245, 'phone': 3009, 'toh': 4232, 'supris': 4039, 'stumbl': 3984, 'workabl': 4621, 'nd': 2691, 'fam': 1436, 'circl': 744, 'forum': 1597, 'yummo': 4694, 'tune': 4326, 'avid': 238, 'stomach': 3939, 'approxim': 178, 'coco': 783, 'june': 2167, 'libbi': 2319, 'baggi': 261, 'pet': 3003, 'trust': 4314, 'porkchop': 3094, 'dave': 1037, 'cow': 923, 'nursedi': 2765, 'pinto': 3038, 'ladi': 2245, 'verd': 4453, 'brisket': 479, 'hash': 1865, 'intro': 2097, 'reus': 3390, 'elk': 1309, 'hunter': 1992, 'tator': 4110, 'eight': 1298, 'remot': 3352, 'lumpi': 2404, 'knowledg': 2228, 'jell': 2132, 'kumquat': 2237, 'sawdust': 3526, 'phenomen': 3006, 'barley': 285, 'among': 124, 'naan': 2678, 'lazym': 2278, 'writer': 4640, 'detroit': 1114, 'mi': 2548, 'q': 3224, 'resid': 3372, 'assist': 208, 'neglect': 2705, 'schedul': 3541, 'cc': 639, 'whim': 4560, 'prime': 3156, 'australia': 229, 'rhonda': 3395, 'complaint': 827, 'design': 1103, 'stringi': 3970, 'monteri': 2628, 'trial': 4297, 'faith': 1432, 'flare': 1532, 'pacif': 2892, 'flouri': 1558, 'roughli': 3446, 'froth': 1635, 'importantli': 2027, 'histori': 1922, 'excus': 1393, 'unsalt': 4399, 'barrel': 287, 'coke': 791, 'cola': 792, 'kalamata': 2174, 'lap': 2254, 'band': 275, 'sriracha': 3885, 'perk': 2995, 'shaker': 3604, 'thirti': 4180, 'draw': 1220, 'theme': 4164, 'guilt': 1821, 'prego': 3135, 'neighbour': 2708, 'ribbon': 3398, 'storebought': 3946, 'belov': 338, 'honest': 1947, 'suspici': 4051, 'sprig': 3869, 'shut': 3653, 'liberti': 2321, 'movi': 2649, 'therefor': 4167, 'milki': 2564, 'yooper': 4674, 'kraft': 2233, 'ingrid': 2065, 'bargain': 283, 'basement': 290, 'sneak': 3757, 'remaind': 3345, 'tomatillo': 4238, 'itali': 2110, 'pistachio': 3040, 'select': 3578, 'cafeteria': 554, 'alik': 81, 'snob': 3760, 'salami': 3482, 'familiar': 1438, 'sweeti': 4060, 'signatur': 3663, 'dot': 1206, 'homey': 1944, 'citi': 746, 'florida': 1555, 'gloriou': 1716, 'nine': 2734, 'chiffon': 698, 'coolwhip': 889, 'ignor': 2009, 'mediocr': 2513, 'slurri': 3729, 'lean': 2284, 'frustrat': 1643, 'pt': 3194, 'apprehens': 173, 'queso': 3236, 'wear': 4528, 'glove': 1718, 'mason': 2479, 'amber': 116, 'claim': 749, 'scarf': 3537, 'closer': 766, 'mock': 2605, 'crawfish': 937, 'betti': 350, 'stood': 3942, 'wimp': 4586, 'pico': 3020, 'gallo': 1667, 'dislik': 1172, 'agent': 63, 'flash': 1533, 'resolut': 3375, 'strain': 3954, 'ol': 2808, 'savor': 3522, 'caesar': 552, 'lactos': 2244, 'readili': 3282, 'competit': 825, 'evi': 1380, 'gladli': 1710, 'chard': 664, 'impact': 2023, 'thnx': 4181, 'grass': 1779, 'fudgi': 1648, 'rustic': 3469, 'mound': 2644, 'subsequ': 3994, 'oamc': 2775, 'tobasco': 4226, 'stiff': 3931, 'stronger': 3975, 'twang': 4335, 'inexpens': 2053, 'met': 2540, 'integr': 2084, 'yummer': 4687, 'eleph': 1306, 'kc': 2185, 'fl': 1525, 'thermomet': 4168, 'aid': 68, 'lump': 2403, 'bouquet': 438, 'puffi': 3205, 'oldest': 2811, 'switch': 4065, 'unfair': 4381, 'score': 3547, 'return': 3388, 'vicki': 4463, 'refri': 3322, 'haddock': 1834, 'dissappoint': 1177, 'screw': 3554, 'adopt': 43, 'outdoor': 2862, 'relax': 3337, 'vitamin': 4483, 'definet': 1068, 'kansa': 2177, 'tenderloin': 4141, 'mmmmmm': 2600, 'endiv': 1327, 'europ': 1362, 'minti': 2579, 'pin': 3031, 'push': 3220, 'evelyn': 1367, 'janet': 2124, 'abit': 2, 'ratherbeswimmin': 3271, 'hashbrown': 1866, 'twissi': 4343, 'bin': 361, 'hatch': 1868, 'sharlen': 3612, 'w': 4491, 'cabernet': 549, 'cure': 998, 'hunt': 1991, 'mont': 2626, 'specialti': 3834, 'upcom': 4406, 'bob': 406, 'evan': 1364, 'bind': 362, 'necessarili': 2698, 'camper': 570, 'ghee': 1695, 'yoghurt': 4670, 'adob': 41, 'peasi': 2970, 'edit': 1286, 'confess': 848, 'constant': 860, 'anywher': 156, 'porcini': 3091, 'bomb': 413, 'feet': 1473, 'lip': 2346, 'toler': 4234, 'desper': 1105, 'humbl': 1984, 'eager': 1263, 'senior': 3585, 'tequila': 4143, 'dissip': 1178, 'sip': 3687, 'gin': 1701, 'vermouth': 4455, 'goulash': 1750, 'pic': 3013, 'grown': 1810, 'accustom': 23, 'sirloin': 3689, 'solv': 3778, 'coffeeb': 789, 'accept': 11, 'malibu': 2431, 'everytim': 1378, 'nope': 2745, 'hmmmm': 1926, 'wont': 4611, 'suck': 4006, 'pectin': 2973, 'dead': 1042, 'facial': 1423, 'scrub': 3555, 'tooo': 4250, 'kugel': 2236, 'messi': 2539, 'pouch': 3116, 'romain': 3433, 'sticker': 3929, 'gyoza': 1829, 'hoisin': 1932, 'fond': 1575, 'steril': 3923, 'awar': 242, 'honor': 1951, 'cuppa': 995, 'mikekey': 2557, 'chick': 695, 'pc': 2963, 'tail': 4079, 'blacken': 376, 'andouil': 132, 'elmotoo': 1311, 'encourag': 1325, 'morningstar': 2638, 'swim': 4062, 'vindaloo': 4469, 'ugh': 4354, 'adobo': 42, 'dispos': 1175, 'ticket': 4204, 'camera': 566, 'jazz': 2130, 'tie': 4207, 'diamond': 1127, 'scrap': 3550, 'intens': 2086, 'cardboard': 598, 'unappet': 4364, 'tamal': 4086, 'employe': 1320, 'walmart': 4504, 'miso': 2586, 'bisqu': 368, 'mmmmmmmm': 2602, 'flank': 1531, 'unsur': 4402, 'dairi': 1019, 'waaay': 4495, 'decemb': 1051, 'field': 1489, 'ident': 2006, 'hungarian': 1988, 'bear': 306, 'jen': 2135, 'hon': 1946, 'stainless': 3893, 'heed': 1895, 'trump': 4313, 'portobello': 3100, 'filet': 1498, 'dine': 1147, 'portabella': 3097, 'raini': 3254, 'cancel': 574, 'catfish': 627, 'mouss': 2646, 'jim': 2143, 'crap': 935, 'pile': 3027, 'sum': 4021, 'trueli': 4310, 'snickerdoodl': 3758, 'lauri': 2271, 'heartier': 1885, 'usabl': 4417, 'surgeri': 4043, 'guarante': 1815, 'lubi': 2399, 'marsala': 2466, 'fontina': 1577, 'asiago': 199, 'rotini': 3444, 'fiddl': 1488, 'xylitol': 4650, 'cane': 577, 'carbohydr': 593, 'visitor': 4480, 'pronounc': 3177, 'suffic': 4013, 'applebe': 168, 'bon': 414, 'whew': 4557, 'brunch': 495, 'land': 2252, 'carrabba': 610, 'interestingli': 2090, 'poland': 3076, 'masher': 2477, 'campari': 568, 'tape': 4093, 'grand': 1763, 'handi': 1845, 'satay': 3506, 'boss': 428, 'charcoal': 663, 'william': 4583, 'harvest': 1864, 'convinc': 878, 'creamer': 940, 'detract': 1113, 'wi': 4575, 'wall': 4503, 'penetr': 2977, 'deeper': 1062, 'nugget': 2759, 'grandkid': 1766, 'darlen': 1032, 'compromis': 835, 'ragu': 3251, 'crabmeat': 927, 'devein': 1115, 'leak': 2283, 'dm': 1188, 'flavoursom': 1542, 'constantli': 861, 'purpos': 3219, 'intoler': 2095, 'focaccia': 1570, 'woke': 4605, 'hotel': 1967, 'eggnog': 1293, 'kathi': 2182, 'budget': 506, 'america': 119, 'contempl': 866, 'anytim': 154, 'dehydr': 1077, 'gel': 1681, 'adequ': 36, 'gingersnap': 1704, 'septemb': 3592, 'snip': 3759, 'kelli': 2191, 'slip': 3721, 'cri': 956, 'nutella': 2767, 'evid': 1381, 'liven': 2360, 'lesli': 2310, 'law': 2273, 'stretch': 3964, 'orzo': 2854, 'tetrazzini': 4151, 'eggi': 1291, 'peppercorn': 2982, 'yummmmm': 4692, 'novemb': 2755, 'tone': 4243, 'hardest': 1856, 'shook': 3631, 'caster': 620, 'nacho': 2679, 'subsitut': 3995, 'ms': 2655, 'bold': 412, 'vigor': 4467, 'coz': 925, 'kati': 2183, 'cater': 626, 'denis': 1090, 'subject': 3989, 'palett': 2905, 'dig': 1140, 'deb': 1047, 'lasagn': 2258, 'peppermint': 2985, 'bark': 284, 'collaps': 798, 'glossi': 1717, 'meringu': 2533, 'agian': 64, 'carnivor': 605, 'regardless': 3328, 'sooooooooo': 3797, 'bevi': 353, 'univers': 4390, 'takeout': 4083, 'wildli': 4582, 'anaheim': 128, 'rank': 3264, 'explos': 1407, 'swear': 4054, 'springform': 3871, 'gentli': 1687, 'prescrib': 3142, 'answer': 146, 'tub': 4319, 'flesh': 1547, 'oval': 2867, 'info': 2058, 'cannellini': 578, 'shi': 3622, 'rigatoni': 3409, 'se': 3557, 'philli': 3008, 'dull': 1250, 'goo': 1735, 'deglaz': 1075, 'premad': 3137, 'fussi': 1658, 'carton': 613, 'outback': 2860, 'prais': 3123, 'realis': 3285, 'silver': 3672, 'vegi': 4445, 'aka': 73, 'goof': 1739, 'formula': 1594, 'clearli': 758, 'pittsburgh': 3044, 'melissa': 2521, 'saucier': 3513, 'art': 191, 'saver': 3521, 'tyler': 4348, 'contact': 864, 'incorrect': 2040, 'uniform': 4387, 'shorter': 3640, 'pipe': 3039, 'liquor': 2351, 'yeah': 4658, 'bridal': 470, 'storm': 3948, 'guilti': 1822, 'tempura': 4137, 'ziploc': 4708, 'frighten': 1628, 'system': 4070, 'dent': 1094, 'sleep': 3711, 'rural': 3465, 'downsid': 1213, 'eta': 1360, 'roux': 3449, 'seedless': 3573, 'sultana': 4020, 'poker': 3075, 'brain': 448, 'deviat': 1117, 'eyebal': 1417, 'culinari': 989, 'quest': 3237, 'warmth': 4511, 'uk': 4357, 'joke': 2151, 'wrinkl': 4638, 'yup': 4696, 'stage': 3891, 'ohh': 2800, 'er': 1351, 'urg': 4414, 'overdo': 2874, 'santa': 3501, 'vomit': 4487, 'icki': 2001, 'countless': 915, 'safeti': 3476, 'volum': 4486, 'project': 3175, 'heavier': 1892, 'lobster': 2366, 'dorothi': 1204, 'student': 3979, 'outrag': 2864, 'definetli': 1069, 'arent': 182, 'quaker': 3227, 'whiskey': 4564, 'mug': 2663, 'lesson': 2314, 'brocolli': 484, 'campbel': 569, 'danger': 1025, 'beetroot': 321, 'macaroon': 2414, 'stab': 3887, 'compel': 822, 'cheer': 676, 'spore': 3863, 'surviv': 4046, 'multipli': 2665, 'toxin': 4275, 'visual': 4481, 'wonderful': 4610, 'mill': 2565, 'underneath': 4376, 'jamaican': 2120, 'melti': 2525, 'risen': 3419, 'unbleach': 4369, 'street': 3961, 'chewey': 689, 'semi': 3582, 'sambal': 3494, 'lieu': 2325, 'serrano': 3595, 'dragon': 1216, 'frothi': 1636, 'cabinet': 550, 'lengthwis': 2306, 'cg': 652, 'yucki': 4682, 'grapese': 1778, 'sick': 3655, 'insul': 2080, 'risotto': 3421, 'ii': 2010, 'cappuccino': 586, 'thailand': 4157, 'bella': 335, 'road': 3426, 'breadmak': 460, 'disk': 1171, 'dryness': 1241, 'insan': 2069, 'pumpernickel': 3210, 'domin': 1196, 'interior': 2091, 'hometown': 1943, 'sucker': 4007, 'v': 4424, 'northern': 2748, 'pamela': 2909, 'former': 1593, 'client': 761, 'stellar': 3918, 'christin': 731, 'ty': 4347, 'parboil': 2923, 'leafi': 2282, 'jude': 2154, 'omelet': 2814, 'cinnabon': 742, 'tremend': 4295, 'mass': 2480, 'rip': 3415, 'chicago': 694, 'ap': 157, 'seltzer': 3581, 'fizz': 1524, 'theori': 4166, 'carnita': 604, 'blind': 390, 'elsewher': 1313, 'fanni': 1443, 'charlott': 667, 'j': 2114, 'orowheat': 2853, 'abandon': 0, 'ferment': 1479, 'distil': 1180, 'unrefin': 4397, 'goya': 1752, 'sazon': 3528, 'msg': 2656, 'ramadan': 3257, 'brie': 471, 'linda': 2340, 'chain': 655, 'transplant': 4285, 'coff': 787, 'clever': 759, 'mortar': 2640, 'pestl': 3001, 'zealand': 4699, 'locat': 2368, 'estim': 1359, 'quinoa': 3243, 'central': 647, 'proscuitto': 3184, 'uh': 4356, 'chex': 692, 'pannan': 2916, 'garbanzo': 1673, 'hell': 1899, 'atop': 215, 'tube': 4320, 'amanda': 111, 'bro': 482, 'ohio': 2801, 'applic': 171, 'lane': 2253, 'mg': 2547, 'reciep': 3297, 'significantli': 3665, 'masa': 2473, 'invest': 2101, 'anni': 141, 'cent': 645, 'tf': 4154, 'hen': 1904, 'flair': 1526, 'experiment': 1402, 'th': 4155, 'prove': 3188, 'access': 12, 'redo': 3314, 'tahini': 4078, 'shove': 3644, 'hickori': 1913, 'outer': 2863, 'nix': 2736, 'minestron': 2573, 'eventu': 1371, 'nite': 2735, 'entertain': 1339, 'reaction': 3278, 'carv': 614, 'rectangular': 3310, 'convect': 874, 'brittl': 481, 'rubber': 3455, 'tumer': 4323, 'inclus': 2037, 'record': 3307, 'syd': 4066, 'hub': 1978, 'flame': 1529, 'wierd': 4578, 'defiantli': 1065, 'pig': 3025, 'farther': 1450, 'woman': 4607, 'news': 2723, 'char': 662, 'danc': 1022, 'polenta': 3077, 'whose': 4574, 'atkin': 214, 'stepson': 3922, 'turkish': 4329, 'demand': 1088, 'offend': 2791, 'couldnt': 911, 'sake': 3480, 'catsup': 629, 'disapoint': 1157, 'haha': 1835, 'strainer': 3955, 'pulp': 3207, 'wors': 4626, 'pace': 2891, 'collard': 799, 'pointless': 3072, 'brais': 449, 'smidg': 3742, 'bullet': 515, 'morsel': 2639, 'minimum': 2576, 'korean': 2230, 'chocohol': 714, 'scald': 3529, 'altho': 102, 'patienc': 2952, 'steal': 3913, 'dial': 1126, 'sushi': 4048, 'greec': 1790, 'overabund': 2869, 'bamboo': 273, 'mere': 2532, 'jicama': 2141, 'esp': 1354, 'premium': 3138, 'lager': 2247, 'sooner': 3790, 'dawn': 1038, 'definatli': 1067, 'storag': 3944, 'harina': 1858, 'lima': 2336, 'curl': 1001, 'succul': 4005, 'transluc': 4284, 'pasteur': 2947, 'cheesecloth': 681, 'foolproof': 1580, 'ladl': 2246, 'junebug': 2168, 'heath': 1887, 'utterli': 4423, 'bc': 302, 'steve': 3924, 'upsid': 4413, 'somebodi': 3779, 'moreish': 2636, 'stray': 3959, 'lenni': 2307, 'border': 425, 'rutabaga': 3470, 'fire': 1514, 'wan': 4506, 'deen': 1060, 'task': 4100, 'train': 4281, 'flow': 1559, 'remedi': 3348, 'pregnant': 3134, 'drug': 1238, 'tap': 4092, 'spruce': 3876, 'ff': 1484, 'caught': 630, 'tent': 4142, 'tope': 4254, 'starchi': 3903, 'express': 1408, 'extremli': 1415, 'guava': 1816, 'merri': 2535, 'misread': 2588, 'mayonais': 2493, 'wisk': 4599, 'caribbean': 600, 'suprem': 4038, 'fajita': 1433, 'yuk': 4683, 'suddenli': 4008, 'river': 3425, 'lard': 2255, 'siev': 3658, 'internetnut': 2094, 'mascarpon': 2475, 'chosen': 726, 'grandchildren': 1764, 'streak': 3960, 'unus': 4404, 'yanke': 4653, 'velveeta': 4447, 'griddl': 1796, 'repertoir': 3359, 'engross': 1332, 'precis': 3130, 'substanti': 3997, 'empanada': 1319, 'uned': 4379, 'lorac': 2382, 'rang': 3263, 'eggwhit': 1296, 'marnier': 2462, 'marg': 2451, 'dryer': 1240, 'alum': 107, 'shelf': 3617, 'overbak': 2871, 'difficulti': 1138, 'harri': 1862, 'celsiu': 644, 'velveti': 4449, 'sophist': 3801, 'someday': 3780, 'stori': 3947, 'shift': 3623, 'sorbet': 3802, 'mr': 2654, 'float': 1551, 'pocket': 3069, 'valu': 4429, 'midnight': 2553, 'stead': 3911, 'caution': 633, 'lie': 2324, 'consider': 858, 'dissapoint': 1176, 'jenni': 2136, 'rees': 3317, 'grandpar': 1769, 'zee': 4700, 'csa': 982, 'ami': 121, 'slave': 3709, 'sam': 3493, 'alic': 80, 'meantim': 2501, 'maryland': 2472, 'citric': 747, 'exchang': 1391, 'vinegarett': 4472, 'meatless': 2507, 'chri': 730, 'disolv': 1174, 'moistest': 2613, 'tuesday': 4322, 'thursday': 4201, 'chacher': 653, 'novic': 2756, 'debbi': 1049, 'petit': 3004, 'joan': 2146, 'loof': 2377, 'rectangl': 3309, 'dunk': 1253, 'eastern': 1277, 'lookout': 2379, 'offset': 2796, 'prebak': 3128, 'chewier': 691, 'sassi': 3504, 'xma': 4648, 'slather': 3708, 'bonni': 418, 'slime': 3719, 'lainey': 2249, 'offens': 2792, 'deg': 1074, 'celciu': 640, 'fahrenheit': 1427, 'laura': 2270, 'hear': 1881, 'bailey': 263, 'wholesom': 4572, 'pump': 3209, 'gentl': 1686, 'upper': 4411, 'triangl': 4298, 'em': 1314, 'dil': 1143, 'royal': 3452, 'flounder': 1556, 'dunno': 1254, 'respons': 3379, 'pyrex': 3223, 'fab': 1419, 'superior': 4032, 'earth': 1268, 'email': 1315, 'routin': 3448, 'glori': 1715, 'happili': 1852, 'canner': 579, 'steel': 3916, 'proced': 3164, 'browner': 493, 'attack': 217, 'reliev': 3341, 'ordinari': 2844, 'squishi': 3884, 'crackl': 930, 'intak': 2083, 'suey': 4011, 'calcul': 559, 'clumpi': 775, 'flea': 1546, 'drier': 1228, 'starbuck': 3901, 'lisa': 2352, 'guac': 1813, 'useless': 4419, 'stewart': 3927, 'blew': 389, 'mmmmmmmmm': 2603, 'ts': 4316, 'kozmic': 2232, 'waiter': 4500, 'iii': 2011, 'julien': 2164, 'polit': 3079, 'briefli': 472, 'stire': 3935, 'au': 224, 'adher': 37, 'pepperi': 2983, 'crostini': 968, 'chowder': 728, 'tourtier': 4270, 'robust': 3429, 'southwestern': 3818, 'carbon': 594, 'darken': 1030, 'ziti': 4710, 'henc': 1905, 'duh': 1248, 'fishi': 1520, 'silk': 3668, 'hersey': 1908, 'nanci': 2685, 'butt': 534, 'ray': 3276, 'peeler': 2975, 'pm': 3065, 'nibbl': 2725, 'misplac': 2587, 'replic': 3362, 'shitak': 3628, 'wind': 4588, 'dishwash': 1169, 'older': 2810, 'delciou': 1079, 'paddl': 2898, 'disguis': 1166, 'nuke': 2760, 'recomend': 3304, 'crispier': 961, 'kindergarten': 2210, 'insert': 2070, 'onioni': 2823, 'index': 2044, 'nummi': 2763, 'scari': 3538, 'howdi': 1974, 'carcass': 595, 'behold': 330, 'nick': 2728, 'bam': 272, 'lake': 2250, 'park': 2928, 'glycerin': 1722, 'julia': 2163, 'understood': 4378, 'award': 243, 'ramekin': 3258, 'vegtabl': 4446, 'poblano': 3068, 'loud': 2388, 'dirti': 1155, 'nake': 2681, 'merci': 2531, 'scream': 3553, 'melon': 2523, 'relat': 3336, 'newer': 2720, 'custom': 1006, 'reliabl': 3340, 'spongi': 3861, 'ripen': 3417, 'hormel': 1956, 'absolutley': 6, 'board': 404, 'poppyse': 3089, 'wherev': 4555, 'houston': 1973, 'grin': 1798, 'gradual': 1757, 'dr': 1215, 'yearli': 4660, 'slushi': 3730, 'vey': 4461, 'smack': 3732, 'closest': 767, 'ancho': 129, 'cooler': 888, 'cautiou': 634, 'smoothli': 3752, 'torani': 4256, 'similiar': 3674, 'lee': 2293, 'redeem': 3312, 'exist': 1395, 'port': 3096, 'fieri': 1490, 'tism': 4222, 'indoor': 2050, 'fettuccin': 1482, 'grapefruit': 1777, 'arrang': 188, 'click': 760, 'geniu': 1685, 'grant': 1773, 'modern': 2607, 'martini': 2470, 'compens': 823, 'yeasti': 4662, 'regist': 3330, 'regret': 3331, 'becuas': 315, 'roaster': 3428, 'danish': 1027, 'neufchatel': 2715, 'thot': 4184, 'luckili': 2402, 'hollandais': 1937, 'frankli': 1610, 'challah': 657, 'iceberg': 1998, 'observ': 2779, 'portabello': 3098, 'justifi': 2170, 'boursin': 440, 'caryn': 615, 'support': 4036, 'associ': 209, 'diff': 1135, 'gusto': 1827, 'quebec': 3233, 'curd': 996, 'penzey': 2979, 'forest': 1584, 'worstershir': 4628, 'ciabatta': 738, 'pecorino': 2972, 'overkil': 2877, 'julesong': 2161, 'illustr': 2013, 'angl': 135, 'dietari': 1134, 'bush': 531, 'reconstitut': 3306, 'barn': 286, 'cornflak': 897, 'bonnet': 417, 'da': 1015, 'diffrent': 1139, 'appropri': 175, 'co': 776, 'worker': 4622, 'crown': 971, 'tore': 4257, 'alley': 86, 'thread': 4189, 'drawer': 1221, 'entic': 1341, 'depart': 1095, 'burgundi': 525, 'unbak': 4367, 'complex': 830, 'brew': 468, 'gailanng': 1663, 'sara': 3502, 'phyllo': 3012, 'awsom': 248, 'cam': 564, 'silpat': 3671, 'prune': 3192, 'obtain': 2780, 'tv': 4333, 'marramamba': 2463, 'treasur': 4291, 'clip': 762, 'witch': 4600, 'idk': 2007, 'exot': 1396, 'appli': 170, 'slam': 3706, 'teach': 4117, 'roti': 3443, 'mami': 2435, 'steamer': 3915, 'wonton': 4612, 'dipper': 1151, 'tostada': 4263, 'reunion': 3389, 'tamari': 4087, 'radish': 3250, 'tidbit': 4206, 'diagon': 1125, 'manwich': 2446, 'newbi': 2719, 'mirin': 2583, 'sole': 3774, 'stack': 3890, 'maraschino': 2448, 'wolf': 4606, 'slipperi': 3722, 'strength': 3962, 'sublim': 3990, 'os': 2855, 'breadi': 459, 'straightforward': 3953, 'compact': 817, 'homegrown': 1940, 'worcest': 4616, 'pleasant': 3057, 'lawri': 2274, 'mirj': 2584, 'verbatim': 4452, 'fought': 1599, 'comparison': 821, 'ditto': 1184, 'spiral': 3852, 'lori': 2383, 'cleaner': 755, 'patient': 2953, 'ingest': 2062, 'african': 57, 'turbinado': 4327, 'spous': 3865, 'bow': 441, 'intensifi': 2087, 'teresa': 4144, 'cave': 635, 'darker': 1031, 'builder': 511, 'dw': 1259, 'residu': 3373, 'tediou': 4124, 'tint': 4218, 'trail': 4280, 'grenadin': 1793, 'tester': 4150, 'profil': 3172, 'enter': 1338, 'aioli': 69, 'torn': 4258, 'amish': 123, 'congeal': 852, 'butterfing': 538, 'panic': 2914, 'granddaught': 1765, 'intact': 2082, 'stawberri': 3909, 'roma': 3432, 'reminisc': 3351, 'stalk': 3895, 'nan': 2683, 'consult': 862, 'congratul': 854, 'paulag': 2960, 'lowfat': 2397, 'prob': 3161, 'kebab': 2186, 'pinterest': 3037, 'yummmmmm': 4693, 'finer': 1508, 'filipino': 1499, 'cuban': 983, 'eagl': 1264, 'ooooh': 2830, 'costa': 904, 'overboard': 2872, 'mail': 2424, 'stole': 3938, 'crema': 949, 'flute': 1566, 'diana': 1129, 'kilo': 2206, 'arugula': 196, 'listen': 2354, 'aromat': 186, 'mandi': 2439, 'tropic': 4306, 'tuck': 4321, 'aunti': 227, 'simplifi': 3681, 'cacao': 551, 'rain': 3252, 'nicer': 2727, 'streusel': 3965, 'pref': 3132, 'whoever': 4570, 'harmoni': 1861, 'stripe': 3972, 'pucker': 3199, 'monthli': 2630, 'foundat': 1601, 'wilton': 4585, 'bleach': 383, 'blown': 400, 'action': 28, 'condit': 844, 'suprisingli': 4040, 'smoker': 3746, 'velvetta': 4450, 'ziplock': 4709, 'secur': 3570, 'bouillion': 435, 'tickl': 4205, 'tort': 4259, 'pickiest': 3017, 'opposit': 2839, 'jessica': 2139, 'fudgey': 1647, 'scampi': 3533, 'zingo': 4706, 'china': 707, 'slot': 3726, 'strike': 3968, 'bulgur': 513, 'tollhous': 4236, 'ici': 2000, 'fantabul': 1444, 'gratin': 1782, 'backyard': 254, 'kat': 2180, 'discourag': 1162, 'exceed': 1387, 'hat': 1867, 'hors': 1960, 'meali': 2498, 'lessen': 2312, 'ommit': 2819, 'medallion': 2511, 'acorn': 26, 'oomph': 2829, 'calzon': 563, 'hispan': 1921, 'fresco': 1618, 'upgrad': 4408, 'mall': 2432, 'lemongrass': 2302, 'flatter': 1537, 'amend': 118, 'crisper': 959, 'dreamer': 1223, 'hotdog': 1966, 'upload': 4409, 'weed': 4536, 'exterior': 1410, 'yogi': 4671, 'nana': 2684, 'jumbo': 2165, 'stuffi': 3983, 'slab': 3705, 'portuges': 3102, 'forth': 1595, 'twelv': 4338, 'lunchbox': 2406, 'moos': 2634, 'og': 2798, 'smelt': 3741, 'rendit': 3356, 'emulsifi': 1322, 'lead': 2280, 'distinct': 1181, 'blast': 382, 'cultur': 990, 'cap': 583, 'crucial': 972, 'wari': 4508, 'conni': 855, 'odor': 2790, 'drench': 1225, 'wave': 4523, 'firstli': 1518, 'botul': 433, 'mediterranean': 2514, 'japan': 2126, 'flaw': 1543, 'reali': 3284, 'densiti': 1093, 'companion': 819, 'greater': 1787, 'waxi': 4525, 'imho': 2017, 'seam': 3561, 'vouch': 4489, 'prop': 3179, 'succeed': 4003, 'aspartam': 204, 'build': 510, 'gooooood': 1742, 'stonewar': 3941, 'absolutli': 7, 'happier': 1851, 'led': 2292, 'kneed': 2222, 'omelett': 2815, 'honesti': 1948, 'cloudi': 770, 'sorta': 3806, 'um': 4361, 'fo': 1567, 'tall': 4085, 'horror': 1959, 'slid': 3714, 'balkan': 269, 'cough': 909, 'yummiest': 4689, 'seep': 3576, 'gim': 1700, 'edamam': 1283, 'basebal': 289, 'carolin': 608, 'visibl': 4478, 'stephani': 3921, 'perfor': 2992, 'africa': 56, 'factori': 1426, 'pallet': 2906, 'statement': 3908, 'oblig': 2778, 'hog': 1931, 'cindi': 741, 'wigal': 4580, 'shank': 3609, 'mole': 2618, 'beth': 348, 'debat': 1048, 'r': 3246, 'munch': 2667, 'yike': 4668, 'forewarn': 1586, 'enthusiast': 1340, 'sparkl': 3829, 'unhappi': 4385, 'bullwinkl': 517, 'philadelphia': 3007, 'currant': 1002, 'crafti': 931, 'spreadabl': 3868, 'boomi': 422, 'halibut': 1839, 'guid': 1819, 'shore': 3634, 'obviou': 2781, 'buckwheat': 503, 'vine': 4470, 'meyer': 2546, 'lift': 2328, 'bday': 303, 'sceptic': 3540, 'waaaaay': 4493, 'ceram': 648, 'occur': 2786, 'zone': 4711, 'rapidli': 3266, 'equip': 1349, 'instinct': 2078, 'jule': 2160, 'ought': 2857, 'chopper': 723, 'wth': 4644, 'monkey': 2625, 'gooood': 1741, 'granular': 1775, 'brat': 453, 'unpeel': 4394, 'drinker': 1231, 'sauté': 3519, 'fiance': 1486, 'linguini': 2344, 'belli': 336, 'dose': 1205, 'crew': 955, 'ben': 339, 'sweat': 4055, 'finicki': 1511, 'splurg': 3858, 'reluct': 3343, 'potat': 3110, 'scienc': 3543, 'scant': 3535, 'mozza': 2651, 'unavail': 4366, 'ev': 1363, 'mat': 2483, 'passion': 2943, 'fellowship': 1476, 'strict': 3966, 'cloud': 769, 'farfal': 1447, 'hooray': 1954, 'litt': 2357, 'cutest': 1009, 'spenda': 3843, 'rabbit': 3247, 'luv': 2409, 'leap': 2285, 'public': 3195, 'nimz': 2733, 'substanc': 3996, 'automat': 233, 'oper': 2835, 'latchi': 2262, 'unattract': 4365, 'underdon': 4375, 'meatloav': 2509, 'contrari': 870, 'binder': 363, 'fingerl': 1510, 'partli': 2940, 'ie': 2008, 'erin': 1352, 'belgian': 331, 'owner': 2885, 'neighborhood': 2707, 'topper': 4255, 'ridg': 3407, 'respect': 3377, 'tomatoey': 4240, 'pato': 2955, 'orlando': 2851, 'soooooooo': 3796, 'potstick': 3115, 'hollow': 1938, 'beliv': 333, 'novel': 2754, 'diva': 1185, 'dug': 1247, 'toll': 4235, 'gala': 1666, 'remak': 3346, 'confirm': 850, 'render': 3355, 'disturb': 1183, 'navi': 2690, 'shread': 3648, 'redneck': 3313, 'refridger': 3323, 'versu': 4459, 'ju': 2153, 'nebraska': 2695, 'feb': 1467, 'heinz': 1897, 'recepi': 3296, 'spite': 3854, 'ho': 1927, 'suet': 4010, 'papa': 2918, 'fluid': 1565, 'blech': 384, 'bug': 509, 'throat': 4194, 'iowa': 2104, 'lovin': 2393, 'peggi': 2976, 'jewish': 2140, 'foami': 1569, 'attend': 219, 'usa': 4416, 'jami': 2122, 'whoa': 4569, 'soooooooooo': 3798, 'ooop': 2831, 'bratwurst': 454, 'aisl': 72, 'roosi': 3437, 'plantain': 3051, 'taster': 4104, 'pearl': 2969, 'peak': 2966, 'shortli': 3641, 'repost': 3364, 'chai': 654, 'karo': 2179, 'carn': 603, 'sizzl': 3695, 'kangaroo': 2176, 'prepackag': 3140, 'medley': 2516, 'patch': 2951, 'staci': 3889, 'newli': 2722, 'chalki': 656, 'window': 4589, 'ontop': 2827, 'medicin': 2512, 'ex': 1383, 'lend': 2304, 'idaho': 2003, 'firmer': 1516, 'deck': 1055, 'ungreas': 4384, 'braid': 447, 'enorm': 1335, 'fifti': 1492, 'persimmon': 2999, 'donat': 1197, 'crank': 934, 'patio': 2954, 'tan': 4089, 'aliv': 83, 'graciou': 1755, 'fraich': 1607, 'castl': 621, 'tamarind': 4088, 'india': 2045, 'stink': 3933, 'horrifi': 1958, 'carber': 592, 'healthiest': 1879, 'masterpiec': 2482, 'kg': 2198, 'mysteri': 2674, 'guidelin': 1820, 'humid': 1985, 'portug': 3101, 'sucanat': 4002, 'grocer': 1803, 'tre': 4290, 'pricey': 3154, 'consequ': 856, 'dud': 1244, 'overnit': 2881, 'watercress': 4520, 'thay': 4163, 'legal': 2299, 'flu': 1561, 'czech': 1014, 'sald': 3483, 'overlap': 2878}\n",
      "['abandon', 'abc', 'abit', 'abl', 'abov', 'absolut', 'absolutley', 'absolutli', 'absorb', 'abund', 'accent', 'accept', 'access', 'accid', 'accident', 'accommod', 'accompani', 'accomplish', 'accord', 'accordingli', 'account', 'accur', 'accuraci', 'accustom', 'achiev', 'acid', 'acorn', 'across', 'action', 'activ', 'actual', 'ad', 'adapt', 'add', 'addict', 'addit', 'adequ', 'adher', 'adjust', 'admit', 'admittedli', 'adob', 'adobo', 'adopt', 'adopte', 'ador', 'adult', 'advanc', 'advantag', 'adventur', 'advers', 'advic', 'advis', 'affect', 'afford', 'afraid', 'africa', 'african', 'afternoon', 'aftertast', 'afterward', 'agav', 'age', 'agent', 'agian', 'ago', 'agre', 'ahead', 'aid', 'aioli', 'air', 'airi', 'aisl', 'aka', 'al', 'ala', 'alarm', 'alcohol', 'ale', 'alfredo', 'alic', 'alik', 'alittl', 'aliv', 'allerg', 'allergi', 'alley', 'allow', 'allrecip', 'allspic', 'almond', 'almost', 'alon', 'along', 'alongsid', 'alot', 'alphabet', 'alreadi', 'alright', 'also', 'alter', 'altern', 'altho', 'although', 'altitud', 'altogeth', 'alton', 'alum', 'aluminum', 'alway', 'alzheim', 'amanda', 'amaretto', 'amaz', 'amazingli', 'amazon', 'amber', 'ambrosia', 'amend', 'america', 'american', 'ami', 'amino', 'amish', 'among', 'amount', 'amp', 'amt', 'anaheim', 'ancho', 'anchovi', 'andi', 'andouil', 'angel', 'angela', 'angl', 'ani', 'anim', 'anis', 'ann', 'annacia', 'anni', 'anniversari', 'annoy', 'annual', 'anoth', 'answer', 'anticip', 'anxiou', 'anybodi', 'anyhow', 'anymor', 'anyon', 'anyth', 'anytim', 'anyway', 'anywher', 'ap', 'apart', 'apolog', 'app', 'appar', 'appeal', 'appear', 'appet', 'appetit', 'appi', 'appl', 'applebe', 'applesauc', 'appli', 'applic', 'appreci', 'apprehens', 'approach', 'appropri', 'approv', 'approx', 'approxim', 'apricot', 'april', 'area', 'arent', 'arm', 'armi', 'aroma', 'aromat', 'around', 'arrang', 'arriv', 'arrowroot', 'art', 'arthur', 'artichok', 'articl', 'artifici', 'arugula', 'asap', 'asham', 'asiago', 'asian', 'asid', 'ask', 'asparagu', 'aspartam', 'aspect', 'assembl', 'assign', 'assist', 'associ', 'assort', 'assum', 'assur', 'ate', 'atkin', 'atop', 'attach', 'attack', 'attempt', 'attend', 'attent', 'attest', 'attract', 'attribut', 'au', 'august', 'aunt', 'aunti', 'aussi', 'australia', 'australian', 'authent', 'author', 'automat', 'autumn', 'avacado', 'avail', 'averag', 'avid', 'avocado', 'avoid', 'aw', 'awar', 'award', 'away', 'awe', 'awesom', 'awhil', 'awsom', 'b', 'babe', 'babi', 'back', 'background', 'backyard', 'bacon', 'bacteria', 'bad', 'badli', 'bag', 'bagel', 'baggi', 'baguett', 'bailey', 'bake', 'baker', 'bakeri', 'baklava', 'balanc', 'balkan', 'ball', 'balsam', 'bam', 'bamboo', 'banana', 'band', 'bang', 'bar', 'barb', 'barbecu', 'barbequ', 'barbi', 'bare', 'bargain', 'bark', 'barley', 'barn', 'barrel', 'base', 'basebal', 'basement', 'basi', 'basic', 'basil', 'basket', 'basmati', 'bast', 'batch', 'bath', 'batter', 'bay', 'bbq', 'bc', 'bday', 'beach', 'bean', 'bear', 'beat', 'beaten', 'beater', 'beauti', 'becam', 'becaus', 'bechamel', 'becom', 'becuas', 'bed', 'beef', 'beefi', 'beer', 'beet', 'beetroot', 'befor', 'beforehand', 'beg', 'began', 'begin', 'beginn', 'behalf', 'behind', 'behold', 'belgian', 'believ', 'beliv', 'bell', 'bella', 'belli', 'belong', 'belov', 'ben', 'bend', 'benefit', 'bergi', 'berri', 'besid', 'best', 'bestest', 'bet', 'beth', 'better', 'betti', 'bev', 'beverag', 'bevi', 'bewar', 'beyond', 'bf', 'big', 'bigger', 'biggest', 'bill', 'bin', 'bind', 'binder', 'bird', 'birthday', 'biscotti', 'biscuit', 'bisqu', 'bisquick', 'bit', 'bite', 'bitter', 'bittersweet', 'black', 'blackberri', 'blacken', 'blade', 'blah', 'blame', 'blanch', 'bland', 'blast', 'bleach', 'blech', 'blend', 'blender', 'bless', 'bleu', 'blew', 'blind', 'bliss', 'blob', 'block', 'blog', 'blondi', 'blood', 'bloodi', 'blossom', 'blow', 'blown', 'blt', 'blue', 'blueberri', 'board', 'boat', 'bob', 'bobbi', 'bodi', 'boil', 'boiler', 'bok', 'bold', 'bomb', 'bon', 'bone', 'boneless', 'bonnet', 'bonni', 'bonu', 'book', 'boomett', 'boomi', 'boost', 'boot', 'border', 'bore', 'born', 'boss', 'boston', 'bother', 'bottl', 'bottom', 'botul', 'bought', 'bouillion', 'bouillon', 'boullion', 'bouquet', 'bourbon', 'boursin', 'bow', 'bowl', 'box', 'boy', 'boyfriend', 'bragg', 'braid', 'brain', 'brais', 'bran', 'brand', 'brandi', 'brat', 'bratwurst', 'brave', 'bravo', 'bread', 'breadcrumb', 'breadi', 'breadmak', 'breadstick', 'break', 'breakfast', 'breast', 'breath', 'breez', 'breezermom', 'brew', 'brick', 'bridal', 'brie', 'briefli', 'bright', 'brighten', 'brilliant', 'brim', 'brine', 'bring', 'brisket', 'british', 'brittl', 'bro', 'broccoli', 'brocolli', 'broil', 'broiler', 'broke', 'broken', 'broth', 'brother', 'brought', 'brown', 'browner', 'browni', 'brunch', 'bruschetta', 'brush', 'brussel', 'btw', 'bubbl', 'buck', 'bucket', 'buckwheat', 'bud', 'buddi', 'budget', 'buffalo', 'buffet', 'bug', 'build', 'builder', 'bulb', 'bulgur', 'bulk', 'bullet', 'bullion', 'bullwinkl', 'bum', 'bummer', 'bump', 'bun', 'bunch', 'bundt', 'burger', 'burgundi', 'burn', 'burner', 'burnt', 'burrito', 'burst', 'bush', 'busi', 'butcher', 'butt', 'butter', 'butterbal', 'buttercream', 'butterfing', 'butterfli', 'butteri', 'buttermilk', 'butternut', 'butterscotch', 'button', 'buy', 'c', 'ca', 'cabbag', 'cabernet', 'cabinet', 'cacao', 'caesar', 'cafe', 'cafeteria', 'cajun', 'cake', 'cakey', 'cal', 'calcul', 'california', 'call', 'calori', 'calzon', 'cam', 'came', 'camera', 'camp', 'campari', 'campbel', 'camper', 'canada', 'canadian', 'canarygirl', 'cancel', 'cancer', 'candi', 'cane', 'cannellini', 'canner', 'canning', 'canola', 'cant', 'cap', 'capabl', 'caper', 'cappuccino', 'capsicum', 'car', 'caramel', 'caraway', 'carb', 'carber', 'carbohydr', 'carbon', 'carcass', 'card', 'cardamom', 'cardboard', 'care', 'caribbean', 'carla', 'carmel', 'carn', 'carnita', 'carnivor', 'carob', 'carol', 'carolin', 'carolina', 'carrabba', 'carri', 'carrot', 'carton', 'carv', 'caryn', 'case', 'cashew', 'casserol', 'cast', 'caster', 'castl', 'cat', 'catalina', 'catch', 'categori', 'cater', 'catfish', 'catherin', 'catsup', 'caught', 'cauliflow', 'caus', 'caution', 'cautiou', 'cave', 'caviti', 'cayann', 'cayenn', 'cc', 'celciu', 'celebr', 'celeri', 'celiac', 'celsiu', 'cent', 'center', 'central', 'ceram', 'cereal', 'certain', 'certainli', 'cg', 'chacher', 'chai', 'chain', 'chalki', 'challah', 'challeng', 'champagn', 'chanc', 'chang', 'char', 'charcoal', 'chard', 'chardonnay', 'charg', 'charlott', 'charm', 'charmi', 'cheap', 'cheaper', 'cheat', 'check', 'cheddar', 'chedder', 'cheer', 'cheerio', 'chees', 'cheeseburg', 'cheesecak', 'cheesecloth', 'cheesi', 'chef', 'chemic', 'cherri', 'chestnut', 'chevr', 'chew', 'chewey', 'chewi', 'chewier', 'chex', 'chia', 'chicago', 'chick', 'chicken', 'chickpea', 'chiffon', 'child', 'childhood', 'children', 'chile', 'chili', 'chill', 'chilli', 'chimichanga', 'china', 'chines', 'chip', 'chipotl', 'chive', 'choc', 'choclat', 'chocohol', 'chocol', 'chocolatey', 'chocolati', 'choic', 'choke', 'cholesterol', 'choos', 'chop', 'chopper', 'chorizo', 'chose', 'chosen', 'chow', 'chowder', 'choy', 'chri', 'christin', 'christma', 'chuck', 'chunk', 'chunki', 'church', 'chutney', 'ciabatta', 'cider', 'cilantro', 'cindi', 'cinnabon', 'cinnamon', 'circl', 'circular', 'citi', 'citric', 'citru', 'claim', 'clam', 'clarifi', 'class', 'classic', 'clean', 'cleaner', 'cleanup', 'clear', 'clearli', 'clever', 'click', 'client', 'clip', 'clog', 'clone', 'close', 'closer', 'closest', 'cloth', 'cloud', 'cloudi', 'clove', 'club', 'clue', 'clump', 'clumpi', 'co', 'coars', 'coast', 'coat', 'cob', 'cobbler', 'cocktail', 'coco', 'cocoa', 'coconut', 'cod', 'coff', 'coffe', 'coffeeb', 'cognac', 'coke', 'cola', 'coland', 'colbi', 'cold', 'cole', 'coleslaw', 'collaps', 'collard', 'colleagu', 'collect', 'colleg', 'colombian', 'color', 'colorado', 'colour', 'combin', 'combo', 'come', 'comfort', 'comment', 'commerci', 'commit', 'common', 'commonli', 'commun', 'compact', 'compani', 'companion', 'compar', 'comparison', 'compel', 'compens', 'compet', 'competit', 'complain', 'complaint', 'complement', 'complet', 'complex', 'complic', 'compliment', 'compon', 'compot', 'compromis', 'comput', 'con', 'concentr', 'concept', 'concern', 'concoct', 'condens', 'condiment', 'condit', 'cone', 'confect', 'confection', 'confess', 'confid', 'confirm', 'confus', 'congeal', 'congrat', 'congratul', 'conni', 'consequ', 'consid', 'consider', 'consist', 'constant', 'constantli', 'consult', 'consum', 'contact', 'contain', 'contempl', 'content', 'contest', 'continu', 'contrari', 'contrast', 'contribut', 'control', 'convect', 'conveni', 'convers', 'convert', 'convinc', 'cook', 'cookathon', 'cookbook', 'cooker', 'cooki', 'cookiedog', 'cookin', 'cookout', 'cool', 'cooler', 'coolwhip', 'copi', 'copycat', 'core', 'coriand', 'corn', 'cornbread', 'corner', 'cornflak', 'cornflour', 'cornmeal', 'cornstarch', 'correct', 'correctli', 'cost', 'costa', 'costco', 'costli', 'cottag', 'cotton', 'cough', 'could', 'couldnt', 'count', 'counter', 'counti', 'countless', 'countri', 'coupl', 'courgett', 'cours', 'couscou', 'cousin', 'cover', 'cow', 'cowork', 'coz', 'crab', 'crabmeat', 'crack', 'cracker', 'crackl', 'crafti', 'craisin', 'cranberri', 'crank', 'crap', 'crave', 'crawfish', 'crazi', 'cream', 'creamer', 'creami', 'creamier', 'creamsicl', 'creat', 'creation', 'creativ', 'creator', 'credit', 'crema', 'creme', 'creol', 'crepe', 'crescent', 'crest', 'crew', 'cri', 'crisco', 'crisp', 'crisper', 'crispi', 'crispier', 'critic', 'crock', 'crocker', 'crockpot', 'crop', 'cross', 'crostini', 'crouton', 'crowd', 'crown', 'crucial', 'crumb', 'crumbl', 'crunch', 'crunchi', 'crunchier', 'crush', 'crust', 'crusti', 'crystal', 'csa', 'cuban', 'cube', 'cucumb', 'cuisin', 'cuisinart', 'cuke', 'culinari', 'cultur', 'cumin', 'cup', 'cupboard', 'cupcak', 'cuppa', 'curd', 'curdl', 'cure', 'curios', 'curiou', 'curl', 'currant', 'current', 'curri', 'custard', 'custom', 'cut', 'cute', 'cutest', 'cutlet', 'cutter', 'cuz', 'cycl', 'czech', 'da', 'dab', 'dad', 'daili', 'dairi', 'damp', 'dana', 'danc', 'dancer', 'dang', 'danger', 'daniel', 'danish', 'dare', 'dark', 'darken', 'darker', 'darlen', 'darn', 'dash', 'date', 'daughter', 'dave', 'dawn', 'day', 'dd', 'de', 'dead', 'deal', 'dean', 'dear', 'death', 'deb', 'debat', 'debbi', 'decad', 'decemb', 'decent', 'decid', 'decis', 'deck', 'declar', 'decor', 'decreas', 'dee', 'deen', 'deep', 'deeper', 'deer', 'def', 'defiantli', 'defin', 'definatli', 'definet', 'definetli', 'definit', 'definitli', 'defint', 'defrost', 'deg', 'deglaz', 'degre', 'dehydr', 'delay', 'delciou', 'delect', 'delet', 'deli', 'delic', 'delici', 'delight', 'delish', 'deliv', 'demand', 'demolish', 'denis', 'dens', 'denser', 'densiti', 'dent', 'depart', 'depend', 'depth', 'derf', 'describ', 'descript', 'desert', 'deserv', 'design', 'desir', 'desper', 'despit', 'dessert', 'destroy', 'detail', 'detect', 'deterg', 'determin', 'detract', 'detroit', 'devein', 'develop', 'deviat', 'devil', 'devin', 'devour', 'dg', 'dh', 'di', 'diabet', 'diagon', 'dial', 'diamond', 'dian', 'diana', 'dice', 'didnt', 'die', 'diet', 'dietari', 'diff', 'differ', 'difficult', 'difficulti', 'diffrent', 'dig', 'digest', 'dijon', 'dil', 'dill', 'dilut', 'dimens', 'dine', 'diner', 'dinner', 'dip', 'dipper', 'direct', 'directli', 'dirt', 'dirti', 'disagre', 'disapoint', 'disappear', 'disappoint', 'disast', 'discard', 'discourag', 'discov', 'discuss', 'diseas', 'disguis', 'disgust', 'dish', 'dishwash', 'disintegr', 'disk', 'dislik', 'dismay', 'disolv', 'dispos', 'dissapoint', 'dissappoint', 'dissip', 'dissolv', 'distil', 'distinct', 'distribut', 'disturb', 'ditto', 'diva', 'divid', 'divin', 'dm', 'doctor', 'doe', 'doesnt', 'dog', 'dollar', 'dollop', 'dome', 'domin', 'donat', 'done', 'donna', 'dont', 'donut', 'door', 'dorito', 'dorothi', 'dose', 'dot', 'doubl', 'doubt', 'dough', 'doughi', 'doughnut', 'dous', 'downsid', 'dozen', 'dr', 'dragon', 'drain', 'drank', 'drastic', 'draw', 'drawer', 'dream', 'dreamer', 'dredg', 'drench', 'dress', 'dri', 'drier', 'drink', 'drinkabl', 'drinker', 'drip', 'drive', 'drizzl', 'drool', 'drop', 'drown', 'drug', 'drumstick', 'dryer', 'dryness', 'ds', 'duck', 'dud', 'dude', 'due', 'dug', 'duh', 'dulc', 'dull', 'dump', 'dumpl', 'dunk', 'dunno', 'duplic', 'dure', 'dust', 'dutch', 'dw', 'dye', 'e', 'eacut', 'eager', 'eagl', 'ear', 'earli', 'earlier', 'earth', 'earthi', 'eas', 'easi', 'easier', 'easiest', 'easili', 'east', 'easter', 'eastern', 'eat', 'eaten', 'eater', 'econom', 'ed', 'edamam', 'edg', 'edibl', 'edit', 'effect', 'effort', 'egg', 'eggbeat', 'eggi', 'eggless', 'eggnog', 'eggplant', 'eggrol', 'eggwhit', 'eh', 'eight', 'either', 'el', 'elast', 'elbow', 'electr', 'eleg', 'element', 'eleph', 'elev', 'elimin', 'elk', 'elli', 'elmotoo', 'els', 'elsewher', 'em', 'email', 'embarrass', 'emerg', 'emeril', 'empanada', 'employe', 'empti', 'emulsifi', 'enchilada', 'encount', 'encourag', 'end', 'endiv', 'endless', 'energi', 'england', 'english', 'engross', 'enhanc', 'enjoy', 'enorm', 'enough', 'ensur', 'enter', 'entertain', 'enthusiast', 'entic', 'entir', 'entre', 'entri', 'envelop', 'epic', 'episod', 'equal', 'equip', 'equival', 'er', 'erin', 'error', 'esp', 'especi', 'espresso', 'essenc', 'essenti', 'estim', 'eta', 'etc', 'europ', 'ev', 'evan', 'evapor', 'eve', 'evelyn', 'even', 'evenli', 'event', 'eventu', 'ever', 'everi', 'everybodi', 'everyday', 'everyon', 'everyth', 'everytim', 'everywher', 'evi', 'evid', 'evoo', 'ex', 'exact', 'exactli', 'exampl', 'exceed', 'excel', 'except', 'excess', 'exchang', 'excit', 'excus', 'execut', 'exist', 'exot', 'expand', 'expect', 'expens', 'experi', 'experienc', 'experiment', 'expert', 'explain', 'explod', 'explor', 'explos', 'express', 'extend', 'exterior', 'extra', 'extract', 'extraordinari', 'extrem', 'extremli', 'eye', 'eyebal', 'f', 'fab', 'fabul', 'face', 'facebook', 'facial', 'fact', 'factor', 'factori', 'fahrenheit', 'fail', 'failur', 'fair', 'fairli', 'faith', 'fajita', 'fake', 'fall', 'fam', 'famili', 'familiar', 'famou', 'fan', 'fanat', 'fanci', 'fanni', 'fantabul', 'fantast', 'far', 'farfal', 'farm', 'farmer', 'farther', 'fashion', 'fast', 'faster', 'fat', 'father', 'fatten', 'fatti', 'fault', 'fav', 'fave', 'favor', 'favorit', 'favourit', 'fear', 'feast', 'featur', 'feb', 'februari', 'fed', 'feed', 'feedback', 'feel', 'feet', 'fell', 'fellow', 'fellowship', 'felt', 'fennel', 'ferment', 'festiv', 'feta', 'fettuccin', 'fewer', 'ff', 'fianc', 'fiance', 'fiber', 'fiddl', 'field', 'fieri', 'fifteen', 'fifti', 'fig', 'fight', 'figur', 'fil', 'file', 'filet', 'filipino', 'fill', 'filler', 'fillet', 'film', 'filter', 'final', 'find', 'fine', 'finer', 'finger', 'fingerl', 'finicki', 'finish', 'finnish', 'fire', 'firm', 'firmer', 'first', 'firstli', 'fish', 'fishi', 'fit', 'five', 'fix', 'fizz', 'fl', 'flair', 'flake', 'flaki', 'flame', 'flan', 'flank', 'flare', 'flash', 'flat', 'flatbread', 'flatten', 'flatter', 'flavor', 'flavorful', 'flavorless', 'flavour', 'flavoursom', 'flaw', 'flax', 'flaxse', 'flea', 'flesh', 'flexibl', 'fli', 'flip', 'float', 'floor', 'flop', 'floret', 'florida', 'flounder', 'flour', 'flouri', 'flow', 'flower', 'flu', 'fluff', 'fluffi', 'fluffier', 'fluid', 'flute', 'fo', 'foam', 'foami', 'focaccia', 'foil', 'fold', 'folk', 'follow', 'fond', 'fondu', 'fontina', 'food', 'fool', 'foolproof', 'footbal', 'forc', 'foreman', 'forest', 'forev', 'forewarn', 'forget', 'forgiv', 'forgot', 'forgotten', 'fork', 'form', 'former', 'formula', 'forth', 'fortun', 'forum', 'forward', 'fought', 'found', 'foundat', 'four', 'fourth', 'fragil', 'fragranc', 'fragrant', 'fraich', 'franc', 'frank', 'frankli', 'freak', 'freakin', 'free', 'freez', 'freezer', 'french', 'frequent', 'fresco', 'fresh', 'fresher', 'freshli', 'fri', 'friday', 'fridg', 'friend', 'friendli', 'frig', 'frighten', 'frito', 'frittata', 'fritter', 'front', 'frost', 'frosti', 'froth', 'frothi', 'froze', 'frozen', 'fructos', 'fruit', 'fruitcak', 'fruiti', 'frustrat', 'fryer', 'ft', 'fudg', 'fudgey', 'fudgi', 'fulfil', 'full', 'fulli', 'fun', 'function', 'funki', 'funni', 'furthermor', 'fuss', 'fussi', 'futur', 'fyi', 'g', 'ga', 'gailanng', 'gain', 'gal', 'gala', 'gallo', 'gallon', 'game', 'ganach', 'garam', 'garbag', 'garbanzo', 'garden', 'garlic', 'garlicki', 'garnish', 'gather', 'gave', 'geema', 'gel', 'gelatin', 'gem', 'gener', 'geniu', 'gentl', 'gentli', 'genuin', 'georg', 'germ', 'german', 'germani', 'get', 'gf', 'ghee', 'ghiradelli', 'ghirardelli', 'giant', 'gift', 'gim', 'gin', 'ginger', 'gingerbread', 'gingersnap', 'girl', 'girlfriend', 'give', 'given', 'glad', 'gladli', 'glass', 'glaze', 'glob', 'gloppi', 'glori', 'gloriou', 'glossi', 'glove', 'glow', 'glue', 'gluten', 'glycerin', 'gm', 'gnocchi', 'go', 'goat', 'gobbl', 'god', 'goddess', 'goe', 'gold', 'golden', 'gon', 'gone', 'goo', 'good', 'goodi', 'gooey', 'goof', 'googl', 'gooood', 'gooooood', 'goopi', 'gorgeou', 'gorgonzola', 'gosh', 'got', 'gotten', 'gouda', 'goulash', 'gourmet', 'goya', 'gr', 'grab', 'graciou', 'grade', 'gradual', 'graduat', 'graham', 'grain', 'graini', 'gram', 'grand', 'grandchildren', 'granddaught', 'grandkid', 'grandma', 'grandmoth', 'grandpar', 'grandson', 'granni', 'granola', 'grant', 'granul', 'granular', 'grape', 'grapefruit', 'grapese', 'grass', 'grate', 'grater', 'gratin', 'gravi', 'greas', 'greasi', 'great', 'greater', 'greatest', 'greatli', 'greec', 'greek', 'green', 'grenadin', 'grew', 'grey', 'griddl', 'grill', 'grin', 'grind', 'grinder', 'grit', 'gritti', 'grocer', 'groceri', 'groovi', 'gross', 'ground', 'group', 'grow', 'grown', 'gruyer', 'gt', 'guac', 'guacamol', 'guarante', 'guava', 'guess', 'guest', 'guid', 'guidelin', 'guilt', 'guilti', 'guin', 'gum', 'gumbo', 'gummi', 'gusto', 'guy', 'gyoza', 'gyro', 'ha', 'habanero', 'habit', 'haddock', 'haha', 'hair', 'half', 'halfway', 'halibut', 'halloween', 'halv', 'ham', 'hamburg', 'hand', 'handi', 'handl', 'hang', 'hanker', 'happen', 'happi', 'happier', 'happili', 'hard', 'harden', 'harder', 'hardest', 'hardli', 'harina', 'harissa', 'harm', 'harmoni', 'harri', 'harsh', 'harvest', 'hash', 'hashbrown', 'hat', 'hatch', 'hate', 'hater', 'havent', 'hawaii', 'hawaiian', 'hazelnut', 'head', 'health', 'healthi', 'healthier', 'healthiest', 'heap', 'hear', 'heard', 'heart', 'hearti', 'heartier', 'heat', 'heath', 'heather', 'heaven', 'heavenli', 'heavi', 'heavier', 'heavili', 'heck', 'heed', 'hehe', 'heinz', 'held', 'hell', 'hellman', 'hello', 'help', 'helper', 'hen', 'henc', 'herb', 'hero', 'hersey', 'hershey', 'hesit', 'hey', 'hi', 'hickori', 'hidden', 'hide', 'high', 'higher', 'highest', 'highli', 'hint', 'hispan', 'histori', 'hit', 'hmm', 'hmmm', 'hmmmm', 'ho', 'hoagi', 'hock', 'hockey', 'hog', 'hoisin', 'hold', 'hole', 'holi', 'holiday', 'hollandais', 'hollow', 'home', 'homegrown', 'homemad', 'homepag', 'hometown', 'homey', 'homini', 'hon', 'honest', 'honesti', 'honestli', 'honey', 'honor', 'hood', 'hook', 'hooray', 'hope', 'hormel', 'horribl', 'horrifi', 'horror', 'hors', 'horseradish', 'hospit', 'host', 'hostess', 'hot', 'hotdog', 'hotel', 'hotter', 'hound', 'hour', 'hous', 'household', 'houston', 'howdi', 'howev', 'hr', 'http', 'hub', 'hubbi', 'hug', 'huge', 'huh', 'human', 'humbl', 'humid', 'hummu', 'hundr', 'hungarian', 'hungri', 'hunk', 'hunt', 'hunter', 'hurri', 'hurt', 'husband', 'hut', 'ice', 'iceberg', 'icecream', 'ici', 'icki', 'id', 'idaho', 'idea', 'ideal', 'ident', 'idk', 'ie', 'ignor', 'ii', 'iii', 'ill', 'illustr', 'im', 'imag', 'imagin', 'imho', 'imit', 'immedi', 'immens', 'immers', 'imo', 'impact', 'impart', 'impati', 'import', 'importantli', 'imposs', 'impress', 'improv', 'improvis', 'ina', 'inaccur', 'inch', 'inclin', 'includ', 'inclus', 'incomplet', 'incorpor', 'incorrect', 'increas', 'incred', 'inde', 'index', 'india', 'indian', 'indiana', 'indic', 'individu', 'indoor', 'indulg', 'ined', 'inexpens', 'inexperienc', 'inez', 'infact', 'influenc', 'info', 'inform', 'infus', 'ing', 'ingest', 'ingr', 'ingredi', 'ingrid', 'inhal', 'initi', 'inn', 'insan', 'insert', 'insid', 'insist', 'inspir', 'instanc', 'instant', 'instantli', 'instead', 'instinct', 'instruct', 'insul', 'insur', 'intact', 'intak', 'integr', 'intend', 'intens', 'intensifi', 'intent', 'interest', 'interestingli', 'interior', 'intern', 'internet', 'internetnut', 'intoler', 'intrigu', 'intro', 'introduc', 'introduct', 'invent', 'invest', 'invit', 'involv', 'iowa', 'irish', 'iron', 'island', 'isnt', 'issu', 'itali', 'italian', 'item', 'ive', 'j', 'jack', 'jalap', 'jalapeno', 'jalepeno', 'jam', 'jamaican', 'jambalaya', 'jami', 'jan', 'janet', 'januari', 'japan', 'japanes', 'jar', 'jasmin', 'jazz', 'jeff', 'jell', 'jelli', 'jello', 'jen', 'jenni', 'jerk', 'jersey', 'jessica', 'jewish', 'jicama', 'jiffi', 'jim', 'jimmi', 'jo', 'joan', 'job', 'joe', 'john', 'join', 'joke', 'joy', 'ju', 'jude', 'judg', 'judi', 'jug', 'juic', 'juici', 'jule', 'julesong', 'juli', 'julia', 'julien', 'jumbo', 'jump', 'june', 'junebug', 'justic', 'justifi', 'k', 'kabob', 'kahlua', 'kalamata', 'kale', 'kangaroo', 'kansa', 'karen', 'karo', 'kat', 'kate', 'kathi', 'kati', 'kato', 'kc', 'kebab', 'keen', 'keep', 'keeper', 'kelbel', 'kelli', 'kept', 'kernel', 'ketchup', 'kettl', 'key', 'kfc', 'kg', 'kick', 'kid', 'kiddo', 'kidney', 'kielbasa', 'kill', 'killer', 'kilo', 'kim', 'kind', 'kinda', 'kindergarten', 'king', 'kiss', 'kit', 'kitchen', 'kitchenaid', 'kitten', 'kittenc', 'kitz', 'kiwi', 'kk', 'knead', 'kneed', 'knew', 'knife', 'knock', 'knorr', 'know', 'knowledg', 'known', 'korean', 'kosher', 'kozmic', 'kraft', 'krispi', 'kudo', 'kugel', 'kumquat', 'l', 'la', 'lab', 'label', 'labor', 'lack', 'lactos', 'ladi', 'ladl', 'lager', 'laid', 'lainey', 'lake', 'lamb', 'land', 'lane', 'lap', 'lard', 'larg', 'larger', 'lasagn', 'lasagna', 'last', 'lastli', 'latchi', 'late', 'later', 'latk', 'latter', 'laude', 'laugh', 'laundri', 'laura', 'lauri', 'lavend', 'law', 'lawri', 'lay', 'layer', 'lazi', 'lazym', 'lb', 'lead', 'leaf', 'leafi', 'leak', 'lean', 'leap', 'learn', 'least', 'leather', 'leav', 'leaven', 'lech', 'led', 'lee', 'leek', 'leeri', 'left', 'leftov', 'leg', 'legal', 'lemon', 'lemonad', 'lemongrass', 'lemoni', 'lend', 'length', 'lengthwis', 'lenni', 'lent', 'lentil', 'lesli', 'less', 'lessen', 'lesser', 'lesson', 'let', 'letter', 'lettuc', 'level', 'libbi', 'liber', 'liberti', 'lick', 'lid', 'lie', 'lieu', 'life', 'lifesav', 'lift', 'light', 'lighten', 'lighter', 'lightli', 'like', 'lil', 'lili', 'lima', 'lime', 'limead', 'limit', 'linda', 'line', 'liner', 'linguin', 'linguini', 'link', 'lip', 'lipton', 'liqueur', 'liquid', 'liquidi', 'liquor', 'lisa', 'list', 'listen', 'lite', 'liter', 'litt', 'littl', 'live', 'liven', 'liver', 'lo', 'load', 'loaf', 'loav', 'lobster', 'local', 'locat', 'lock', 'lodg', 'log', 'loin', 'lol', 'london', 'long', 'longer', 'loof', 'look', 'lookout', 'loos', 'loosen', 'lorac', 'lori', 'lose', 'loss', 'lost', 'lot', 'loud', 'loui', 'louisiana', 'love', 'lover', 'lovin', 'low', 'lower', 'lowest', 'lowfat', 'lt', 'lubi', 'luck', 'lucki', 'luckili', 'lump', 'lumpi', 'lunch', 'lunchbox', 'luncheon', 'lusciou', 'luv', 'lynn', 'mac', 'macadamia', 'macaroni', 'macaroon', 'mace', 'machin', 'macintosh', 'mad', 'made', 'magazin', 'magic', 'magnific', 'mahi', 'mail', 'main', 'mainli', 'maintain', 'major', 'make', 'maker', 'malibu', 'mall', 'malt', 'mama', 'mami', 'man', 'manag', 'mandarin', 'mandi', 'mandolin', 'mango', 'mani', 'manicotti', 'manner', 'manual', 'manwich', 'mapl', 'maraschino', 'marbl', 'march', 'marg', 'margarin', 'margarita', 'mari', 'marin', 'marinad', 'marinara', 'marjoram', 'mark', 'market', 'marmalad', 'marnier', 'marramamba', 'marri', 'marriag', 'marsala', 'marshmallow', 'marshmellow', 'martha', 'martini', 'marvel', 'maryland', 'masa', 'masala', 'mascarpon', 'mash', 'masher', 'mask', 'mason', 'mass', 'master', 'masterpiec', 'mat', 'match', 'mate', 'matter', 'matzo', 'max', 'maximum', 'may', 'mayb', 'mayo', 'mayonais', 'mayonnais', 'mccormick', 'mcdonald', 'meal', 'meali', 'mean', 'meant', 'meantim', 'meanwhil', 'measur', 'meat', 'meatbal', 'meati', 'meatless', 'meatloaf', 'meatloav', 'med', 'medallion', 'medicin', 'mediocr', 'mediterranean', 'medium', 'medley', 'meet', 'meh', 'mein', 'meld', 'melissa', 'mellow', 'melon', 'melt', 'melti', 'member', 'memori', 'men', 'mention', 'menu', 'merci', 'mere', 'meringu', 'merlot', 'merri', 'mesh', 'mesquit', 'mess', 'messi', 'met', 'metal', 'method', 'metric', 'mexican', 'mexico', 'meyer', 'mg', 'mi', 'michel', 'micro', 'microwav', 'middl', 'midnight', 'might', 'mighti', 'mike', 'mikekey', 'mil', 'mild', 'milder', 'mildli', 'mile', 'milk', 'milki', 'mill', 'miller', 'million', 'mimi', 'min', 'minc', 'mind', 'mine', 'minestron', 'mini', 'minim', 'minimum', 'minor', 'mint', 'minti', 'minu', 'minut', 'miracl', 'mirin', 'mirj', 'mislead', 'miso', 'misplac', 'misread', 'miss', 'mistak', 'mistakenli', 'mix', 'mixer', 'mixtur', 'mizznezz', 'ml', 'mmm', 'mmmm', 'mmmmm', 'mmmmmm', 'mmmmmmm', 'mmmmmmmm', 'mmmmmmmmm', 'mocha', 'mock', 'moder', 'modern', 'modif', 'modifi', 'moist', 'moisten', 'moister', 'moistest', 'moistur', 'mojito', 'molass', 'mold', 'mole', 'mom', 'moment', 'momma', 'mommi', 'monday', 'money', 'monkey', 'mont', 'monterey', 'monteri', 'month', 'monthli', 'montreal', 'mood', 'moon', 'moos', 'moosewood', 'moreish', 'morn', 'morningstar', 'morsel', 'mortar', 'mostli', 'mother', 'motiv', 'mound', 'mountain', 'mouss', 'mouth', 'move', 'movi', 'mozarella', 'mozza', 'mozzarella', 'mozzerella', 'mr', 'ms', 'msg', 'mt', 'much', 'mucho', 'mud', 'muenster', 'muffin', 'mug', 'multipl', 'multipli', 'mum', 'munch', 'mush', 'mushi', 'mushroom', 'mussel', 'must', 'mustard', 'mysteri', 'mysterygirl', 'n', 'na', 'naan', 'nacho', 'nail', 'nake', 'name', 'nan', 'nana', 'nanci', 'nasti', 'nation', 'nativ', 'natur', 'navi', 'nd', 'near', 'nearli', 'neat', 'nebraska', 'necess', 'necessari', 'necessarili', 'neck', 'nectar', 'nectarin', 'need', 'needless', 'neg', 'neglect', 'neighbor', 'neighborhood', 'neighbour', 'neither', 'nephew', 'nervou', 'nestl', 'net', 'network', 'neufchatel', 'never', 'nevertheless', 'new', 'newbi', 'newer', 'newest', 'newli', 'news', 'next', 'nibbl', 'nice', 'nicer', 'nick', 'niec', 'night', 'nightmar', 'nilla', 'nimz', 'nine', 'nite', 'nix', 'nobodi', 'non', 'none', 'nonetheless', 'nonfat', 'nonstick', 'noodl', 'noon', 'nope', 'normal', 'north', 'northern', 'nose', 'notch', 'note', 'noth', 'notic', 'novel', 'novemb', 'novic', 'nowher', 'ntild', 'nugget', 'nuke', 'number', 'numer', 'nummi', 'nurs', 'nursedi', 'nut', 'nutella', 'nutmeg', 'nutrient', 'nutrit', 'nutriti', 'nutti', 'ny', 'nz', 'oamc', 'oat', 'oatmeal', 'oblig', 'observ', 'obtain', 'obviou', 'obvious', 'occas', 'occasion', 'occass', 'occur', 'octob', 'odd', 'oddli', 'odor', 'offend', 'offens', 'offer', 'offic', 'offici', 'offset', 'often', 'og', 'oh', 'ohh', 'ohio', 'oil', 'oili', 'oj', 'ok', 'okay', 'okra', 'ol', 'old', 'older', 'oldest', 'ole', 'oliv', 'omelet', 'omelett', 'omg', 'omiss', 'omit', 'ommit', 'onc', 'one', 'onion', 'onioni', 'onli', 'onlin', 'onto', 'ontop', 'ooey', 'oomph', 'ooooh', 'ooop', 'oop', 'ooz', 'open', 'oper', 'opinion', 'opportun', 'oppos', 'opposit', 'opt', 'option', 'orang', 'order', 'ordinari', 'oregano', 'oregon', 'oreo', 'organ', 'orient', 'origin', 'orlando', 'orlean', 'orowheat', 'orzo', 'os', 'otherwis', 'ought', 'ounc', 'ourselv', 'outback', 'outcom', 'outdoor', 'outer', 'outrag', 'outsid', 'outstand', 'oval', 'oven', 'overabund', 'overal', 'overbak', 'overboard', 'overcook', 'overdo', 'overdon', 'overflow', 'overkil', 'overlap', 'overli', 'overnight', 'overnit', 'overpow', 'overwhelm', 'overwhelmingli', 'owner', 'oyster', 'oz', 'p', 'pa', 'pac', 'pace', 'pacif', 'pack', 'packag', 'packet', 'pad', 'paddi', 'paddl', 'page', 'paid', 'pain', 'pair', 'palat', 'pale', 'palett', 'pallet', 'palm', 'pam', 'pamela', 'pamper', 'pan', 'pancak', 'panera', 'panic', 'panko', 'pannan', 'pantri', 'papa', 'papaya', 'paper', 'paprika', 'parad', 'parboil', 'parchment', 'pare', 'parent', 'parfait', 'park', 'parm', 'parmesan', 'parmesean', 'pars', 'parsley', 'parsnip', 'part', 'parti', 'partial', 'particular', 'particularli', 'partli', 'partner', 'pass', 'passion', 'passov', 'past', 'pasta', 'pasteur', 'pasti', 'pastri', 'pat', 'patch', 'patienc', 'patient', 'patio', 'pato', 'patrick', 'pattern', 'patti', 'paula', 'paulag', 'pay', 'pb', 'pc', 'pea', 'peach', 'peak', 'peanut', 'pear', 'pearl', 'peasi', 'pecan', 'pecorino', 'pectin', 'peel', 'peeler', 'peggi', 'penetr', 'penn', 'penzey', 'peopl', 'pepper', 'peppercorn', 'pepperi', 'pepperidg', 'peppermint', 'pepperoncini', 'pepperoni', 'per', 'perfect', 'perfectli', 'perfecto', 'perfor', 'perhap', 'period', 'perk', 'perman', 'permeat', 'persian', 'persimmon', 'person', 'pestl', 'pesto', 'pet', 'petit', 'phase', 'phenomen', 'philadelphia', 'philli', 'phone', 'photo', 'photograph', 'phyllo', 'pic', 'picant', 'pick', 'picki', 'pickiest', 'pickl', 'picnic', 'pico', 'pictur', 'pie', 'piec', 'pierogi', 'pig', 'pilaf', 'pile', 'pillsburi', 'pimento', 'pimiento', 'pin', 'pinch', 'pine', 'pineappl', 'pink', 'pint', 'pinterest', 'pinto', 'pipe', 'pistachio', 'pit', 'pita', 'pitcher', 'pittsburgh', 'pizza', 'pkg', 'place', 'plain', 'plan', 'plant', 'plantain', 'plastic', 'plate', 'platter', 'play', 'pleas', 'pleasant', 'pleasantli', 'pleaser', 'pleasur', 'plenti', 'plu', 'plum', 'plump', 'pm', 'po', 'poach', 'poblano', 'pocket', 'pod', 'point', 'pointless', 'poison', 'poke', 'poker', 'poland', 'polenta', 'polish', 'polit', 'pomegran', 'pool', 'poor', 'poorli', 'pop', 'popcorn', 'popey', 'popper', 'poppi', 'poppyse', 'popular', 'porcini', 'pore', 'pork', 'porkchop', 'porridg', 'port', 'portabella', 'portabello', 'portion', 'portobello', 'portug', 'portuges', 'portugues', 'posit', 'possibl', 'post', 'poster', 'pot', 'potassium', 'potat', 'potato', 'potent', 'potenti', 'potluck', 'potstick', 'pouch', 'poultri', 'pound', 'pour', 'powder', 'power', 'practic', 'prais', 'pralin', 'prawn', 'pray', 'pre', 'prebak', 'preciou', 'precis', 'precook', 'pref', 'prefer', 'pregnant', 'prego', 'preheat', 'premad', 'premium', 'prep', 'prepackag', 'prepar', 'prescrib', 'present', 'preserv', 'press', 'pressur', 'pretti', 'prettier', 'pretzel', 'prevent', 'previou', 'previous', 'price', 'pricey', 'pride', 'prime', 'print', 'prior', 'prmr', 'pro', 'prob', 'probabl', 'problem', 'proced', 'procedur', 'proceed', 'process', 'processor', 'produc', 'product', 'profession', 'profil', 'program', 'progress', 'project', 'promis', 'pronounc', 'proof', 'prop', 'proper', 'properli', 'proport', 'prosciutto', 'proscuitto', 'protect', 'protein', 'proud', 'prove', 'provenc', 'provid', 'provolon', 'prune', 'ps', 'pt', 'public', 'publish', 'publix', 'puck', 'pucker', 'pud', 'puddl', 'puerto', 'puf', 'puff', 'puffi', 'pull', 'pulp', 'puls', 'pump', 'pumpernickel', 'pumpkin', 'punch', 'pungent', 'puppi', 'pur', 'purchas', 'pure', 'purpl', 'purpos', 'push', 'put', 'puzzl', 'pyrex', 'q', 'qt', 'quadrupl', 'quaker', 'qualifi', 'qualiti', 'quantiti', 'quart', 'quarter', 'quebec', 'queen', 'quesadilla', 'queso', 'quest', 'question', 'quich', 'quick', 'quicker', 'quickli', 'quinoa', 'quit', 'quot', 'r', 'rabbit', 'rachel', 'rack', 'radish', 'ragu', 'rain', 'rainbow', 'raini', 'rais', 'raisin', 'ramadan', 'ramekin', 'ramen', 'ran', 'ranch', 'random', 'rang', 'rank', 'rapid', 'rapidli', 'rare', 'raspberri', 'rate', 'rather', 'ratherbeswimmin', 'ratio', 'rave', 'ravioli', 'raw', 'ray', 'reach', 'reaction', 'read', 'reader', 'readi', 'readili', 'real', 'reali', 'realis', 'realiz', 'realli', 'reason', 'recal', 'reccomend', 'reccommend', 'receip', 'receipt', 'receiv', 'recent', 'recepi', 'reciep', 'reciev', 'recip', 'recipe', 'recipezaar', 'recipi', 'reckon', 'recomend', 'recommend', 'reconstitut', 'record', 'recreat', 'rectangl', 'rectangular', 'red', 'redeem', 'redneck', 'redo', 'reduc', 'reduct', 'rees', 'refer', 'refin', 'reflect', 'refresh', 'refri', 'refridger', 'refriger', 'refus', 'reg', 'regard', 'regardless', 'region', 'regist', 'regret', 'regular', 'regularli', 'reheat', 'rel', 'relat', 'relax', 'releas', 'reli', 'reliabl', 'reliev', 'relish', 'reluct', 'remain', 'remaind', 'remak', 'remark', 'remedi', 'rememb', 'remind', 'reminisc', 'remot', 'remov', 'renam', 'render', 'rendit', 'repeat', 'repeatedli', 'repertoir', 'replac', 'repli', 'replic', 'report', 'repost', 'request', 'requir', 'reread', 'rescu', 'research', 'resembl', 'reserv', 'resid', 'residu', 'resist', 'resolut', 'resort', 'respect', 'respond', 'respons', 'rest', 'restaur', 'restrict', 'restur', 'result', 'retain', 'retir', 'retri', 'return', 'reunion', 'reus', 'revers', 'review', 'revis', 'reward', 'rhonda', 'rhubarb', 'rib', 'ribbon', 'ribey', 'rican', 'rice', 'rich', 'richard', 'richer', 'ricotta', 'rid', 'ridg', 'ridicul', 'rigatoni', 'right', 'rim', 'rind', 'ring', 'rins', 'rip', 'ripe', 'ripen', 'rise', 'risen', 'risk', 'risotto', 'rita', 'ritz', 'rival', 'river', 'road', 'roast', 'roaster', 'robust', 'rock', 'roll', 'roma', 'romain', 'romano', 'room', 'roommat', 'roosi', 'root', 'rose', 'rosemari', 'rotat', 'rotel', 'roti', 'rotini', 'rotisseri', 'roughli', 'round', 'routin', 'roux', 'row', 'roxygirl', 'royal', 'rsc', 'rub', 'rubber', 'rubberi', 'rubi', 'rude', 'ruin', 'rule', 'rum', 'rump', 'run', 'runni', 'rural', 'rush', 'russet', 'russian', 'rustic', 'rutabaga', 'rye', 'sackvil', 'sad', 'sadli', 'safe', 'safeti', 'saffron', 'sage', 'said', 'sake', 'salad', 'salami', 'sald', 'sale', 'salisburi', 'salmon', 'salsa', 'salt', 'salti', 'saltier', 'saltin', 'salvag', 'sam', 'sambal', 'sampl', 'san', 'sand', 'sandi', 'sandwich', 'sangria', 'santa', 'sara', 'sarah', 'sassi', 'sat', 'satay', 'satisfi', 'satur', 'saturday', 'sauc', 'saucepan', 'sauci', 'saucier', 'sauerkraut', 'saus', 'sausag', 'saut', 'saute', 'sauté', 'save', 'saver', 'savor', 'savori', 'savouri', 'saw', 'sawdust', 'say', 'sazon', 'scald', 'scale', 'scallion', 'scallop', 'scampi', 'scandinavian', 'scant', 'scare', 'scarf', 'scari', 'scent', 'sceptic', 'schedul', 'school', 'scienc', 'scone', 'scoop', 'scorch', 'score', 'scotch', 'scrambl', 'scrap', 'scrape', 'scratch', 'scream', 'screw', 'scrub', 'scrumptiou', 'se', 'sea', 'seafood', 'seal', 'seam', 'sear', 'search', 'season', 'sec', 'second', 'secondli', 'secret', 'section', 'secur', 'see', 'seed', 'seedless', 'seem', 'seen', 'seep', 'seitan', 'select', 'self', 'sell', 'seltzer', 'semi', 'semisweet', 'send', 'senior', 'sens', 'sensat', 'sensit', 'sent', 'separ', 'seper', 'septemb', 'seriou', 'serious', 'serrano', 'serv', 'servic', 'sesam', 'set', 'settl', 'seven', 'sever', 'shake', 'shaker', 'shall', 'shallot', 'shallow', 'shame', 'shank', 'shape', 'share', 'sharlen', 'sharon', 'sharp', 'shave', 'sheet', 'shelf', 'shell', 'shepherd', 'sherbet', 'sherri', 'shi', 'shift', 'shiitak', 'shine', 'shini', 'ship', 'shitak', 'shock', 'shoe', 'shook', 'shoot', 'shop', 'shore', 'short', 'shortbread', 'shortcak', 'shortcut', 'shorten', 'shorter', 'shortli', 'shot', 'shoulder', 'shove', 'show', 'shower', 'shown', 'shread', 'shred', 'shrimp', 'shrink', 'shroom', 'shut', 'si', 'sick', 'sickli', 'side', 'siev', 'sift', 'sigh', 'sight', 'sign', 'signatur', 'signific', 'significantli', 'sil', 'silicon', 'silk', 'silki', 'silli', 'silpat', 'silver', 'similar', 'similiar', 'simmer', 'simpl', 'simpler', 'simplest', 'simpli', 'simplic', 'simplifi', 'sin', 'sinc', 'sincer', 'singl', 'sink', 'sip', 'siracha', 'sirloin', 'sister', 'sit', 'site', 'six', 'size', 'sizzl', 'skeptic', 'skewer', 'skill', 'skillet', 'skim', 'skimp', 'skin', 'skinless', 'skip', 'slab', 'slam', 'slap', 'slather', 'slave', 'slaw', 'sleep', 'slice', 'slicer', 'slid', 'slide', 'slight', 'slightest', 'slightli', 'slime', 'slimi', 'slip', 'slipperi', 'slit', 'sliver', 'sloppi', 'slot', 'slow', 'slowli', 'slurri', 'slushi', 'sm', 'smack', 'small', 'smaller', 'smallest', 'smallish', 'smart', 'smash', 'smear', 'smell', 'smelt', 'smidg', 'smile', 'smith', 'smoke', 'smoker', 'smokey', 'smoki', 'smooth', 'smoother', 'smoothi', 'smoothli', 'smother', 'snack', 'snap', 'snapper', 'sneak', 'snickerdoodl', 'snip', 'snob', 'snow', 'snowbal', 'snowi', 'soak', 'soap', 'soba', 'soda', 'sodium', 'soft', 'soften', 'softer', 'soggi', 'sold', 'sole', 'solid', 'solidifi', 'solut', 'solv', 'somebodi', 'someday', 'somehow', 'someon', 'someth', 'sometim', 'somewhat', 'somewher', 'son', 'soo', 'soon', 'sooner', 'sooo', 'soooo', 'sooooo', 'soooooo', 'sooooooo', 'soooooooo', 'sooooooooo', 'soooooooooo', 'sooth', 'sop', 'sophist', 'sorbet', 'sore', 'sorri', 'sort', 'sorta', 'souffl', 'soul', 'sound', 'soup', 'soupi', 'sour', 'sourc', 'sourdough', 'south', 'southern', 'southwest', 'southwestern', 'souvlaki', 'soy', 'soymilk', 'space', 'spaetzl', 'spagetti', 'spaghetti', 'spam', 'spanish', 'spare', 'sparkl', 'spatula', 'speak', 'spear', 'special', 'specialti', 'specif', 'specifi', 'speck', 'spectacular', 'speed', 'spell', 'spelt', 'spend', 'spenda', 'spent', 'spice', 'spicey', 'spici', 'spicier', 'spill', 'spin', 'spinach', 'spiral', 'spit', 'spite', 'splash', 'splenda', 'split', 'splurg', 'spoil', 'spong', 'spongi', 'spoon', 'spore', 'spot', 'spous', 'spray', 'spread', 'spreadabl', 'sprig', 'spring', 'springform', 'sprinkl', 'sprite', 'spritz', 'sprout', 'spruce', 'spud', 'squar', 'squash', 'squeez', 'squirrel', 'squirt', 'squish', 'squishi', 'sriracha', 'st', 'stab', 'stabil', 'staci', 'stack', 'stage', 'stain', 'stainless', 'stale', 'stalk', 'stand', 'standard', 'standbi', 'stapl', 'star', 'starbuck', 'starch', 'starchi', 'start', 'starter', 'starv', 'state', 'statement', 'stawberri', 'stay', 'stead', 'steak', 'steal', 'steam', 'steamer', 'steel', 'steep', 'stellar', 'stem', 'step', 'stephani', 'stepson', 'steril', 'steve', 'stevia', 'stew', 'stewart', 'stick', 'sticker', 'sticki', 'stiff', 'still', 'stink', 'stir', 'stire', 'stirfri', 'stock', 'stole', 'stomach', 'stone', 'stonewar', 'stood', 'stop', 'storag', 'store', 'storebought', 'stori', 'storm', 'stout', 'stove', 'stovetop', 'straight', 'straightforward', 'strain', 'strainer', 'strang', 'straw', 'strawberri', 'stray', 'streak', 'street', 'strength', 'stress', 'stretch', 'streusel', 'strict', 'strictli', 'strike', 'string', 'stringi', 'strip', 'stripe', 'stroganoff', 'strong', 'stronger', 'strongli', 'struggl', 'stuck', 'student', 'studi', 'stuf', 'stuff', 'stuffi', 'stumbl', 'stun', 'stupid', 'style', 'sub', 'subject', 'sublim', 'submerg', 'submiss', 'submit', 'subsequ', 'subsitut', 'substanc', 'substanti', 'substitu', 'substitut', 'subtl', 'subway', 'sucanat', 'succeed', 'success', 'succul', 'suck', 'sucker', 'suddenli', 'sue', 'suet', 'suey', 'suffer', 'suffic', 'suffici', 'sugar', 'sugari', 'suggest', 'suit', 'suitabl', 'sultana', 'sum', 'summer', 'summertim', 'sun', 'sunday', 'sundri', 'sunflow', 'sunk', 'super', 'superb', 'superbowl', 'superior', 'supermarket', 'supper', 'suppli', 'support', 'suppos', 'suprem', 'supris', 'suprisingli', 'sure', 'surfac', 'surgeri', 'surpris', 'surprisingli', 'surviv', 'susan', 'sushi', 'susi', 'suspect', 'suspici', 'swallow', 'swap', 'swear', 'sweat', 'swedish', 'sweet', 'sweeten', 'sweeter', 'sweeti', 'sweetner', 'swim', 'swirl', 'swiss', 'switch', 'syd', 'sydney', 'syrup', 'syrupi', 'system', 'ta', 'tabasco', 'tabl', 'tablespoon', 'taco', 'tad', 'tag', 'tahini', 'tail', 'tailgat', 'take', 'taken', 'takeout', 'talk', 'tall', 'tamal', 'tamari', 'tamarind', 'tan', 'tang', 'tangi', 'tap', 'tape', 'tapioca', 'target', 'tarragon', 'tart', 'tartar', 'tarter', 'task', 'tast', 'tastebud', 'tasteless', 'taster', 'tastey', 'tasti', 'tastier', 'tastiest', 'tater', 'tator', 'taught', 'tb', 'tbl', 'tblsp', 'tbsp', 'tea', 'teach', 'teacher', 'team', 'tear', 'teaspoon', 'technic', 'techniqu', 'tediou', 'tee', 'teen', 'teenag', 'teeni', 'teeth', 'tell', 'temp', 'tempeh', 'temper', 'temperatur', 'tempt', 'temptat', 'tempura', 'ten', 'tend', 'tender', 'tenderloin', 'tent', 'tequila', 'teresa', 'teriyaki', 'term', 'terribl', 'terrif', 'test', 'tester', 'tetrazzini', 'texa', 'textur', 'tf', 'th', 'thai', 'thailand', 'thank', 'thanksgiv', 'thankyou', 'thanx', 'thaw', 'thay', 'theme', 'themselv', 'theori', 'therefor', 'thermomet', 'thi', 'thick', 'thicken', 'thicker', 'thigh', 'thin', 'thing', 'think', 'thinli', 'thinner', 'third', 'thirti', 'thnx', 'tho', 'thoroughli', 'thot', 'though', 'thought', 'thouroughli', 'thousand', 'thread', 'threaten', 'three', 'threw', 'thrill', 'throat', 'throughout', 'throw', 'thrown', 'thru', 'thu', 'thumb', 'thursday', 'thx', 'thyme', 'ticket', 'tickl', 'tidbit', 'tie', 'tight', 'tightli', 'til', 'tilapia', 'till', 'time', 'timer', 'tin', 'tini', 'tinker', 'tint', 'tip', 'tire', 'tish', 'tism', 'titl', 'toast', 'toaster', 'tobasco', 'today', 'toddler', 'toffe', 'tofu', 'togeth', 'toh', 'told', 'toler', 'toll', 'tollhous', 'tom', 'tomatillo', 'tomato', 'tomatoey', 'tomorrow', 'ton', 'tone', 'tongu', 'toni', 'tonight', 'tonit', 'took', 'tool', 'tooo', 'tooth', 'toothpick', 'top', 'tope', 'topper', 'torani', 'tore', 'torn', 'tort', 'tortellini', 'tortilla', 'toss', 'tostada', 'tot', 'total', 'touch', 'tough', 'tougher', 'tour', 'tourtier', 'toward', 'towel', 'town', 'toxic', 'toxin', 'trace', 'track', 'trader', 'tradit', 'trail', 'train', 'transfer', 'translat', 'transluc', 'transplant', 'transport', 'trash', 'travel', 'tray', 'tre', 'treasur', 'treat', 'treatment', 'tree', 'tremend', 'tri', 'trial', 'triangl', 'trick', 'tricki', 'trifl', 'trim', 'trinidad', 'trip', 'tripl', 'tropic', 'troubl', 'trout', 'true', 'trueli', 'truffl', 'truli', 'trump', 'trust', 'truth', 'ts', 'tso', 'tsp', 'tub', 'tube', 'tuck', 'tuesday', 'tumer', 'tummi', 'tuna', 'tune', 'turbinado', 'turkey', 'turkish', 'turmer', 'turn', 'turnip', 'tv', 'tvp', 'twang', 'tweak', 'tweek', 'twelv', 'twenti', 'twice', 'twin', 'twinki', 'twissi', 'twist', 'two', 'tx', 'ty', 'tyler', 'type', 'typic', 'typo', 'tzatziki', 'u', 'ugh', 'ugli', 'uh', 'uk', 'ukrainian', 'ultim', 'ultra', 'um', 'unabl', 'unapp', 'unappet', 'unattract', 'unavail', 'unbak', 'unbeliev', 'unbleach', 'uncl', 'unclear', 'uncook', 'uncov', 'undercook', 'underdon', 'underneath', 'understand', 'understood', 'uned', 'unexpect', 'unfair', 'unflavor', 'unfortun', 'ungreas', 'unhappi', 'unhealthi', 'uniform', 'uniqu', 'unit', 'univers', 'unless', 'unlik', 'unnecessari', 'unpeel', 'unpleas', 'unprocess', 'unrefin', 'unruli', 'unsalt', 'unseason', 'unsuccess', 'unsur', 'unsweeten', 'unus', 'unusu', 'upcom', 'updat', 'upgrad', 'upload', 'upon', 'upper', 'upset', 'upsid', 'urg', 'us', 'usa', 'usabl', 'use', 'useless', 'user', 'usual', 'usus', 'utterli', 'v', 'vacat', 'vagu', 'valentin', 'valley', 'valu', 'van', 'vanilla', 'vanish', 'vari', 'variant', 'variat', 'varieti', 'variou', 'veal', 'veg', 'vegan', 'vege', 'veget', 'vegetarian', 'veggi', 'vegi', 'vegtabl', 'velveeta', 'velvet', 'velveti', 'velvetta', 'venison', 'verbatim', 'verd', 'veri', 'vermouth', 'versatil', 'version', 'versitil', 'versu', 'vet', 'vey', 'via', 'vicki', 'vidalia', 'video', 'view', 'vigor', 'vinaigrett', 'vindaloo', 'vine', 'vinegar', 'vinegarett', 'vinegari', 'viola', 'virgin', 'virginia', 'virtual', 'visibl', 'visit', 'visitor', 'visual', 'vital', 'vitamin', 'vodka', 'voila', 'volum', 'vomit', 'vote', 'vouch', 'vs', 'w', 'wa', 'waaaaay', 'waaaay', 'waaay', 'wafer', 'waffl', 'waist', 'wait', 'waiter', 'wake', 'walk', 'wall', 'walmart', 'walnut', 'wan', 'want', 'wari', 'warm', 'warmer', 'warmth', 'warn', 'wasabi', 'wash', 'wasnt', 'wast', 'watch', 'watcher', 'water', 'watercress', 'wateri', 'watermelon', 'wave', 'wax', 'waxi', 'way', 'weak', 'wear', 'weather', 'web', 'websit', 'wed', 'wedg', 'wednesday', 'wee', 'weed', 'week', 'weekday', 'weekend', 'weekli', 'weeknight', 'weigh', 'weight', 'weird', 'welcom', 'well', 'wendi', 'went', 'west', 'wet', 'whatev', 'whatsoev', 'wheat', 'whenev', 'wherev', 'whether', 'whew', 'whi', 'whilst', 'whim', 'whip', 'whirl', 'whisk', 'whiskey', 'white', 'whiten', 'whiz', 'whizz', 'whoa', 'whoever', 'whole', 'wholesom', 'whoop', 'whose', 'wi', 'wick', 'wide', 'wierd', 'wife', 'wigal', 'wild', 'wildli', 'william', 'wilt', 'wilton', 'wimp', 'win', 'wind', 'window', 'wine', 'wing', 'winner', 'winter', 'wipe', 'wire', 'wisconsin', 'wise', 'wish', 'wisk', 'witch', 'within', 'without', 'wo', 'wok', 'woke', 'wolf', 'woman', 'women', 'wonder', 'wonderful', 'wont', 'wonton', 'wood', 'wooden', 'woohoo', 'worcest', 'worcestershir', 'worchestershir', 'word', 'work', 'workabl', 'worker', 'world', 'worm', 'worri', 'wors', 'worst', 'worstershir', 'worth', 'worthi', 'worthwhil', 'would', 'wouldnt', 'wound', 'wow', 'wrap', 'wrapper', 'wrinkl', 'write', 'writer', 'written', 'wrong', 'wrote', 'wth', 'ww', 'x', 'xanthan', 'xma', 'xo', 'xylitol', 'ya', 'yam', 'yanke', 'yard', 'yay', 'ye', 'yea', 'yeah', 'year', 'yearli', 'yeast', 'yeasti', 'yellow', 'yep', 'yesterday', 'yet', 'yield', 'yike', 'yo', 'yoghurt', 'yogi', 'yogurt', 'yolk', 'yooper', 'york', 'yorkshir', 'young', 'younger', 'youngest', 'yr', 'yuck', 'yucki', 'yuk', 'yukon', 'yum', 'yumm', 'yummer', 'yummi', 'yummiest', 'yummm', 'yummmm', 'yummmmm', 'yummmmmm', 'yummo', 'yummylici', 'yup', 'zaar', 'zap', 'zealand', 'zee', 'zero', 'zest', 'zesti', 'zing', 'zingi', 'zingo', 'zip', 'ziploc', 'ziplock', 'ziti', 'zone', 'zucchini', 'zuchinni', 'zuri', 'zwt']\n"
     ]
    },
    {
     "name": "stderr",
     "output_type": "stream",
     "text": [
      "C:\\Users\\ajgag\\anaconda3\\envs\\capstone\\lib\\site-packages\\sklearn\\utils\\deprecation.py:87: FutureWarning: Function get_feature_names is deprecated; get_feature_names is deprecated in 1.0 and will be removed in 1.2. Please use get_feature_names_out instead.\n",
      "  warnings.warn(msg, category=FutureWarning)\n"
     ]
    }
   ],
   "source": [
    "print(bagofwords.vocabulary_)\n",
    "print(bagofwords.get_feature_names())"
   ]
  },
  {
   "cell_type": "code",
   "execution_count": 84,
   "id": "4cb70322",
   "metadata": {},
   "outputs": [
    {
     "data": {
      "text/html": [
       "<div>\n",
       "<style scoped>\n",
       "    .dataframe tbody tr th:only-of-type {\n",
       "        vertical-align: middle;\n",
       "    }\n",
       "\n",
       "    .dataframe tbody tr th {\n",
       "        vertical-align: top;\n",
       "    }\n",
       "\n",
       "    .dataframe thead th {\n",
       "        text-align: right;\n",
       "    }\n",
       "</style>\n",
       "<table border=\"1\" class=\"dataframe\">\n",
       "  <thead>\n",
       "    <tr style=\"text-align: right;\">\n",
       "      <th></th>\n",
       "      <th>RecipeId</th>\n",
       "      <th>AuthorId</th>\n",
       "      <th>AuthorName</th>\n",
       "      <th>Rating</th>\n",
       "      <th>Review</th>\n",
       "      <th>DateSubmitted</th>\n",
       "      <th>DateModified</th>\n",
       "      <th>Sentiment</th>\n",
       "    </tr>\n",
       "    <tr>\n",
       "      <th>ReviewId</th>\n",
       "      <th></th>\n",
       "      <th></th>\n",
       "      <th></th>\n",
       "      <th></th>\n",
       "      <th></th>\n",
       "      <th></th>\n",
       "      <th></th>\n",
       "      <th></th>\n",
       "    </tr>\n",
       "  </thead>\n",
       "  <tbody>\n",
       "    <tr>\n",
       "      <th>1118827</th>\n",
       "      <td>252161</td>\n",
       "      <td>107135</td>\n",
       "      <td>Dienia B.</td>\n",
       "      <td>5</td>\n",
       "      <td>fast easy cheap tasty  served with sarah beths peas  recipe #428882  complete fast cheap meal za...</td>\n",
       "      <td>2010-06-19T14:18:11Z</td>\n",
       "      <td>2010-06-19T14:18:11Z</td>\n",
       "      <td>1</td>\n",
       "    </tr>\n",
       "    <tr>\n",
       "      <th>1267367</th>\n",
       "      <td>139769</td>\n",
       "      <td>2042874</td>\n",
       "      <td>risingsun9365</td>\n",
       "      <td>0</td>\n",
       "      <td>I just finished this recipe and shamelessly scraped and licked the spoons.  It is amazing.  I ad...</td>\n",
       "      <td>2011-11-21T18:18:42Z</td>\n",
       "      <td>2011-11-21T18:18:42Z</td>\n",
       "      <td>0</td>\n",
       "    </tr>\n",
       "    <tr>\n",
       "      <th>873928</th>\n",
       "      <td>181206</td>\n",
       "      <td>137428</td>\n",
       "      <td>ctrmom</td>\n",
       "      <td>0</td>\n",
       "      <td>I am assigning no stars because I have not yet made this as written, but this is as close as rec...</td>\n",
       "      <td>2009-05-22T14:04:15Z</td>\n",
       "      <td>2009-05-22T14:04:15Z</td>\n",
       "      <td>0</td>\n",
       "    </tr>\n",
       "    <tr>\n",
       "      <th>899197</th>\n",
       "      <td>35813</td>\n",
       "      <td>992009</td>\n",
       "      <td>divertingbailey</td>\n",
       "      <td>5</td>\n",
       "      <td>Such amazing cookies! Even people who aren't huge fans of oatmeal cookies love these! Best cooki...</td>\n",
       "      <td>2009-07-02T12:30:11Z</td>\n",
       "      <td>2009-07-02T12:30:11Z</td>\n",
       "      <td>1</td>\n",
       "    </tr>\n",
       "    <tr>\n",
       "      <th>42088</th>\n",
       "      <td>50080</td>\n",
       "      <td>26584</td>\n",
       "      <td>Vic17460</td>\n",
       "      <td>2</td>\n",
       "      <td>\\r\\nAs I looked this recipe over, I wondered how this would cook slowly for 30 minutes without l...</td>\n",
       "      <td>2003-02-20T07:19:16Z</td>\n",
       "      <td>2003-02-20T07:19:16Z</td>\n",
       "      <td>0</td>\n",
       "    </tr>\n",
       "    <tr>\n",
       "      <th>...</th>\n",
       "      <td>...</td>\n",
       "      <td>...</td>\n",
       "      <td>...</td>\n",
       "      <td>...</td>\n",
       "      <td>...</td>\n",
       "      <td>...</td>\n",
       "      <td>...</td>\n",
       "      <td>...</td>\n",
       "    </tr>\n",
       "    <tr>\n",
       "      <th>954408</th>\n",
       "      <td>387934</td>\n",
       "      <td>137302</td>\n",
       "      <td>CarrolJ</td>\n",
       "      <td>5</td>\n",
       "      <td>Wonderful served with salsa!  I couldn't believe how much it resembles Chili Rellano in flavor. ...</td>\n",
       "      <td>2009-09-24T13:39:06Z</td>\n",
       "      <td>2009-09-24T13:39:06Z</td>\n",
       "      <td>1</td>\n",
       "    </tr>\n",
       "    <tr>\n",
       "      <th>833509</th>\n",
       "      <td>349579</td>\n",
       "      <td>58104</td>\n",
       "      <td>Rita1652</td>\n",
       "      <td>0</td>\n",
       "      <td>YUMMO! Comfort food this is!\\r\\nThere is a lot of juice that is released from the cabbage. It wo...</td>\n",
       "      <td>2009-03-23T18:36:34Z</td>\n",
       "      <td>2009-03-23T18:36:34Z</td>\n",
       "      <td>0</td>\n",
       "    </tr>\n",
       "    <tr>\n",
       "      <th>480449</th>\n",
       "      <td>84347</td>\n",
       "      <td>487387</td>\n",
       "      <td>Tee Angel</td>\n",
       "      <td>5</td>\n",
       "      <td>It was my turn to bake for the birthday girl at work. She requested 'anything cherry'. I searche...</td>\n",
       "      <td>2007-09-16T15:48:30Z</td>\n",
       "      <td>2007-09-16T15:48:30Z</td>\n",
       "      <td>1</td>\n",
       "    </tr>\n",
       "    <tr>\n",
       "      <th>1318554</th>\n",
       "      <td>272990</td>\n",
       "      <td>107135</td>\n",
       "      <td>Dienia B.</td>\n",
       "      <td>5</td>\n",
       "      <td>made this in the blender used recipe #224908  used a little milk not cream just cause i dont wan...</td>\n",
       "      <td>2012-07-23T21:22:11Z</td>\n",
       "      <td>2012-07-23T21:22:11Z</td>\n",
       "      <td>1</td>\n",
       "    </tr>\n",
       "    <tr>\n",
       "      <th>674163</th>\n",
       "      <td>124449</td>\n",
       "      <td>167003</td>\n",
       "      <td>ColoradoCookin</td>\n",
       "      <td>1</td>\n",
       "      <td>It was... awful.  In all my reviews this is only the second one in my 3 years with zaar that I'v...</td>\n",
       "      <td>2008-07-18T17:34:49Z</td>\n",
       "      <td>2008-07-18T17:34:49Z</td>\n",
       "      <td>0</td>\n",
       "    </tr>\n",
       "  </tbody>\n",
       "</table>\n",
       "<p>142 rows × 8 columns</p>\n",
       "</div>"
      ],
      "text/plain": [
       "          RecipeId  AuthorId       AuthorName  Rating  \\\n",
       "ReviewId                                                \n",
       "1118827     252161    107135        Dienia B.       5   \n",
       "1267367     139769   2042874    risingsun9365       0   \n",
       "873928      181206    137428           ctrmom       0   \n",
       "899197       35813    992009  divertingbailey       5   \n",
       "42088        50080     26584         Vic17460       2   \n",
       "...            ...       ...              ...     ...   \n",
       "954408      387934    137302          CarrolJ       5   \n",
       "833509      349579     58104         Rita1652       0   \n",
       "480449       84347    487387        Tee Angel       5   \n",
       "1318554     272990    107135        Dienia B.       5   \n",
       "674163      124449    167003   ColoradoCookin       1   \n",
       "\n",
       "                                                                                                       Review  \\\n",
       "ReviewId                                                                                                        \n",
       "1118827   fast easy cheap tasty  served with sarah beths peas  recipe #428882  complete fast cheap meal za...   \n",
       "1267367   I just finished this recipe and shamelessly scraped and licked the spoons.  It is amazing.  I ad...   \n",
       "873928    I am assigning no stars because I have not yet made this as written, but this is as close as rec...   \n",
       "899197    Such amazing cookies! Even people who aren't huge fans of oatmeal cookies love these! Best cooki...   \n",
       "42088     \\r\\nAs I looked this recipe over, I wondered how this would cook slowly for 30 minutes without l...   \n",
       "...                                                                                                       ...   \n",
       "954408    Wonderful served with salsa!  I couldn't believe how much it resembles Chili Rellano in flavor. ...   \n",
       "833509    YUMMO! Comfort food this is!\\r\\nThere is a lot of juice that is released from the cabbage. It wo...   \n",
       "480449    It was my turn to bake for the birthday girl at work. She requested 'anything cherry'. I searche...   \n",
       "1318554   made this in the blender used recipe #224908  used a little milk not cream just cause i dont wan...   \n",
       "674163    It was... awful.  In all my reviews this is only the second one in my 3 years with zaar that I'v...   \n",
       "\n",
       "                 DateSubmitted          DateModified  Sentiment  \n",
       "ReviewId                                                         \n",
       "1118827   2010-06-19T14:18:11Z  2010-06-19T14:18:11Z          1  \n",
       "1267367   2011-11-21T18:18:42Z  2011-11-21T18:18:42Z          0  \n",
       "873928    2009-05-22T14:04:15Z  2009-05-22T14:04:15Z          0  \n",
       "899197    2009-07-02T12:30:11Z  2009-07-02T12:30:11Z          1  \n",
       "42088     2003-02-20T07:19:16Z  2003-02-20T07:19:16Z          0  \n",
       "...                        ...                   ...        ...  \n",
       "954408    2009-09-24T13:39:06Z  2009-09-24T13:39:06Z          1  \n",
       "833509    2009-03-23T18:36:34Z  2009-03-23T18:36:34Z          0  \n",
       "480449    2007-09-16T15:48:30Z  2007-09-16T15:48:30Z          1  \n",
       "1318554   2012-07-23T21:22:11Z  2012-07-23T21:22:11Z          1  \n",
       "674163    2008-07-18T17:34:49Z  2008-07-18T17:34:49Z          0  \n",
       "\n",
       "[142 rows x 8 columns]"
      ]
     },
     "execution_count": 84,
     "metadata": {},
     "output_type": "execute_result"
    }
   ],
   "source": [
    "sample_reviews[sample_reviews['Review'].str.contains('zaar')]"
   ]
  },
  {
   "cell_type": "code",
   "execution_count": 85,
   "id": "8f2ded51",
   "metadata": {},
   "outputs": [],
   "source": [
    "pd.set_option('display.max_colwidth', None)"
   ]
  },
  {
   "cell_type": "code",
   "execution_count": 97,
   "id": "d6e9d766",
   "metadata": {},
   "outputs": [
    {
     "data": {
      "text/html": [
       "<div>\n",
       "<style scoped>\n",
       "    .dataframe tbody tr th:only-of-type {\n",
       "        vertical-align: middle;\n",
       "    }\n",
       "\n",
       "    .dataframe tbody tr th {\n",
       "        vertical-align: top;\n",
       "    }\n",
       "\n",
       "    .dataframe thead th {\n",
       "        text-align: right;\n",
       "    }\n",
       "</style>\n",
       "<table border=\"1\" class=\"dataframe\">\n",
       "  <thead>\n",
       "    <tr style=\"text-align: right;\">\n",
       "      <th></th>\n",
       "      <th>RecipeId</th>\n",
       "      <th>AuthorId</th>\n",
       "      <th>AuthorName</th>\n",
       "      <th>Rating</th>\n",
       "      <th>Review</th>\n",
       "      <th>DateSubmitted</th>\n",
       "      <th>DateModified</th>\n",
       "      <th>Sentiment</th>\n",
       "    </tr>\n",
       "    <tr>\n",
       "      <th>ReviewId</th>\n",
       "      <th></th>\n",
       "      <th></th>\n",
       "      <th></th>\n",
       "      <th></th>\n",
       "      <th></th>\n",
       "      <th></th>\n",
       "      <th></th>\n",
       "      <th></th>\n",
       "    </tr>\n",
       "  </thead>\n",
       "  <tbody>\n",
       "    <tr>\n",
       "      <th>1118827</th>\n",
       "      <td>252161</td>\n",
       "      <td>107135</td>\n",
       "      <td>Dienia B.</td>\n",
       "      <td>5</td>\n",
       "      <td>fast easy cheap tasty  served with sarah beths peas  recipe #428882  complete fast cheap meal zaar tour 6</td>\n",
       "      <td>2010-06-19T14:18:11Z</td>\n",
       "      <td>2010-06-19T14:18:11Z</td>\n",
       "      <td>1</td>\n",
       "    </tr>\n",
       "    <tr>\n",
       "      <th>1267367</th>\n",
       "      <td>139769</td>\n",
       "      <td>2042874</td>\n",
       "      <td>risingsun9365</td>\n",
       "      <td>0</td>\n",
       "      <td>I just finished this recipe and shamelessly scraped and licked the spoons.  It is amazing.  I added 6 oz of chocolate instead of the 3 it calls for. I think that it has a great balance between sweet and chocolate.  I am attending a crafters holiday bazaar this weekend, I'm hoping this will make a nice addition to my collection of jams and jellies that I sell.  THANK YOU</td>\n",
       "      <td>2011-11-21T18:18:42Z</td>\n",
       "      <td>2011-11-21T18:18:42Z</td>\n",
       "      <td>0</td>\n",
       "    </tr>\n",
       "    <tr>\n",
       "      <th>873928</th>\n",
       "      <td>181206</td>\n",
       "      <td>137428</td>\n",
       "      <td>ctrmom</td>\n",
       "      <td>0</td>\n",
       "      <td>I am assigning no stars because I have not yet made this as written, but this is as close as recipezaar has to the recipe our friends Newell and Karen gave us for Salsa Cruda de Tomatillo, which is 5 star excellent. The only real difference is jalapeno peppers instead of poblanos. Our recipe says 1 lb. tomatillos, 1 onion, 1 clove garlic, 2 jalapenos, 1 small bunch cilantro. I think we used 3/4 t salt. Thanks for posting!</td>\n",
       "      <td>2009-05-22T14:04:15Z</td>\n",
       "      <td>2009-05-22T14:04:15Z</td>\n",
       "      <td>0</td>\n",
       "    </tr>\n",
       "    <tr>\n",
       "      <th>899197</th>\n",
       "      <td>35813</td>\n",
       "      <td>992009</td>\n",
       "      <td>divertingbailey</td>\n",
       "      <td>5</td>\n",
       "      <td>Such amazing cookies! Even people who aren't huge fans of oatmeal cookies love these! Best cookie recipe I've gotten off 'zaar yet!</td>\n",
       "      <td>2009-07-02T12:30:11Z</td>\n",
       "      <td>2009-07-02T12:30:11Z</td>\n",
       "      <td>1</td>\n",
       "    </tr>\n",
       "    <tr>\n",
       "      <th>42088</th>\n",
       "      <td>50080</td>\n",
       "      <td>26584</td>\n",
       "      <td>Vic17460</td>\n",
       "      <td>2</td>\n",
       "      <td>\\r\\nAs I looked this recipe over, I wondered how this would cook slowly for 30 minutes without liquid.  Recipezaar Support was helpful, and encouraged me to find an answer and give it a try. I chose vegetable broth at ½ cup per serving. (2½ cups for 6 servings.) This seemed to be about right. I put the broth in after adding the cardamom and nutmeg in step 3. (The recipe calls for garlic twice &amp;#8211; I chose to add it in step 1, and sautéed it with the onion.)  Back to step 3, it is hard to brown that much chopped vegetable. The cabbage seems to release liquid, so the process is not real dry. I never got even the potatoes to brown, thought I stirred for over 10 minutes. I choose serranos for the peppers.  I served it with injera bread. It is ok, but even with six chopped serranos, it comes across as kind of bland.  This could be just because I am missing something about Ethiopian cooking. (More cardamom??) We have some Ethiopian restaurants in the area, and I shall give one a try before going on in an Ethiopian direction. \\r\\n</td>\n",
       "      <td>2003-02-20T07:19:16Z</td>\n",
       "      <td>2003-02-20T07:19:16Z</td>\n",
       "      <td>0</td>\n",
       "    </tr>\n",
       "    <tr>\n",
       "      <th>...</th>\n",
       "      <td>...</td>\n",
       "      <td>...</td>\n",
       "      <td>...</td>\n",
       "      <td>...</td>\n",
       "      <td>...</td>\n",
       "      <td>...</td>\n",
       "      <td>...</td>\n",
       "      <td>...</td>\n",
       "    </tr>\n",
       "    <tr>\n",
       "      <th>954408</th>\n",
       "      <td>387934</td>\n",
       "      <td>137302</td>\n",
       "      <td>CarrolJ</td>\n",
       "      <td>5</td>\n",
       "      <td>Wonderful served with salsa!  I couldn't believe how much it resembles Chili Rellano in flavor.  Surprisingly no one would ever know that there are torn pieces of flour tortillas even in this.I would think if you had any leftover it would be good inserted into a fresh tortilla with salsa and served as a breakfast burrito as well.     Very good! Made for PAC Fall 2009.\\n\\nhttp://www.recipezaar.com/bb/viewtopic.zsp?t=310505&amp;postdays=0&amp;postorder=asc&amp;start=0</td>\n",
       "      <td>2009-09-24T13:39:06Z</td>\n",
       "      <td>2009-09-24T13:39:06Z</td>\n",
       "      <td>1</td>\n",
       "    </tr>\n",
       "    <tr>\n",
       "      <th>833509</th>\n",
       "      <td>349579</td>\n",
       "      <td>58104</td>\n",
       "      <td>Rita1652</td>\n",
       "      <td>0</td>\n",
       "      <td>YUMMO! Comfort food this is!\\r\\nThere is a lot of juice that is released from the cabbage. It would be good to remove the top for half the cooking time. The Worcestershire sauce I added to the meat using only 1 teaspoon. Skipped the salt. used olive oil for sauteing the onions.\\r\\nMade for PAC http://www.recipezaar.com/bb/viewtopic.zsp?t=296583&amp;postdays=0&amp;postorder=asc&amp;start=0\\r\\nThanks!</td>\n",
       "      <td>2009-03-23T18:36:34Z</td>\n",
       "      <td>2009-03-23T18:36:34Z</td>\n",
       "      <td>0</td>\n",
       "    </tr>\n",
       "    <tr>\n",
       "      <th>480449</th>\n",
       "      <td>84347</td>\n",
       "      <td>487387</td>\n",
       "      <td>Tee Angel</td>\n",
       "      <td>5</td>\n",
       "      <td>It was my turn to bake for the birthday girl at work. She requested 'anything cherry'. I searched through Recipezaar for something quick. This recipe was a huge hit at work! Thank you for posting.</td>\n",
       "      <td>2007-09-16T15:48:30Z</td>\n",
       "      <td>2007-09-16T15:48:30Z</td>\n",
       "      <td>1</td>\n",
       "    </tr>\n",
       "    <tr>\n",
       "      <th>1318554</th>\n",
       "      <td>272990</td>\n",
       "      <td>107135</td>\n",
       "      <td>Dienia B.</td>\n",
       "      <td>5</td>\n",
       "      <td>made this in the blender used recipe #224908  used a little milk not cream just cause i dont want to be in more trouble with doc this is great  made for zaar world tour8</td>\n",
       "      <td>2012-07-23T21:22:11Z</td>\n",
       "      <td>2012-07-23T21:22:11Z</td>\n",
       "      <td>1</td>\n",
       "    </tr>\n",
       "    <tr>\n",
       "      <th>674163</th>\n",
       "      <td>124449</td>\n",
       "      <td>167003</td>\n",
       "      <td>ColoradoCookin</td>\n",
       "      <td>1</td>\n",
       "      <td>It was... awful.  In all my reviews this is only the second one in my 3 years with zaar that I've given 1 star.  The flavors do NOT mix and it was just plan gross.  I didn't taste enough of it for texture or anything else.  Just 1 teaspoon for each person in my house yielded the \"EW YUCK\" reaction!!</td>\n",
       "      <td>2008-07-18T17:34:49Z</td>\n",
       "      <td>2008-07-18T17:34:49Z</td>\n",
       "      <td>0</td>\n",
       "    </tr>\n",
       "  </tbody>\n",
       "</table>\n",
       "<p>142 rows × 8 columns</p>\n",
       "</div>"
      ],
      "text/plain": [
       "          RecipeId  AuthorId       AuthorName  Rating  \\\n",
       "ReviewId                                                \n",
       "1118827     252161    107135        Dienia B.       5   \n",
       "1267367     139769   2042874    risingsun9365       0   \n",
       "873928      181206    137428           ctrmom       0   \n",
       "899197       35813    992009  divertingbailey       5   \n",
       "42088        50080     26584         Vic17460       2   \n",
       "...            ...       ...              ...     ...   \n",
       "954408      387934    137302          CarrolJ       5   \n",
       "833509      349579     58104         Rita1652       0   \n",
       "480449       84347    487387        Tee Angel       5   \n",
       "1318554     272990    107135        Dienia B.       5   \n",
       "674163      124449    167003   ColoradoCookin       1   \n",
       "\n",
       "                                                                                                                                                                                                                                                                                                                                                                                                                                                                                                                                                                                                                                                                                                                                                                                                                                                                                                                                                                                                                                                                                      Review  \\\n",
       "ReviewId                                                                                                                                                                                                                                                                                                                                                                                                                                                                                                                                                                                                                                                                                                                                                                                                                                                                                                                                                                                                                                                                                       \n",
       "1118827                                                                                                                                                                                                                                                                                                                                                                                                                                                                                                                                                                                                                                                                                                                                                                                                                                                                                                                                                                            fast easy cheap tasty  served with sarah beths peas  recipe #428882  complete fast cheap meal zaar tour 6   \n",
       "1267367                                                                                                                                                                                                                                                                                                                                                                                                                                                                                                                                                                                                                                                                                                 I just finished this recipe and shamelessly scraped and licked the spoons.  It is amazing.  I added 6 oz of chocolate instead of the 3 it calls for. I think that it has a great balance between sweet and chocolate.  I am attending a crafters holiday bazaar this weekend, I'm hoping this will make a nice addition to my collection of jams and jellies that I sell.  THANK YOU   \n",
       "873928                                                                                                                                                                                                                                                                                                                                                                                                                                                                                                                                                                                                                                             I am assigning no stars because I have not yet made this as written, but this is as close as recipezaar has to the recipe our friends Newell and Karen gave us for Salsa Cruda de Tomatillo, which is 5 star excellent. The only real difference is jalapeno peppers instead of poblanos. Our recipe says 1 lb. tomatillos, 1 onion, 1 clove garlic, 2 jalapenos, 1 small bunch cilantro. I think we used 3/4 t salt. Thanks for posting!   \n",
       "899197                                                                                                                                                                                                                                                                                                                                                                                                                                                                                                                                                                                                                                                                                                                                                                                                                                                                                                                                                   Such amazing cookies! Even people who aren't huge fans of oatmeal cookies love these! Best cookie recipe I've gotten off 'zaar yet!   \n",
       "42088     \\r\\nAs I looked this recipe over, I wondered how this would cook slowly for 30 minutes without liquid.  Recipezaar Support was helpful, and encouraged me to find an answer and give it a try. I chose vegetable broth at ½ cup per serving. (2½ cups for 6 servings.) This seemed to be about right. I put the broth in after adding the cardamom and nutmeg in step 3. (The recipe calls for garlic twice &#8211; I chose to add it in step 1, and sautéed it with the onion.)  Back to step 3, it is hard to brown that much chopped vegetable. The cabbage seems to release liquid, so the process is not real dry. I never got even the potatoes to brown, thought I stirred for over 10 minutes. I choose serranos for the peppers.  I served it with injera bread. It is ok, but even with six chopped serranos, it comes across as kind of bland.  This could be just because I am missing something about Ethiopian cooking. (More cardamom??) We have some Ethiopian restaurants in the area, and I shall give one a try before going on in an Ethiopian direction. \\r\\n   \n",
       "...                                                                                                                                                                                                                                                                                                                                                                                                                                                                                                                                                                                                                                                                                                                                                                                                                                                                                                                                                                                                                                                                                      ...   \n",
       "954408                                                                                                                                                                                                                                                                                                                                                                                                                                                                                                                                                                                                            Wonderful served with salsa!  I couldn't believe how much it resembles Chili Rellano in flavor.  Surprisingly no one would ever know that there are torn pieces of flour tortillas even in this.I would think if you had any leftover it would be good inserted into a fresh tortilla with salsa and served as a breakfast burrito as well.     Very good! Made for PAC Fall 2009.\\n\\nhttp://www.recipezaar.com/bb/viewtopic.zsp?t=310505&postdays=0&postorder=asc&start=0   \n",
       "833509                                                                                                                                                                                                                                                                                                                                                                                                                                                                                                                                                                                                                                                                                YUMMO! Comfort food this is!\\r\\nThere is a lot of juice that is released from the cabbage. It would be good to remove the top for half the cooking time. The Worcestershire sauce I added to the meat using only 1 teaspoon. Skipped the salt. used olive oil for sauteing the onions.\\r\\nMade for PAC http://www.recipezaar.com/bb/viewtopic.zsp?t=296583&postdays=0&postorder=asc&start=0\\r\\nThanks!   \n",
       "480449                                                                                                                                                                                                                                                                                                                                                                                                                                                                                                                                                                                                                                                                                                                                                                                                                                                                                  It was my turn to bake for the birthday girl at work. She requested 'anything cherry'. I searched through Recipezaar for something quick. This recipe was a huge hit at work! Thank you for posting.   \n",
       "1318554                                                                                                                                                                                                                                                                                                                                                                                                                                                                                                                                                                                                                                                                                                                                                                                                                                                                                                            made this in the blender used recipe #224908  used a little milk not cream just cause i dont want to be in more trouble with doc this is great  made for zaar world tour8   \n",
       "674163                                                                                                                                                                                                                                                                                                                                                                                                                                                                                                                                                                                                                                                                                                                                                                          It was... awful.  In all my reviews this is only the second one in my 3 years with zaar that I've given 1 star.  The flavors do NOT mix and it was just plan gross.  I didn't taste enough of it for texture or anything else.  Just 1 teaspoon for each person in my house yielded the \"EW YUCK\" reaction!!   \n",
       "\n",
       "                 DateSubmitted          DateModified  Sentiment  \n",
       "ReviewId                                                         \n",
       "1118827   2010-06-19T14:18:11Z  2010-06-19T14:18:11Z          1  \n",
       "1267367   2011-11-21T18:18:42Z  2011-11-21T18:18:42Z          0  \n",
       "873928    2009-05-22T14:04:15Z  2009-05-22T14:04:15Z          0  \n",
       "899197    2009-07-02T12:30:11Z  2009-07-02T12:30:11Z          1  \n",
       "42088     2003-02-20T07:19:16Z  2003-02-20T07:19:16Z          0  \n",
       "...                        ...                   ...        ...  \n",
       "954408    2009-09-24T13:39:06Z  2009-09-24T13:39:06Z          1  \n",
       "833509    2009-03-23T18:36:34Z  2009-03-23T18:36:34Z          0  \n",
       "480449    2007-09-16T15:48:30Z  2007-09-16T15:48:30Z          1  \n",
       "1318554   2012-07-23T21:22:11Z  2012-07-23T21:22:11Z          1  \n",
       "674163    2008-07-18T17:34:49Z  2008-07-18T17:34:49Z          0  \n",
       "\n",
       "[142 rows x 8 columns]"
      ]
     },
     "execution_count": 97,
     "metadata": {},
     "output_type": "execute_result"
    }
   ],
   "source": [
    "sample_reviews[sample_reviews['Review'].str.contains('zaar')]"
   ]
  },
  {
   "cell_type": "markdown",
   "id": "e7739151",
   "metadata": {},
   "source": [
    "I was very curious about certain words such as zaar, dh, zwt, pac, so I made the code above to start diging more into what they mean. I found out the following:\n",
    "- Zaar: It was the previous name of the website was recipezaar.com and people often reffer to the site as Zaar, many of the comments say they are happy to find a recipe they found before in zaar, others jsut talking about the site (mostly the old comments).\n",
    "- dh: abbreviation for Dietary history\n",
    "- zwt: seemed like a random word but it actually is an abbreviation for Zero Waiting Time, makes sense to have it on positive since it means the recipe is very fast to make which makes people have a positive sentiment towards the recipe.\n",
    "- pac: pace. Some people refer to the apce being fast and easy which is also positive.\n",
    "- tag: was the most tricky one, the main one is people talking about being tagged on the recipe by someone or in most cases say they are 'tagging it' or 'tagged it' because they liked it (apparently they are saving it on favorites, maybe was a previous name from previous site since  most of this comments are old).  In some case no real meaning, 'tag game' was mentioned 169 times as well as people asking or talking about being tagged in certain recipe. "
   ]
  },
  {
   "cell_type": "markdown",
   "id": "9753d1ec",
   "metadata": {},
   "source": [
    "# Testing sentences with logreg"
   ]
  },
  {
   "cell_type": "code",
   "execution_count": 58,
   "id": "d676a34f",
   "metadata": {},
   "outputs": [
    {
     "name": "stdout",
     "output_type": "stream",
     "text": [
      "['wonder', 'love', 'amaz']\n"
     ]
    }
   ],
   "source": [
    "# Preprocess the new sentence\n",
    "new_sentence = \"wonderful I love it, its amazing\"\n",
    "new_sentece = str(new_sentence)\n",
    "\n",
    "preprocessed_sentence = my_tokenizer(new_sentence)  # Applies the same preprocessing steps used for training\n",
    "#preprocessed_sentence = ' '.join(preprocessed_sentence)  # Converts the list of tokens to a single string\n",
    "# preprocessed not really working, have to update this\n",
    "print(preprocessed_sentence)\n",
    "\n",
    "#check recall , balance, confusion matrix, TIDF ---> different type (score based on how often they appear)\n",
    "# check decision tree, knn, compre different models\n"
   ]
  },
  {
   "cell_type": "code",
   "execution_count": 59,
   "id": "12f31d8c",
   "metadata": {},
   "outputs": [
    {
     "name": "stdout",
     "output_type": "stream",
     "text": [
      "['hate', 'worst', 'thing', 'ever']\n",
      "[0]\n"
     ]
    }
   ],
   "source": [
    "# Transforms the preprocessed sentence using the trained CountVectorizer (bag of words)\n",
    "# Preprocess the new sentence\n",
    "new_sentence = \"hate it, its worst thing ever\"\n",
    "new_sentece = str(new_sentence)\n",
    "\n",
    "preprocessed_sentence = my_tokenizer(new_sentence)  # Applies the same preprocessing steps used for training\n",
    "#preprocessed_sentence = ' '.join(preprocessed_sentence)  # Converts the list of tokens to a single string\n",
    "# preprocessed not really working, have to update this\n",
    "print(preprocessed_sentence)\n",
    "\n",
    "new_sentence_transformed = bagofwords.transform([new_sentence])\n",
    "\n",
    "print(logreg.predict(new_sentence_transformed))"
   ]
  },
  {
   "cell_type": "code",
   "execution_count": 60,
   "id": "bdcbb2c7",
   "metadata": {},
   "outputs": [
    {
     "name": "stdout",
     "output_type": "stream",
     "text": [
      "[['hate', 'worst', 'thing', 'ever']]\n",
      "[0]\n"
     ]
    }
   ],
   "source": [
    "# Transforms the preprocessed sentence using the trained CountVectorizer (bag of words)\n",
    "new_sentence_transformed = bagofwords.transform([preprocessed_sentence[0]])\n",
    "print([preprocessed_sentence])\n",
    "print(logreg.predict(new_sentence_transformed))"
   ]
  },
  {
   "cell_type": "code",
   "execution_count": 61,
   "id": "8581262d",
   "metadata": {
    "scrolled": true
   },
   "outputs": [
    {
     "name": "stdout",
     "output_type": "stream",
     "text": [
      "The sentence has a negative sentiment.\n"
     ]
    }
   ],
   "source": [
    "# Transforms the preprocessed sentence using the trained CountVectorizer (bag of words)\n",
    "new_sentence_transformed = bagofwords.transform([preprocessed_sentence[0]])\n",
    "\n",
    "\n",
    "# Make a prediction on the transformed sentence using the trained logistic regression model\n",
    "sentiment_prediction = logreg.predict(new_sentence_transformed)\n",
    "\n",
    "# Interpret the prediction ... 1 would be something similar to a good rating (4 or 5 stars), while 0 would be a bad one\n",
    "if sentiment_prediction == 1:\n",
    "    print(\"The sentence has a positive sentiment.\")\n",
    "else:\n",
    "    print(\"The sentence has a negative sentiment.\")"
   ]
  },
  {
   "cell_type": "markdown",
   "id": "d6ece28a",
   "metadata": {},
   "source": [
    "Because of the data imbalance, it is always predicting Positive comments (since 90% of the data is positive) so I will wor in resampling to see if this solves the problem"
   ]
  },
  {
   "cell_type": "code",
   "execution_count": 62,
   "id": "5bc6ebf9",
   "metadata": {},
   "outputs": [],
   "source": [
    "# from sklearn.utils import resample"
   ]
  },
  {
   "cell_type": "code",
   "execution_count": 63,
   "id": "f6b4d2ce",
   "metadata": {},
   "outputs": [],
   "source": [
    "# print('Number of samples before:', X_train_sample_transformed.shape)\n",
    "\n",
    "# print(X_test_sample_transformed.shape)\n",
    "# X_upsampled, y_upsampled = resample(X_train_sample_transformed[y_train_sample == 1], \n",
    "#                                     y_train_sample[y_train_sample == 1], \n",
    "#                                     replace=True, \n",
    "#                                     n_samples= 50000, \n",
    "#                                     stratify = y_train_sample,\n",
    "#                                     random_state=1)\n",
    "\n",
    "# print('Number of samples afer:', X_upsampled.shape)"
   ]
  },
  {
   "cell_type": "code",
   "execution_count": 64,
   "id": "30d26008",
   "metadata": {},
   "outputs": [],
   "source": [
    "# questions to make\n",
    "# should i make a decision tree for the recomendation? or knn or something with bayes?\n",
    "\n",
    "# self note: do model evaluation, test True positives, false positive, true negative, false negative\n",
    "# there is class imbalance so do model evaluation stuff\n",
    "# i hae to do a value_counts to see how many i have of each rating to make a good resample\n",
    "# use stratify , will pick samples in a smart way"
   ]
  },
  {
   "cell_type": "code",
   "execution_count": 65,
   "id": "109bb05c",
   "metadata": {},
   "outputs": [],
   "source": [
    "# acurracy , precision, recall, confusion matrix\n",
    "# ok i have to try different classifiers, hyperparameters (diffeerent c values, k values, which ones are performing the best)\n",
    "# resample\n",
    "# stratify\n",
    "# create similar content to the text adata, how do we write code, expand on my own data.\n",
    "# word cloud is ok\n"
   ]
  },
  {
   "cell_type": "code",
   "execution_count": 66,
   "id": "9ee67a83",
   "metadata": {},
   "outputs": [],
   "source": [
    "# try svm, hyper parameter, KNN, create pipelines ----> \n",
    "# ue counvectorizer or tfid... check ML pipelines.... "
   ]
  }
 ],
 "metadata": {
  "kernelspec": {
   "display_name": "Python 3 (ipykernel)",
   "language": "python",
   "name": "python3"
  },
  "language_info": {
   "codemirror_mode": {
    "name": "ipython",
    "version": 3
   },
   "file_extension": ".py",
   "mimetype": "text/x-python",
   "name": "python",
   "nbconvert_exporter": "python",
   "pygments_lexer": "ipython3",
   "version": "3.9.13"
  }
 },
 "nbformat": 4,
 "nbformat_minor": 5
}
