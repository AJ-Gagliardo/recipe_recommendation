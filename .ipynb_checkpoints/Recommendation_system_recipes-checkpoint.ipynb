{
 "cells": [
  {
   "cell_type": "code",
   "execution_count": 1,
   "id": "38282532",
   "metadata": {},
   "outputs": [],
   "source": [
    "import pandas as pd\n",
    "import numpy as np"
   ]
  },
  {
   "cell_type": "code",
   "execution_count": 2,
   "id": "4eb1e50e",
   "metadata": {},
   "outputs": [],
   "source": [
    "recipes = pd.read_csv('foodcom_with_reviews/recipes.csv', index_col = 'RecipeId')"
   ]
  },
  {
   "cell_type": "code",
   "execution_count": 3,
   "id": "56d84f05",
   "metadata": {},
   "outputs": [
    {
     "data": {
      "text/html": [
       "<div>\n",
       "<style scoped>\n",
       "    .dataframe tbody tr th:only-of-type {\n",
       "        vertical-align: middle;\n",
       "    }\n",
       "\n",
       "    .dataframe tbody tr th {\n",
       "        vertical-align: top;\n",
       "    }\n",
       "\n",
       "    .dataframe thead th {\n",
       "        text-align: right;\n",
       "    }\n",
       "</style>\n",
       "<table border=\"1\" class=\"dataframe\">\n",
       "  <thead>\n",
       "    <tr style=\"text-align: right;\">\n",
       "      <th></th>\n",
       "      <th>Name</th>\n",
       "      <th>AuthorId</th>\n",
       "      <th>AuthorName</th>\n",
       "      <th>CookTime</th>\n",
       "      <th>PrepTime</th>\n",
       "      <th>TotalTime</th>\n",
       "      <th>DatePublished</th>\n",
       "      <th>Description</th>\n",
       "      <th>Images</th>\n",
       "      <th>RecipeCategory</th>\n",
       "      <th>...</th>\n",
       "      <th>SaturatedFatContent</th>\n",
       "      <th>CholesterolContent</th>\n",
       "      <th>SodiumContent</th>\n",
       "      <th>CarbohydrateContent</th>\n",
       "      <th>FiberContent</th>\n",
       "      <th>SugarContent</th>\n",
       "      <th>ProteinContent</th>\n",
       "      <th>RecipeServings</th>\n",
       "      <th>RecipeYield</th>\n",
       "      <th>RecipeInstructions</th>\n",
       "    </tr>\n",
       "    <tr>\n",
       "      <th>RecipeId</th>\n",
       "      <th></th>\n",
       "      <th></th>\n",
       "      <th></th>\n",
       "      <th></th>\n",
       "      <th></th>\n",
       "      <th></th>\n",
       "      <th></th>\n",
       "      <th></th>\n",
       "      <th></th>\n",
       "      <th></th>\n",
       "      <th></th>\n",
       "      <th></th>\n",
       "      <th></th>\n",
       "      <th></th>\n",
       "      <th></th>\n",
       "      <th></th>\n",
       "      <th></th>\n",
       "      <th></th>\n",
       "      <th></th>\n",
       "      <th></th>\n",
       "      <th></th>\n",
       "    </tr>\n",
       "  </thead>\n",
       "  <tbody>\n",
       "    <tr>\n",
       "      <th>38</th>\n",
       "      <td>Low-Fat Berry Blue Frozen Dessert</td>\n",
       "      <td>1533</td>\n",
       "      <td>Dancer</td>\n",
       "      <td>PT24H</td>\n",
       "      <td>PT45M</td>\n",
       "      <td>PT24H45M</td>\n",
       "      <td>1999-08-09T21:46:00Z</td>\n",
       "      <td>Make and share this Low-Fat Berry Blue Frozen ...</td>\n",
       "      <td>c(\"https://img.sndimg.com/food/image/upload/w_...</td>\n",
       "      <td>Frozen Desserts</td>\n",
       "      <td>...</td>\n",
       "      <td>1.3</td>\n",
       "      <td>8.0</td>\n",
       "      <td>29.8</td>\n",
       "      <td>37.1</td>\n",
       "      <td>3.6</td>\n",
       "      <td>30.2</td>\n",
       "      <td>3.2</td>\n",
       "      <td>4.0</td>\n",
       "      <td>NaN</td>\n",
       "      <td>c(\"Toss 2 cups berries with sugar.\", \"Let stan...</td>\n",
       "    </tr>\n",
       "    <tr>\n",
       "      <th>39</th>\n",
       "      <td>Biryani</td>\n",
       "      <td>1567</td>\n",
       "      <td>elly9812</td>\n",
       "      <td>PT25M</td>\n",
       "      <td>PT4H</td>\n",
       "      <td>PT4H25M</td>\n",
       "      <td>1999-08-29T13:12:00Z</td>\n",
       "      <td>Make and share this Biryani recipe from Food.com.</td>\n",
       "      <td>c(\"https://img.sndimg.com/food/image/upload/w_...</td>\n",
       "      <td>Chicken Breast</td>\n",
       "      <td>...</td>\n",
       "      <td>16.6</td>\n",
       "      <td>372.8</td>\n",
       "      <td>368.4</td>\n",
       "      <td>84.4</td>\n",
       "      <td>9.0</td>\n",
       "      <td>20.4</td>\n",
       "      <td>63.4</td>\n",
       "      <td>6.0</td>\n",
       "      <td>NaN</td>\n",
       "      <td>c(\"Soak saffron in warm milk for 5 minutes and...</td>\n",
       "    </tr>\n",
       "    <tr>\n",
       "      <th>40</th>\n",
       "      <td>Best Lemonade</td>\n",
       "      <td>1566</td>\n",
       "      <td>Stephen Little</td>\n",
       "      <td>PT5M</td>\n",
       "      <td>PT30M</td>\n",
       "      <td>PT35M</td>\n",
       "      <td>1999-09-05T19:52:00Z</td>\n",
       "      <td>This is from one of my  first Good House Keepi...</td>\n",
       "      <td>c(\"https://img.sndimg.com/food/image/upload/w_...</td>\n",
       "      <td>Beverages</td>\n",
       "      <td>...</td>\n",
       "      <td>0.0</td>\n",
       "      <td>0.0</td>\n",
       "      <td>1.8</td>\n",
       "      <td>81.5</td>\n",
       "      <td>0.4</td>\n",
       "      <td>77.2</td>\n",
       "      <td>0.3</td>\n",
       "      <td>4.0</td>\n",
       "      <td>NaN</td>\n",
       "      <td>c(\"Into a 1 quart Jar with tight fitting lid, ...</td>\n",
       "    </tr>\n",
       "    <tr>\n",
       "      <th>41</th>\n",
       "      <td>Carina's Tofu-Vegetable Kebabs</td>\n",
       "      <td>1586</td>\n",
       "      <td>Cyclopz</td>\n",
       "      <td>PT20M</td>\n",
       "      <td>PT24H</td>\n",
       "      <td>PT24H20M</td>\n",
       "      <td>1999-09-03T14:54:00Z</td>\n",
       "      <td>This dish is best prepared a day in advance to...</td>\n",
       "      <td>c(\"https://img.sndimg.com/food/image/upload/w_...</td>\n",
       "      <td>Soy/Tofu</td>\n",
       "      <td>...</td>\n",
       "      <td>3.8</td>\n",
       "      <td>0.0</td>\n",
       "      <td>1558.6</td>\n",
       "      <td>64.2</td>\n",
       "      <td>17.3</td>\n",
       "      <td>32.1</td>\n",
       "      <td>29.3</td>\n",
       "      <td>2.0</td>\n",
       "      <td>4 kebabs</td>\n",
       "      <td>c(\"Drain the tofu, carefully squeezing out exc...</td>\n",
       "    </tr>\n",
       "    <tr>\n",
       "      <th>42</th>\n",
       "      <td>Cabbage Soup</td>\n",
       "      <td>1538</td>\n",
       "      <td>Duckie067</td>\n",
       "      <td>PT30M</td>\n",
       "      <td>PT20M</td>\n",
       "      <td>PT50M</td>\n",
       "      <td>1999-09-19T06:19:00Z</td>\n",
       "      <td>Make and share this Cabbage Soup recipe from F...</td>\n",
       "      <td>\"https://img.sndimg.com/food/image/upload/w_55...</td>\n",
       "      <td>Vegetable</td>\n",
       "      <td>...</td>\n",
       "      <td>0.1</td>\n",
       "      <td>0.0</td>\n",
       "      <td>959.3</td>\n",
       "      <td>25.1</td>\n",
       "      <td>4.8</td>\n",
       "      <td>17.7</td>\n",
       "      <td>4.3</td>\n",
       "      <td>4.0</td>\n",
       "      <td>NaN</td>\n",
       "      <td>c(\"Mix everything together and bring to a boil...</td>\n",
       "    </tr>\n",
       "  </tbody>\n",
       "</table>\n",
       "<p>5 rows × 27 columns</p>\n",
       "</div>"
      ],
      "text/plain": [
       "                                       Name  AuthorId      AuthorName  \\\n",
       "RecipeId                                                                \n",
       "38        Low-Fat Berry Blue Frozen Dessert      1533          Dancer   \n",
       "39                                  Biryani      1567        elly9812   \n",
       "40                            Best Lemonade      1566  Stephen Little   \n",
       "41           Carina's Tofu-Vegetable Kebabs      1586         Cyclopz   \n",
       "42                             Cabbage Soup      1538       Duckie067   \n",
       "\n",
       "         CookTime PrepTime TotalTime         DatePublished  \\\n",
       "RecipeId                                                     \n",
       "38          PT24H    PT45M  PT24H45M  1999-08-09T21:46:00Z   \n",
       "39          PT25M     PT4H   PT4H25M  1999-08-29T13:12:00Z   \n",
       "40           PT5M    PT30M     PT35M  1999-09-05T19:52:00Z   \n",
       "41          PT20M    PT24H  PT24H20M  1999-09-03T14:54:00Z   \n",
       "42          PT30M    PT20M     PT50M  1999-09-19T06:19:00Z   \n",
       "\n",
       "                                                Description  \\\n",
       "RecipeId                                                      \n",
       "38        Make and share this Low-Fat Berry Blue Frozen ...   \n",
       "39        Make and share this Biryani recipe from Food.com.   \n",
       "40        This is from one of my  first Good House Keepi...   \n",
       "41        This dish is best prepared a day in advance to...   \n",
       "42        Make and share this Cabbage Soup recipe from F...   \n",
       "\n",
       "                                                     Images   RecipeCategory  \\\n",
       "RecipeId                                                                       \n",
       "38        c(\"https://img.sndimg.com/food/image/upload/w_...  Frozen Desserts   \n",
       "39        c(\"https://img.sndimg.com/food/image/upload/w_...   Chicken Breast   \n",
       "40        c(\"https://img.sndimg.com/food/image/upload/w_...        Beverages   \n",
       "41        c(\"https://img.sndimg.com/food/image/upload/w_...         Soy/Tofu   \n",
       "42        \"https://img.sndimg.com/food/image/upload/w_55...        Vegetable   \n",
       "\n",
       "          ... SaturatedFatContent CholesterolContent SodiumContent  \\\n",
       "RecipeId  ...                                                        \n",
       "38        ...                 1.3                8.0          29.8   \n",
       "39        ...                16.6              372.8         368.4   \n",
       "40        ...                 0.0                0.0           1.8   \n",
       "41        ...                 3.8                0.0        1558.6   \n",
       "42        ...                 0.1                0.0         959.3   \n",
       "\n",
       "          CarbohydrateContent  FiberContent  SugarContent  ProteinContent  \\\n",
       "RecipeId                                                                    \n",
       "38                       37.1           3.6          30.2             3.2   \n",
       "39                       84.4           9.0          20.4            63.4   \n",
       "40                       81.5           0.4          77.2             0.3   \n",
       "41                       64.2          17.3          32.1            29.3   \n",
       "42                       25.1           4.8          17.7             4.3   \n",
       "\n",
       "          RecipeServings  RecipeYield  \\\n",
       "RecipeId                                \n",
       "38                   4.0          NaN   \n",
       "39                   6.0          NaN   \n",
       "40                   4.0          NaN   \n",
       "41                   2.0     4 kebabs   \n",
       "42                   4.0          NaN   \n",
       "\n",
       "                                         RecipeInstructions  \n",
       "RecipeId                                                     \n",
       "38        c(\"Toss 2 cups berries with sugar.\", \"Let stan...  \n",
       "39        c(\"Soak saffron in warm milk for 5 minutes and...  \n",
       "40        c(\"Into a 1 quart Jar with tight fitting lid, ...  \n",
       "41        c(\"Drain the tofu, carefully squeezing out exc...  \n",
       "42        c(\"Mix everything together and bring to a boil...  \n",
       "\n",
       "[5 rows x 27 columns]"
      ]
     },
     "execution_count": 3,
     "metadata": {},
     "output_type": "execute_result"
    }
   ],
   "source": [
    "recipes.head(5)"
   ]
  },
  {
   "cell_type": "code",
   "execution_count": 4,
   "id": "c84b5c9f",
   "metadata": {},
   "outputs": [
    {
     "data": {
      "text/plain": [
       "Name                               0\n",
       "AuthorId                           0\n",
       "AuthorName                         0\n",
       "CookTime                       82545\n",
       "PrepTime                           0\n",
       "TotalTime                          0\n",
       "DatePublished                      0\n",
       "Description                        5\n",
       "Images                             1\n",
       "RecipeCategory                   751\n",
       "Keywords                       17237\n",
       "RecipeIngredientQuantities         3\n",
       "RecipeIngredientParts              0\n",
       "AggregatedRating              253223\n",
       "ReviewCount                   247489\n",
       "Calories                           0\n",
       "FatContent                         0\n",
       "SaturatedFatContent                0\n",
       "CholesterolContent                 0\n",
       "SodiumContent                      0\n",
       "CarbohydrateContent                0\n",
       "FiberContent                       0\n",
       "SugarContent                       0\n",
       "ProteinContent                     0\n",
       "RecipeServings                182911\n",
       "RecipeYield                   348071\n",
       "RecipeInstructions                 0\n",
       "dtype: int64"
      ]
     },
     "execution_count": 4,
     "metadata": {},
     "output_type": "execute_result"
    }
   ],
   "source": [
    "recipes.isnull().sum()"
   ]
  },
  {
   "cell_type": "code",
   "execution_count": 5,
   "id": "638372d4",
   "metadata": {},
   "outputs": [
    {
     "data": {
      "text/plain": [
       "(522517, 27)"
      ]
     },
     "execution_count": 5,
     "metadata": {},
     "output_type": "execute_result"
    }
   ],
   "source": [
    "recipes.shape"
   ]
  },
  {
   "cell_type": "code",
   "execution_count": 6,
   "id": "4e058162",
   "metadata": {},
   "outputs": [
    {
     "data": {
      "text/plain": [
       "Index(['Name', 'AuthorId', 'AuthorName', 'CookTime', 'PrepTime', 'TotalTime',\n",
       "       'DatePublished', 'Description', 'Images', 'RecipeCategory', 'Keywords',\n",
       "       'RecipeIngredientQuantities', 'RecipeIngredientParts',\n",
       "       'AggregatedRating', 'ReviewCount', 'Calories', 'FatContent',\n",
       "       'SaturatedFatContent', 'CholesterolContent', 'SodiumContent',\n",
       "       'CarbohydrateContent', 'FiberContent', 'SugarContent', 'ProteinContent',\n",
       "       'RecipeServings', 'RecipeYield', 'RecipeInstructions'],\n",
       "      dtype='object')"
      ]
     },
     "execution_count": 6,
     "metadata": {},
     "output_type": "execute_result"
    }
   ],
   "source": [
    "recipes.columns"
   ]
  },
  {
   "cell_type": "code",
   "execution_count": null,
   "id": "d3cc82d7",
   "metadata": {},
   "outputs": [],
   "source": [
    "recipes.loc[recipes['AggregatedRating'].isnull()]"
   ]
  },
  {
   "cell_type": "code",
   "execution_count": null,
   "id": "9cff2e28",
   "metadata": {},
   "outputs": [],
   "source": [
    "recipes.dropna(subset=['AggregatedRating'], inplace=True)"
   ]
  },
  {
   "cell_type": "code",
   "execution_count": null,
   "id": "b58790eb",
   "metadata": {},
   "outputs": [],
   "source": [
    "recipes.shape"
   ]
  },
  {
   "cell_type": "code",
   "execution_count": null,
   "id": "d9aaaba6",
   "metadata": {},
   "outputs": [],
   "source": [
    "recipes.isnull().sum()"
   ]
  },
  {
   "cell_type": "markdown",
   "id": "f5522331",
   "metadata": {},
   "source": [
    "# Choosing columns for vectorizer\n",
    "Below i will just be exploring in depth the columns to see  what they contain, to choose which ne would be better to make a vectorizer and apply the content recommendation system"
   ]
  },
  {
   "cell_type": "code",
   "execution_count": null,
   "id": "8d32fcfd",
   "metadata": {},
   "outputs": [],
   "source": [
    "top_rated = recipes.sort_values(by=['AggregatedRating', 'ReviewCount'], ascending=False)\n",
    "core_columns = ['Name', 'Keywords', 'RecipeCategory' ,'AggregatedRating', 'ReviewCount', 'Description', 'RecipeInstructions']\n",
    "top_rated[['Name', 'Keywords', 'RecipeCategory' ,'AggregatedRating', 'ReviewCount', 'Description', 'RecipeInstructions']].head(10)"
   ]
  },
  {
   "cell_type": "markdown",
   "id": "427bb632",
   "metadata": {},
   "source": [
    "Checking the top rated `Recipes` (the `AggregatedRating` column) with the most `ReviewCount`"
   ]
  },
  {
   "cell_type": "code",
   "execution_count": null,
   "id": "8900ed5c",
   "metadata": {},
   "outputs": [],
   "source": [
    "top_rated[['Name', 'Keywords', 'RecipeCategory' ,'AggregatedRating', 'ReviewCount', 'Description', 'RecipeInstructions']].loc[recipes['ReviewCount']<10]"
   ]
  },
  {
   "cell_type": "markdown",
   "id": "0ce8b18a",
   "metadata": {},
   "source": [
    "Checking if there are reviews that are high with a low amount of ReviewCount. This is a problem for my recommendation system since its not the same having a recipie with 5 stars that has only 1 or 2 reviews, vs a recipe that has thousands of reviews  and a score of 4.9. I will have to put a minimun threshold to avoid reocmmending recipes with very few count."
   ]
  },
  {
   "cell_type": "code",
   "execution_count": null,
   "id": "20bfd2a8",
   "metadata": {},
   "outputs": [],
   "source": [
    "from sklearn.feature_extraction.text import TfidfVectorizer\n",
    "from sklearn.metrics.pairwise import cosine_similarity"
   ]
  },
  {
   "cell_type": "code",
   "execution_count": null,
   "id": "6d204636",
   "metadata": {
    "scrolled": true
   },
   "outputs": [],
   "source": [
    "tfidfvec= TfidfVectorizer(min_df = 20, max_df = 0.7)"
   ]
  },
  {
   "cell_type": "code",
   "execution_count": null,
   "id": "4f7e9ae9",
   "metadata": {},
   "outputs": [],
   "source": [
    "\n",
    "recipes.loc[recipes['RecipeIngredientParts'].str.contains('cheddar')].head(5)"
   ]
  },
  {
   "cell_type": "code",
   "execution_count": null,
   "id": "5580abc9",
   "metadata": {},
   "outputs": [],
   "source": [
    "\n",
    "recipes.loc[recipes['RecipeIngredientParts'].str.contains('cheddar') & recipes['RecipeIngredientParts'].str.contains('chicken')].head(5)   #looking for columns that has this ingredient"
   ]
  },
  {
   "cell_type": "code",
   "execution_count": null,
   "id": "234b368b",
   "metadata": {},
   "outputs": [],
   "source": [
    "recipes['RecipeIngredientParts'].loc[recipes['RecipeId'] == 115]"
   ]
  },
  {
   "cell_type": "code",
   "execution_count": null,
   "id": "54e6da2a",
   "metadata": {},
   "outputs": [],
   "source": [
    "# exploring the ingridientsParts\n",
    "\n",
    "# So i can see the whole column\n",
    "pd.set_option('display.max_colwidth', None)\n",
    "\n",
    "# Access the recipe i want to see\n",
    "print(recipes['RecipeIngredientParts'].loc[recipes['RecipeId'] == 115])\n",
    "\n",
    "# setting the reset back to normal\n",
    "pd.reset_option('display.max_colwidth')\n"
   ]
  },
  {
   "cell_type": "code",
   "execution_count": null,
   "id": "4cf3f179",
   "metadata": {},
   "outputs": [],
   "source": [
    "# searching for ingridients\n",
    "ingredients = ['cheddar', 'chicken', 'garlic', 'spaghetti']  \n",
    "\n",
    "mask = True  \n",
    "\n",
    "for ingredient in ingredients:\n",
    "    mask = mask & recipes['RecipeIngredientParts'].str.contains(ingredient)\n",
    "\n",
    "result = recipes.loc[mask]\n",
    "\n",
    "result"
   ]
  },
  {
   "cell_type": "markdown",
   "id": "205b7404",
   "metadata": {},
   "source": [
    "`RecipeIngredientParts` seems like a good candidate to make the vectorizer.\n",
    "\n",
    "Next I will analyze `RecipeInstructions` to see what kind of data it contains."
   ]
  },
  {
   "cell_type": "code",
   "execution_count": null,
   "id": "b9ac5371",
   "metadata": {
    "scrolled": true
   },
   "outputs": [],
   "source": [
    "# searching for ingridients using the 'RecipeInstructions' column\n",
    "ingredients = ['cheddar', 'chicken', 'garlic', 'spaghetti']  \n",
    "\n",
    "mask = True  \n",
    "\n",
    "for ingredient in ingredients:\n",
    "    mask = mask & recipes['RecipeInstructions'].str.contains(ingredient)\n",
    "\n",
    "result = recipes.loc[mask]\n",
    "\n",
    "result"
   ]
  },
  {
   "cell_type": "markdown",
   "id": "811ca04c",
   "metadata": {},
   "source": [
    "I was checking if i would get more rows with `Recipe instructions` but it was the same quantity of rows as `RecipeIngridientsParts`"
   ]
  },
  {
   "cell_type": "code",
   "execution_count": null,
   "id": "e231b55a",
   "metadata": {},
   "outputs": [],
   "source": [
    "# searching for ingridients\n",
    "ingredients = ['cheddar', 'chicken', 'garlic', 'spaghetti']  \n",
    "\n",
    "mask = True  \n",
    "\n",
    "for ingredient in ingredients:\n",
    "    mask = mask & recipes['Description'].str.contains(ingredient)\n",
    "\n",
    "result = recipes.loc[mask]\n",
    "\n",
    "result"
   ]
  },
  {
   "cell_type": "markdown",
   "id": "d14c0e1e",
   "metadata": {},
   "source": [
    "The `description` seems  abit less accurrate."
   ]
  },
  {
   "cell_type": "code",
   "execution_count": null,
   "id": "e6568bd9",
   "metadata": {},
   "outputs": [],
   "source": [
    "recipes['RecipeInstructions'].isna().sum()"
   ]
  },
  {
   "cell_type": "code",
   "execution_count": null,
   "id": "9a31da1f",
   "metadata": {},
   "outputs": [],
   "source": [
    "recipes.shape"
   ]
  },
  {
   "cell_type": "code",
   "execution_count": null,
   "id": "0b42989e",
   "metadata": {},
   "outputs": [],
   "source": [
    "recipes['ReviewCount'].value_counts().head(10)"
   ]
  },
  {
   "cell_type": "markdown",
   "id": "1c1c721f",
   "metadata": {},
   "source": [
    "There are many recipes that have less than 10 reviews. This would be biase reviews so I will get ride of them.\n"
   ]
  },
  {
   "cell_type": "code",
   "execution_count": null,
   "id": "1237af1e",
   "metadata": {},
   "outputs": [],
   "source": [
    "recipes = recipes[recipes['ReviewCount'] >= 10]"
   ]
  },
  {
   "cell_type": "code",
   "execution_count": null,
   "id": "d0d2e95e",
   "metadata": {
    "scrolled": true
   },
   "outputs": [],
   "source": [
    "recipes.shape"
   ]
  },
  {
   "cell_type": "code",
   "execution_count": null,
   "id": "a37b8320",
   "metadata": {},
   "outputs": [],
   "source": [
    "recipes.head(5)"
   ]
  },
  {
   "cell_type": "code",
   "execution_count": null,
   "id": "7fb98c09",
   "metadata": {},
   "outputs": [],
   "source": [
    "from sklearn.feature_extraction.text import TfidfVectorizer\n",
    "\n",
    "vectorizer = TfidfVectorizer(stop_words = \"english\", min_df=20, max_df = 0.7)\n",
    "recipes['RecipeIngredientParts'] = recipes['RecipeIngredientParts'].fillna(\"\")\n",
    "\n",
    "TF_IDF_matrix = vectorizer.fit_transform(recipes['RecipeIngredientParts'])"
   ]
  },
  {
   "cell_type": "code",
   "execution_count": null,
   "id": "7614b23f",
   "metadata": {},
   "outputs": [],
   "source": [
    "TF_IDF_matrix.shape"
   ]
  },
  {
   "cell_type": "code",
   "execution_count": null,
   "id": "3846f922",
   "metadata": {},
   "outputs": [],
   "source": [
    "from sklearn.metrics.pairwise import cosine_similarity"
   ]
  },
  {
   "cell_type": "code",
   "execution_count": null,
   "id": "583089fc",
   "metadata": {},
   "outputs": [],
   "source": [
    "# checking the ingridients of 2 recipes\n",
    "# So i can see the whole column\n",
    "pd.set_option('display.max_colwidth', None)\n",
    "\n",
    "print(recipes['RecipeIngredientParts'][recipes['Name'] == 'Warm Chicken A La King'])\n",
    "print(recipes['RecipeIngredientParts'][recipes['Name'] == 'Chicken Breasts Lombardi'])\n",
    "\n",
    "\n",
    "# setting the reset back to normal\n",
    "pd.reset_option('display.max_colwidth')"
   ]
  },
  {
   "cell_type": "code",
   "execution_count": null,
   "id": "e831f264",
   "metadata": {},
   "outputs": [],
   "source": [
    "# comparing cosine_similarity of the 2 recipes\n",
    "recipe_1_index = recipes[recipes['Name'] == 'Warm Chicken A La King'].index[0]  \n",
    "recipe_2_index = recipes[recipes['Name'] == 'Chicken Breasts Lombardi'].index[0]  \n",
    "\n",
    "recipe_1 = TF_IDF_matrix[recipe_1_index, :]\n",
    "recipe_2 = TF_IDF_matrix[recipe_2_index, :]\n",
    "\n",
    "similarity = cosine_similarity(recipe_1, recipe_2)\n",
    "print(\"Similarity:\", similarity[0][0])\n"
   ]
  },
  {
   "cell_type": "code",
   "execution_count": null,
   "id": "0560d5ee",
   "metadata": {},
   "outputs": [],
   "source": [
    "# try doing the top ones to compare\n",
    "#do a very basic one with equals to check if it works... check what the recipes are...."
   ]
  },
  {
   "cell_type": "code",
   "execution_count": null,
   "id": "0ad333e4",
   "metadata": {},
   "outputs": [],
   "source": [
    "similarities = cosine_similarity(TF_IDF_matrix, dense_output=False)\n",
    "similarities.shape"
   ]
  },
  {
   "cell_type": "code",
   "execution_count": null,
   "id": "acd6a93f",
   "metadata": {},
   "outputs": [],
   "source": [
    "recipes[recipes['Name'] == 'Warm Chicken A La King'].index"
   ]
  },
  {
   "cell_type": "code",
   "execution_count": null,
   "id": "03099105",
   "metadata": {},
   "outputs": [],
   "source": [
    "# Get the column based upon the index\n",
    "recipe_index = recipes[recipes['Name'] == 'Warm Chicken A La King'].index\n",
    "\n",
    "# Create a dataframe with the movie titles\n",
    "sim_df = pd.DataFrame({'RecipeName':recipes['Name'], \n",
    "                       'similarity': np.array(similarities[recipe_index, :].todense()).squeeze()})"
   ]
  },
  {
   "cell_type": "code",
   "execution_count": null,
   "id": "beb0bc96",
   "metadata": {},
   "outputs": [],
   "source": [
    "sim_df.sort_values(by='similarity', ascending=False).head(10)"
   ]
  },
  {
   "cell_type": "code",
   "execution_count": null,
   "id": "369d2b62",
   "metadata": {},
   "outputs": [],
   "source": [
    "# checking the ingridients of 2 recipes\n",
    "# So i can see the whole column\n",
    "pd.set_option('display.max_colwidth', None)\n",
    "\n",
    "print(recipes['RecipeIngredientParts'][recipes['Name'] == 'Warm Chicken A La King'])\n",
    "print(recipes['RecipeIngredientParts'][recipes['Name'] == 'Black Bean, Corn, and Tomato Salad'])\n",
    "\n",
    "\n",
    "# setting the reset back to normal\n",
    "pd.reset_option('display.max_colwidth')"
   ]
  },
  {
   "cell_type": "code",
   "execution_count": null,
   "id": "1d006cd3",
   "metadata": {},
   "outputs": [],
   "source": []
  }
 ],
 "metadata": {
  "kernelspec": {
   "display_name": "capstone2",
   "language": "python",
   "name": "capstone2"
  },
  "language_info": {
   "codemirror_mode": {
    "name": "ipython",
    "version": 3
   },
   "file_extension": ".py",
   "mimetype": "text/x-python",
   "name": "python",
   "nbconvert_exporter": "python",
   "pygments_lexer": "ipython3",
   "version": "3.8.16"
  }
 },
 "nbformat": 4,
 "nbformat_minor": 5
}
