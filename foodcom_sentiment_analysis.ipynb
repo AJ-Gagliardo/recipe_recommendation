{
 "cells": [
  {
   "cell_type": "code",
   "execution_count": 1,
   "id": "9ef3e40e",
   "metadata": {},
   "outputs": [],
   "source": [
    "import pandas as pd\n",
    "import numpy as np\n",
    "import nltk\n",
    "import string\n",
    "import fasttext\n",
    "import contractions\n",
    "import seaborn as sns\n",
    "import matplotlib.pyplot as plt\n",
    "\n",
    "from wordcloud import WordCloud\n",
    "import nltk\n",
    "\n",
    "\n",
    "#######needed these ones on the first run####\n",
    "#nltk.download('punkt') \n",
    "#nltk.download('averaged_perceptron_tagger')\n",
    "#nltk.download('maxent_ne_chunker')\n",
    "#nltk.download('words')\n",
    "#nltk.download('vader_lexicon')\n",
    "\n",
    "from sklearn.linear_model import LogisticRegression\n",
    "from sklearn.model_selection import train_test_split\n",
    "from sklearn.feature_extraction.text import CountVectorizer\n",
    "\n",
    "\n",
    "\n",
    "from nltk.tokenize import word_tokenize\n",
    "from nltk.stem import PorterStemmer\n",
    "from nltk.corpus import stopwords, wordnet\n",
    "from nltk.stem import WordNetLemmatizer\n",
    "from nltk.sentiment import SentimentIntensityAnalyzer\n",
    "from tqdm.notebook import tqdm\n",
    "\n",
    "plt.xticks(rotation=70)\n",
    "pd.options.mode.chained_assignment = None\n",
    "pd.set_option('display.max_colwidth', 100)\n",
    "plt.style.use('ggplot')\n",
    "%matplotlib inline\n",
    "# import a lot of libraries that could be used on the project"
   ]
  },
  {
   "cell_type": "code",
   "execution_count": 2,
   "id": "fb7f6015",
   "metadata": {},
   "outputs": [],
   "source": [
    "# recipes = pd.read_csv('foodcom_with_reviews/recipes.csv')\n",
    "reviews = pd.read_csv('foodcom_with_reviews/reviews.csv')"
   ]
  },
  {
   "cell_type": "code",
   "execution_count": 3,
   "id": "1df032e7",
   "metadata": {},
   "outputs": [],
   "source": [
    "# recipes.head(1)"
   ]
  },
  {
   "cell_type": "code",
   "execution_count": 4,
   "id": "40592971",
   "metadata": {
    "scrolled": true
   },
   "outputs": [
    {
     "data": {
      "text/html": [
       "<div>\n",
       "<style scoped>\n",
       "    .dataframe tbody tr th:only-of-type {\n",
       "        vertical-align: middle;\n",
       "    }\n",
       "\n",
       "    .dataframe tbody tr th {\n",
       "        vertical-align: top;\n",
       "    }\n",
       "\n",
       "    .dataframe thead th {\n",
       "        text-align: right;\n",
       "    }\n",
       "</style>\n",
       "<table border=\"1\" class=\"dataframe\">\n",
       "  <thead>\n",
       "    <tr style=\"text-align: right;\">\n",
       "      <th></th>\n",
       "      <th>ReviewId</th>\n",
       "      <th>RecipeId</th>\n",
       "      <th>AuthorId</th>\n",
       "      <th>AuthorName</th>\n",
       "      <th>Rating</th>\n",
       "      <th>Review</th>\n",
       "      <th>DateSubmitted</th>\n",
       "      <th>DateModified</th>\n",
       "    </tr>\n",
       "  </thead>\n",
       "  <tbody>\n",
       "    <tr>\n",
       "      <th>0</th>\n",
       "      <td>2</td>\n",
       "      <td>992</td>\n",
       "      <td>2008</td>\n",
       "      <td>gayg msft</td>\n",
       "      <td>5</td>\n",
       "      <td>better than any you can get at a restaurant!</td>\n",
       "      <td>2000-01-25T21:44:00Z</td>\n",
       "      <td>2000-01-25T21:44:00Z</td>\n",
       "    </tr>\n",
       "  </tbody>\n",
       "</table>\n",
       "</div>"
      ],
      "text/plain": [
       "   ReviewId  RecipeId  AuthorId AuthorName  Rating  \\\n",
       "0         2       992      2008  gayg msft       5   \n",
       "\n",
       "                                         Review         DateSubmitted  \\\n",
       "0  better than any you can get at a restaurant!  2000-01-25T21:44:00Z   \n",
       "\n",
       "           DateModified  \n",
       "0  2000-01-25T21:44:00Z  "
      ]
     },
     "execution_count": 4,
     "metadata": {},
     "output_type": "execute_result"
    }
   ],
   "source": [
    "reviews.head(1)"
   ]
  },
  {
   "cell_type": "code",
   "execution_count": 5,
   "id": "6bfe6eea",
   "metadata": {},
   "outputs": [
    {
     "data": {
      "image/png": "[encoded data removed]",
      "text/plain": [
       "<Figure size 640x480 with 1 Axes>"
      ]
     },
     "metadata": {},
     "output_type": "display_data"
    }
   ],
   "source": [
    "values, counts = np.unique(reviews['Rating'], return_counts = True)\n",
    "normalized_counts = counts/counts.sum()\n",
    "\n",
    "plt.figure()\n",
    "plt.bar(values, normalized_counts * 100)\n",
    "plt.xlabel('Review rating')\n",
    "plt.ylabel('Percentage of reviews')\n",
    "plt.title('Rating Distribution')\n",
    "plt.show()"
   ]
  },
  {
   "cell_type": "code",
   "execution_count": 6,
   "id": "185cc374",
   "metadata": {},
   "outputs": [
    {
     "data": {
      "text/plain": [
       "(1401982, 8)"
      ]
     },
     "execution_count": 6,
     "metadata": {},
     "output_type": "execute_result"
    }
   ],
   "source": [
    "reviews.shape"
   ]
  },
  {
   "cell_type": "code",
   "execution_count": 7,
   "id": "9727a951",
   "metadata": {},
   "outputs": [],
   "source": [
    "# dropping reviews that are 3 or 4\n",
    "reviews = reviews.drop(reviews[(reviews['Rating'] == 3) | (reviews['Rating'] == 4)].index)"
   ]
  },
  {
   "cell_type": "markdown",
   "id": "f06d5f0e",
   "metadata": {},
   "source": [
    "I droped reviews that are 3 and 4 because I want to take only extremes to have a better training on if the word is positive or negative. 3 and 4 could be neutral or mixed review which could confuse my model."
   ]
  },
  {
   "cell_type": "code",
   "execution_count": null,
   "id": "27e14b4b",
   "metadata": {},
   "outputs": [],
   "source": []
  },
  {
   "cell_type": "code",
   "execution_count": 8,
   "id": "38f7b2f7",
   "metadata": {
    "scrolled": false
   },
   "outputs": [
    {
     "data": {
      "text/html": [
       "<div>\n",
       "<style scoped>\n",
       "    .dataframe tbody tr th:only-of-type {\n",
       "        vertical-align: middle;\n",
       "    }\n",
       "\n",
       "    .dataframe tbody tr th {\n",
       "        vertical-align: top;\n",
       "    }\n",
       "\n",
       "    .dataframe thead th {\n",
       "        text-align: right;\n",
       "    }\n",
       "</style>\n",
       "<table border=\"1\" class=\"dataframe\">\n",
       "  <thead>\n",
       "    <tr style=\"text-align: right;\">\n",
       "      <th></th>\n",
       "      <th>ReviewId</th>\n",
       "      <th>RecipeId</th>\n",
       "      <th>AuthorId</th>\n",
       "      <th>AuthorName</th>\n",
       "      <th>Rating</th>\n",
       "      <th>Review</th>\n",
       "      <th>DateSubmitted</th>\n",
       "      <th>DateModified</th>\n",
       "      <th>Sentiment</th>\n",
       "    </tr>\n",
       "  </thead>\n",
       "  <tbody>\n",
       "    <tr>\n",
       "      <th>0</th>\n",
       "      <td>2</td>\n",
       "      <td>992</td>\n",
       "      <td>2008</td>\n",
       "      <td>gayg msft</td>\n",
       "      <td>5</td>\n",
       "      <td>better than any you can get at a restaurant!</td>\n",
       "      <td>2000-01-25T21:44:00Z</td>\n",
       "      <td>2000-01-25T21:44:00Z</td>\n",
       "      <td>1</td>\n",
       "    </tr>\n",
       "    <tr>\n",
       "      <th>2</th>\n",
       "      <td>9</td>\n",
       "      <td>4523</td>\n",
       "      <td>2046</td>\n",
       "      <td>Gay Gilmore ckpt</td>\n",
       "      <td>2</td>\n",
       "      <td>i think i did something wrong because i could taste the cornstarch in the finished product.</td>\n",
       "      <td>2000-02-25T09:00:00Z</td>\n",
       "      <td>2000-02-25T09:00:00Z</td>\n",
       "      <td>0</td>\n",
       "    </tr>\n",
       "    <tr>\n",
       "      <th>3</th>\n",
       "      <td>13</td>\n",
       "      <td>7435</td>\n",
       "      <td>1773</td>\n",
       "      <td>Malarkey Test</td>\n",
       "      <td>5</td>\n",
       "      <td>easily the best i have ever had.  juicy flavorful, not dry.  the vegetables retain crispness as ...</td>\n",
       "      <td>2000-03-13T21:15:00Z</td>\n",
       "      <td>2000-03-13T21:15:00Z</td>\n",
       "      <td>1</td>\n",
       "    </tr>\n",
       "  </tbody>\n",
       "</table>\n",
       "</div>"
      ],
      "text/plain": [
       "   ReviewId  RecipeId  AuthorId        AuthorName  Rating  \\\n",
       "0         2       992      2008         gayg msft       5   \n",
       "2         9      4523      2046  Gay Gilmore ckpt       2   \n",
       "3        13      7435      1773     Malarkey Test       5   \n",
       "\n",
       "                                                                                                Review  \\\n",
       "0                                                         better than any you can get at a restaurant!   \n",
       "2          i think i did something wrong because i could taste the cornstarch in the finished product.   \n",
       "3  easily the best i have ever had.  juicy flavorful, not dry.  the vegetables retain crispness as ...   \n",
       "\n",
       "          DateSubmitted          DateModified  Sentiment  \n",
       "0  2000-01-25T21:44:00Z  2000-01-25T21:44:00Z          1  \n",
       "2  2000-02-25T09:00:00Z  2000-02-25T09:00:00Z          0  \n",
       "3  2000-03-13T21:15:00Z  2000-03-13T21:15:00Z          1  "
      ]
     },
     "execution_count": 8,
     "metadata": {},
     "output_type": "execute_result"
    }
   ],
   "source": [
    "reviews['Sentiment'] = np.where(reviews['Rating'] >=4, 1, 0) \n",
    "#later replace with reviews_simple or something like that\n",
    "reviews.head(3)"
   ]
  },
  {
   "cell_type": "code",
   "execution_count": 9,
   "id": "9688fc88",
   "metadata": {},
   "outputs": [
    {
     "data": {
      "image/png": "[encoded data removed]",
      "text/plain": [
       "<Figure size 640x480 with 1 Axes>"
      ]
     },
     "metadata": {},
     "output_type": "display_data"
    }
   ],
   "source": [
    "values, counts = np.unique(reviews['Sentiment'], return_counts=True)\n",
    "normalized_counts = counts/counts.sum()\n",
    "\n",
    "plt.figure()\n",
    "plt.bar(['0','1'], normalized_counts*100)\n",
    "plt.show()"
   ]
  },
  {
   "cell_type": "code",
   "execution_count": 10,
   "id": "2c70c6f3",
   "metadata": {},
   "outputs": [
    {
     "name": "stdout",
     "output_type": "stream",
     "text": [
      "[0 1]\n",
      "[ 110404 1012082]\n"
     ]
    }
   ],
   "source": [
    "print(values)\n",
    "print(counts)"
   ]
  },
  {
   "cell_type": "code",
   "execution_count": 11,
   "id": "28a02b40",
   "metadata": {},
   "outputs": [],
   "source": [
    "from sklearn.utils import resample\n",
    "\n",
    "majority_sentiment = reviews[reviews['Sentiment'] == 1]  # Majority sentiment (positive)\n",
    "minority_sentiment = reviews[reviews['Sentiment'] == 0]  # Minority sentiment (negative)\n",
    "\n",
    "# Upsample the minority sentiment\n",
    "oversampled_minority = resample(minority_sentiment,\n",
    "                                replace=True,  # Allow duplication\n",
    "                                n_samples=len(majority_sentiment),  # Match majority sentiment size\n",
    "                                random_state=42)  # Set a random seed for reproducibility\n",
    "\n",
    "# Combine the majority sentiment with the oversampled minority sentiment\n",
    "balanced_reviews = pd.concat([majority_sentiment, oversampled_minority])\n",
    "\n",
    "# Shuffle the balanced dataset\n",
    "balanced_reviews = balanced_reviews.sample(frac=1, random_state=42).reset_index(drop=True)"
   ]
  },
  {
   "cell_type": "code",
   "execution_count": 12,
   "id": "7732dc63",
   "metadata": {},
   "outputs": [
    {
     "data": {
      "text/html": [
       "<div>\n",
       "<style scoped>\n",
       "    .dataframe tbody tr th:only-of-type {\n",
       "        vertical-align: middle;\n",
       "    }\n",
       "\n",
       "    .dataframe tbody tr th {\n",
       "        vertical-align: top;\n",
       "    }\n",
       "\n",
       "    .dataframe thead th {\n",
       "        text-align: right;\n",
       "    }\n",
       "</style>\n",
       "<table border=\"1\" class=\"dataframe\">\n",
       "  <thead>\n",
       "    <tr style=\"text-align: right;\">\n",
       "      <th></th>\n",
       "      <th>ReviewId</th>\n",
       "      <th>RecipeId</th>\n",
       "      <th>AuthorId</th>\n",
       "      <th>AuthorName</th>\n",
       "      <th>Rating</th>\n",
       "      <th>Review</th>\n",
       "      <th>DateSubmitted</th>\n",
       "      <th>DateModified</th>\n",
       "      <th>Sentiment</th>\n",
       "    </tr>\n",
       "  </thead>\n",
       "  <tbody>\n",
       "    <tr>\n",
       "      <th>0</th>\n",
       "      <td>828167</td>\n",
       "      <td>332723</td>\n",
       "      <td>1204512</td>\n",
       "      <td>sahuston</td>\n",
       "      <td>1</td>\n",
       "      <td>For me, the receipe was too vague.  I did NOT have good results and felt like it was wasted mone...</td>\n",
       "      <td>2009-03-15T19:03:05Z</td>\n",
       "      <td>2009-03-15T19:03:05Z</td>\n",
       "      <td>0</td>\n",
       "    </tr>\n",
       "    <tr>\n",
       "      <th>1</th>\n",
       "      <td>2088289</td>\n",
       "      <td>156543</td>\n",
       "      <td>2002083374</td>\n",
       "      <td>Tessa i.</td>\n",
       "      <td>5</td>\n",
       "      <td>These came out perfect. Only used a little over 3 cups. When I had them ready to go on the cooki...</td>\n",
       "      <td>2020-10-23T17:14:26Z</td>\n",
       "      <td>2020-10-23T17:14:26Z</td>\n",
       "      <td>1</td>\n",
       "    </tr>\n",
       "    <tr>\n",
       "      <th>2</th>\n",
       "      <td>2081874</td>\n",
       "      <td>254086</td>\n",
       "      <td>2002694719</td>\n",
       "      <td>Danny F.</td>\n",
       "      <td>1</td>\n",
       "      <td>Not great. This is far too salty. It’s almost like all the sweet ingredients are there to help c...</td>\n",
       "      <td>2020-04-15T01:04:24Z</td>\n",
       "      <td>2020-04-15T01:04:24Z</td>\n",
       "      <td>0</td>\n",
       "    </tr>\n",
       "    <tr>\n",
       "      <th>3</th>\n",
       "      <td>2010111</td>\n",
       "      <td>389737</td>\n",
       "      <td>2001388646</td>\n",
       "      <td>Laura B.</td>\n",
       "      <td>1</td>\n",
       "      <td>It's still cooking.... It's been 1 hour and 15 mins so far- I think I will go back to my old rec...</td>\n",
       "      <td>2017-02-12T15:56:03Z</td>\n",
       "      <td>2017-02-12T15:56:03Z</td>\n",
       "      <td>0</td>\n",
       "    </tr>\n",
       "    <tr>\n",
       "      <th>4</th>\n",
       "      <td>1110791</td>\n",
       "      <td>427691</td>\n",
       "      <td>149363</td>\n",
       "      <td>Leslie</td>\n",
       "      <td>5</td>\n",
       "      <td>Wow, this was so good! I needed to use up some fresh dill, so thought I'd five this a try, and i...</td>\n",
       "      <td>2010-06-06T11:11:07Z</td>\n",
       "      <td>2010-06-06T11:11:07Z</td>\n",
       "      <td>1</td>\n",
       "    </tr>\n",
       "  </tbody>\n",
       "</table>\n",
       "</div>"
      ],
      "text/plain": [
       "   ReviewId  RecipeId    AuthorId AuthorName  Rating  \\\n",
       "0    828167    332723     1204512   sahuston       1   \n",
       "1   2088289    156543  2002083374   Tessa i.       5   \n",
       "2   2081874    254086  2002694719   Danny F.       1   \n",
       "3   2010111    389737  2001388646   Laura B.       1   \n",
       "4   1110791    427691      149363     Leslie       5   \n",
       "\n",
       "                                                                                                Review  \\\n",
       "0  For me, the receipe was too vague.  I did NOT have good results and felt like it was wasted mone...   \n",
       "1  These came out perfect. Only used a little over 3 cups. When I had them ready to go on the cooki...   \n",
       "2  Not great. This is far too salty. It’s almost like all the sweet ingredients are there to help c...   \n",
       "3  It's still cooking.... It's been 1 hour and 15 mins so far- I think I will go back to my old rec...   \n",
       "4  Wow, this was so good! I needed to use up some fresh dill, so thought I'd five this a try, and i...   \n",
       "\n",
       "          DateSubmitted          DateModified  Sentiment  \n",
       "0  2009-03-15T19:03:05Z  2009-03-15T19:03:05Z          0  \n",
       "1  2020-10-23T17:14:26Z  2020-10-23T17:14:26Z          1  \n",
       "2  2020-04-15T01:04:24Z  2020-04-15T01:04:24Z          0  \n",
       "3  2017-02-12T15:56:03Z  2017-02-12T15:56:03Z          0  \n",
       "4  2010-06-06T11:11:07Z  2010-06-06T11:11:07Z          1  "
      ]
     },
     "execution_count": 12,
     "metadata": {},
     "output_type": "execute_result"
    }
   ],
   "source": [
    "balanced_reviews.head()"
   ]
  },
  {
   "cell_type": "code",
   "execution_count": 13,
   "id": "7850bb3e",
   "metadata": {},
   "outputs": [
    {
     "data": {
      "text/html": [
       "<div>\n",
       "<style scoped>\n",
       "    .dataframe tbody tr th:only-of-type {\n",
       "        vertical-align: middle;\n",
       "    }\n",
       "\n",
       "    .dataframe tbody tr th {\n",
       "        vertical-align: top;\n",
       "    }\n",
       "\n",
       "    .dataframe thead th {\n",
       "        text-align: right;\n",
       "    }\n",
       "</style>\n",
       "<table border=\"1\" class=\"dataframe\">\n",
       "  <thead>\n",
       "    <tr style=\"text-align: right;\">\n",
       "      <th></th>\n",
       "      <th>RecipeId</th>\n",
       "      <th>AuthorId</th>\n",
       "      <th>AuthorName</th>\n",
       "      <th>Rating</th>\n",
       "      <th>Review</th>\n",
       "      <th>DateSubmitted</th>\n",
       "      <th>DateModified</th>\n",
       "      <th>Sentiment</th>\n",
       "    </tr>\n",
       "    <tr>\n",
       "      <th>ReviewId</th>\n",
       "      <th></th>\n",
       "      <th></th>\n",
       "      <th></th>\n",
       "      <th></th>\n",
       "      <th></th>\n",
       "      <th></th>\n",
       "      <th></th>\n",
       "      <th></th>\n",
       "    </tr>\n",
       "  </thead>\n",
       "  <tbody>\n",
       "    <tr>\n",
       "      <th>828167</th>\n",
       "      <td>332723</td>\n",
       "      <td>1204512</td>\n",
       "      <td>sahuston</td>\n",
       "      <td>1</td>\n",
       "      <td>For me, the receipe was too vague.  I did NOT have good results and felt like it was wasted mone...</td>\n",
       "      <td>2009-03-15T19:03:05Z</td>\n",
       "      <td>2009-03-15T19:03:05Z</td>\n",
       "      <td>0</td>\n",
       "    </tr>\n",
       "    <tr>\n",
       "      <th>2088289</th>\n",
       "      <td>156543</td>\n",
       "      <td>2002083374</td>\n",
       "      <td>Tessa i.</td>\n",
       "      <td>5</td>\n",
       "      <td>These came out perfect. Only used a little over 3 cups. When I had them ready to go on the cooki...</td>\n",
       "      <td>2020-10-23T17:14:26Z</td>\n",
       "      <td>2020-10-23T17:14:26Z</td>\n",
       "      <td>1</td>\n",
       "    </tr>\n",
       "    <tr>\n",
       "      <th>2081874</th>\n",
       "      <td>254086</td>\n",
       "      <td>2002694719</td>\n",
       "      <td>Danny F.</td>\n",
       "      <td>1</td>\n",
       "      <td>Not great. This is far too salty. It’s almost like all the sweet ingredients are there to help c...</td>\n",
       "      <td>2020-04-15T01:04:24Z</td>\n",
       "      <td>2020-04-15T01:04:24Z</td>\n",
       "      <td>0</td>\n",
       "    </tr>\n",
       "    <tr>\n",
       "      <th>2010111</th>\n",
       "      <td>389737</td>\n",
       "      <td>2001388646</td>\n",
       "      <td>Laura B.</td>\n",
       "      <td>1</td>\n",
       "      <td>It's still cooking.... It's been 1 hour and 15 mins so far- I think I will go back to my old rec...</td>\n",
       "      <td>2017-02-12T15:56:03Z</td>\n",
       "      <td>2017-02-12T15:56:03Z</td>\n",
       "      <td>0</td>\n",
       "    </tr>\n",
       "    <tr>\n",
       "      <th>1110791</th>\n",
       "      <td>427691</td>\n",
       "      <td>149363</td>\n",
       "      <td>Leslie</td>\n",
       "      <td>5</td>\n",
       "      <td>Wow, this was so good! I needed to use up some fresh dill, so thought I'd five this a try, and i...</td>\n",
       "      <td>2010-06-06T11:11:07Z</td>\n",
       "      <td>2010-06-06T11:11:07Z</td>\n",
       "      <td>1</td>\n",
       "    </tr>\n",
       "  </tbody>\n",
       "</table>\n",
       "</div>"
      ],
      "text/plain": [
       "          RecipeId    AuthorId AuthorName  Rating  \\\n",
       "ReviewId                                            \n",
       "828167      332723     1204512   sahuston       1   \n",
       "2088289     156543  2002083374   Tessa i.       5   \n",
       "2081874     254086  2002694719   Danny F.       1   \n",
       "2010111     389737  2001388646   Laura B.       1   \n",
       "1110791     427691      149363     Leslie       5   \n",
       "\n",
       "                                                                                                       Review  \\\n",
       "ReviewId                                                                                                        \n",
       "828167    For me, the receipe was too vague.  I did NOT have good results and felt like it was wasted mone...   \n",
       "2088289   These came out perfect. Only used a little over 3 cups. When I had them ready to go on the cooki...   \n",
       "2081874   Not great. This is far too salty. It’s almost like all the sweet ingredients are there to help c...   \n",
       "2010111   It's still cooking.... It's been 1 hour and 15 mins so far- I think I will go back to my old rec...   \n",
       "1110791   Wow, this was so good! I needed to use up some fresh dill, so thought I'd five this a try, and i...   \n",
       "\n",
       "                 DateSubmitted          DateModified  Sentiment  \n",
       "ReviewId                                                         \n",
       "828167    2009-03-15T19:03:05Z  2009-03-15T19:03:05Z          0  \n",
       "2088289   2020-10-23T17:14:26Z  2020-10-23T17:14:26Z          1  \n",
       "2081874   2020-04-15T01:04:24Z  2020-04-15T01:04:24Z          0  \n",
       "2010111   2017-02-12T15:56:03Z  2017-02-12T15:56:03Z          0  \n",
       "1110791   2010-06-06T11:11:07Z  2010-06-06T11:11:07Z          1  "
      ]
     },
     "execution_count": 13,
     "metadata": {},
     "output_type": "execute_result"
    }
   ],
   "source": [
    "# getting rid of the default index and replacing it with review id\n",
    "balanced_reviews.set_index('ReviewId', inplace=True)\n",
    "balanced_reviews.head()"
   ]
  },
  {
   "cell_type": "code",
   "execution_count": 14,
   "id": "0fac570d",
   "metadata": {},
   "outputs": [
    {
     "name": "stdout",
     "output_type": "stream",
     "text": [
      "Normal reviews: (1122486, 9)\n",
      "balanced reviews: (2024164, 8)\n"
     ]
    }
   ],
   "source": [
    "print(f'Normal reviews: {reviews.shape}')\n",
    "print(f'balanced reviews: {balanced_reviews.shape}')"
   ]
  },
  {
   "cell_type": "code",
   "execution_count": 15,
   "id": "fe68a155",
   "metadata": {},
   "outputs": [
    {
     "data": {
      "text/plain": [
       "0    1012082\n",
       "1    1012082\n",
       "Name: Sentiment, dtype: int64"
      ]
     },
     "execution_count": 15,
     "metadata": {},
     "output_type": "execute_result"
    }
   ],
   "source": [
    "balanced_reviews['Sentiment'].value_counts()"
   ]
  },
  {
   "cell_type": "code",
   "execution_count": 16,
   "id": "56b16e2a",
   "metadata": {},
   "outputs": [],
   "source": [
    "sample_size = 50000\n",
    "\n",
    "# Assuming you have the 'balanced_reviews' DataFrame\n",
    "\n",
    "# Check if the dataset has more than 50,000 rows\n",
    "if len(balanced_reviews) > sample_size:\n",
    "    # Take a random sample of 50,000 rows from the balanced_reviews DataFrame\n",
    "    sample_reviews = balanced_reviews.sample(n=sample_size, random_state=1)\n",
    "else:\n",
    "    # If the dataset has fewer than 50,000 rows, use the entire dataset as the sample\n",
    "    sample_reviews = balanced_reviews"
   ]
  },
  {
   "cell_type": "code",
   "execution_count": 17,
   "id": "77c8d0af",
   "metadata": {},
   "outputs": [
    {
     "data": {
      "text/plain": [
       "1    25125\n",
       "0    24875\n",
       "Name: Sentiment, dtype: int64"
      ]
     },
     "execution_count": 17,
     "metadata": {},
     "output_type": "execute_result"
    }
   ],
   "source": [
    "sample_reviews['Sentiment'].value_counts()"
   ]
  },
  {
   "cell_type": "markdown",
   "id": "fe81fcc7",
   "metadata": {},
   "source": [
    "# Start to tokenize"
   ]
  },
  {
   "cell_type": "code",
   "execution_count": 18,
   "id": "81e6950a",
   "metadata": {},
   "outputs": [],
   "source": [
    "def my_tokenizer(sentence):\n",
    "    # Instantiate stemmer and stopwords from nltk\n",
    "    stemmer = PorterStemmer()\n",
    "    stop_words = set(stopwords.words('english'))\n",
    "\n",
    "    # Tokenize the sentence into words\n",
    "    words = word_tokenize(sentence)\n",
    "\n",
    "    # Making them lower case and remove punctuation\n",
    "    stemmed_words = [stemmer.stem(word.lower()) for word in words if word.isalpha()]\n",
    "\n",
    "    # Remove if it is a stop words\n",
    "    filtered_words = [word for word in stemmed_words if word not in stop_words]\n",
    "\n",
    "    return filtered_words"
   ]
  },
  {
   "cell_type": "code",
   "execution_count": 19,
   "id": "237b9cd4",
   "metadata": {},
   "outputs": [
    {
     "data": {
      "text/plain": [
       "['quick', 'brown', 'fox', 'jump', 'lazi', 'dog']"
      ]
     },
     "execution_count": 19,
     "metadata": {},
     "output_type": "execute_result"
    }
   ],
   "source": [
    "# checking my tokenizer\n",
    "example_sentence = \"The quick brown fox, jumped over the lazy dog!!\"\n",
    "my_tokenizer(example_sentence)"
   ]
  },
  {
   "cell_type": "code",
   "execution_count": 20,
   "id": "a361ef97",
   "metadata": {
    "scrolled": true
   },
   "outputs": [],
   "source": [
    "# reviews['Tokenized_Reviews'] = reviews['Review'].apply(my_tokenizer)\n",
    "# reviews.head(2)"
   ]
  },
  {
   "cell_type": "code",
   "execution_count": 21,
   "id": "8cb3b228",
   "metadata": {
    "scrolled": true
   },
   "outputs": [],
   "source": [
    "# # I am testing another way of doing sample that is maybe better than this one\n",
    "# # Convert the values in the 'Review' column to strings\n",
    "# reviews['Review'] = reviews['Review'].astype(str)\n",
    "\n",
    "\n",
    "# # Sample a subset of the data\n",
    "# sample_reviews = reviews.sample(n=50000, random_state=1)\n",
    "\n",
    "\n"
   ]
  },
  {
   "cell_type": "code",
   "execution_count": 22,
   "id": "c5cdc0fe",
   "metadata": {},
   "outputs": [],
   "source": [
    "######### took this off for now for testing purposes ############"
   ]
  },
  {
   "cell_type": "code",
   "execution_count": 23,
   "id": "d700b105",
   "metadata": {},
   "outputs": [],
   "source": [
    "# # Apply the tokenizer function to the sampled reviews\n",
    "# tokenized_reviews = sample_reviews['Review'].apply(my_tokenizer)\n",
    "\n",
    "# sample_reviews['Tokenized_Reviews'] = tokenized_reviews\n",
    "# sample_reviews['Tokenized_Reviews'].head(3)"
   ]
  },
  {
   "cell_type": "code",
   "execution_count": null,
   "id": "883618a2",
   "metadata": {},
   "outputs": [],
   "source": []
  },
  {
   "cell_type": "code",
   "execution_count": 24,
   "id": "74a41607",
   "metadata": {},
   "outputs": [],
   "source": [
    "# # Separate the data into features (X) and target (y)\n",
    "# X = reviews.drop('Sentiment', axis=1)\n",
    "# y = reviews['Sentiment']\n",
    "\n",
    "# # Taking a chunk for our 20% test set\n",
    "# X_remainder, X_test, y_remainder, y_test = \\\n",
    "#     train_test_split(X, y, stratify=y, test_size = 0.2,\n",
    "#                      random_state=1)\n",
    "\n"
   ]
  },
  {
   "cell_type": "code",
   "execution_count": 25,
   "id": "abbe69c5",
   "metadata": {},
   "outputs": [],
   "source": [
    "# # Splitting the remainder in two chunks\n",
    "# X_train, X_validation, y_train, y_validation = \\\n",
    "#     train_test_split(X_remainder, y_remainder, test_size = 0.3,\n",
    "#                      random_state=1)\n"
   ]
  },
  {
   "cell_type": "code",
   "execution_count": 26,
   "id": "1d4a06c3",
   "metadata": {},
   "outputs": [],
   "source": [
    "# X_test.shape #just checking the shape"
   ]
  },
  {
   "cell_type": "code",
   "execution_count": 27,
   "id": "3f495fae",
   "metadata": {},
   "outputs": [],
   "source": [
    "# X_train.shape"
   ]
  },
  {
   "cell_type": "code",
   "execution_count": 28,
   "id": "bcc325aa",
   "metadata": {},
   "outputs": [],
   "source": [
    "\n",
    "\n",
    "X_sample = sample_reviews['Review'].astype(str)\n",
    "y_sample = sample_reviews['Sentiment']\n",
    "\n",
    "# Perform stratified sampling to obtain a balanced sample\n",
    "X_remainder_sample, X_test_sample, y_remainder_sample, y_test_sample = train_test_split(X_sample, y_sample,  test_size=0.2, stratify=y_sample, random_state=1)\n",
    "\n",
    "# Splitting the remainder in two chunks\n",
    "X_train_sample, X_validation_sample, y_train_sample, y_validation_sample = \\\n",
    "    train_test_split(X_remainder_sample, y_remainder_sample, test_size = 0.3,\n",
    "                     random_state=1)\n",
    "    "
   ]
  },
  {
   "cell_type": "code",
   "execution_count": 29,
   "id": "ce64eb28",
   "metadata": {},
   "outputs": [
    {
     "data": {
      "text/plain": [
       "(28000,)"
      ]
     },
     "execution_count": 29,
     "metadata": {},
     "output_type": "execute_result"
    }
   ],
   "source": [
    "X_train_sample.shape"
   ]
  },
  {
   "cell_type": "code",
   "execution_count": 30,
   "id": "c3295157",
   "metadata": {},
   "outputs": [
    {
     "data": {
      "text/plain": [
       "(10000,)"
      ]
     },
     "execution_count": 30,
     "metadata": {},
     "output_type": "execute_result"
    }
   ],
   "source": [
    "X_test_sample.shape"
   ]
  },
  {
   "cell_type": "code",
   "execution_count": 31,
   "id": "d62fbfe4",
   "metadata": {},
   "outputs": [
    {
     "data": {
      "text/html": [
       "<div>\n",
       "<style scoped>\n",
       "    .dataframe tbody tr th:only-of-type {\n",
       "        vertical-align: middle;\n",
       "    }\n",
       "\n",
       "    .dataframe tbody tr th {\n",
       "        vertical-align: top;\n",
       "    }\n",
       "\n",
       "    .dataframe thead th {\n",
       "        text-align: right;\n",
       "    }\n",
       "</style>\n",
       "<table border=\"1\" class=\"dataframe\">\n",
       "  <thead>\n",
       "    <tr style=\"text-align: right;\">\n",
       "      <th></th>\n",
       "      <th>Review</th>\n",
       "      <th>Sentiment</th>\n",
       "    </tr>\n",
       "    <tr>\n",
       "      <th>ReviewId</th>\n",
       "      <th></th>\n",
       "      <th></th>\n",
       "    </tr>\n",
       "  </thead>\n",
       "  <tbody>\n",
       "    <tr>\n",
       "      <th>1243279</th>\n",
       "      <td>First time I made cookies where I had to throw some out because they didn't get eaten, and I onl...</td>\n",
       "      <td>0</td>\n",
       "    </tr>\n",
       "    <tr>\n",
       "      <th>498076</th>\n",
       "      <td>Light, fluffy muffins that just beg to be eaten! The house smelled so good as they baked! I made...</td>\n",
       "      <td>1</td>\n",
       "    </tr>\n",
       "    <tr>\n",
       "      <th>1363915</th>\n",
       "      <td>I agree - best yellow cake ever.  I made this for my husband's birthday yesterday.  I followed t...</td>\n",
       "      <td>1</td>\n",
       "    </tr>\n",
       "  </tbody>\n",
       "</table>\n",
       "</div>"
      ],
      "text/plain": [
       "                                                                                                       Review  \\\n",
       "ReviewId                                                                                                        \n",
       "1243279   First time I made cookies where I had to throw some out because they didn't get eaten, and I onl...   \n",
       "498076    Light, fluffy muffins that just beg to be eaten! The house smelled so good as they baked! I made...   \n",
       "1363915   I agree - best yellow cake ever.  I made this for my husband's birthday yesterday.  I followed t...   \n",
       "\n",
       "          Sentiment  \n",
       "ReviewId             \n",
       "1243279           0  \n",
       "498076            1  \n",
       "1363915           1  "
      ]
     },
     "execution_count": 31,
     "metadata": {},
     "output_type": "execute_result"
    }
   ],
   "source": [
    "# Combine the features and target back into a DataFrame\n",
    "sampled_reviews = pd.concat([X_remainder_sample, y_remainder_sample], axis=1)\n",
    "sampled_reviews.head(3)"
   ]
  },
  {
   "cell_type": "code",
   "execution_count": 32,
   "id": "507208a0",
   "metadata": {},
   "outputs": [
    {
     "data": {
      "text/plain": [
       "ReviewId\n",
       "1457835    I was VERY hesitant to make this bread due to all the flip-flop reviews. I sifted threw them, go...\n",
       "2046350                                                        Hi Jubes, could I just use gluten free SR flour\n",
       "1267326    I plan to make this pie, but it seems to me it should be dotted with butter before the top crust...\n",
       "Name: Review, dtype: object"
      ]
     },
     "execution_count": 32,
     "metadata": {},
     "output_type": "execute_result"
    }
   ],
   "source": [
    "X_train_sample.head(3)"
   ]
  },
  {
   "cell_type": "code",
   "execution_count": 33,
   "id": "56ac3695",
   "metadata": {},
   "outputs": [
    {
     "data": {
      "text/plain": [
       "ReviewId\n",
       "1448360    I had this recipe for a long time and LOVED LOVED LOVED it. Then I lost it. I was bereft! Today ...\n",
       "1282267    i made these brownies and i loved them. they were chewy and chocolatey BUT.. never overbake them...\n",
       "924672     A real winner! My husband and I both loved it. It also appealed to me because of not having to b...\n",
       "Name: Review, dtype: object"
      ]
     },
     "execution_count": 33,
     "metadata": {},
     "output_type": "execute_result"
    }
   ],
   "source": [
    "X_test_sample.head(3)"
   ]
  },
  {
   "cell_type": "code",
   "execution_count": 34,
   "id": "424a2dc6",
   "metadata": {},
   "outputs": [
    {
     "data": {
      "text/plain": [
       "1    20100\n",
       "0    19900\n",
       "Name: Sentiment, dtype: int64"
      ]
     },
     "execution_count": 34,
     "metadata": {},
     "output_type": "execute_result"
    }
   ],
   "source": [
    "sampled_reviews['Sentiment'].value_counts()\n",
    "# imbalance on the values"
   ]
  },
  {
   "cell_type": "code",
   "execution_count": 35,
   "id": "624995a3",
   "metadata": {},
   "outputs": [],
   "source": [
    "# from imblearn.over_sampling import RandomOverSampler\n",
    "# oversampler = RandomOverSampler(sampling_strategy='auto', random_state=1)\n",
    "\n",
    "# X_train_sample = X_train_sample.to_numpy().reshape(-1, 1)\n",
    "# y_train_sample = y_train_sample.to_numpy().reshape(-1, 1)\n",
    "\n",
    "# X_train_oversampled, y_train_oversampled = oversampler.fit_resample(X_train_sample, y_train_sample)\n"
   ]
  },
  {
   "cell_type": "code",
   "execution_count": 36,
   "id": "8b484a19",
   "metadata": {},
   "outputs": [],
   "source": [
    "# # Convert oversampled data to DataFrames\n",
    "# X_train_oversampled = pd.DataFrame(X_train_oversampled, columns=['Review'])\n",
    "# y_train_oversampled = pd.DataFrame(y_train_oversampled, columns=['Sentiment'])\n",
    "\n",
    "# # Combine the features and target back into a DataFrame\n",
    "# oversampled_reviews = pd.concat([X_train_oversampled, y_train_oversampled], axis=1)\n",
    "# oversampled_reviews.head(3)"
   ]
  },
  {
   "cell_type": "code",
   "execution_count": 37,
   "id": "c1f4fb8f",
   "metadata": {},
   "outputs": [],
   "source": [
    "# oversampled_reviews['Sentiment'].value_counts()"
   ]
  },
  {
   "cell_type": "markdown",
   "id": "56b5e681",
   "metadata": {},
   "source": [
    "This is a lot more balanced!"
   ]
  },
  {
   "cell_type": "code",
   "execution_count": 38,
   "id": "d6ea029c",
   "metadata": {},
   "outputs": [],
   "source": [
    "# type(X_train_oversampled)"
   ]
  },
  {
   "cell_type": "code",
   "execution_count": 39,
   "id": "dee30c16",
   "metadata": {},
   "outputs": [],
   "source": [
    "# type(X_train_sample)"
   ]
  },
  {
   "cell_type": "code",
   "execution_count": 40,
   "id": "8a23b481",
   "metadata": {},
   "outputs": [],
   "source": [
    "# X_train_sample, y_train_sample = oversampler.fit_resample(X_train_sample, y_train_sample)"
   ]
  },
  {
   "cell_type": "code",
   "execution_count": 41,
   "id": "495baa87",
   "metadata": {},
   "outputs": [],
   "source": [
    "# type(X_train_sample)"
   ]
  },
  {
   "cell_type": "code",
   "execution_count": null,
   "id": "99f3a2a9",
   "metadata": {},
   "outputs": [],
   "source": []
  },
  {
   "cell_type": "code",
   "execution_count": 42,
   "id": "ec2abe33",
   "metadata": {},
   "outputs": [],
   "source": [
    "# # Convert oversampled data to DataFrames\n",
    "# X_train_sample = pd.DataFrame(X_train_sample, columns=['Review'])\n",
    "# y_train_sample = pd.DataFrame(y_train_sample, columns=['Sentiment'])\n",
    "\n",
    "# # Combine the features and target back into a DataFrame\n",
    "# sampled_reviews = pd.concat([X_train_sample, y_train_sample], axis=1)\n",
    "# sampled_reviews.head(3)"
   ]
  },
  {
   "cell_type": "code",
   "execution_count": 43,
   "id": "2a8c7e57",
   "metadata": {},
   "outputs": [],
   "source": [
    "# sampled_reviews['Sentiment'].value_counts()"
   ]
  },
  {
   "cell_type": "code",
   "execution_count": 44,
   "id": "803834d0",
   "metadata": {},
   "outputs": [],
   "source": [
    "# print(X_train_sample.dtypes)\n",
    "# print(y_train_sample.dtypes)"
   ]
  },
  {
   "cell_type": "code",
   "execution_count": 45,
   "id": "b9d64dd8",
   "metadata": {},
   "outputs": [],
   "source": [
    "# type(X_train) #I was having problem with the type for some reason\n",
    "# # solved it by using '.astype(str)'"
   ]
  },
  {
   "cell_type": "code",
   "execution_count": 46,
   "id": "d9d2b348",
   "metadata": {},
   "outputs": [
    {
     "name": "stdout",
     "output_type": "stream",
     "text": [
      "(28000, 4675)\n",
      "(10000, 4675)\n"
     ]
    }
   ],
   "source": [
    "from sklearn.feature_extraction.text import CountVectorizer\n",
    "\n",
    "# Initialize CountVectorizer with your tokenizer function\n",
    "bagofwords = CountVectorizer(min_df=5, tokenizer = my_tokenizer)\n",
    "\n",
    "# Fit and transform the training data\n",
    "X_train_sample_transformed = bagofwords.fit_transform(X_train_sample)\n",
    "\n",
    "# Transform the test data using the fitted CountVectorizer\n",
    "X_test_sample_transformed = bagofwords.transform(X_test_sample)\n",
    "\n",
    "# Check the shape of the transformed data\n",
    "print(X_train_sample_transformed.shape)\n",
    "print(X_test_sample_transformed.shape)"
   ]
  },
  {
   "cell_type": "code",
   "execution_count": 47,
   "id": "23015318",
   "metadata": {
    "scrolled": true
   },
   "outputs": [
    {
     "data": {
      "text/plain": [
       "array(['abc', 'abit', 'abl', ..., 'zuppa', 'zuri', 'zwt'], dtype=object)"
      ]
     },
     "execution_count": 47,
     "metadata": {},
     "output_type": "execute_result"
    }
   ],
   "source": [
    "bagofwords.get_feature_names_out()"
   ]
  },
  {
   "cell_type": "code",
   "execution_count": 48,
   "id": "54884eab",
   "metadata": {},
   "outputs": [
    {
     "data": {
      "image/png": "[encoded data removed]",
      "text/plain": [
       "<Figure size 1500x500 with 1 Axes>"
      ]
     },
     "metadata": {},
     "output_type": "display_data"
    }
   ],
   "source": [
    "word_counts = pd.DataFrame(\n",
    "    {\"counts\": X_train_sample_transformed.toarray().sum(axis=0)},\n",
    "    index=bagofwords.get_feature_names_out()\n",
    ").sort_values(\"counts\", ascending=False)\n",
    "\n",
    "word_counts.head(20).plot(kind=\"bar\", figsize=(15, 5), legend=False)\n",
    "plt.title(\"Top 20 most frequently occurring words\")\n",
    "plt.ylabel(\"Count\")\n",
    "plt.xticks(rotation=45)\n",
    "plt.show()"
   ]
  },
  {
   "cell_type": "code",
   "execution_count": null,
   "id": "a46424d0",
   "metadata": {},
   "outputs": [],
   "source": []
  },
  {
   "cell_type": "code",
   "execution_count": 49,
   "id": "9a2e3d23",
   "metadata": {},
   "outputs": [
    {
     "name": "stdout",
     "output_type": "stream",
     "text": [
      "Train score: 0.7965\n",
      "Test score: 0.7612\n"
     ]
    },
    {
     "name": "stderr",
     "output_type": "stream",
     "text": [
      "C:\\Users\\ajgag\\anaconda3\\envs\\capstone\\lib\\site-packages\\sklearn\\linear_model\\_logistic.py:814: ConvergenceWarning: lbfgs failed to converge (status=1):\n",
      "STOP: TOTAL NO. of ITERATIONS REACHED LIMIT.\n",
      "\n",
      "Increase the number of iterations (max_iter) or scale the data as shown in:\n",
      "    https://scikit-learn.org/stable/modules/preprocessing.html\n",
      "Please also refer to the documentation for alternative solver options:\n",
      "    https://scikit-learn.org/stable/modules/linear_model.html#logistic-regression\n",
      "  n_iter_i = _check_optimize_result(\n"
     ]
    }
   ],
   "source": [
    "# Fitting a model\n",
    "logreg = LogisticRegression(C = 0.1)\n",
    "logreg.fit(X_train_sample_transformed, y_train_sample)\n",
    "\n",
    "# Training and test score\n",
    "print(f\"Train score: {logreg.score(X_train_sample_transformed, y_train_sample)}\")\n",
    "print(f\"Test score: {logreg.score(X_test_sample_transformed, y_test_sample)}\")"
   ]
  },
  {
   "cell_type": "code",
   "execution_count": 50,
   "id": "a476f9c1",
   "metadata": {},
   "outputs": [
    {
     "data": {
      "image/png": "[encoded data removed]",
      "text/plain": [
       "<Figure size 1500x500 with 1 Axes>"
      ]
     },
     "metadata": {},
     "output_type": "display_data"
    }
   ],
   "source": [
    "word_counts = pd.DataFrame(\n",
    "    {\"coefficients\": logreg.coef_[0]},\n",
    "    index=bagofwords.get_feature_names_out()\n",
    ").sort_values(\"coefficients\", ascending=False)\n",
    "\n",
    "word_counts.head(20).plot(kind=\"bar\", figsize=(15, 5), legend=False)\n",
    "plt.title(\"The 20 highest model coefficients indicating positive sentiment\")\n",
    "plt.ylabel(\"Coefficients\")\n",
    "plt.xticks(rotation=45)\n",
    "plt.show()"
   ]
  },
  {
   "cell_type": "code",
   "execution_count": 51,
   "id": "ab50d521",
   "metadata": {},
   "outputs": [
    {
     "data": {
      "image/png": "[encoded data removed]",
      "text/plain": [
       "<Figure size 1500x500 with 1 Axes>"
      ]
     },
     "metadata": {},
     "output_type": "display_data"
    }
   ],
   "source": [
    "word_counts.sort_values(\"coefficients\", ascending=True).head(20).plot(kind=\"bar\", figsize=(15, 5), legend=False)\n",
    "plt.title(\"The 20 lowest model coefficients indicating negative sentiment\")\n",
    "plt.ylabel(\"Coefficients\")\n",
    "plt.xticks(rotation=45)\n",
    "plt.show()"
   ]
  },
  {
   "cell_type": "code",
   "execution_count": 52,
   "id": "d676a34f",
   "metadata": {},
   "outputs": [
    {
     "name": "stdout",
     "output_type": "stream",
     "text": [
      "['wonder', 'love', 'amaz']\n"
     ]
    }
   ],
   "source": [
    "# Preprocess the new sentence\n",
    "new_sentence = \"wonderful I love it, its amazing\"\n",
    "new_sentece = str(new_sentence)\n",
    "\n",
    "preprocessed_sentence = my_tokenizer(new_sentence)  # Applies the same preprocessing steps used for training\n",
    "#preprocessed_sentence = ' '.join(preprocessed_sentence)  # Converts the list of tokens to a single string\n",
    "# preprocessed not really working, have to update this\n",
    "print(preprocessed_sentence)\n",
    "\n",
    "#check recall , balance, confusion matrix, TIDF ---> different type (score based on how often they appear)\n",
    "# check decision tree, knn, compre different models\n"
   ]
  },
  {
   "cell_type": "code",
   "execution_count": 61,
   "id": "12f31d8c",
   "metadata": {},
   "outputs": [
    {
     "name": "stdout",
     "output_type": "stream",
     "text": [
      "['delici']\n",
      "[0]\n"
     ]
    }
   ],
   "source": [
    "# Transforms the preprocessed sentence using the trained CountVectorizer (bag of words)\n",
    "# Preprocess the new sentence\n",
    "new_sentence = \"delicious\"\n",
    "new_sentece = str(new_sentence)\n",
    "\n",
    "preprocessed_sentence = my_tokenizer(new_sentence)  # Applies the same preprocessing steps used for training\n",
    "#preprocessed_sentence = ' '.join(preprocessed_sentence)  # Converts the list of tokens to a single string\n",
    "# preprocessed not really working, have to update this\n",
    "print(preprocessed_sentence)\n",
    "\n",
    "new_sentence_transformed = bagofwords.transform([new_sentence])\n",
    "\n",
    "print(logreg.predict(new_sentence_transformed))"
   ]
  },
  {
   "cell_type": "code",
   "execution_count": 54,
   "id": "bdcbb2c7",
   "metadata": {},
   "outputs": [
    {
     "name": "stdout",
     "output_type": "stream",
     "text": [
      "[['excel']]\n",
      "[1]\n"
     ]
    }
   ],
   "source": [
    "# Transforms the preprocessed sentence using the trained CountVectorizer (bag of words)\n",
    "new_sentence_transformed = bagofwords.transform([preprocessed_sentence[0]])\n",
    "print([preprocessed_sentence])\n",
    "print(logreg.predict(new_sentence_transformed))"
   ]
  },
  {
   "cell_type": "code",
   "execution_count": 55,
   "id": "8581262d",
   "metadata": {
    "scrolled": true
   },
   "outputs": [
    {
     "name": "stdout",
     "output_type": "stream",
     "text": [
      "The sentence has a positive sentiment.\n"
     ]
    }
   ],
   "source": [
    "# Transforms the preprocessed sentence using the trained CountVectorizer (bag of words)\n",
    "new_sentence_transformed = bagofwords.transform([preprocessed_sentence[0]])\n",
    "\n",
    "\n",
    "# Make a prediction on the transformed sentence using the trained logistic regression model\n",
    "sentiment_prediction = logreg.predict(new_sentence_transformed)\n",
    "\n",
    "# Interpret the prediction ... 1 would be something similar to a good rating (4 or 5 stars), while 0 would be a bad one\n",
    "if sentiment_prediction == 1:\n",
    "    print(\"The sentence has a positive sentiment.\")\n",
    "else:\n",
    "    print(\"The sentence has a negative sentiment.\")"
   ]
  },
  {
   "cell_type": "markdown",
   "id": "d6ece28a",
   "metadata": {},
   "source": [
    "Because of the data imbalance, it is always predicting Positive comments (since 90% of the data is positive) so I will wor in resampling to see if this solves the problem"
   ]
  },
  {
   "cell_type": "code",
   "execution_count": 56,
   "id": "5bc6ebf9",
   "metadata": {},
   "outputs": [],
   "source": [
    "# from sklearn.utils import resample"
   ]
  },
  {
   "cell_type": "code",
   "execution_count": 57,
   "id": "f6b4d2ce",
   "metadata": {},
   "outputs": [],
   "source": [
    "# print('Number of samples before:', X_train_sample_transformed.shape)\n",
    "\n",
    "# print(X_test_sample_transformed.shape)\n",
    "# X_upsampled, y_upsampled = resample(X_train_sample_transformed[y_train_sample == 1], \n",
    "#                                     y_train_sample[y_train_sample == 1], \n",
    "#                                     replace=True, \n",
    "#                                     n_samples= 50000, \n",
    "#                                     stratify = y_train_sample,\n",
    "#                                     random_state=1)\n",
    "\n",
    "# print('Number of samples afer:', X_upsampled.shape)"
   ]
  },
  {
   "cell_type": "code",
   "execution_count": 58,
   "id": "30d26008",
   "metadata": {},
   "outputs": [],
   "source": [
    "# questions to make\n",
    "# should i make a decision tree for the recomendation? or knn or something with bayes?\n",
    "\n",
    "# self note: do model evaluation, test True positives, false positive, true negative, false negative\n",
    "# there is class imbalance so do model evaluation stuff\n",
    "# i hae to do a value_counts to see how many i have of each rating to make a good resample\n",
    "# use stratify , will pick samples in a smart way"
   ]
  },
  {
   "cell_type": "code",
   "execution_count": 59,
   "id": "109bb05c",
   "metadata": {},
   "outputs": [],
   "source": [
    "# acurracy , precision, recall, confusion matrix\n",
    "# ok i have to try different classifiers, hyperparameters (diffeerent c values, k values, which ones are performing the best)\n",
    "# resample\n",
    "# stratify\n",
    "# create similar content to the text adata, how do we write code, expand on my own data.\n",
    "# word cloud is ok\n"
   ]
  },
  {
   "cell_type": "code",
   "execution_count": 60,
   "id": "9ee67a83",
   "metadata": {},
   "outputs": [],
   "source": [
    "# try svm, hyper parameter, KNN, create pipelines ----> \n",
    "# ue counvectorizer or tfid... check ML pipelines.... "
   ]
  }
 ],
 "metadata": {
  "kernelspec": {
   "display_name": "Python 3 (ipykernel)",
   "language": "python",
   "name": "python3"
  },
  "language_info": {
   "codemirror_mode": {
    "name": "ipython",
    "version": 3
   },
   "file_extension": ".py",
   "mimetype": "text/x-python",
   "name": "python",
   "nbconvert_exporter": "python",
   "pygments_lexer": "ipython3",
   "version": "3.9.13"
  }
 },
 "nbformat": 4,
 "nbformat_minor": 5
}
