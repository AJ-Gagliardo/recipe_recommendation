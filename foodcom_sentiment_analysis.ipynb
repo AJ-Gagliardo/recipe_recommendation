{
 "cells": [
  {
   "cell_type": "code",
   "execution_count": 1,
   "id": "9ef3e40e",
   "metadata": {},
   "outputs": [],
   "source": [
    "import pandas as pd\n",
    "import numpy as np\n",
    "import nltk\n",
    "import string\n",
    "import fasttext\n",
    "import contractions\n",
    "import seaborn as sns\n",
    "import matplotlib.pyplot as plt\n",
    "\n",
    "from wordcloud import WordCloud\n",
    "import nltk\n",
    "\n",
    "\n",
    "#######needed these ones on the first run####\n",
    "#nltk.download('punkt') \n",
    "#nltk.download('averaged_perceptron_tagger')\n",
    "#nltk.download('maxent_ne_chunker')\n",
    "#nltk.download('words')\n",
    "#nltk.download('vader_lexicon')\n",
    "\n",
    "from sklearn.linear_model import LogisticRegression\n",
    "from sklearn.model_selection import train_test_split\n",
    "from sklearn.feature_extraction.text import CountVectorizer\n",
    "\n",
    "\n",
    "\n",
    "from nltk.tokenize import word_tokenize\n",
    "from nltk.stem import PorterStemmer\n",
    "from nltk.corpus import stopwords, wordnet\n",
    "from nltk.stem import WordNetLemmatizer\n",
    "from nltk.sentiment import SentimentIntensityAnalyzer\n",
    "from tqdm.notebook import tqdm\n",
    "\n",
    "plt.xticks(rotation=70)\n",
    "pd.options.mode.chained_assignment = None\n",
    "pd.set_option('display.max_colwidth', 100)\n",
    "plt.style.use('ggplot')\n",
    "%matplotlib inline\n",
    "# import a lot of libraries that could be used on the project"
   ]
  },
  {
   "cell_type": "code",
   "execution_count": 2,
   "id": "fb7f6015",
   "metadata": {},
   "outputs": [],
   "source": [
    "# recipes = pd.read_csv('foodcom_with_reviews/recipes.csv')\n",
    "reviews = pd.read_csv('foodcom_with_reviews/reviews.csv')"
   ]
  },
  {
   "cell_type": "code",
   "execution_count": 4,
   "id": "1df032e7",
   "metadata": {},
   "outputs": [],
   "source": [
    "# recipes.head(1)"
   ]
  },
  {
   "cell_type": "code",
   "execution_count": 5,
   "id": "40592971",
   "metadata": {
    "scrolled": true
   },
   "outputs": [
    {
     "data": {
      "text/html": [
       "<div>\n",
       "<style scoped>\n",
       "    .dataframe tbody tr th:only-of-type {\n",
       "        vertical-align: middle;\n",
       "    }\n",
       "\n",
       "    .dataframe tbody tr th {\n",
       "        vertical-align: top;\n",
       "    }\n",
       "\n",
       "    .dataframe thead th {\n",
       "        text-align: right;\n",
       "    }\n",
       "</style>\n",
       "<table border=\"1\" class=\"dataframe\">\n",
       "  <thead>\n",
       "    <tr style=\"text-align: right;\">\n",
       "      <th></th>\n",
       "      <th>ReviewId</th>\n",
       "      <th>RecipeId</th>\n",
       "      <th>AuthorId</th>\n",
       "      <th>AuthorName</th>\n",
       "      <th>Rating</th>\n",
       "      <th>Review</th>\n",
       "      <th>DateSubmitted</th>\n",
       "      <th>DateModified</th>\n",
       "    </tr>\n",
       "  </thead>\n",
       "  <tbody>\n",
       "    <tr>\n",
       "      <th>0</th>\n",
       "      <td>2</td>\n",
       "      <td>992</td>\n",
       "      <td>2008</td>\n",
       "      <td>gayg msft</td>\n",
       "      <td>5</td>\n",
       "      <td>better than any you can get at a restaurant!</td>\n",
       "      <td>2000-01-25T21:44:00Z</td>\n",
       "      <td>2000-01-25T21:44:00Z</td>\n",
       "    </tr>\n",
       "  </tbody>\n",
       "</table>\n",
       "</div>"
      ],
      "text/plain": [
       "   ReviewId  RecipeId  AuthorId AuthorName  Rating  \\\n",
       "0         2       992      2008  gayg msft       5   \n",
       "\n",
       "                                         Review         DateSubmitted  \\\n",
       "0  better than any you can get at a restaurant!  2000-01-25T21:44:00Z   \n",
       "\n",
       "           DateModified  \n",
       "0  2000-01-25T21:44:00Z  "
      ]
     },
     "execution_count": 5,
     "metadata": {},
     "output_type": "execute_result"
    }
   ],
   "source": [
    "reviews.head(1)"
   ]
  },
  {
   "cell_type": "code",
   "execution_count": 6,
   "id": "6bfe6eea",
   "metadata": {},
   "outputs": [
    {
     "data": {
      "image/png": "[encoded data removed]",
      "text/plain": [
       "<Figure size 640x480 with 1 Axes>"
      ]
     },
     "metadata": {},
     "output_type": "display_data"
    }
   ],
   "source": [
    "values, counts = np.unique(reviews['Rating'], return_counts = True)\n",
    "normalized_counts = counts/counts.sum()\n",
    "\n",
    "plt.figure()\n",
    "plt.bar(values, normalized_counts * 100)\n",
    "plt.xlabel('Review rating')\n",
    "plt.ylabel('Percentage of reviews')\n",
    "plt.title('Rating Distribution')\n",
    "plt.show()"
   ]
  },
  {
   "cell_type": "code",
   "execution_count": 7,
   "id": "185cc374",
   "metadata": {},
   "outputs": [
    {
     "data": {
      "text/plain": [
       "(1401982, 8)"
      ]
     },
     "execution_count": 7,
     "metadata": {},
     "output_type": "execute_result"
    }
   ],
   "source": [
    "reviews.shape"
   ]
  },
  {
   "cell_type": "code",
   "execution_count": 8,
   "id": "9727a951",
   "metadata": {},
   "outputs": [],
   "source": [
    "# dropping reviews that are 3 or 4\n",
    "reviews = reviews.drop(reviews[(reviews['Rating'] == 3) | (reviews['Rating'] == 4)].index)"
   ]
  },
  {
   "cell_type": "markdown",
   "id": "f06d5f0e",
   "metadata": {},
   "source": [
    "I droped reviews that are 3 and 4 because I want to take only extremes to have a better training on if the word is positive or negative. 3 and 4 could be neutral or mixed review which could confuse my model."
   ]
  },
  {
   "cell_type": "code",
   "execution_count": null,
   "id": "27e14b4b",
   "metadata": {},
   "outputs": [],
   "source": []
  },
  {
   "cell_type": "code",
   "execution_count": 9,
   "id": "38f7b2f7",
   "metadata": {
    "scrolled": false
   },
   "outputs": [
    {
     "data": {
      "text/html": [
       "<div>\n",
       "<style scoped>\n",
       "    .dataframe tbody tr th:only-of-type {\n",
       "        vertical-align: middle;\n",
       "    }\n",
       "\n",
       "    .dataframe tbody tr th {\n",
       "        vertical-align: top;\n",
       "    }\n",
       "\n",
       "    .dataframe thead th {\n",
       "        text-align: right;\n",
       "    }\n",
       "</style>\n",
       "<table border=\"1\" class=\"dataframe\">\n",
       "  <thead>\n",
       "    <tr style=\"text-align: right;\">\n",
       "      <th></th>\n",
       "      <th>ReviewId</th>\n",
       "      <th>RecipeId</th>\n",
       "      <th>AuthorId</th>\n",
       "      <th>AuthorName</th>\n",
       "      <th>Rating</th>\n",
       "      <th>Review</th>\n",
       "      <th>DateSubmitted</th>\n",
       "      <th>DateModified</th>\n",
       "      <th>Sentiment</th>\n",
       "    </tr>\n",
       "  </thead>\n",
       "  <tbody>\n",
       "    <tr>\n",
       "      <th>0</th>\n",
       "      <td>2</td>\n",
       "      <td>992</td>\n",
       "      <td>2008</td>\n",
       "      <td>gayg msft</td>\n",
       "      <td>5</td>\n",
       "      <td>better than any you can get at a restaurant!</td>\n",
       "      <td>2000-01-25T21:44:00Z</td>\n",
       "      <td>2000-01-25T21:44:00Z</td>\n",
       "      <td>1</td>\n",
       "    </tr>\n",
       "    <tr>\n",
       "      <th>2</th>\n",
       "      <td>9</td>\n",
       "      <td>4523</td>\n",
       "      <td>2046</td>\n",
       "      <td>Gay Gilmore ckpt</td>\n",
       "      <td>2</td>\n",
       "      <td>i think i did something wrong because i could taste the cornstarch in the finished product.</td>\n",
       "      <td>2000-02-25T09:00:00Z</td>\n",
       "      <td>2000-02-25T09:00:00Z</td>\n",
       "      <td>0</td>\n",
       "    </tr>\n",
       "    <tr>\n",
       "      <th>3</th>\n",
       "      <td>13</td>\n",
       "      <td>7435</td>\n",
       "      <td>1773</td>\n",
       "      <td>Malarkey Test</td>\n",
       "      <td>5</td>\n",
       "      <td>easily the best i have ever had.  juicy flavorful, not dry.  the vegetables retain crispness as ...</td>\n",
       "      <td>2000-03-13T21:15:00Z</td>\n",
       "      <td>2000-03-13T21:15:00Z</td>\n",
       "      <td>1</td>\n",
       "    </tr>\n",
       "  </tbody>\n",
       "</table>\n",
       "</div>"
      ],
      "text/plain": [
       "   ReviewId  RecipeId  AuthorId        AuthorName  Rating  \\\n",
       "0         2       992      2008         gayg msft       5   \n",
       "2         9      4523      2046  Gay Gilmore ckpt       2   \n",
       "3        13      7435      1773     Malarkey Test       5   \n",
       "\n",
       "                                                                                                Review  \\\n",
       "0                                                         better than any you can get at a restaurant!   \n",
       "2          i think i did something wrong because i could taste the cornstarch in the finished product.   \n",
       "3  easily the best i have ever had.  juicy flavorful, not dry.  the vegetables retain crispness as ...   \n",
       "\n",
       "          DateSubmitted          DateModified  Sentiment  \n",
       "0  2000-01-25T21:44:00Z  2000-01-25T21:44:00Z          1  \n",
       "2  2000-02-25T09:00:00Z  2000-02-25T09:00:00Z          0  \n",
       "3  2000-03-13T21:15:00Z  2000-03-13T21:15:00Z          1  "
      ]
     },
     "execution_count": 9,
     "metadata": {},
     "output_type": "execute_result"
    }
   ],
   "source": [
    "reviews['Sentiment'] = np.where(reviews['Rating'] >=4, 1, 0) \n",
    "#later replace with reviews_simple or something like that\n",
    "reviews.head(3)"
   ]
  },
  {
   "cell_type": "code",
   "execution_count": 10,
   "id": "9688fc88",
   "metadata": {},
   "outputs": [
    {
     "data": {
      "image/png": "[encoded data removed]",
      "text/plain": [
       "<Figure size 640x480 with 1 Axes>"
      ]
     },
     "metadata": {},
     "output_type": "display_data"
    }
   ],
   "source": [
    "values, counts = np.unique(reviews['Sentiment'], return_counts=True)\n",
    "normalized_counts = counts/counts.sum()\n",
    "\n",
    "plt.figure()\n",
    "plt.bar(['0','1'], normalized_counts*100)\n",
    "plt.show()"
   ]
  },
  {
   "cell_type": "code",
   "execution_count": 11,
   "id": "2c70c6f3",
   "metadata": {},
   "outputs": [
    {
     "name": "stdout",
     "output_type": "stream",
     "text": [
      "[0 1]\n",
      "[ 110404 1012082]\n"
     ]
    }
   ],
   "source": [
    "print(values)\n",
    "print(counts)"
   ]
  },
  {
   "cell_type": "markdown",
   "id": "fe81fcc7",
   "metadata": {},
   "source": [
    "# Start to tokenize"
   ]
  },
  {
   "cell_type": "code",
   "execution_count": 12,
   "id": "81e6950a",
   "metadata": {},
   "outputs": [],
   "source": [
    "def my_tokenizer(sentence):\n",
    "    # Instantiate stemmer and stopwords from nltk\n",
    "    stemmer = PorterStemmer()\n",
    "    stop_words = set(stopwords.words('english'))\n",
    "\n",
    "    # Tokenize the sentence into words\n",
    "    words = word_tokenize(sentence)\n",
    "\n",
    "    # Making them lower case and remove punctuation\n",
    "    stemmed_words = [stemmer.stem(word.lower()) for word in words if word.isalpha()]\n",
    "\n",
    "    # Remove if it is a stop words\n",
    "    filtered_words = [word for word in stemmed_words if word not in stop_words]\n",
    "\n",
    "    return filtered_words"
   ]
  },
  {
   "cell_type": "code",
   "execution_count": 13,
   "id": "237b9cd4",
   "metadata": {},
   "outputs": [
    {
     "data": {
      "text/plain": [
       "['quick', 'brown', 'fox', 'jump', 'lazi', 'dog']"
      ]
     },
     "execution_count": 13,
     "metadata": {},
     "output_type": "execute_result"
    }
   ],
   "source": [
    "# checking my tokenizer\n",
    "example_sentence = \"The quick brown fox, jumped over the lazy dog!!\"\n",
    "my_tokenizer(example_sentence)"
   ]
  },
  {
   "cell_type": "code",
   "execution_count": 14,
   "id": "a361ef97",
   "metadata": {
    "scrolled": true
   },
   "outputs": [],
   "source": [
    "# reviews['Tokenized_Reviews'] = reviews['Review'].apply(my_tokenizer)\n",
    "# reviews.head(2)"
   ]
  },
  {
   "cell_type": "code",
   "execution_count": 15,
   "id": "8cb3b228",
   "metadata": {
    "scrolled": true
   },
   "outputs": [
    {
     "data": {
      "text/plain": [
       "1378824                                                                               [made, yesterday, great]\n",
       "1328352    [love, pea, soup, laid, bad, cold, sinu, go, tackl, make, thi, soup, worri, miss, meal, better, ...\n",
       "1054228                       [thi, great, recip, wa, milk, substitut, sour, cream, stead, milk, made, awesom]\n",
       "Name: Tokenized_Reviews, dtype: object"
      ]
     },
     "execution_count": 15,
     "metadata": {},
     "output_type": "execute_result"
    }
   ],
   "source": [
    "# Convert the values in the 'Review' column to strings\n",
    "reviews['Review'] = reviews['Review'].astype(str)\n",
    "\n",
    "\n",
    "# Sample a subset of the data\n",
    "sample_reviews = reviews.sample(n=50000, random_state=1)\n",
    "\n",
    "\n",
    "# Apply the tokenizer function to the sampled reviews\n",
    "tokenized_reviews = sample_reviews['Review'].apply(my_tokenizer)\n",
    "\n",
    "sample_reviews['Tokenized_Reviews'] = tokenized_reviews\n",
    "sample_reviews['Tokenized_Reviews'].head(3)"
   ]
  },
  {
   "cell_type": "code",
   "execution_count": null,
   "id": "883618a2",
   "metadata": {},
   "outputs": [],
   "source": []
  },
  {
   "cell_type": "code",
   "execution_count": 16,
   "id": "74a41607",
   "metadata": {},
   "outputs": [],
   "source": [
    "# # Separate the data into features (X) and target (y)\n",
    "# X = reviews.drop('Sentiment', axis=1)\n",
    "# y = reviews['Sentiment']\n",
    "\n",
    "# # Taking a chunk for our 20% test set\n",
    "# X_remainder, X_test, y_remainder, y_test = \\\n",
    "#     train_test_split(X, y, stratify=y, test_size = 0.2,\n",
    "#                      random_state=1)\n",
    "\n"
   ]
  },
  {
   "cell_type": "code",
   "execution_count": 17,
   "id": "abbe69c5",
   "metadata": {},
   "outputs": [],
   "source": [
    "# # Splitting the remainder in two chunks\n",
    "# X_train, X_validation, y_train, y_validation = \\\n",
    "#     train_test_split(X_remainder, y_remainder, test_size = 0.3,\n",
    "#                      random_state=1)\n"
   ]
  },
  {
   "cell_type": "code",
   "execution_count": 18,
   "id": "1d4a06c3",
   "metadata": {},
   "outputs": [],
   "source": [
    "# X_test.shape #just checking the shape"
   ]
  },
  {
   "cell_type": "code",
   "execution_count": 19,
   "id": "3f495fae",
   "metadata": {},
   "outputs": [],
   "source": [
    "# X_train.shape"
   ]
  },
  {
   "cell_type": "code",
   "execution_count": 20,
   "id": "bcc325aa",
   "metadata": {},
   "outputs": [],
   "source": [
    "\n",
    "\n",
    "X_sample = sample_reviews['Tokenized_Reviews'].astype(str)\n",
    "y_sample = sample_reviews['Sentiment']\n",
    "\n",
    "# Perform stratified sampling to obtain a balanced sample\n",
    "X_remainder_sample, X_test_sample, y_remainder_sample, y_test_sample = train_test_split(X_sample, y_sample,  test_size=0.2, stratify=y_sample, random_state=1)\n",
    "\n",
    "# Splitting the remainder in two chunks\n",
    "X_train_sample, X_validation_sample, y_train_sample, y_validation_sample = \\\n",
    "    train_test_split(X_remainder_sample, y_remainder_sample, test_size = 0.3,\n",
    "                     random_state=1)\n",
    "    "
   ]
  },
  {
   "cell_type": "code",
   "execution_count": 21,
   "id": "ce64eb28",
   "metadata": {},
   "outputs": [
    {
     "data": {
      "text/plain": [
       "(28000,)"
      ]
     },
     "execution_count": 21,
     "metadata": {},
     "output_type": "execute_result"
    }
   ],
   "source": [
    "X_train_sample.shape"
   ]
  },
  {
   "cell_type": "code",
   "execution_count": 22,
   "id": "c3295157",
   "metadata": {},
   "outputs": [
    {
     "data": {
      "text/plain": [
       "(10000,)"
      ]
     },
     "execution_count": 22,
     "metadata": {},
     "output_type": "execute_result"
    }
   ],
   "source": [
    "X_test_sample.shape"
   ]
  },
  {
   "cell_type": "code",
   "execution_count": 23,
   "id": "d62fbfe4",
   "metadata": {},
   "outputs": [
    {
     "data": {
      "text/html": [
       "<div>\n",
       "<style scoped>\n",
       "    .dataframe tbody tr th:only-of-type {\n",
       "        vertical-align: middle;\n",
       "    }\n",
       "\n",
       "    .dataframe tbody tr th {\n",
       "        vertical-align: top;\n",
       "    }\n",
       "\n",
       "    .dataframe thead th {\n",
       "        text-align: right;\n",
       "    }\n",
       "</style>\n",
       "<table border=\"1\" class=\"dataframe\">\n",
       "  <thead>\n",
       "    <tr style=\"text-align: right;\">\n",
       "      <th></th>\n",
       "      <th>Tokenized_Reviews</th>\n",
       "      <th>Sentiment</th>\n",
       "    </tr>\n",
       "  </thead>\n",
       "  <tbody>\n",
       "    <tr>\n",
       "      <th>380270</th>\n",
       "      <td>['great', 'recip', 'requir', 'cook']</td>\n",
       "      <td>1</td>\n",
       "    </tr>\n",
       "    <tr>\n",
       "      <th>323111</th>\n",
       "      <td>['tri', 'thi', 'recip', 'sunday', 'night', 'follow', 'recip', 'exactli', 'wow', 'great', 'tast',...</td>\n",
       "      <td>1</td>\n",
       "    </tr>\n",
       "    <tr>\n",
       "      <th>807230</th>\n",
       "      <td>['thi', 'delici', 'dish', 'even', 'non', 'veggi', 'eat', 'dh', 'realli', 'realli', 'like', 'ad',...</td>\n",
       "      <td>1</td>\n",
       "    </tr>\n",
       "  </tbody>\n",
       "</table>\n",
       "</div>"
      ],
      "text/plain": [
       "                                                                                          Tokenized_Reviews  \\\n",
       "380270                                                                 ['great', 'recip', 'requir', 'cook']   \n",
       "323111  ['tri', 'thi', 'recip', 'sunday', 'night', 'follow', 'recip', 'exactli', 'wow', 'great', 'tast',...   \n",
       "807230  ['thi', 'delici', 'dish', 'even', 'non', 'veggi', 'eat', 'dh', 'realli', 'realli', 'like', 'ad',...   \n",
       "\n",
       "        Sentiment  \n",
       "380270          1  \n",
       "323111          1  \n",
       "807230          1  "
      ]
     },
     "execution_count": 23,
     "metadata": {},
     "output_type": "execute_result"
    }
   ],
   "source": [
    "# Combine the features and target back into a DataFrame\n",
    "sampled_reviews = pd.concat([X_remainder_sample, y_remainder_sample], axis=1)\n",
    "sampled_reviews.head(3)"
   ]
  },
  {
   "cell_type": "code",
   "execution_count": 24,
   "id": "507208a0",
   "metadata": {},
   "outputs": [
    {
     "data": {
      "text/plain": [
       "976281     ['love', 'aroma', 'thi', 'steak', 'pan', 'fri', 'could', 'wait', 'take', 'bite', 'squeez', 'piec...\n",
       "1364926    ['thi', 'wa', 'veri', 'veri', 'tasti', 'onli', 'chang', 'made', 'wa', 'add', 'cream', 'mushroom'...\n",
       "945691     ['made', 'thi', 'husband', 'birthday', 'follow', 'recip', 'exactli', 'wa', 'wonder', 'cake', 'mo...\n",
       "Name: Tokenized_Reviews, dtype: object"
      ]
     },
     "execution_count": 24,
     "metadata": {},
     "output_type": "execute_result"
    }
   ],
   "source": [
    "X_train_sample.head(3)"
   ]
  },
  {
   "cell_type": "code",
   "execution_count": 25,
   "id": "56ac3695",
   "metadata": {},
   "outputs": [
    {
     "data": {
      "text/plain": [
       "599071     ['yummi', 'lot', 'compliment', 'thi', 'one', 'easi', 'make', 'doe', 'take', 'ton', 'time', 'ton'...\n",
       "1052733    ['veri', 'good', 'make', 'thi', 'onli', 'thing', 'differ', 'wa', 'add', 'garlic', 'thank', 'shar...\n",
       "680381                                                     ['sweet', 'weird', 'flavor', 'sure', 'got', 'star']\n",
       "Name: Tokenized_Reviews, dtype: object"
      ]
     },
     "execution_count": 25,
     "metadata": {},
     "output_type": "execute_result"
    }
   ],
   "source": [
    "X_test_sample.head(3)"
   ]
  },
  {
   "cell_type": "code",
   "execution_count": 26,
   "id": "424a2dc6",
   "metadata": {},
   "outputs": [
    {
     "data": {
      "text/plain": [
       "1    36026\n",
       "0     3974\n",
       "Name: Sentiment, dtype: int64"
      ]
     },
     "execution_count": 26,
     "metadata": {},
     "output_type": "execute_result"
    }
   ],
   "source": [
    "sampled_reviews['Sentiment'].value_counts()\n",
    "# imbalance on the values"
   ]
  },
  {
   "cell_type": "code",
   "execution_count": 49,
   "id": "624995a3",
   "metadata": {},
   "outputs": [],
   "source": [
    "# from imblearn.over_sampling import RandomOverSampler\n",
    "# oversampler = RandomOverSampler(sampling_strategy='auto', random_state=1)\n",
    "\n",
    "# X_train_sample = X_train_sample.to_numpy().reshape(-1, 1)\n",
    "# y_train_sample = y_train_sample.to_numpy().reshape(-1, 1)\n",
    "\n",
    "# X_train_oversampled, y_train_oversampled = oversampler.fit_resample(X_train_sample, y_train_sample)\n"
   ]
  },
  {
   "cell_type": "code",
   "execution_count": 50,
   "id": "8b484a19",
   "metadata": {},
   "outputs": [
    {
     "data": {
      "text/html": [
       "<div>\n",
       "<style scoped>\n",
       "    .dataframe tbody tr th:only-of-type {\n",
       "        vertical-align: middle;\n",
       "    }\n",
       "\n",
       "    .dataframe tbody tr th {\n",
       "        vertical-align: top;\n",
       "    }\n",
       "\n",
       "    .dataframe thead th {\n",
       "        text-align: right;\n",
       "    }\n",
       "</style>\n",
       "<table border=\"1\" class=\"dataframe\">\n",
       "  <thead>\n",
       "    <tr style=\"text-align: right;\">\n",
       "      <th></th>\n",
       "      <th>Review</th>\n",
       "      <th>Sentiment</th>\n",
       "    </tr>\n",
       "  </thead>\n",
       "  <tbody>\n",
       "    <tr>\n",
       "      <th>0</th>\n",
       "      <td>['love', 'aroma', 'thi', 'steak', 'pan', 'fri', 'could', 'wait', 'take', 'bite', 'squeez', 'piec...</td>\n",
       "      <td>1</td>\n",
       "    </tr>\n",
       "    <tr>\n",
       "      <th>1</th>\n",
       "      <td>['thi', 'wa', 'veri', 'veri', 'tasti', 'onli', 'chang', 'made', 'wa', 'add', 'cream', 'mushroom'...</td>\n",
       "      <td>1</td>\n",
       "    </tr>\n",
       "    <tr>\n",
       "      <th>2</th>\n",
       "      <td>['made', 'thi', 'husband', 'birthday', 'follow', 'recip', 'exactli', 'wa', 'wonder', 'cake', 'mo...</td>\n",
       "      <td>1</td>\n",
       "    </tr>\n",
       "  </tbody>\n",
       "</table>\n",
       "</div>"
      ],
      "text/plain": [
       "                                                                                                Review  \\\n",
       "0  ['love', 'aroma', 'thi', 'steak', 'pan', 'fri', 'could', 'wait', 'take', 'bite', 'squeez', 'piec...   \n",
       "1  ['thi', 'wa', 'veri', 'veri', 'tasti', 'onli', 'chang', 'made', 'wa', 'add', 'cream', 'mushroom'...   \n",
       "2  ['made', 'thi', 'husband', 'birthday', 'follow', 'recip', 'exactli', 'wa', 'wonder', 'cake', 'mo...   \n",
       "\n",
       "   Sentiment  \n",
       "0          1  \n",
       "1          1  \n",
       "2          1  "
      ]
     },
     "execution_count": 50,
     "metadata": {},
     "output_type": "execute_result"
    }
   ],
   "source": [
    "# # Convert oversampled data to DataFrames\n",
    "# X_train_oversampled = pd.DataFrame(X_train_oversampled, columns=['Review'])\n",
    "# y_train_oversampled = pd.DataFrame(y_train_oversampled, columns=['Sentiment'])\n",
    "\n",
    "# # Combine the features and target back into a DataFrame\n",
    "# oversampled_reviews = pd.concat([X_train_oversampled, y_train_oversampled], axis=1)\n",
    "# oversampled_reviews.head(3)"
   ]
  },
  {
   "cell_type": "code",
   "execution_count": 51,
   "id": "c1f4fb8f",
   "metadata": {},
   "outputs": [
    {
     "data": {
      "text/plain": [
       "1    25182\n",
       "0    25182\n",
       "Name: Sentiment, dtype: int64"
      ]
     },
     "execution_count": 51,
     "metadata": {},
     "output_type": "execute_result"
    }
   ],
   "source": [
    "# oversampled_reviews['Sentiment'].value_counts()"
   ]
  },
  {
   "cell_type": "markdown",
   "id": "56b5e681",
   "metadata": {},
   "source": [
    "This is a lot more balanced!"
   ]
  },
  {
   "cell_type": "code",
   "execution_count": 30,
   "id": "d6ea029c",
   "metadata": {},
   "outputs": [],
   "source": [
    "# type(X_train_oversampled)"
   ]
  },
  {
   "cell_type": "code",
   "execution_count": 31,
   "id": "dee30c16",
   "metadata": {},
   "outputs": [],
   "source": [
    "# type(X_train_sample)"
   ]
  },
  {
   "cell_type": "code",
   "execution_count": 32,
   "id": "8a23b481",
   "metadata": {},
   "outputs": [],
   "source": [
    "# X_train_sample, y_train_sample = oversampler.fit_resample(X_train_sample, y_train_sample)"
   ]
  },
  {
   "cell_type": "code",
   "execution_count": 33,
   "id": "495baa87",
   "metadata": {},
   "outputs": [],
   "source": [
    "# type(X_train_sample)"
   ]
  },
  {
   "cell_type": "code",
   "execution_count": null,
   "id": "99f3a2a9",
   "metadata": {},
   "outputs": [],
   "source": []
  },
  {
   "cell_type": "code",
   "execution_count": 34,
   "id": "ec2abe33",
   "metadata": {},
   "outputs": [],
   "source": [
    "# # Convert oversampled data to DataFrames\n",
    "# X_train_sample = pd.DataFrame(X_train_sample, columns=['Review'])\n",
    "# y_train_sample = pd.DataFrame(y_train_sample, columns=['Sentiment'])\n",
    "\n",
    "# # Combine the features and target back into a DataFrame\n",
    "# sampled_reviews = pd.concat([X_train_sample, y_train_sample], axis=1)\n",
    "# sampled_reviews.head(3)"
   ]
  },
  {
   "cell_type": "code",
   "execution_count": 35,
   "id": "2a8c7e57",
   "metadata": {},
   "outputs": [],
   "source": [
    "# sampled_reviews['Sentiment'].value_counts()"
   ]
  },
  {
   "cell_type": "code",
   "execution_count": 36,
   "id": "803834d0",
   "metadata": {},
   "outputs": [],
   "source": [
    "# print(X_train_sample.dtypes)\n",
    "# print(y_train_sample.dtypes)"
   ]
  },
  {
   "cell_type": "code",
   "execution_count": 37,
   "id": "b9d64dd8",
   "metadata": {},
   "outputs": [],
   "source": [
    "# type(X_train) #I was having problem with the type for some reason\n",
    "# # solved it by using '.astype(str)'"
   ]
  },
  {
   "cell_type": "code",
   "execution_count": 38,
   "id": "d9d2b348",
   "metadata": {},
   "outputs": [
    {
     "name": "stdout",
     "output_type": "stream",
     "text": [
      "(28000, 4560)\n",
      "(10000, 4560)\n"
     ]
    }
   ],
   "source": [
    "from sklearn.feature_extraction.text import CountVectorizer\n",
    "\n",
    "# Initialize CountVectorizer with your tokenizer function\n",
    "bagofwords = CountVectorizer(min_df=5, max_df=0.8)\n",
    "\n",
    "# Fit and transform the training data\n",
    "X_train_sample_transformed = bagofwords.fit_transform(X_train_sample)\n",
    "\n",
    "# Transform the test data using the fitted CountVectorizer\n",
    "X_test_sample_transformed = bagofwords.transform(X_test_sample)\n",
    "\n",
    "# Check the shape of the transformed data\n",
    "print(X_train_sample_transformed.shape)\n",
    "print(X_test_sample_transformed.shape)"
   ]
  },
  {
   "cell_type": "code",
   "execution_count": 39,
   "id": "23015318",
   "metadata": {
    "scrolled": true
   },
   "outputs": [
    {
     "data": {
      "text/plain": [
       "array(['abc', 'abit', 'abl', ..., 'zuchinni', 'zuke', 'zwt'], dtype=object)"
      ]
     },
     "execution_count": 39,
     "metadata": {},
     "output_type": "execute_result"
    }
   ],
   "source": [
    "bagofwords.get_feature_names_out()"
   ]
  },
  {
   "cell_type": "code",
   "execution_count": 40,
   "id": "54884eab",
   "metadata": {},
   "outputs": [
    {
     "data": {
      "image/png": "[encoded data removed]",
      "text/plain": [
       "<Figure size 1500x500 with 1 Axes>"
      ]
     },
     "metadata": {},
     "output_type": "display_data"
    }
   ],
   "source": [
    "word_counts = pd.DataFrame(\n",
    "    {\"counts\": X_train_sample_transformed.toarray().sum(axis=0)},\n",
    "    index=bagofwords.get_feature_names_out()\n",
    ").sort_values(\"counts\", ascending=False)\n",
    "\n",
    "word_counts.head(20).plot(kind=\"bar\", figsize=(15, 5), legend=False)\n",
    "plt.title(\"Top 20 most frequently occurring words\")\n",
    "plt.ylabel(\"Count\")\n",
    "plt.xticks(rotation=45)\n",
    "plt.show()"
   ]
  },
  {
   "cell_type": "code",
   "execution_count": null,
   "id": "a46424d0",
   "metadata": {},
   "outputs": [],
   "source": []
  },
  {
   "cell_type": "code",
   "execution_count": 41,
   "id": "9a2e3d23",
   "metadata": {},
   "outputs": [
    {
     "name": "stdout",
     "output_type": "stream",
     "text": [
      "Train score: 0.9288928571428572\n",
      "Test score: 0.9189\n"
     ]
    }
   ],
   "source": [
    "# Fitting a model\n",
    "logreg = LogisticRegression(C = 0.1)\n",
    "logreg.fit(X_train_sample_transformed, y_train_sample)\n",
    "\n",
    "# Training and test score\n",
    "print(f\"Train score: {logreg.score(X_train_sample_transformed, y_train_sample)}\")\n",
    "print(f\"Test score: {logreg.score(X_test_sample_transformed, y_test_sample)}\")"
   ]
  },
  {
   "cell_type": "code",
   "execution_count": 42,
   "id": "a476f9c1",
   "metadata": {},
   "outputs": [
    {
     "data": {
      "image/png": "[encoded data removed]",
      "text/plain": [
       "<Figure size 1500x500 with 1 Axes>"
      ]
     },
     "metadata": {},
     "output_type": "display_data"
    }
   ],
   "source": [
    "word_counts = pd.DataFrame(\n",
    "    {\"coefficients\": logreg.coef_[0]},\n",
    "    index=bagofwords.get_feature_names_out()\n",
    ").sort_values(\"coefficients\", ascending=False)\n",
    "\n",
    "word_counts.head(20).plot(kind=\"bar\", figsize=(15, 5), legend=False)\n",
    "plt.title(\"The 20 highest model coefficients indicating positive sentiment\")\n",
    "plt.ylabel(\"Coefficients\")\n",
    "plt.xticks(rotation=45)\n",
    "plt.show()"
   ]
  },
  {
   "cell_type": "code",
   "execution_count": 43,
   "id": "ab50d521",
   "metadata": {},
   "outputs": [
    {
     "data": {
      "image/png": "[encoded data removed]",
      "text/plain": [
       "<Figure size 1500x500 with 1 Axes>"
      ]
     },
     "metadata": {},
     "output_type": "display_data"
    }
   ],
   "source": [
    "word_counts.sort_values(\"coefficients\", ascending=True).head(20).plot(kind=\"bar\", figsize=(15, 5), legend=False)\n",
    "plt.title(\"The 20 lowest model coefficients indicating negative sentiment\")\n",
    "plt.ylabel(\"Coefficients\")\n",
    "plt.xticks(rotation=45)\n",
    "plt.show()"
   ]
  },
  {
   "cell_type": "code",
   "execution_count": 44,
   "id": "d676a34f",
   "metadata": {},
   "outputs": [
    {
     "data": {
      "text/plain": [
       "['hate', 'thi', 'disapoint', 'bland', 'sorri']"
      ]
     },
     "execution_count": 44,
     "metadata": {},
     "output_type": "execute_result"
    }
   ],
   "source": [
    "# Preprocess the new sentence\n",
    "new_sentence = \"I hate this, its a disapointment, its bland sorry\"\n",
    "new_sentece = str(new_sentence)\n",
    "\n",
    "preprocessed_sentence = my_tokenizer(new_sentence)  # Applies the same preprocessing steps used for training\n",
    "#preprocessed_sentence = ' '.join(preprocessed_sentence)  # Converts the list of tokens to a single string\n",
    "# preprocessed not really working, have to update this\n",
    "preprocessed_sentence\n",
    "\n",
    "#check recall , balance, confusion matrix, TIDF ---> different type (score based on how often they appear)\n",
    "# check decision tree, knn, compre different models\n"
   ]
  },
  {
   "cell_type": "code",
   "execution_count": 45,
   "id": "bdcbb2c7",
   "metadata": {},
   "outputs": [
    {
     "name": "stdout",
     "output_type": "stream",
     "text": [
      "[1]\n"
     ]
    }
   ],
   "source": [
    "# Transforms the preprocessed sentence using the trained CountVectorizer (bag of words)\n",
    "new_sentence_transformed = bagofwords.transform([preprocessed_sentence[0]])\n",
    "\n",
    "print(logreg.predict(new_sentence_transformed))"
   ]
  },
  {
   "cell_type": "code",
   "execution_count": 46,
   "id": "8581262d",
   "metadata": {
    "scrolled": true
   },
   "outputs": [
    {
     "name": "stdout",
     "output_type": "stream",
     "text": [
      "The sentence has a positive sentiment.\n"
     ]
    }
   ],
   "source": [
    "# Transforms the preprocessed sentence using the trained CountVectorizer (bag of words)\n",
    "new_sentence_transformed = bagofwords.transform([preprocessed_sentence[0]])\n",
    "\n",
    "\n",
    "# Make a prediction on the transformed sentence using the trained logistic regression model\n",
    "sentiment_prediction = logreg.predict(new_sentence_transformed)\n",
    "\n",
    "# Interpret the prediction ... 1 would be something similar to a good rating (4 or 5 stars), while 0 would be a bad one\n",
    "if sentiment_prediction == 1:\n",
    "    print(\"The sentence has a positive sentiment.\")\n",
    "else:\n",
    "    print(\"The sentence has a negative sentiment.\")"
   ]
  },
  {
   "cell_type": "code",
   "execution_count": 47,
   "id": "30d26008",
   "metadata": {},
   "outputs": [],
   "source": [
    "# questions to make\n",
    "# should i make a decision tree for the recomendation? or knn or something with bayes?\n",
    "\n",
    "# self note: do model evaluation, test True positives, false positive, true negative, false negative\n",
    "# there is class imbalance so do model evaluation stuff\n",
    "# i hae to do a value_counts to see how many i have of each rating to make a good resample\n",
    "# use stratify , will pick samples in a smart way"
   ]
  },
  {
   "cell_type": "code",
   "execution_count": 48,
   "id": "109bb05c",
   "metadata": {},
   "outputs": [],
   "source": [
    "# acurracy , precision, recall, confusion matrix\n",
    "# ok i have to try different classifiers, hyperparameters (diffeerent c values, k values, which ones are performing the best)\n",
    "# resample\n",
    "# stratify\n",
    "# create similar content to the text adata, how do we write code, expand on my own data.\n",
    "# word cloud is ok\n"
   ]
  },
  {
   "cell_type": "code",
   "execution_count": null,
   "id": "10d21cfa",
   "metadata": {},
   "outputs": [],
   "source": [
    "# try svm, hyper parameter, KNN, create pipelines ----> \n",
    "# ue counvectorizer or tfid... check ML pipelines.... "
   ]
  }
 ],
 "metadata": {
  "kernelspec": {
   "display_name": "Python 3 (ipykernel)",
   "language": "python",
   "name": "python3"
  },
  "language_info": {
   "codemirror_mode": {
    "name": "ipython",
    "version": 3
   },
   "file_extension": ".py",
   "mimetype": "text/x-python",
   "name": "python",
   "nbconvert_exporter": "python",
   "pygments_lexer": "ipython3",
   "version": "3.9.13"
  }
 },
 "nbformat": 4,
 "nbformat_minor": 5
}
