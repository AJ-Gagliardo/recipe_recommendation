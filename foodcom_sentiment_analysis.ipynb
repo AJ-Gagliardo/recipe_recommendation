{
 "cells": [
  {
   "cell_type": "code",
   "execution_count": 1,
   "id": "9ef3e40e",
   "metadata": {},
   "outputs": [
    {
     "name": "stderr",
     "output_type": "stream",
     "text": [
      "C:\\Users\\ajgag\\anaconda3\\envs\\capstone2\\lib\\site-packages\\scipy\\__init__.py:146: UserWarning: A NumPy version >=1.16.5 and <1.23.0 is required for this version of SciPy (detected version 1.23.1\n",
      "  warnings.warn(f\"A NumPy version >={np_minversion} and <{np_maxversion}\"\n"
     ]
    }
   ],
   "source": [
    "import pandas as pd\n",
    "import numpy as np\n",
    "import nltk\n",
    "\n",
    "\n",
    "\n",
    "import seaborn as sns\n",
    "import matplotlib.pyplot as plt\n",
    "import nltk\n",
    "\n",
    "\n",
    "# # not really using the following ones yet\n",
    "# from wordcloud import WordCloud\n",
    "# import fasttext\n",
    "# import contractions\n",
    "# import string\n",
    "# from tqdm.notebook import tqdm\n",
    "\n",
    "#######needed these ones on the first run####\n",
    "#nltk.download('punkt') \n",
    "#nltk.download('averaged_perceptron_tagger')\n",
    "#nltk.download('maxent_ne_chunker')\n",
    "#nltk.download('words')\n",
    "#nltk.download('vader_lexicon')\n",
    "\n",
    "from sklearn.linear_model import LogisticRegression\n",
    "from sklearn.model_selection import train_test_split\n",
    "from sklearn.feature_extraction.text import CountVectorizer\n",
    "\n",
    "\n",
    "\n",
    "from nltk.tokenize import word_tokenize\n",
    "from nltk.stem import PorterStemmer\n",
    "from nltk.corpus import stopwords, wordnet\n",
    "# from nltk.stem import WordNetLemmatizer\n",
    "# from nltk.sentiment import SentimentIntensityAnalyzer\n",
    "\n",
    "import warnings\n",
    "warnings.filterwarnings(\"ignore\")\n",
    "\n",
    "# plt.xticks(rotation=70)\n",
    "# pd.options.mode.chained_assignment = None\n",
    "# pd.set_option('display.max_colwidth', 100)\n",
    "# plt.style.use('ggplot')\n",
    "# %matplotlib inline\n",
    "# import a lot of libraries that could be used on the project"
   ]
  },
  {
   "cell_type": "code",
   "execution_count": 2,
   "id": "fb7f6015",
   "metadata": {},
   "outputs": [],
   "source": [
    "# recipes = pd.read_csv('foodcom_with_reviews/recipes.csv')\n",
    "reviews = pd.read_csv('foodcom_with_reviews/reviews.csv')"
   ]
  },
  {
   "cell_type": "code",
   "execution_count": 3,
   "id": "1df032e7",
   "metadata": {},
   "outputs": [],
   "source": [
    "# recipes.head(1)"
   ]
  },
  {
   "cell_type": "code",
   "execution_count": 4,
   "id": "453755b7",
   "metadata": {},
   "outputs": [
    {
     "data": {
      "text/plain": [
       "pandas.core.frame.DataFrame"
      ]
     },
     "execution_count": 4,
     "metadata": {},
     "output_type": "execute_result"
    }
   ],
   "source": [
    "type(reviews)"
   ]
  },
  {
   "cell_type": "code",
   "execution_count": 5,
   "id": "40592971",
   "metadata": {
    "scrolled": true
   },
   "outputs": [
    {
     "data": {
      "text/html": [
       "<div>\n",
       "<style scoped>\n",
       "    .dataframe tbody tr th:only-of-type {\n",
       "        vertical-align: middle;\n",
       "    }\n",
       "\n",
       "    .dataframe tbody tr th {\n",
       "        vertical-align: top;\n",
       "    }\n",
       "\n",
       "    .dataframe thead th {\n",
       "        text-align: right;\n",
       "    }\n",
       "</style>\n",
       "<table border=\"1\" class=\"dataframe\">\n",
       "  <thead>\n",
       "    <tr style=\"text-align: right;\">\n",
       "      <th></th>\n",
       "      <th>ReviewId</th>\n",
       "      <th>RecipeId</th>\n",
       "      <th>AuthorId</th>\n",
       "      <th>AuthorName</th>\n",
       "      <th>Rating</th>\n",
       "      <th>Review</th>\n",
       "      <th>DateSubmitted</th>\n",
       "      <th>DateModified</th>\n",
       "    </tr>\n",
       "  </thead>\n",
       "  <tbody>\n",
       "    <tr>\n",
       "      <th>0</th>\n",
       "      <td>2</td>\n",
       "      <td>992</td>\n",
       "      <td>2008</td>\n",
       "      <td>gayg msft</td>\n",
       "      <td>5</td>\n",
       "      <td>better than any you can get at a restaurant!</td>\n",
       "      <td>2000-01-25T21:44:00Z</td>\n",
       "      <td>2000-01-25T21:44:00Z</td>\n",
       "    </tr>\n",
       "  </tbody>\n",
       "</table>\n",
       "</div>"
      ],
      "text/plain": [
       "   ReviewId  RecipeId  AuthorId AuthorName  Rating  \\\n",
       "0         2       992      2008  gayg msft       5   \n",
       "\n",
       "                                         Review         DateSubmitted  \\\n",
       "0  better than any you can get at a restaurant!  2000-01-25T21:44:00Z   \n",
       "\n",
       "           DateModified  \n",
       "0  2000-01-25T21:44:00Z  "
      ]
     },
     "execution_count": 5,
     "metadata": {},
     "output_type": "execute_result"
    }
   ],
   "source": [
    "reviews.head(1)"
   ]
  },
  {
   "cell_type": "markdown",
   "id": "508be17f",
   "metadata": {},
   "source": [
    "# Cleaning"
   ]
  },
  {
   "cell_type": "code",
   "execution_count": 6,
   "id": "9f0a7221",
   "metadata": {},
   "outputs": [
    {
     "data": {
      "text/plain": [
       "ReviewId           0\n",
       "RecipeId           0\n",
       "AuthorId           0\n",
       "AuthorName         0\n",
       "Rating             0\n",
       "Review           214\n",
       "DateSubmitted      0\n",
       "DateModified       0\n",
       "dtype: int64"
      ]
     },
     "execution_count": 6,
     "metadata": {},
     "output_type": "execute_result"
    }
   ],
   "source": [
    "reviews.isna().sum()"
   ]
  },
  {
   "cell_type": "code",
   "execution_count": 7,
   "id": "5d667900",
   "metadata": {},
   "outputs": [
    {
     "data": {
      "text/html": [
       "<div>\n",
       "<style scoped>\n",
       "    .dataframe tbody tr th:only-of-type {\n",
       "        vertical-align: middle;\n",
       "    }\n",
       "\n",
       "    .dataframe tbody tr th {\n",
       "        vertical-align: top;\n",
       "    }\n",
       "\n",
       "    .dataframe thead th {\n",
       "        text-align: right;\n",
       "    }\n",
       "</style>\n",
       "<table border=\"1\" class=\"dataframe\">\n",
       "  <thead>\n",
       "    <tr style=\"text-align: right;\">\n",
       "      <th></th>\n",
       "      <th>ReviewId</th>\n",
       "      <th>RecipeId</th>\n",
       "      <th>AuthorId</th>\n",
       "      <th>AuthorName</th>\n",
       "      <th>Rating</th>\n",
       "      <th>Review</th>\n",
       "      <th>DateSubmitted</th>\n",
       "      <th>DateModified</th>\n",
       "    </tr>\n",
       "  </thead>\n",
       "  <tbody>\n",
       "    <tr>\n",
       "      <th>165686</th>\n",
       "      <td>177521</td>\n",
       "      <td>121490</td>\n",
       "      <td>125458</td>\n",
       "      <td>eatrealfood</td>\n",
       "      <td>5</td>\n",
       "      <td>NaN</td>\n",
       "      <td>2017-03-24T13:32:48Z</td>\n",
       "      <td>2017-03-24T13:32:48Z</td>\n",
       "    </tr>\n",
       "    <tr>\n",
       "      <th>381499</th>\n",
       "      <td>408467</td>\n",
       "      <td>74971</td>\n",
       "      <td>362819</td>\n",
       "      <td>Loryn</td>\n",
       "      <td>4</td>\n",
       "      <td>NaN</td>\n",
       "      <td>2017-02-22T22:22:01Z</td>\n",
       "      <td>2017-02-22T22:22:01Z</td>\n",
       "    </tr>\n",
       "    <tr>\n",
       "      <th>511712</th>\n",
       "      <td>555485</td>\n",
       "      <td>22210</td>\n",
       "      <td>362819</td>\n",
       "      <td>Loryn</td>\n",
       "      <td>5</td>\n",
       "      <td>NaN</td>\n",
       "      <td>2017-02-22T22:03:55Z</td>\n",
       "      <td>2017-02-22T22:03:55Z</td>\n",
       "    </tr>\n",
       "    <tr>\n",
       "      <th>589730</th>\n",
       "      <td>643706</td>\n",
       "      <td>22274</td>\n",
       "      <td>448426</td>\n",
       "      <td>Kids Stuff</td>\n",
       "      <td>3</td>\n",
       "      <td>NaN</td>\n",
       "      <td>2017-06-09T03:10:30Z</td>\n",
       "      <td>2017-06-09T03:10:30Z</td>\n",
       "    </tr>\n",
       "    <tr>\n",
       "      <th>1109687</th>\n",
       "      <td>1270189</td>\n",
       "      <td>359662</td>\n",
       "      <td>547648</td>\n",
       "      <td>leanna.heiman</td>\n",
       "      <td>5</td>\n",
       "      <td>NaN</td>\n",
       "      <td>2017-05-30T05:25:20Z</td>\n",
       "      <td>2017-05-30T05:25:20Z</td>\n",
       "    </tr>\n",
       "    <tr>\n",
       "      <th>...</th>\n",
       "      <td>...</td>\n",
       "      <td>...</td>\n",
       "      <td>...</td>\n",
       "      <td>...</td>\n",
       "      <td>...</td>\n",
       "      <td>...</td>\n",
       "      <td>...</td>\n",
       "      <td>...</td>\n",
       "    </tr>\n",
       "    <tr>\n",
       "      <th>1378730</th>\n",
       "      <td>2065335</td>\n",
       "      <td>252449</td>\n",
       "      <td>2002310785</td>\n",
       "      <td>Cecily S.</td>\n",
       "      <td>4</td>\n",
       "      <td>NaN</td>\n",
       "      <td>2018-10-24T18:23:15Z</td>\n",
       "      <td>2018-10-24T18:23:15Z</td>\n",
       "    </tr>\n",
       "    <tr>\n",
       "      <th>1378916</th>\n",
       "      <td>2065538</td>\n",
       "      <td>122475</td>\n",
       "      <td>2002313998</td>\n",
       "      <td>ayateisheh</td>\n",
       "      <td>5</td>\n",
       "      <td>NaN</td>\n",
       "      <td>2018-10-27T21:58:55Z</td>\n",
       "      <td>2018-10-27T21:58:55Z</td>\n",
       "    </tr>\n",
       "    <tr>\n",
       "      <th>1380429</th>\n",
       "      <td>2067166</td>\n",
       "      <td>452478</td>\n",
       "      <td>2002360118</td>\n",
       "      <td>Nancy D.</td>\n",
       "      <td>5</td>\n",
       "      <td>NaN</td>\n",
       "      <td>2018-12-08T19:33:59Z</td>\n",
       "      <td>2018-12-08T19:33:59Z</td>\n",
       "    </tr>\n",
       "    <tr>\n",
       "      <th>1385870</th>\n",
       "      <td>2072984</td>\n",
       "      <td>12975</td>\n",
       "      <td>2002375480</td>\n",
       "      <td>Anonymous</td>\n",
       "      <td>5</td>\n",
       "      <td>NaN</td>\n",
       "      <td>2019-06-03T15:26:09Z</td>\n",
       "      <td>2019-06-03T15:26:09Z</td>\n",
       "    </tr>\n",
       "    <tr>\n",
       "      <th>1394535</th>\n",
       "      <td>2082360</td>\n",
       "      <td>2886</td>\n",
       "      <td>2002706600</td>\n",
       "      <td>billf112266</td>\n",
       "      <td>5</td>\n",
       "      <td>NaN</td>\n",
       "      <td>2020-04-23T04:17:27Z</td>\n",
       "      <td>2020-04-23T04:17:27Z</td>\n",
       "    </tr>\n",
       "  </tbody>\n",
       "</table>\n",
       "<p>214 rows × 8 columns</p>\n",
       "</div>"
      ],
      "text/plain": [
       "         ReviewId  RecipeId    AuthorId     AuthorName  Rating Review  \\\n",
       "165686     177521    121490      125458    eatrealfood       5    NaN   \n",
       "381499     408467     74971      362819          Loryn       4    NaN   \n",
       "511712     555485     22210      362819          Loryn       5    NaN   \n",
       "589730     643706     22274      448426     Kids Stuff       3    NaN   \n",
       "1109687   1270189    359662      547648  leanna.heiman       5    NaN   \n",
       "...           ...       ...         ...            ...     ...    ...   \n",
       "1378730   2065335    252449  2002310785      Cecily S.       4    NaN   \n",
       "1378916   2065538    122475  2002313998     ayateisheh       5    NaN   \n",
       "1380429   2067166    452478  2002360118       Nancy D.       5    NaN   \n",
       "1385870   2072984     12975  2002375480      Anonymous       5    NaN   \n",
       "1394535   2082360      2886  2002706600    billf112266       5    NaN   \n",
       "\n",
       "                DateSubmitted          DateModified  \n",
       "165686   2017-03-24T13:32:48Z  2017-03-24T13:32:48Z  \n",
       "381499   2017-02-22T22:22:01Z  2017-02-22T22:22:01Z  \n",
       "511712   2017-02-22T22:03:55Z  2017-02-22T22:03:55Z  \n",
       "589730   2017-06-09T03:10:30Z  2017-06-09T03:10:30Z  \n",
       "1109687  2017-05-30T05:25:20Z  2017-05-30T05:25:20Z  \n",
       "...                       ...                   ...  \n",
       "1378730  2018-10-24T18:23:15Z  2018-10-24T18:23:15Z  \n",
       "1378916  2018-10-27T21:58:55Z  2018-10-27T21:58:55Z  \n",
       "1380429  2018-12-08T19:33:59Z  2018-12-08T19:33:59Z  \n",
       "1385870  2019-06-03T15:26:09Z  2019-06-03T15:26:09Z  \n",
       "1394535  2020-04-23T04:17:27Z  2020-04-23T04:17:27Z  \n",
       "\n",
       "[214 rows x 8 columns]"
      ]
     },
     "execution_count": 7,
     "metadata": {},
     "output_type": "execute_result"
    }
   ],
   "source": [
    "reviews.loc[reviews['Review'].isna()]"
   ]
  },
  {
   "cell_type": "code",
   "execution_count": 8,
   "id": "7cd6afaf",
   "metadata": {},
   "outputs": [
    {
     "data": {
      "text/plain": [
       "pandas.core.frame.DataFrame"
      ]
     },
     "execution_count": 8,
     "metadata": {},
     "output_type": "execute_result"
    }
   ],
   "source": [
    "type(reviews)"
   ]
  },
  {
   "cell_type": "code",
   "execution_count": 9,
   "id": "e1612c79",
   "metadata": {},
   "outputs": [],
   "source": [
    "reviews = reviews.dropna()\n"
   ]
  },
  {
   "cell_type": "code",
   "execution_count": 10,
   "id": "0c5b1427",
   "metadata": {},
   "outputs": [
    {
     "data": {
      "text/plain": [
       "ReviewId         0\n",
       "RecipeId         0\n",
       "AuthorId         0\n",
       "AuthorName       0\n",
       "Rating           0\n",
       "Review           0\n",
       "DateSubmitted    0\n",
       "DateModified     0\n",
       "dtype: int64"
      ]
     },
     "execution_count": 10,
     "metadata": {},
     "output_type": "execute_result"
    }
   ],
   "source": [
    "reviews.isna().sum()"
   ]
  },
  {
   "cell_type": "code",
   "execution_count": 11,
   "id": "5d55e97f",
   "metadata": {},
   "outputs": [
    {
     "data": {
      "text/plain": [
       "0"
      ]
     },
     "execution_count": 11,
     "metadata": {},
     "output_type": "execute_result"
    }
   ],
   "source": [
    "reviews.duplicated().sum()"
   ]
  },
  {
   "cell_type": "markdown",
   "id": "a967bbd4",
   "metadata": {},
   "source": [
    "# EDA"
   ]
  },
  {
   "cell_type": "code",
   "execution_count": 12,
   "id": "6bfe6eea",
   "metadata": {},
   "outputs": [
    {
     "data": {
      "image/png": "[encoded data removed]",
      "text/plain": [
       "<Figure size 640x480 with 1 Axes>"
      ]
     },
     "metadata": {},
     "output_type": "display_data"
    }
   ],
   "source": [
    "values, counts = np.unique(reviews['Rating'], return_counts = True)\n",
    "normalized_counts = counts/counts.sum()\n",
    "\n",
    "plt.figure()\n",
    "plt.bar(values, normalized_counts * 100, color = 'darkred')\n",
    "plt.xlabel('Review rating')\n",
    "plt.ylabel('Percentage of reviews')\n",
    "plt.title('Rating Distribution')\n",
    "plt.show()"
   ]
  },
  {
   "cell_type": "code",
   "execution_count": 13,
   "id": "185cc374",
   "metadata": {},
   "outputs": [
    {
     "data": {
      "text/plain": [
       "(1401768, 8)"
      ]
     },
     "execution_count": 13,
     "metadata": {},
     "output_type": "execute_result"
    }
   ],
   "source": [
    "reviews.shape"
   ]
  },
  {
   "cell_type": "code",
   "execution_count": 14,
   "id": "9727a951",
   "metadata": {},
   "outputs": [],
   "source": [
    "# dropping reviews that are 3 or 4\n",
    "reviews = reviews.drop(reviews[(reviews['Rating'] == 3) | (reviews['Rating'] == 4)].index)"
   ]
  },
  {
   "cell_type": "markdown",
   "id": "f06d5f0e",
   "metadata": {},
   "source": [
    "I droped reviews that are 3 and 4 because I want to take only extremes to have a better training on if the word is positive or negative. 3 and 4 could be neutral or mixed review which could confuse my model."
   ]
  },
  {
   "cell_type": "code",
   "execution_count": 15,
   "id": "38f7b2f7",
   "metadata": {
    "scrolled": false
   },
   "outputs": [
    {
     "data": {
      "text/html": [
       "<div>\n",
       "<style scoped>\n",
       "    .dataframe tbody tr th:only-of-type {\n",
       "        vertical-align: middle;\n",
       "    }\n",
       "\n",
       "    .dataframe tbody tr th {\n",
       "        vertical-align: top;\n",
       "    }\n",
       "\n",
       "    .dataframe thead th {\n",
       "        text-align: right;\n",
       "    }\n",
       "</style>\n",
       "<table border=\"1\" class=\"dataframe\">\n",
       "  <thead>\n",
       "    <tr style=\"text-align: right;\">\n",
       "      <th></th>\n",
       "      <th>ReviewId</th>\n",
       "      <th>RecipeId</th>\n",
       "      <th>AuthorId</th>\n",
       "      <th>AuthorName</th>\n",
       "      <th>Rating</th>\n",
       "      <th>Review</th>\n",
       "      <th>DateSubmitted</th>\n",
       "      <th>DateModified</th>\n",
       "      <th>Sentiment</th>\n",
       "    </tr>\n",
       "  </thead>\n",
       "  <tbody>\n",
       "    <tr>\n",
       "      <th>0</th>\n",
       "      <td>2</td>\n",
       "      <td>992</td>\n",
       "      <td>2008</td>\n",
       "      <td>gayg msft</td>\n",
       "      <td>5</td>\n",
       "      <td>better than any you can get at a restaurant!</td>\n",
       "      <td>2000-01-25T21:44:00Z</td>\n",
       "      <td>2000-01-25T21:44:00Z</td>\n",
       "      <td>1</td>\n",
       "    </tr>\n",
       "    <tr>\n",
       "      <th>2</th>\n",
       "      <td>9</td>\n",
       "      <td>4523</td>\n",
       "      <td>2046</td>\n",
       "      <td>Gay Gilmore ckpt</td>\n",
       "      <td>2</td>\n",
       "      <td>i think i did something wrong because i could ...</td>\n",
       "      <td>2000-02-25T09:00:00Z</td>\n",
       "      <td>2000-02-25T09:00:00Z</td>\n",
       "      <td>0</td>\n",
       "    </tr>\n",
       "    <tr>\n",
       "      <th>3</th>\n",
       "      <td>13</td>\n",
       "      <td>7435</td>\n",
       "      <td>1773</td>\n",
       "      <td>Malarkey Test</td>\n",
       "      <td>5</td>\n",
       "      <td>easily the best i have ever had.  juicy flavor...</td>\n",
       "      <td>2000-03-13T21:15:00Z</td>\n",
       "      <td>2000-03-13T21:15:00Z</td>\n",
       "      <td>1</td>\n",
       "    </tr>\n",
       "  </tbody>\n",
       "</table>\n",
       "</div>"
      ],
      "text/plain": [
       "   ReviewId  RecipeId  AuthorId        AuthorName  Rating  \\\n",
       "0         2       992      2008         gayg msft       5   \n",
       "2         9      4523      2046  Gay Gilmore ckpt       2   \n",
       "3        13      7435      1773     Malarkey Test       5   \n",
       "\n",
       "                                              Review         DateSubmitted  \\\n",
       "0       better than any you can get at a restaurant!  2000-01-25T21:44:00Z   \n",
       "2  i think i did something wrong because i could ...  2000-02-25T09:00:00Z   \n",
       "3  easily the best i have ever had.  juicy flavor...  2000-03-13T21:15:00Z   \n",
       "\n",
       "           DateModified  Sentiment  \n",
       "0  2000-01-25T21:44:00Z          1  \n",
       "2  2000-02-25T09:00:00Z          0  \n",
       "3  2000-03-13T21:15:00Z          1  "
      ]
     },
     "execution_count": 15,
     "metadata": {},
     "output_type": "execute_result"
    }
   ],
   "source": [
    "reviews['Sentiment'] = np.where(reviews['Rating'] >=4, 1, 0) \n",
    "#later replace with reviews_simple or something like that\n",
    "reviews.head(3)"
   ]
  },
  {
   "cell_type": "code",
   "execution_count": 16,
   "id": "9688fc88",
   "metadata": {},
   "outputs": [
    {
     "data": {
      "image/png": "[encoded data removed]",
      "text/plain": [
       "<Figure size 640x480 with 1 Axes>"
      ]
     },
     "metadata": {},
     "output_type": "display_data"
    }
   ],
   "source": [
    "values, counts = np.unique(reviews['Sentiment'], return_counts=True)\n",
    "normalized_counts = counts/counts.sum()\n",
    "\n",
    "plt.figure()\n",
    "plt.bar(['0','1'], normalized_counts*100)\n",
    "plt.title('Positive (1) and Negative (0) Reviews')\n",
    "plt.ylabel('Percentage of Total Reviews')\n",
    "plt.xticks(ticks = [0,1], labels=['Negative', 'Positive'])\n",
    "plt.show()"
   ]
  },
  {
   "cell_type": "code",
   "execution_count": 17,
   "id": "2c70c6f3",
   "metadata": {},
   "outputs": [
    {
     "name": "stdout",
     "output_type": "stream",
     "text": [
      "[0 1]\n",
      "[ 110399 1011912]\n"
     ]
    }
   ],
   "source": [
    "print(values)\n",
    "print(counts)"
   ]
  },
  {
   "cell_type": "code",
   "execution_count": 18,
   "id": "28a02b40",
   "metadata": {},
   "outputs": [],
   "source": [
    "from sklearn.utils import resample\n",
    "\n",
    "majority_sentiment = reviews[reviews['Sentiment'] == 1]  # Majority sentiment (positive)\n",
    "minority_sentiment = reviews[reviews['Sentiment'] == 0]  # Minority sentiment (negative)\n",
    "\n",
    "# Upsample the minority sentiment\n",
    "oversampled_minority = resample(minority_sentiment,\n",
    "                                replace=True,  # Allow duplication\n",
    "                                n_samples=len(majority_sentiment),  # Match majority sentiment size\n",
    "                                random_state=42)  # Set a random seed for reproducibility\n",
    "\n",
    "# Combine the majority sentiment with the oversampled minority sentiment\n",
    "balanced_reviews = pd.concat([majority_sentiment, oversampled_minority])\n",
    "\n",
    "# Shuffle the balanced dataset\n",
    "balanced_reviews = balanced_reviews.sample(frac=1, random_state=42).reset_index(drop=True)"
   ]
  },
  {
   "cell_type": "code",
   "execution_count": 19,
   "id": "7732dc63",
   "metadata": {},
   "outputs": [
    {
     "data": {
      "text/html": [
       "<div>\n",
       "<style scoped>\n",
       "    .dataframe tbody tr th:only-of-type {\n",
       "        vertical-align: middle;\n",
       "    }\n",
       "\n",
       "    .dataframe tbody tr th {\n",
       "        vertical-align: top;\n",
       "    }\n",
       "\n",
       "    .dataframe thead th {\n",
       "        text-align: right;\n",
       "    }\n",
       "</style>\n",
       "<table border=\"1\" class=\"dataframe\">\n",
       "  <thead>\n",
       "    <tr style=\"text-align: right;\">\n",
       "      <th></th>\n",
       "      <th>ReviewId</th>\n",
       "      <th>RecipeId</th>\n",
       "      <th>AuthorId</th>\n",
       "      <th>AuthorName</th>\n",
       "      <th>Rating</th>\n",
       "      <th>Review</th>\n",
       "      <th>DateSubmitted</th>\n",
       "      <th>DateModified</th>\n",
       "      <th>Sentiment</th>\n",
       "    </tr>\n",
       "  </thead>\n",
       "  <tbody>\n",
       "    <tr>\n",
       "      <th>0</th>\n",
       "      <td>212628</td>\n",
       "      <td>75103</td>\n",
       "      <td>252556</td>\n",
       "      <td>jtmmmatthews</td>\n",
       "      <td>5</td>\n",
       "      <td>I love this simply yet delicious recipe.\\r\\n\\r...</td>\n",
       "      <td>2005-10-16T14:44:20Z</td>\n",
       "      <td>2005-10-16T14:44:20Z</td>\n",
       "      <td>1</td>\n",
       "    </tr>\n",
       "    <tr>\n",
       "      <th>1</th>\n",
       "      <td>484567</td>\n",
       "      <td>254184</td>\n",
       "      <td>356476</td>\n",
       "      <td>Lolas Mama</td>\n",
       "      <td>5</td>\n",
       "      <td>I'm on a low fat low sodium diet, so it's real...</td>\n",
       "      <td>2007-09-23T17:49:47Z</td>\n",
       "      <td>2007-09-23T17:49:47Z</td>\n",
       "      <td>1</td>\n",
       "    </tr>\n",
       "    <tr>\n",
       "      <th>2</th>\n",
       "      <td>1085417</td>\n",
       "      <td>2886</td>\n",
       "      <td>68941</td>\n",
       "      <td>Trickey</td>\n",
       "      <td>0</td>\n",
       "      <td>Thanks for this wonderful recipe.  I have made...</td>\n",
       "      <td>2010-04-16T10:55:46Z</td>\n",
       "      <td>2010-04-16T10:55:46Z</td>\n",
       "      <td>0</td>\n",
       "    </tr>\n",
       "    <tr>\n",
       "      <th>3</th>\n",
       "      <td>1452481</td>\n",
       "      <td>476676</td>\n",
       "      <td>1803083664</td>\n",
       "      <td>Ryan B.</td>\n",
       "      <td>5</td>\n",
       "      <td>The first time I made his recipe the cookies t...</td>\n",
       "      <td>2014-08-29T18:27:03Z</td>\n",
       "      <td>2014-08-29T18:27:03Z</td>\n",
       "      <td>1</td>\n",
       "    </tr>\n",
       "    <tr>\n",
       "      <th>4</th>\n",
       "      <td>2037971</td>\n",
       "      <td>48383</td>\n",
       "      <td>2001793617</td>\n",
       "      <td>Mary L.</td>\n",
       "      <td>0</td>\n",
       "      <td>I did a bone in Turkey for Thanksgiving. I put...</td>\n",
       "      <td>2017-12-06T00:17:17Z</td>\n",
       "      <td>2017-12-06T00:17:17Z</td>\n",
       "      <td>0</td>\n",
       "    </tr>\n",
       "  </tbody>\n",
       "</table>\n",
       "</div>"
      ],
      "text/plain": [
       "   ReviewId  RecipeId    AuthorId    AuthorName  Rating  \\\n",
       "0    212628     75103      252556  jtmmmatthews       5   \n",
       "1    484567    254184      356476    Lolas Mama       5   \n",
       "2   1085417      2886       68941       Trickey       0   \n",
       "3   1452481    476676  1803083664       Ryan B.       5   \n",
       "4   2037971     48383  2001793617       Mary L.       0   \n",
       "\n",
       "                                              Review         DateSubmitted  \\\n",
       "0  I love this simply yet delicious recipe.\\r\\n\\r...  2005-10-16T14:44:20Z   \n",
       "1  I'm on a low fat low sodium diet, so it's real...  2007-09-23T17:49:47Z   \n",
       "2  Thanks for this wonderful recipe.  I have made...  2010-04-16T10:55:46Z   \n",
       "3  The first time I made his recipe the cookies t...  2014-08-29T18:27:03Z   \n",
       "4  I did a bone in Turkey for Thanksgiving. I put...  2017-12-06T00:17:17Z   \n",
       "\n",
       "           DateModified  Sentiment  \n",
       "0  2005-10-16T14:44:20Z          1  \n",
       "1  2007-09-23T17:49:47Z          1  \n",
       "2  2010-04-16T10:55:46Z          0  \n",
       "3  2014-08-29T18:27:03Z          1  \n",
       "4  2017-12-06T00:17:17Z          0  "
      ]
     },
     "execution_count": 19,
     "metadata": {},
     "output_type": "execute_result"
    }
   ],
   "source": [
    "balanced_reviews.head()"
   ]
  },
  {
   "cell_type": "code",
   "execution_count": 20,
   "id": "7850bb3e",
   "metadata": {},
   "outputs": [
    {
     "data": {
      "text/html": [
       "<div>\n",
       "<style scoped>\n",
       "    .dataframe tbody tr th:only-of-type {\n",
       "        vertical-align: middle;\n",
       "    }\n",
       "\n",
       "    .dataframe tbody tr th {\n",
       "        vertical-align: top;\n",
       "    }\n",
       "\n",
       "    .dataframe thead th {\n",
       "        text-align: right;\n",
       "    }\n",
       "</style>\n",
       "<table border=\"1\" class=\"dataframe\">\n",
       "  <thead>\n",
       "    <tr style=\"text-align: right;\">\n",
       "      <th></th>\n",
       "      <th>RecipeId</th>\n",
       "      <th>AuthorId</th>\n",
       "      <th>AuthorName</th>\n",
       "      <th>Rating</th>\n",
       "      <th>Review</th>\n",
       "      <th>DateSubmitted</th>\n",
       "      <th>DateModified</th>\n",
       "      <th>Sentiment</th>\n",
       "    </tr>\n",
       "    <tr>\n",
       "      <th>ReviewId</th>\n",
       "      <th></th>\n",
       "      <th></th>\n",
       "      <th></th>\n",
       "      <th></th>\n",
       "      <th></th>\n",
       "      <th></th>\n",
       "      <th></th>\n",
       "      <th></th>\n",
       "    </tr>\n",
       "  </thead>\n",
       "  <tbody>\n",
       "    <tr>\n",
       "      <th>212628</th>\n",
       "      <td>75103</td>\n",
       "      <td>252556</td>\n",
       "      <td>jtmmmatthews</td>\n",
       "      <td>5</td>\n",
       "      <td>I love this simply yet delicious recipe.\\r\\n\\r...</td>\n",
       "      <td>2005-10-16T14:44:20Z</td>\n",
       "      <td>2005-10-16T14:44:20Z</td>\n",
       "      <td>1</td>\n",
       "    </tr>\n",
       "    <tr>\n",
       "      <th>484567</th>\n",
       "      <td>254184</td>\n",
       "      <td>356476</td>\n",
       "      <td>Lolas Mama</td>\n",
       "      <td>5</td>\n",
       "      <td>I'm on a low fat low sodium diet, so it's real...</td>\n",
       "      <td>2007-09-23T17:49:47Z</td>\n",
       "      <td>2007-09-23T17:49:47Z</td>\n",
       "      <td>1</td>\n",
       "    </tr>\n",
       "    <tr>\n",
       "      <th>1085417</th>\n",
       "      <td>2886</td>\n",
       "      <td>68941</td>\n",
       "      <td>Trickey</td>\n",
       "      <td>0</td>\n",
       "      <td>Thanks for this wonderful recipe.  I have made...</td>\n",
       "      <td>2010-04-16T10:55:46Z</td>\n",
       "      <td>2010-04-16T10:55:46Z</td>\n",
       "      <td>0</td>\n",
       "    </tr>\n",
       "    <tr>\n",
       "      <th>1452481</th>\n",
       "      <td>476676</td>\n",
       "      <td>1803083664</td>\n",
       "      <td>Ryan B.</td>\n",
       "      <td>5</td>\n",
       "      <td>The first time I made his recipe the cookies t...</td>\n",
       "      <td>2014-08-29T18:27:03Z</td>\n",
       "      <td>2014-08-29T18:27:03Z</td>\n",
       "      <td>1</td>\n",
       "    </tr>\n",
       "    <tr>\n",
       "      <th>2037971</th>\n",
       "      <td>48383</td>\n",
       "      <td>2001793617</td>\n",
       "      <td>Mary L.</td>\n",
       "      <td>0</td>\n",
       "      <td>I did a bone in Turkey for Thanksgiving. I put...</td>\n",
       "      <td>2017-12-06T00:17:17Z</td>\n",
       "      <td>2017-12-06T00:17:17Z</td>\n",
       "      <td>0</td>\n",
       "    </tr>\n",
       "  </tbody>\n",
       "</table>\n",
       "</div>"
      ],
      "text/plain": [
       "          RecipeId    AuthorId    AuthorName  Rating  \\\n",
       "ReviewId                                               \n",
       "212628       75103      252556  jtmmmatthews       5   \n",
       "484567      254184      356476    Lolas Mama       5   \n",
       "1085417       2886       68941       Trickey       0   \n",
       "1452481     476676  1803083664       Ryan B.       5   \n",
       "2037971      48383  2001793617       Mary L.       0   \n",
       "\n",
       "                                                     Review  \\\n",
       "ReviewId                                                      \n",
       "212628    I love this simply yet delicious recipe.\\r\\n\\r...   \n",
       "484567    I'm on a low fat low sodium diet, so it's real...   \n",
       "1085417   Thanks for this wonderful recipe.  I have made...   \n",
       "1452481   The first time I made his recipe the cookies t...   \n",
       "2037971   I did a bone in Turkey for Thanksgiving. I put...   \n",
       "\n",
       "                 DateSubmitted          DateModified  Sentiment  \n",
       "ReviewId                                                         \n",
       "212628    2005-10-16T14:44:20Z  2005-10-16T14:44:20Z          1  \n",
       "484567    2007-09-23T17:49:47Z  2007-09-23T17:49:47Z          1  \n",
       "1085417   2010-04-16T10:55:46Z  2010-04-16T10:55:46Z          0  \n",
       "1452481   2014-08-29T18:27:03Z  2014-08-29T18:27:03Z          1  \n",
       "2037971   2017-12-06T00:17:17Z  2017-12-06T00:17:17Z          0  "
      ]
     },
     "execution_count": 20,
     "metadata": {},
     "output_type": "execute_result"
    }
   ],
   "source": [
    "# getting rid of the default index and replacing it with review id\n",
    "balanced_reviews.set_index('ReviewId', inplace=True)\n",
    "balanced_reviews.head()"
   ]
  },
  {
   "cell_type": "code",
   "execution_count": 21,
   "id": "0fac570d",
   "metadata": {},
   "outputs": [
    {
     "name": "stdout",
     "output_type": "stream",
     "text": [
      "Normal reviews: (1122311, 9)\n",
      "balanced reviews: (2023824, 8)\n"
     ]
    }
   ],
   "source": [
    "print(f'Normal reviews: {reviews.shape}')\n",
    "print(f'balanced reviews: {balanced_reviews.shape}')"
   ]
  },
  {
   "cell_type": "code",
   "execution_count": 22,
   "id": "fe68a155",
   "metadata": {},
   "outputs": [
    {
     "data": {
      "text/plain": [
       "1    1011912\n",
       "0    1011912\n",
       "Name: Sentiment, dtype: int64"
      ]
     },
     "execution_count": 22,
     "metadata": {},
     "output_type": "execute_result"
    }
   ],
   "source": [
    "balanced_reviews['Sentiment'].value_counts()"
   ]
  },
  {
   "cell_type": "code",
   "execution_count": null,
   "id": "7f69f331",
   "metadata": {},
   "outputs": [],
   "source": []
  },
  {
   "cell_type": "code",
   "execution_count": 23,
   "id": "56b16e2a",
   "metadata": {},
   "outputs": [],
   "source": [
    "sample_size = 50000\n",
    "\n",
    "# Assuming you have the 'balanced_reviews' DataFrame\n",
    "\n",
    "# Check if the dataset has more than 50,000 rows\n",
    "if len(balanced_reviews) > sample_size:\n",
    "    # Take a random sample of 50,000 rows from the balanced_reviews DataFrame\n",
    "    sample_reviews = balanced_reviews.sample(n=sample_size, random_state=1)\n",
    "else:\n",
    "    # If the dataset has fewer than 50,000 rows, use the entire dataset as the sample\n",
    "    sample_reviews = balanced_reviews"
   ]
  },
  {
   "cell_type": "code",
   "execution_count": 24,
   "id": "77c8d0af",
   "metadata": {},
   "outputs": [
    {
     "data": {
      "text/plain": [
       "1    25048\n",
       "0    24952\n",
       "Name: Sentiment, dtype: int64"
      ]
     },
     "execution_count": 24,
     "metadata": {},
     "output_type": "execute_result"
    }
   ],
   "source": [
    "sample_reviews['Sentiment'].value_counts()"
   ]
  },
  {
   "cell_type": "code",
   "execution_count": 25,
   "id": "aeefd1e6",
   "metadata": {},
   "outputs": [
    {
     "data": {
      "image/png": "[encoded data removed]",
      "text/plain": [
       "<Figure size 640x480 with 1 Axes>"
      ]
     },
     "metadata": {},
     "output_type": "display_data"
    }
   ],
   "source": [
    "values, counts = np.unique(sample_reviews['Sentiment'], return_counts=True)\n",
    "normalized_counts = counts/counts.sum()\n",
    "\n",
    "plt.figure()\n",
    "plt.bar(['0','1'], normalized_counts*100)\n",
    "plt.title(\"Sample's Total Positive (1) and Negative (0) Reviews\")\n",
    "plt.ylabel('Percentage of Total Reviews')\n",
    "plt.xticks(ticks = [0,1], labels=['Negative', 'Positive'])\n",
    "plt.show()"
   ]
  },
  {
   "cell_type": "markdown",
   "id": "fe81fcc7",
   "metadata": {},
   "source": [
    "# Start to tokenize"
   ]
  },
  {
   "cell_type": "code",
   "execution_count": 26,
   "id": "81e6950a",
   "metadata": {},
   "outputs": [],
   "source": [
    "def my_tokenizer(sentence):\n",
    "    # Instantiate stemmer and stopwords from nltk\n",
    "    stemmer = PorterStemmer()\n",
    "    stop_words = set(stopwords.words('english'))\n",
    "\n",
    "    # Tokenize the sentence into words\n",
    "    words = word_tokenize(sentence)\n",
    "\n",
    "    # Making them lower case and remove punctuation\n",
    "    stemmed_words = [stemmer.stem(word.lower()) for word in words if word.isalpha()]\n",
    "\n",
    "    # Remove if it is a stop words\n",
    "    filtered_words = [word for word in stemmed_words if word not in stop_words]\n",
    "\n",
    "    return filtered_words"
   ]
  },
  {
   "cell_type": "code",
   "execution_count": 27,
   "id": "237b9cd4",
   "metadata": {},
   "outputs": [
    {
     "data": {
      "text/plain": [
       "['quick', 'brown', 'fox', 'jump', 'lazi', 'dog']"
      ]
     },
     "execution_count": 27,
     "metadata": {},
     "output_type": "execute_result"
    }
   ],
   "source": [
    "# checking my tokenizer\n",
    "example_sentence = \"The quick brown fox, jumped over the lazy dog!!\"\n",
    "my_tokenizer(example_sentence)"
   ]
  },
  {
   "cell_type": "code",
   "execution_count": 28,
   "id": "a361ef97",
   "metadata": {
    "scrolled": true
   },
   "outputs": [],
   "source": [
    "# reviews['Tokenized_Reviews'] = reviews['Review'].apply(my_tokenizer)\n",
    "# reviews.head(2)"
   ]
  },
  {
   "cell_type": "code",
   "execution_count": 29,
   "id": "8cb3b228",
   "metadata": {
    "scrolled": true
   },
   "outputs": [],
   "source": [
    "# # I am testing another way of doing sample that is maybe better than this one\n",
    "# # Convert the values in the 'Review' column to strings\n",
    "# reviews['Review'] = reviews['Review'].astype(str)\n",
    "\n",
    "\n",
    "# # Sample a subset of the data\n",
    "# sample_reviews = reviews.sample(n=50000, random_state=1)\n",
    "\n",
    "\n"
   ]
  },
  {
   "cell_type": "code",
   "execution_count": 30,
   "id": "c5cdc0fe",
   "metadata": {},
   "outputs": [],
   "source": [
    "######### took this off for now for testing purposes ############"
   ]
  },
  {
   "cell_type": "code",
   "execution_count": 31,
   "id": "d700b105",
   "metadata": {},
   "outputs": [],
   "source": [
    "# # Apply the tokenizer function to the sampled reviews\n",
    "# tokenized_reviews = sample_reviews['Review'].apply(my_tokenizer)\n",
    "\n",
    "# sample_reviews['Tokenized_Reviews'] = tokenized_reviews\n",
    "# sample_reviews['Tokenized_Reviews'].head(3)"
   ]
  },
  {
   "cell_type": "code",
   "execution_count": null,
   "id": "883618a2",
   "metadata": {},
   "outputs": [],
   "source": []
  },
  {
   "cell_type": "code",
   "execution_count": 32,
   "id": "74a41607",
   "metadata": {},
   "outputs": [],
   "source": [
    "# # Separate the data into features (X) and target (y)\n",
    "# X = reviews.drop('Sentiment', axis=1)\n",
    "# y = reviews['Sentiment']\n",
    "\n",
    "# # Taking a chunk for our 20% test set\n",
    "# X_remainder, X_test, y_remainder, y_test = \\\n",
    "#     train_test_split(X, y, stratify=y, test_size = 0.2,\n",
    "#                      random_state=1)\n",
    "\n"
   ]
  },
  {
   "cell_type": "code",
   "execution_count": 33,
   "id": "abbe69c5",
   "metadata": {},
   "outputs": [],
   "source": [
    "# # Splitting the remainder in two chunks\n",
    "# X_train, X_validation, y_train, y_validation = \\\n",
    "#     train_test_split(X_remainder, y_remainder, test_size = 0.3,\n",
    "#                      random_state=1)\n"
   ]
  },
  {
   "cell_type": "code",
   "execution_count": 34,
   "id": "1d4a06c3",
   "metadata": {},
   "outputs": [],
   "source": [
    "# X_test.shape #just checking the shape"
   ]
  },
  {
   "cell_type": "code",
   "execution_count": 35,
   "id": "3f495fae",
   "metadata": {},
   "outputs": [],
   "source": [
    "# X_train.shape"
   ]
  },
  {
   "cell_type": "code",
   "execution_count": 36,
   "id": "bcc325aa",
   "metadata": {},
   "outputs": [],
   "source": [
    "\n",
    "\n",
    "X_sample = sample_reviews['Review'].astype(str)\n",
    "y_sample = sample_reviews['Sentiment']\n",
    "\n",
    "# Perform stratified sampling to obtain a balanced sample\n",
    "X_remainder_sample, X_test_sample, y_remainder_sample, y_test_sample = train_test_split(X_sample, y_sample,  test_size=0.2, stratify=y_sample, random_state=1)\n",
    "\n",
    "# Splitting the remainder in two chunks\n",
    "X_train_sample, X_validation_sample, y_train_sample, y_validation_sample = \\\n",
    "    train_test_split(X_remainder_sample, y_remainder_sample, test_size = 0.3,\n",
    "                     random_state=1)\n",
    "    "
   ]
  },
  {
   "cell_type": "code",
   "execution_count": 37,
   "id": "ce64eb28",
   "metadata": {},
   "outputs": [
    {
     "data": {
      "text/plain": [
       "(28000,)"
      ]
     },
     "execution_count": 37,
     "metadata": {},
     "output_type": "execute_result"
    }
   ],
   "source": [
    "X_train_sample.shape"
   ]
  },
  {
   "cell_type": "code",
   "execution_count": 38,
   "id": "c3295157",
   "metadata": {},
   "outputs": [
    {
     "data": {
      "text/plain": [
       "(10000,)"
      ]
     },
     "execution_count": 38,
     "metadata": {},
     "output_type": "execute_result"
    }
   ],
   "source": [
    "X_test_sample.shape"
   ]
  },
  {
   "cell_type": "code",
   "execution_count": 39,
   "id": "d62fbfe4",
   "metadata": {},
   "outputs": [
    {
     "data": {
      "text/html": [
       "<div>\n",
       "<style scoped>\n",
       "    .dataframe tbody tr th:only-of-type {\n",
       "        vertical-align: middle;\n",
       "    }\n",
       "\n",
       "    .dataframe tbody tr th {\n",
       "        vertical-align: top;\n",
       "    }\n",
       "\n",
       "    .dataframe thead th {\n",
       "        text-align: right;\n",
       "    }\n",
       "</style>\n",
       "<table border=\"1\" class=\"dataframe\">\n",
       "  <thead>\n",
       "    <tr style=\"text-align: right;\">\n",
       "      <th></th>\n",
       "      <th>Review</th>\n",
       "      <th>Sentiment</th>\n",
       "    </tr>\n",
       "    <tr>\n",
       "      <th>ReviewId</th>\n",
       "      <th></th>\n",
       "      <th></th>\n",
       "    </tr>\n",
       "  </thead>\n",
       "  <tbody>\n",
       "    <tr>\n",
       "      <th>1109027</th>\n",
       "      <td>Delicious!!! ...and an easy to follow recipe. ...</td>\n",
       "      <td>1</td>\n",
       "    </tr>\n",
       "    <tr>\n",
       "      <th>1395449</th>\n",
       "      <td>This actually turned out to be much more cream...</td>\n",
       "      <td>1</td>\n",
       "    </tr>\n",
       "    <tr>\n",
       "      <th>472074</th>\n",
       "      <td>This recipe comes from a WW card several years...</td>\n",
       "      <td>1</td>\n",
       "    </tr>\n",
       "  </tbody>\n",
       "</table>\n",
       "</div>"
      ],
      "text/plain": [
       "                                                     Review  Sentiment\n",
       "ReviewId                                                              \n",
       "1109027   Delicious!!! ...and an easy to follow recipe. ...          1\n",
       "1395449   This actually turned out to be much more cream...          1\n",
       "472074    This recipe comes from a WW card several years...          1"
      ]
     },
     "execution_count": 39,
     "metadata": {},
     "output_type": "execute_result"
    }
   ],
   "source": [
    "# Combine the features and target back into a DataFrame\n",
    "sampled_reviews = pd.concat([X_remainder_sample, y_remainder_sample], axis=1)\n",
    "sampled_reviews.head(3)"
   ]
  },
  {
   "cell_type": "code",
   "execution_count": 40,
   "id": "507208a0",
   "metadata": {},
   "outputs": [
    {
     "data": {
      "text/plain": [
       "ReviewId\n",
       "1382477    They forgot to to mention that when your oven ...\n",
       "2055925    work in progress, A friend of mine made Seafoo...\n",
       "2018188    The first time I tried this recipe, it was too...\n",
       "Name: Review, dtype: object"
      ]
     },
     "execution_count": 40,
     "metadata": {},
     "output_type": "execute_result"
    }
   ],
   "source": [
    "X_train_sample.head(3)"
   ]
  },
  {
   "cell_type": "code",
   "execution_count": 41,
   "id": "56ac3695",
   "metadata": {},
   "outputs": [
    {
     "data": {
      "text/plain": [
       "ReviewId\n",
       "1129184    This was really good. I added a some leftover ...\n",
       "1465140    it&#039;s simple and have a good taste.My fami...\n",
       "1224704    Very good rice dish. I used fresh pineapple, a...\n",
       "Name: Review, dtype: object"
      ]
     },
     "execution_count": 41,
     "metadata": {},
     "output_type": "execute_result"
    }
   ],
   "source": [
    "X_test_sample.head(3)"
   ]
  },
  {
   "cell_type": "code",
   "execution_count": 42,
   "id": "424a2dc6",
   "metadata": {},
   "outputs": [
    {
     "data": {
      "text/plain": [
       "1    20038\n",
       "0    19962\n",
       "Name: Sentiment, dtype: int64"
      ]
     },
     "execution_count": 42,
     "metadata": {},
     "output_type": "execute_result"
    }
   ],
   "source": [
    "sampled_reviews['Sentiment'].value_counts()\n",
    "# imbalance on the values"
   ]
  },
  {
   "cell_type": "code",
   "execution_count": 43,
   "id": "624995a3",
   "metadata": {},
   "outputs": [],
   "source": [
    "# from imblearn.over_sampling import RandomOverSampler\n",
    "# oversampler = RandomOverSampler(sampling_strategy='auto', random_state=1)\n",
    "\n",
    "# X_train_sample = X_train_sample.to_numpy().reshape(-1, 1)\n",
    "# y_train_sample = y_train_sample.to_numpy().reshape(-1, 1)\n",
    "\n",
    "# X_train_oversampled, y_train_oversampled = oversampler.fit_resample(X_train_sample, y_train_sample)\n"
   ]
  },
  {
   "cell_type": "code",
   "execution_count": 44,
   "id": "8b484a19",
   "metadata": {},
   "outputs": [],
   "source": [
    "# # Convert oversampled data to DataFrames\n",
    "# X_train_oversampled = pd.DataFrame(X_train_oversampled, columns=['Review'])\n",
    "# y_train_oversampled = pd.DataFrame(y_train_oversampled, columns=['Sentiment'])\n",
    "\n",
    "# # Combine the features and target back into a DataFrame\n",
    "# oversampled_reviews = pd.concat([X_train_oversampled, y_train_oversampled], axis=1)\n",
    "# oversampled_reviews.head(3)"
   ]
  },
  {
   "cell_type": "code",
   "execution_count": 45,
   "id": "c1f4fb8f",
   "metadata": {},
   "outputs": [],
   "source": [
    "# oversampled_reviews['Sentiment'].value_counts()"
   ]
  },
  {
   "cell_type": "markdown",
   "id": "56b5e681",
   "metadata": {},
   "source": [
    "This is a lot more balanced!"
   ]
  },
  {
   "cell_type": "code",
   "execution_count": 46,
   "id": "d6ea029c",
   "metadata": {},
   "outputs": [],
   "source": [
    "# type(X_train_oversampled)"
   ]
  },
  {
   "cell_type": "code",
   "execution_count": 47,
   "id": "dee30c16",
   "metadata": {},
   "outputs": [],
   "source": [
    "# type(X_train_sample)"
   ]
  },
  {
   "cell_type": "code",
   "execution_count": 48,
   "id": "8a23b481",
   "metadata": {},
   "outputs": [],
   "source": [
    "# X_train_sample, y_train_sample = oversampler.fit_resample(X_train_sample, y_train_sample)"
   ]
  },
  {
   "cell_type": "code",
   "execution_count": 49,
   "id": "495baa87",
   "metadata": {},
   "outputs": [],
   "source": [
    "# type(X_train_sample)"
   ]
  },
  {
   "cell_type": "code",
   "execution_count": null,
   "id": "99f3a2a9",
   "metadata": {},
   "outputs": [],
   "source": []
  },
  {
   "cell_type": "code",
   "execution_count": 50,
   "id": "ec2abe33",
   "metadata": {},
   "outputs": [],
   "source": [
    "# # Convert oversampled data to DataFrames\n",
    "# X_train_sample = pd.DataFrame(X_train_sample, columns=['Review'])\n",
    "# y_train_sample = pd.DataFrame(y_train_sample, columns=['Sentiment'])\n",
    "\n",
    "# # Combine the features and target back into a DataFrame\n",
    "# sampled_reviews = pd.concat([X_train_sample, y_train_sample], axis=1)\n",
    "# sampled_reviews.head(3)"
   ]
  },
  {
   "cell_type": "code",
   "execution_count": 51,
   "id": "2a8c7e57",
   "metadata": {},
   "outputs": [],
   "source": [
    "# sampled_reviews['Sentiment'].value_counts()"
   ]
  },
  {
   "cell_type": "code",
   "execution_count": 52,
   "id": "803834d0",
   "metadata": {},
   "outputs": [],
   "source": [
    "# print(X_train_sample.dtypes)\n",
    "# print(y_train_sample.dtypes)"
   ]
  },
  {
   "cell_type": "code",
   "execution_count": 53,
   "id": "b9d64dd8",
   "metadata": {},
   "outputs": [],
   "source": [
    "# type(X_train) #I was having problem with the type for some reason\n",
    "# # solved it by using '.astype(str)'"
   ]
  },
  {
   "cell_type": "code",
   "execution_count": 54,
   "id": "d9d2b348",
   "metadata": {},
   "outputs": [
    {
     "name": "stdout",
     "output_type": "stream",
     "text": [
      "(28000, 2277)\n",
      "(10000, 2277)\n"
     ]
    }
   ],
   "source": [
    "from sklearn.feature_extraction.text import CountVectorizer\n",
    "\n",
    "# Initialize CountVectorizer with your tokenizer function\n",
    "bagofwords = CountVectorizer(min_df=20, tokenizer = my_tokenizer)\n",
    "\n",
    "# Fit and transform the training data\n",
    "X_train_sample_transformed = bagofwords.fit_transform(X_train_sample)\n",
    "\n",
    "# Transform the test data using the fitted CountVectorizer\n",
    "X_test_sample_transformed = bagofwords.transform(X_test_sample)\n",
    "\n",
    "# Check the shape of the transformed data\n",
    "print(X_train_sample_transformed.shape)\n",
    "print(X_test_sample_transformed.shape)"
   ]
  },
  {
   "cell_type": "code",
   "execution_count": 55,
   "id": "23015318",
   "metadata": {
    "scrolled": true
   },
   "outputs": [
    {
     "data": {
      "text/plain": [
       "['abl',\n",
       " 'abov',\n",
       " 'absolut',\n",
       " 'absorb',\n",
       " 'abund',\n",
       " 'accid',\n",
       " 'accident',\n",
       " 'accompani',\n",
       " 'accord',\n",
       " 'accur',\n",
       " 'achiev',\n",
       " 'acid',\n",
       " 'across',\n",
       " 'actual',\n",
       " 'ad',\n",
       " 'adapt',\n",
       " 'add',\n",
       " 'addict',\n",
       " 'addit',\n",
       " 'adjust',\n",
       " 'admit',\n",
       " 'adobo',\n",
       " 'adopt',\n",
       " 'ador',\n",
       " 'adult',\n",
       " 'advanc',\n",
       " 'adventur',\n",
       " 'advic',\n",
       " 'advis',\n",
       " 'affect',\n",
       " 'afraid',\n",
       " 'afternoon',\n",
       " 'aftertast',\n",
       " 'afterward',\n",
       " 'agav',\n",
       " 'age',\n",
       " 'ago',\n",
       " 'agre',\n",
       " 'ahead',\n",
       " 'air',\n",
       " 'alcohol',\n",
       " 'alfredo',\n",
       " 'alittl',\n",
       " 'allerg',\n",
       " 'allergi',\n",
       " 'allow',\n",
       " 'allspic',\n",
       " 'almond',\n",
       " 'almost',\n",
       " 'alon',\n",
       " 'along',\n",
       " 'alot',\n",
       " 'alphabet',\n",
       " 'alreadi',\n",
       " 'alright',\n",
       " 'also',\n",
       " 'alter',\n",
       " 'altern',\n",
       " 'although',\n",
       " 'altitud',\n",
       " 'aluminum',\n",
       " 'alway',\n",
       " 'amaz',\n",
       " 'amazingli',\n",
       " 'american',\n",
       " 'amount',\n",
       " 'amp',\n",
       " 'amt',\n",
       " 'anchovi',\n",
       " 'angel',\n",
       " 'ani',\n",
       " 'annacia',\n",
       " 'anoth',\n",
       " 'answer',\n",
       " 'anxiou',\n",
       " 'anyhow',\n",
       " 'anymor',\n",
       " 'anyon',\n",
       " 'anyth',\n",
       " 'anytim',\n",
       " 'anyway',\n",
       " 'anywher',\n",
       " 'apart',\n",
       " 'appar',\n",
       " 'appeal',\n",
       " 'appear',\n",
       " 'appet',\n",
       " 'appetit',\n",
       " 'appl',\n",
       " 'applesauc',\n",
       " 'appreci',\n",
       " 'approv',\n",
       " 'approx',\n",
       " 'approxim',\n",
       " 'apricot',\n",
       " 'area',\n",
       " 'aroma',\n",
       " 'around',\n",
       " 'artichok',\n",
       " 'artifici',\n",
       " 'asian',\n",
       " 'asid',\n",
       " 'ask',\n",
       " 'asparagu',\n",
       " 'assembl',\n",
       " 'assum',\n",
       " 'ate',\n",
       " 'attempt',\n",
       " 'attent',\n",
       " 'attract',\n",
       " 'aunt',\n",
       " 'aussi',\n",
       " 'authent',\n",
       " 'author',\n",
       " 'avail',\n",
       " 'averag',\n",
       " 'avocado',\n",
       " 'avoid',\n",
       " 'aw',\n",
       " 'awar',\n",
       " 'away',\n",
       " 'awesom',\n",
       " 'awhil',\n",
       " 'awsom',\n",
       " 'b',\n",
       " 'babi',\n",
       " 'back',\n",
       " 'bacon',\n",
       " 'bad',\n",
       " 'badli',\n",
       " 'bag',\n",
       " 'bagel',\n",
       " 'baguett',\n",
       " 'bake',\n",
       " 'baker',\n",
       " 'bakeri',\n",
       " 'balanc',\n",
       " 'ball',\n",
       " 'balsam',\n",
       " 'banana',\n",
       " 'bar',\n",
       " 'barbecu',\n",
       " 'barbequ',\n",
       " 'bare',\n",
       " 'bargain',\n",
       " 'barley',\n",
       " 'base',\n",
       " 'basement',\n",
       " 'basi',\n",
       " 'basic',\n",
       " 'basil',\n",
       " 'basket',\n",
       " 'basmati',\n",
       " 'bast',\n",
       " 'batch',\n",
       " 'bath',\n",
       " 'batter',\n",
       " 'bay',\n",
       " 'bbq',\n",
       " 'beach',\n",
       " 'bean',\n",
       " 'beat',\n",
       " 'beaten',\n",
       " 'beauti',\n",
       " 'becam',\n",
       " 'becaus',\n",
       " 'becom',\n",
       " 'bed',\n",
       " 'beef',\n",
       " 'beer',\n",
       " 'beet',\n",
       " 'befor',\n",
       " 'beg',\n",
       " 'began',\n",
       " 'begin',\n",
       " 'behind',\n",
       " 'believ',\n",
       " 'bell',\n",
       " 'benefit',\n",
       " 'bergi',\n",
       " 'berri',\n",
       " 'besid',\n",
       " 'best',\n",
       " 'bet',\n",
       " 'better',\n",
       " 'betti',\n",
       " 'bev',\n",
       " 'beverag',\n",
       " 'beyond',\n",
       " 'bf',\n",
       " 'big',\n",
       " 'bigger',\n",
       " 'bill',\n",
       " 'bird',\n",
       " 'birthday',\n",
       " 'biscuit',\n",
       " 'bisquick',\n",
       " 'bit',\n",
       " 'bite',\n",
       " 'bitter',\n",
       " 'black',\n",
       " 'blackberri',\n",
       " 'blah',\n",
       " 'blanch',\n",
       " 'bland',\n",
       " 'blend',\n",
       " 'blender',\n",
       " 'bless',\n",
       " 'block',\n",
       " 'blood',\n",
       " 'blue',\n",
       " 'blueberri',\n",
       " 'board',\n",
       " 'bodi',\n",
       " 'boil',\n",
       " 'bomb',\n",
       " 'bone',\n",
       " 'boneless',\n",
       " 'bonu',\n",
       " 'book',\n",
       " 'boost',\n",
       " 'bore',\n",
       " 'born',\n",
       " 'bother',\n",
       " 'bottl',\n",
       " 'bottom',\n",
       " 'bought',\n",
       " 'bouillon',\n",
       " 'bourbon',\n",
       " 'bowl',\n",
       " 'box',\n",
       " 'boy',\n",
       " 'boyfriend',\n",
       " 'bran',\n",
       " 'brand',\n",
       " 'brandi',\n",
       " 'bread',\n",
       " 'breadcrumb',\n",
       " 'break',\n",
       " 'breakfast',\n",
       " 'breast',\n",
       " 'bright',\n",
       " 'brilliant',\n",
       " 'brine',\n",
       " 'bring',\n",
       " 'brisket',\n",
       " 'broccoli',\n",
       " 'broil',\n",
       " 'broiler',\n",
       " 'broke',\n",
       " 'broth',\n",
       " 'brother',\n",
       " 'brought',\n",
       " 'brown',\n",
       " 'browni',\n",
       " 'brunch',\n",
       " 'brush',\n",
       " 'brussel',\n",
       " 'btw',\n",
       " 'bubbl',\n",
       " 'bud',\n",
       " 'buffet',\n",
       " 'bulk',\n",
       " 'bun',\n",
       " 'bunch',\n",
       " 'bundt',\n",
       " 'burger',\n",
       " 'burn',\n",
       " 'burner',\n",
       " 'burnt',\n",
       " 'burrito',\n",
       " 'burst',\n",
       " 'busi',\n",
       " 'butt',\n",
       " 'butter',\n",
       " 'buttercream',\n",
       " 'butteri',\n",
       " 'buttermilk',\n",
       " 'butterscotch',\n",
       " 'buy',\n",
       " 'c',\n",
       " 'ca',\n",
       " 'cabbag',\n",
       " 'cafe',\n",
       " 'cajun',\n",
       " 'cake',\n",
       " 'cakey',\n",
       " 'cal',\n",
       " 'call',\n",
       " 'calori',\n",
       " 'came',\n",
       " 'camp',\n",
       " 'canada',\n",
       " 'canadian',\n",
       " 'candi',\n",
       " 'canning',\n",
       " 'canola',\n",
       " 'cant',\n",
       " 'caper',\n",
       " 'caramel',\n",
       " 'caraway',\n",
       " 'carb',\n",
       " 'cardamom',\n",
       " 'care',\n",
       " 'carmel',\n",
       " 'carol',\n",
       " 'carri',\n",
       " 'carrot',\n",
       " 'case',\n",
       " 'cashew',\n",
       " 'casserol',\n",
       " 'cast',\n",
       " 'cat',\n",
       " 'catch',\n",
       " 'caught',\n",
       " 'cauliflow',\n",
       " 'caus',\n",
       " 'caution',\n",
       " 'cayenn',\n",
       " 'celebr',\n",
       " 'celeri',\n",
       " 'center',\n",
       " 'cereal',\n",
       " 'certain',\n",
       " 'certainli',\n",
       " 'challeng',\n",
       " 'chanc',\n",
       " 'chang',\n",
       " 'char',\n",
       " 'charm',\n",
       " 'cheap',\n",
       " 'cheaper',\n",
       " 'cheat',\n",
       " 'check',\n",
       " 'cheddar',\n",
       " 'cheer',\n",
       " 'chees',\n",
       " 'cheesecak',\n",
       " 'cheesi',\n",
       " 'chef',\n",
       " 'chemic',\n",
       " 'cherri',\n",
       " 'chestnut',\n",
       " 'chew',\n",
       " 'chewi',\n",
       " 'chicken',\n",
       " 'chickpea',\n",
       " 'child',\n",
       " 'childhood',\n",
       " 'children',\n",
       " 'chile',\n",
       " 'chili',\n",
       " 'chill',\n",
       " 'chilli',\n",
       " 'chines',\n",
       " 'chip',\n",
       " 'chipotl',\n",
       " 'chive',\n",
       " 'choc',\n",
       " 'chocol',\n",
       " 'chocolatey',\n",
       " 'choic',\n",
       " 'cholesterol',\n",
       " 'choos',\n",
       " 'chop',\n",
       " 'chose',\n",
       " 'chow',\n",
       " 'chowder',\n",
       " 'choy',\n",
       " 'christma',\n",
       " 'chuck',\n",
       " 'chunk',\n",
       " 'chunki',\n",
       " 'church',\n",
       " 'cider',\n",
       " 'cilantro',\n",
       " 'cinnamon',\n",
       " 'circl',\n",
       " 'citru',\n",
       " 'clam',\n",
       " 'class',\n",
       " 'classic',\n",
       " 'clean',\n",
       " 'clear',\n",
       " 'clearli',\n",
       " 'close',\n",
       " 'closer',\n",
       " 'clove',\n",
       " 'club',\n",
       " 'clue',\n",
       " 'coars',\n",
       " 'coat',\n",
       " 'cob',\n",
       " 'cobbler',\n",
       " 'cocktail',\n",
       " 'cocoa',\n",
       " 'coconut',\n",
       " 'cod',\n",
       " 'coffe',\n",
       " 'coke',\n",
       " 'cold',\n",
       " 'cole',\n",
       " 'coleslaw',\n",
       " 'collect',\n",
       " 'colleg',\n",
       " 'color',\n",
       " 'colour',\n",
       " 'combin',\n",
       " 'combo',\n",
       " 'come',\n",
       " 'comfort',\n",
       " 'comment',\n",
       " 'commerci',\n",
       " 'common',\n",
       " 'compani',\n",
       " 'compar',\n",
       " 'complain',\n",
       " 'complaint',\n",
       " 'complement',\n",
       " 'complet',\n",
       " 'complic',\n",
       " 'compliment',\n",
       " 'concentr',\n",
       " 'concept',\n",
       " 'concern',\n",
       " 'concoct',\n",
       " 'condens',\n",
       " 'confection',\n",
       " 'confus',\n",
       " 'consid',\n",
       " 'consider',\n",
       " 'consist',\n",
       " 'constantli',\n",
       " 'consum',\n",
       " 'contain',\n",
       " 'content',\n",
       " 'contest',\n",
       " 'continu',\n",
       " 'contrast',\n",
       " 'contribut',\n",
       " 'control',\n",
       " 'convect',\n",
       " 'conveni',\n",
       " 'convers',\n",
       " 'convert',\n",
       " 'convinc',\n",
       " 'cook',\n",
       " 'cookbook',\n",
       " 'cooker',\n",
       " 'cooki',\n",
       " 'cool',\n",
       " 'copi',\n",
       " 'copycat',\n",
       " 'coriand',\n",
       " 'corn',\n",
       " 'cornbread',\n",
       " 'cornmeal',\n",
       " 'cornstarch',\n",
       " 'correct',\n",
       " 'correctli',\n",
       " 'cost',\n",
       " 'costco',\n",
       " 'cottag',\n",
       " 'could',\n",
       " 'count',\n",
       " 'counter',\n",
       " 'countri',\n",
       " 'coupl',\n",
       " 'cours',\n",
       " 'couscou',\n",
       " 'cover',\n",
       " 'cow',\n",
       " 'crab',\n",
       " 'crack',\n",
       " 'cracker',\n",
       " 'craisin',\n",
       " 'cranberri',\n",
       " 'crave',\n",
       " 'crazi',\n",
       " 'cream',\n",
       " 'creamer',\n",
       " 'creami',\n",
       " 'creamier',\n",
       " 'creat',\n",
       " 'creativ',\n",
       " 'credit',\n",
       " 'creme',\n",
       " 'creol',\n",
       " 'crepe',\n",
       " 'crescent',\n",
       " 'crisco',\n",
       " 'crisp',\n",
       " 'crispi',\n",
       " 'critic',\n",
       " 'crock',\n",
       " 'crockpot',\n",
       " 'cross',\n",
       " 'crouton',\n",
       " 'crowd',\n",
       " 'crumb',\n",
       " 'crumbl',\n",
       " 'crunch',\n",
       " 'crunchi',\n",
       " 'crush',\n",
       " 'crust',\n",
       " 'crusti',\n",
       " 'crystal',\n",
       " 'cube',\n",
       " 'cucumb',\n",
       " 'culinari',\n",
       " 'cumin',\n",
       " 'cup',\n",
       " 'cupboard',\n",
       " 'cupcak',\n",
       " 'curdl',\n",
       " 'curiou',\n",
       " 'current',\n",
       " 'curri',\n",
       " 'custard',\n",
       " 'cut',\n",
       " 'cute',\n",
       " 'cutter',\n",
       " 'cuz',\n",
       " 'cycl',\n",
       " 'dad',\n",
       " 'daili',\n",
       " 'dairi',\n",
       " 'dark',\n",
       " 'darn',\n",
       " 'dash',\n",
       " 'date',\n",
       " 'daughter',\n",
       " 'day',\n",
       " 'dd',\n",
       " 'de',\n",
       " 'deal',\n",
       " 'dear',\n",
       " 'decad',\n",
       " 'decent',\n",
       " 'decid',\n",
       " 'declar',\n",
       " 'decor',\n",
       " 'decreas',\n",
       " 'deep',\n",
       " 'defin',\n",
       " 'definit',\n",
       " 'defrost',\n",
       " 'deg',\n",
       " 'degre',\n",
       " 'dehydr',\n",
       " 'delect',\n",
       " 'deli',\n",
       " 'delic',\n",
       " 'delici',\n",
       " 'delight',\n",
       " 'delish',\n",
       " 'dens',\n",
       " 'depend',\n",
       " 'depth',\n",
       " 'describ',\n",
       " 'descript',\n",
       " 'desert',\n",
       " 'deserv',\n",
       " 'desir',\n",
       " 'despit',\n",
       " 'dessert',\n",
       " 'detail',\n",
       " 'detect',\n",
       " 'determin',\n",
       " 'devil',\n",
       " 'devour',\n",
       " 'dh',\n",
       " 'di',\n",
       " 'diabet',\n",
       " 'dice',\n",
       " 'didnt',\n",
       " 'die',\n",
       " 'diet',\n",
       " 'differ',\n",
       " 'difficult',\n",
       " 'dijon',\n",
       " 'dill',\n",
       " 'dinner',\n",
       " 'dip',\n",
       " 'direct',\n",
       " 'directli',\n",
       " 'disappear',\n",
       " 'disappoint',\n",
       " 'disast',\n",
       " 'discard',\n",
       " 'discov',\n",
       " 'disgust',\n",
       " 'dish',\n",
       " 'dislik',\n",
       " 'dissapoint',\n",
       " 'dissolv',\n",
       " 'divid',\n",
       " 'divin',\n",
       " 'doctor',\n",
       " 'doe',\n",
       " 'doesnt',\n",
       " 'dog',\n",
       " 'dollop',\n",
       " 'done',\n",
       " 'dont',\n",
       " 'door',\n",
       " 'doubl',\n",
       " 'doubt',\n",
       " 'dough',\n",
       " 'doughi',\n",
       " 'dozen',\n",
       " 'drain',\n",
       " 'drank',\n",
       " 'dream',\n",
       " 'dredg',\n",
       " 'dress',\n",
       " 'dri',\n",
       " 'drink',\n",
       " 'drip',\n",
       " 'drive',\n",
       " 'drizzl',\n",
       " 'drop',\n",
       " 'ds',\n",
       " 'due',\n",
       " 'dump',\n",
       " 'dumpl',\n",
       " 'duplic',\n",
       " 'dure',\n",
       " 'dust',\n",
       " 'dutch',\n",
       " 'e',\n",
       " 'eacut',\n",
       " 'earli',\n",
       " 'earlier',\n",
       " 'earth',\n",
       " 'eas',\n",
       " 'easi',\n",
       " 'easier',\n",
       " 'easiest',\n",
       " 'easili',\n",
       " 'easter',\n",
       " 'eat',\n",
       " 'eaten',\n",
       " 'eater',\n",
       " 'econom',\n",
       " 'ed',\n",
       " 'edg',\n",
       " 'edibl',\n",
       " 'edit',\n",
       " 'effect',\n",
       " 'effort',\n",
       " 'egg',\n",
       " 'eggi',\n",
       " 'eggplant',\n",
       " 'either',\n",
       " 'electr',\n",
       " 'eleg',\n",
       " 'elimin',\n",
       " 'els',\n",
       " 'emeril',\n",
       " 'empti',\n",
       " 'enchilada',\n",
       " 'end',\n",
       " 'english',\n",
       " 'enhanc',\n",
       " 'enjoy',\n",
       " 'enough',\n",
       " 'ensur',\n",
       " 'enter',\n",
       " 'entir',\n",
       " 'entre',\n",
       " 'equal',\n",
       " 'error',\n",
       " 'especi',\n",
       " 'essenc',\n",
       " 'essenti',\n",
       " 'etc',\n",
       " 'evapor',\n",
       " 'eve',\n",
       " 'even',\n",
       " 'evenli',\n",
       " 'event',\n",
       " 'eventu',\n",
       " 'ever',\n",
       " 'everi',\n",
       " 'everybodi',\n",
       " 'everyday',\n",
       " 'everyon',\n",
       " 'everyth',\n",
       " 'everytim',\n",
       " 'everywher',\n",
       " 'exact',\n",
       " 'exactli',\n",
       " 'excel',\n",
       " 'except',\n",
       " 'excess',\n",
       " 'excit',\n",
       " 'expect',\n",
       " 'expens',\n",
       " 'experi',\n",
       " 'experienc',\n",
       " 'explain',\n",
       " 'extra',\n",
       " 'extract',\n",
       " 'extrem',\n",
       " 'eye',\n",
       " 'f',\n",
       " 'fabul',\n",
       " 'face',\n",
       " 'fact',\n",
       " 'factor',\n",
       " 'fail',\n",
       " 'failur',\n",
       " 'fair',\n",
       " 'fairli',\n",
       " 'fall',\n",
       " 'famili',\n",
       " 'famou',\n",
       " 'fan',\n",
       " 'fanci',\n",
       " 'fantast',\n",
       " 'far',\n",
       " 'farm',\n",
       " 'farmer',\n",
       " 'fashion',\n",
       " 'fast',\n",
       " 'faster',\n",
       " 'fat',\n",
       " 'father',\n",
       " 'fault',\n",
       " 'fav',\n",
       " 'fave',\n",
       " 'favor',\n",
       " 'favorit',\n",
       " 'favourit',\n",
       " 'fear',\n",
       " 'feast',\n",
       " 'fed',\n",
       " 'feed',\n",
       " 'feel',\n",
       " 'fell',\n",
       " 'felt',\n",
       " 'fennel',\n",
       " 'festiv',\n",
       " 'feta',\n",
       " 'fianc',\n",
       " 'fiber',\n",
       " 'fight',\n",
       " 'figur',\n",
       " 'file',\n",
       " 'fill',\n",
       " 'fillet',\n",
       " 'final',\n",
       " 'find',\n",
       " 'fine',\n",
       " 'finger',\n",
       " 'finish',\n",
       " 'fire',\n",
       " 'firm',\n",
       " 'first',\n",
       " 'fish',\n",
       " 'fit',\n",
       " 'five',\n",
       " 'fix',\n",
       " 'flake',\n",
       " 'flaki',\n",
       " 'flat',\n",
       " 'flatten',\n",
       " 'flavor',\n",
       " 'flavorless',\n",
       " 'flavour',\n",
       " 'flax',\n",
       " 'flip',\n",
       " 'float',\n",
       " 'floor',\n",
       " 'flop',\n",
       " 'florida',\n",
       " 'flour',\n",
       " 'flower',\n",
       " 'fluffi',\n",
       " 'foil',\n",
       " 'fold',\n",
       " 'folk',\n",
       " 'follow',\n",
       " 'fond',\n",
       " 'food',\n",
       " 'footbal',\n",
       " 'foreman',\n",
       " 'forev',\n",
       " 'forget',\n",
       " 'forgiv',\n",
       " 'forgot',\n",
       " 'forgotten',\n",
       " 'fork',\n",
       " 'form',\n",
       " 'fortun',\n",
       " 'forum',\n",
       " 'forward',\n",
       " 'found',\n",
       " 'four',\n",
       " 'frank',\n",
       " 'free',\n",
       " 'freez',\n",
       " 'freezer',\n",
       " 'french',\n",
       " 'frequent',\n",
       " 'fresh',\n",
       " 'freshli',\n",
       " 'fri',\n",
       " 'friday',\n",
       " 'fridg',\n",
       " 'friend',\n",
       " 'friendli',\n",
       " 'frig',\n",
       " 'front',\n",
       " 'frost',\n",
       " 'froze',\n",
       " 'frozen',\n",
       " 'fruit',\n",
       " 'fruiti',\n",
       " 'fryer',\n",
       " 'ft',\n",
       " 'fudg',\n",
       " 'fudgi',\n",
       " 'full',\n",
       " 'fulli',\n",
       " 'fun',\n",
       " 'function',\n",
       " 'funni',\n",
       " 'fuss',\n",
       " 'futur',\n",
       " 'fyi',\n",
       " 'ga',\n",
       " 'gallon',\n",
       " 'game',\n",
       " 'garam',\n",
       " 'garbag',\n",
       " 'garden',\n",
       " 'garlic',\n",
       " 'garnish',\n",
       " 'gather',\n",
       " 'gave',\n",
       " 'gelatin',\n",
       " 'gener',\n",
       " 'gentli',\n",
       " 'georg',\n",
       " 'germ',\n",
       " 'german',\n",
       " 'get',\n",
       " 'gf',\n",
       " 'gift',\n",
       " 'ginger',\n",
       " 'gingerbread',\n",
       " 'girl',\n",
       " 'girlfriend',\n",
       " 'give',\n",
       " 'given',\n",
       " 'glad',\n",
       " 'glass',\n",
       " 'glaze',\n",
       " 'glue',\n",
       " 'gluten',\n",
       " 'go',\n",
       " 'goat',\n",
       " 'gobbl',\n",
       " 'god',\n",
       " 'goe',\n",
       " 'gold',\n",
       " 'golden',\n",
       " 'gon',\n",
       " 'gone',\n",
       " 'good',\n",
       " 'goodi',\n",
       " 'gooey',\n",
       " 'googl',\n",
       " 'gorgeou',\n",
       " 'gosh',\n",
       " 'got',\n",
       " 'gotten',\n",
       " 'gourmet',\n",
       " 'grab',\n",
       " 'graham',\n",
       " 'grain',\n",
       " 'graini',\n",
       " 'gram',\n",
       " 'grand',\n",
       " 'grandma',\n",
       " 'grandmoth',\n",
       " 'grandson',\n",
       " 'granni',\n",
       " 'granola',\n",
       " 'granul',\n",
       " 'grape',\n",
       " 'grate',\n",
       " 'gravi',\n",
       " 'greas',\n",
       " 'greasi',\n",
       " 'great',\n",
       " 'greek',\n",
       " 'green',\n",
       " 'grew',\n",
       " 'griddl',\n",
       " 'grill',\n",
       " 'grind',\n",
       " 'gritti',\n",
       " 'groceri',\n",
       " 'gross',\n",
       " 'ground',\n",
       " 'group',\n",
       " 'grow',\n",
       " 'grown',\n",
       " 'gruyer',\n",
       " 'gt',\n",
       " 'guacamol',\n",
       " 'guess',\n",
       " 'guest',\n",
       " 'guilt',\n",
       " 'gum',\n",
       " 'gumbo',\n",
       " 'gummi',\n",
       " 'guy',\n",
       " 'ha',\n",
       " 'hair',\n",
       " 'half',\n",
       " 'halfway',\n",
       " 'halloween',\n",
       " 'halv',\n",
       " 'ham',\n",
       " 'hamburg',\n",
       " 'hand',\n",
       " 'handi',\n",
       " 'handl',\n",
       " 'hang',\n",
       " 'happen',\n",
       " 'happi',\n",
       " 'hard',\n",
       " 'harden',\n",
       " 'hardli',\n",
       " 'hate',\n",
       " 'head',\n",
       " 'health',\n",
       " 'healthi',\n",
       " 'healthier',\n",
       " 'heap',\n",
       " 'hear',\n",
       " 'heard',\n",
       " 'heart',\n",
       " 'hearti',\n",
       " 'heat',\n",
       " 'heaven',\n",
       " 'heavenli',\n",
       " 'heavi',\n",
       " 'heck',\n",
       " 'held',\n",
       " 'help',\n",
       " 'herb',\n",
       " 'hershey',\n",
       " 'hesit',\n",
       " 'hey',\n",
       " 'hi',\n",
       " 'hide',\n",
       " 'high',\n",
       " 'higher',\n",
       " 'highli',\n",
       " 'hint',\n",
       " 'hit',\n",
       " 'hoisin',\n",
       " 'hold',\n",
       " 'hole',\n",
       " 'holi',\n",
       " 'holiday',\n",
       " 'home',\n",
       " 'homemad',\n",
       " 'honest',\n",
       " 'honestli',\n",
       " 'honey',\n",
       " 'honor',\n",
       " 'hook',\n",
       " 'hope',\n",
       " 'horribl',\n",
       " 'horseradish',\n",
       " 'hot',\n",
       " 'hour',\n",
       " 'hous',\n",
       " 'household',\n",
       " 'howev',\n",
       " 'hr',\n",
       " 'http',\n",
       " 'hubbi',\n",
       " 'huge',\n",
       " 'hummu',\n",
       " 'hungri',\n",
       " 'hunt',\n",
       " 'hurri',\n",
       " 'hurt',\n",
       " 'husband',\n",
       " 'ice',\n",
       " 'idea',\n",
       " 'ideal',\n",
       " 'ident',\n",
       " ...]"
      ]
     },
     "execution_count": 55,
     "metadata": {},
     "output_type": "execute_result"
    }
   ],
   "source": [
    "bagofwords.get_feature_names()"
   ]
  },
  {
   "cell_type": "code",
   "execution_count": 56,
   "id": "54884eab",
   "metadata": {},
   "outputs": [
    {
     "data": {
      "image/png": "[encoded data removed]",
      "text/plain": [
       "<Figure size 1500x500 with 1 Axes>"
      ]
     },
     "metadata": {},
     "output_type": "display_data"
    }
   ],
   "source": [
    "word_counts = pd.DataFrame(\n",
    "    {\"counts\": X_train_sample_transformed.toarray().sum(axis=0)},\n",
    "    index=bagofwords.get_feature_names()\n",
    ").sort_values(\"counts\", ascending=False)\n",
    "\n",
    "word_counts.head(20).plot(kind=\"bar\", figsize=(15, 5), legend=False)\n",
    "plt.title(\"Top 20 most frequently occurring words\")\n",
    "plt.ylabel(\"Count\")\n",
    "plt.xticks(rotation=45)\n",
    "plt.show()"
   ]
  },
  {
   "cell_type": "code",
   "execution_count": 57,
   "id": "9a2e3d23",
   "metadata": {},
   "outputs": [
    {
     "name": "stdout",
     "output_type": "stream",
     "text": [
      "Train score: 0.7878214285714286\n",
      "Test score: 0.7605\n"
     ]
    }
   ],
   "source": [
    "# Fitting a model\n",
    "logreg = LogisticRegression(C = 0.1)\n",
    "logreg.fit(X_train_sample_transformed, y_train_sample)\n",
    "\n",
    "# Training and test score\n",
    "print(f\"Train score: {logreg.score(X_train_sample_transformed, y_train_sample)}\")\n",
    "print(f\"Test score: {logreg.score(X_test_sample_transformed, y_test_sample)}\")"
   ]
  },
  {
   "cell_type": "code",
   "execution_count": 58,
   "id": "a476f9c1",
   "metadata": {},
   "outputs": [
    {
     "data": {
      "image/png": "[encoded data removed]",
      "text/plain": [
       "<Figure size 1500x500 with 1 Axes>"
      ]
     },
     "metadata": {},
     "output_type": "display_data"
    }
   ],
   "source": [
    "word_counts = pd.DataFrame(\n",
    "    {\"coefficients\": logreg.coef_[0]},\n",
    "    index=bagofwords.get_feature_names()\n",
    ").sort_values(\"coefficients\", ascending=False)\n",
    "\n",
    "word_counts.head(20).plot(kind=\"bar\", figsize=(15, 5), legend=False)\n",
    "plt.title(\"The 20 highest model coefficients indicating positive sentiment\")\n",
    "plt.ylabel(\"Coefficients\")\n",
    "plt.xticks(rotation=45)\n",
    "plt.show()"
   ]
  },
  {
   "cell_type": "code",
   "execution_count": 59,
   "id": "ab50d521",
   "metadata": {},
   "outputs": [
    {
     "data": {
      "image/png": "[encoded data removed]",
      "text/plain": [
       "<Figure size 1500x500 with 1 Axes>"
      ]
     },
     "metadata": {},
     "output_type": "display_data"
    }
   ],
   "source": [
    "word_counts.sort_values(\"coefficients\", ascending=True).head(20).plot(kind=\"bar\", figsize=(15, 5), legend=False)\n",
    "plt.title(\"The 20 lowest model coefficients indicating negative sentiment\")\n",
    "plt.ylabel(\"Coefficients\")\n",
    "plt.xticks(rotation=45)\n",
    "plt.show()"
   ]
  },
  {
   "cell_type": "code",
   "execution_count": 60,
   "id": "f6207922",
   "metadata": {},
   "outputs": [
    {
     "name": "stdout",
     "output_type": "stream",
     "text": [
      "{'forgot': 791, 'mention': 1237, 'oven': 1388, 'thi': 2032, 'hot': 981, 'use': 2143, 'combin': 407, 'ingredi': 1022, 'smoke': 1822, 'fill': 750, 'hous': 983, 'work': 2231, 'friend': 811, 'mine': 1256, 'made': 1185, 'seafood': 1729, 'gumbo': 918, 'okra': 1358, 'mani': 1197, 'differ': 578, 'meat': 1226, 'item': 1043, 'hope': 978, 'turn': 2114, 'correctli': 459, 'edibl': 647, 'first': 759, 'time': 2062, 'tri': 2101, 'recip': 1603, 'wa': 2171, 'thin': 2037, 'never': 1315, 'befor': 171, 'thought': 2046, 'suppos': 1958, 'like': 1142, 'put': 1565, 'top': 2083, 'fridg': 810, 'rise': 1658, 'cold': 400, 'clear': 383, 'could': 463, 'see': 1737, 'happen': 933, 'insid': 1024, 'surpris': 1962, 'kept': 1070, 'separ': 1748, 'sometim': 1847, 'inch': 1009, 'water': 2185, 'would': 2238, 'sit': 1796, 'stir': 1916, 'back': 126, 'togeth': 2073, 'onli': 1367, 'hour': 982, 'later': 1110, 'dump': 624, 'quot': 1579, 'version': 2163, 'talk': 1982, 'night': 1320, 'day': 532, 'actual': 13, 'creat': 483, 'expect': 697, 'sticki': 1913, 'dough': 608, 'want': 2177, 'feed': 738, 'starter': 1903, 'came': 290, 'get': 848, 'right': 1653, 'consist': 431, 'add': 16, 'anoth': 72, 'cup': 511, 'half': 923, 'flour': 777, 'total': 2087, 'instead': 1028, 'sugar': 1947, 'vinegar': 2165, 'wrong': 2244, 'oz': 1396, 'easi': 636, 'make': 1191, 'quickli': 1577, 'chocol': 359, 'syrup': 1972, 'left': 1123, 'milk': 1251, 'gave': 841, 'veri': 2161, 'pleas': 1484, 'result': 1641, 'cocoa': 395, 'powder': 1513, 'rich': 1648, 'delici': 553, 'love': 1171, 'crave': 477, 'comfort': 410, 'food': 785, 'follow': 783, 'except': 694, 'wine': 2217, 'part': 1420, 'ad': 14, 'mushroom': 1296, 'happi': 934, 'play': 1483, 'around': 97, 'lot': 1170, 'two': 2118, 'tomato': 2075, 'otherwis': 1383, 'dri': 616, 'flavor': 768, 'salt': 1697, 'pepper': 1443, 'italian': 1042, 'season': 1733, 'also': 55, 'famili': 716, 'agre': 37, 'better': 184, 'mix': 1266, 'chees': 336, 'sprinkl': 1891, 'broil': 247, 'give': 855, 'star': 1900, 'great': 897, 'omg': 1362, 'smoothi': 1826, 'week': 2194, 'breakfast': 239, 'usual': 2144, 'banana': 139, 'strawberri': 1928, 'frozen': 817, 'need': 1308, 'ice': 996, 'packet': 1402, 'equal': 671, 'nutriti': 1340, 'thank': 2023, 'heavenli': 950, 'whi': 2208, 'grandmoth': 887, 'call': 288, 'rock': 1663, 'without': 2225, 'ani': 70, 'bake': 133, 'bit': 197, 'heavi': 951, 'yummi': 2266, 'doe': 599, 'come': 409, 'chop': 364, 'almond': 47, 'nut': 1337, 'drop': 621, 'spoon': 1886, 'parchment': 1415, 'paper': 1413, 'cooki': 449, 'sheet': 1766, 'think': 2039, 'next': 1318, 'might': 1249, 'leav': 1121, 'cinnamon': 376, 'tast': 1989, 'fruit': 818, 'bar': 140, 'chunki': 372, 'good': 871, 'one': 1365, 'cook': 446, 'crockpot': 495, 'year': 2251, 'round': 1675, 'nice': 1319, 'summer': 1950, 'becaus': 165, 'heat': 948, 'kitchen': 1084, 'winter': 2220, 'home': 971, 'meal': 1222, 'lack': 1100, 'thing': 2038, 'slice': 1808, 'granni': 889, 'smith': 1821, 'appl': 88, 'littl': 1153, 'post': 1504, 'word': 2230, 'yuck': 2263, 'ca': 281, 'believ': 176, 'got': 877, 'review': 1643, 'salti': 1698, 'horribl': 979, 'tradit': 2094, 'cardamom': 302, 'omit': 1363, 'molass': 1277, 'hard': 935, 'excel': 693, 'everyon': 687, 'marin': 1203, 'chicken': 345, 'moist': 1275, 'chang': 327, 'grill': 902, 'shell': 1767, 'georg': 845, 'foreman': 787, 'butter': 274, 'kid': 1074, 'alreadi': 53, 'ask': 102, 'definit': 545, 'keeper': 1069, 'japanes': 1050, 'dinner': 582, 'parti': 1421, 'guest': 915, 'realli': 1598, 'enjoy': 665, 'daughter': 531, 'tripl': 2104, 'coupl': 467, 'fri': 808, 'ahead': 38, 'serv': 1753, 'room': 1667, 'temperatur': 2009, 'leftov': 1124, 'guess': 914, 'minut': 1262, 'undercook': 2130, 'long': 1164, 'shot': 1774, 'direct': 584, 'even': 679, 'let': 1131, 'bread': 236, 'extra': 702, 'notic': 1332, 'section': 1736, 'complet': 419, 'uncook': 2128, 'almost': 48, 'check': 333, 'done': 603, 'trash': 2096, 'enough': 666, 'say': 1716, 'number': 1334, 'googl': 874, 'way': 2188, 'problem': 1535, 'recommend': 1606, 'much': 1291, 'sauc': 1706, 'gener': 843, 'whole': 2212, 'freez': 802, 'rice': 1647, 'cauliflow': 315, 'garlic': 838, 'cayenn': 318, 'idea': 997, 'certainli': 324, 'deserv': 562, 'homemad': 972, 'suggest': 1948, 'color': 405, 'dress': 615, 'present': 1522, 'appet': 86, 'pickl': 1458, 'ginger': 851, 'still': 1915, 'fantast': 720, 'absolut': 2, 'delish': 555, 'howev': 985, 'flat': 766, 'either': 654, 'plan': 1479, 'sorri': 1857, 'twice': 2116, 'probabl': 1534, 'seem': 1739, 'amount': 65, 'consid': 429, 'must': 1297, 'took': 2080, 'peopl': 1442, 'scrape': 1725, 'soup': 1860, 'lunch': 1181, 'far': 721, 'favorit': 733, 'reduc': 1608, 'fat': 727, 'cream': 479, 'shock': 1770, 'potato': 1507, 'across': 12, 'incred': 1013, 'easier': 637, 'best': 182, 'vegan': 2154, 'chip': 355, 'ever': 683, 'dessert': 565, 'vanilla': 2147, 'yogurt': 2258, 'raspberri': 1587, 'thick': 2033, 'blend': 205, 'well': 2201, 'blueberri': 211, 'wing': 2218, 'dip': 583, 'texa': 2020, 'tabasco': 1974, 'care': 303, 'dredg': 614, 'plain': 1478, 'wash': 2180, 'toni': 2078, 'cajun': 284, 'toss': 2086, 'someth': 1846, 'stick': 1912, 'shrimp': 1778, 'eat': 641, 'look': 1166, 'forward': 797, 'style': 1938, 'found': 798, 'tuna': 2111, 'bland': 204, 'salsa': 1696, 'somehow': 1844, 'opinion': 1372, 'sub': 1939, 'provolon': 1551, 'swiss': 1970, 'hand': 929, 'thousand': 2047, 'island': 1040, 'discov': 590, 'caraway': 300, 'seed': 1738, 'cut': 519, 'dh': 571, 'bun': 263, 'sauerkraut': 1709, 'wonder': 2227, 'saw': 1715, 'today': 2070, 'show': 1775, 'ten': 2011, 'ago': 36, 'south': 1865, 'new': 1316, 'stuf': 1935, 'find': 753, 'cherri': 341, 'sensat': 1745, 'everi': 684, 'error': 672, 'addit': 18, 'second': 1734, 'sweeten': 1967, 'condens': 426, 'portion': 1501, 'crisco': 490, 'biscuit': 195, 'exactli': 692, 'buy': 279, 'bakeri': 135, 'everywher': 690, 'touch': 2088, 'holiday': 970, 'feast': 736, 'drink': 617, 'beer': 169, 'corn': 454, 'beef': 168, 'veggi': 2157, 'overwhelm': 1394, 'carrot': 307, 'less': 1130, 'brine': 243, 'cabbag': 282, 'quit': 1578, 'last': 1108, 'rest': 1639, 'unfortun': 2132, 'simpl': 1785, 'finish': 756, 'wow': 2240, 'bottom': 225, 'crust': 504, 'type': 2120, 'golden': 868, 'red': 1607, 'ye': 2249, 'real': 1596, 'perfect': 1447, 'runni': 1685, 'pleasantli': 1486, 'juici': 1061, 'pie': 1461, 'bag': 130, 'farm': 722, 'market': 1208, 'camp': 291, 'rememb': 1626, 'heaven': 949, 'delight': 554, 'dd': 533, 'ha': 921, 'oatmeal': 1344, 'healthi': 941, 'fall': 715, 'scone': 1722, 'went': 2202, 'spici': 1880, 'go': 862, 'pea': 1434, 'per': 1446, 'photo': 1454, 'broke': 249, 'reason': 1599, 'sure': 1960, 'fine': 754, 'overpow': 1393, 'rate': 1588, 'tad': 1978, 'earli': 632, 'cool': 450, 'tasti': 1991, 'splenda': 1883, 'honey': 975, 'babi': 125, 'share': 1762, 'pud': 1554, 'troubl': 2105, 'updat': 2139, 'grew': 900, 'bean': 160, 'bacon': 127, 'broiler': 248, 'onion': 1366, 'tsp': 2109, 'puff': 1556, 'pastri': 1428, 'glad': 857, 'may': 1218, 'la': 1098, 'king': 1082, 'includ': 1010, 'quick': 1575, 'bubbl': 259, 'grow': 909, 'mold': 1278, 'spot': 1887, 'mayb': 1219, 'baker': 134, 'breast': 240, 'stay': 1905, 'low': 1173, 'sodium': 1835, 'broth': 250, 'stock': 1917, 'absorb': 3, 'regular': 1618, 'bunch': 264, 'huge': 989, 'batch': 154, 'chili': 351, 'els': 658, 'muffin': 1292, 'cupcak': 513, 'liner': 1146, 'roll': 1664, 'entir': 669, 'mixtur': 1268, 'size': 1799, 'tray': 2098, 'bite': 198, 'juli': 1062, 'super': 1954, 'southern': 1866, 'tree': 2100, 'alway': 61, 'abund': 4, 'orang': 1376, 'salmon': 1695, 'husband': 995, 'light': 1138, 'compani': 414, 'futur': 830, 'tablespoon': 1976, 'minc': 1254, 'dollop': 602, 'mustard': 1298, 'marinad': 1204, 'textur': 2021, 'tomorrow': 2076, 'overnight': 1392, 'sinc': 1790, 'late': 1109, 'step': 1909, 'wo': 2226, 'appreci': 90, 'tip': 2065, 'soon': 1852, 'request': 1632, 'past': 1426, 'sever': 1757, 'attempt': 107, 'gluten': 861, 'free': 801, 'cross': 496, 'finger': 755, 'yum': 2264, 'typic': 2121, 'man': 1194, 'guy': 920, 'carri': 306, 'church': 373, 'pot': 1506, 'cakey': 286, 'halfway': 924, 'cake': 285, 'browni': 254, 'hit': 965, 'boyfriend': 232, 'hi': 959, 'bisquick': 196, 'realiz': 1597, 'tortilla': 2085, 'layer': 1114, 'enchilada': 661, 'casserol': 310, 'although': 58, 'know': 1091, 'soggi': 1839, 'burrito': 270, 'averag': 115, 'keep': 1068, 'tweak': 2115, 'mash': 1215, 'press': 1524, 'side': 1780, 'dish': 592, 'option': 1375, 'dijon': 580, 'special': 1872, 'cottag': 462, 'cheddar': 334, 'chive': 357, 'thanx': 2026, 'bran': 233, 'cereal': 322, 'bud': 260, 'end': 662, 'stuck': 1934, 'small': 1816, 'soooooo': 1856, 'chocolatey': 360, 'imagin': 1002, 'bigger': 191, 'calori': 289, 'smaller': 1817, 'nutrit': 1339, 'rather': 1589, 'pan': 1409, 'pumpkin': 1558, 'soften': 1837, 'suffici': 1946, 'readi': 1595, 'instruct': 1029, 'oil': 1353, 'leek': 1122, 'pretti': 1526, 'mean': 1223, 'confus': 428, 'final': 752, 'outcom': 1385, 'kind': 1080, 'sesam': 1754, 'us': 2142, 'spinach': 1881, 'start': 1902, 'place': 1477, 'uniqu': 2133, 'egg': 651, 'salad': 1693, 'sour': 1862, 'cumin': 510, 'ta': 1973, 'lettuc': 1133, 'avocado': 116, 'wrap': 2241, 'stew': 1911, 'person': 1451, 'prefer': 1518, 'smell': 1819, 'admit': 20, 'mexican': 1245, 'zwt': 2276, 'queen': 1571, 'sound': 1859, 'liquid': 1148, 'ketchup': 1071, 'substitut': 1941, 'pure': 1561, 'deep': 543, 'flavour': 770, 'meatbal': 1227, 'lb': 1116, 'hubbi': 988, 'ate': 106, 'full': 824, 'satisfi': 1704, 'ok': 1356, 'chill': 352, 'fail': 711, 'glass': 858, 'stove': 1923, 'shake': 1758, 'unless': 2134, 'mind': 1255, 'ruin': 1681, 'ounc': 1384, 'groceri': 905, 'store': 1921, 'wish': 2223, 'help': 954, 'brand': 234, 'name': 1301, 'attent': 108, 'grab': 880, 'bought': 226, 'fresh': 806, 'luck': 1176, 'set': 1755, 'solid': 1841, 'anyway': 80, 'vegetarian': 2156, 'black': 200, 'boost': 220, 'refriger': 1613, 'raw': 1592, 'though': 2045, 'threw': 2049, 'cookbook': 447, 'awhil': 122, 'sloppi': 1812, 'joe': 1056, 'supper': 1957, 'spray': 1888, 'coconut': 396, 'lime': 1143, 'warm': 2178, 'temp': 2008, 'replac': 1630, 'cornbread': 455, 'collect': 403, 'note': 1330, 'bundt': 265, 'everyth': 688, 'sink': 1792, 'awesom': 121, 'sooo': 1853, 'exact': 691, 'adjust': 19, 'doubl': 606, 'old': 1359, 'accident': 6, 'read': 1594, 'extract': 703, 'christma': 369, 'concern': 424, 'decor': 541, 'frost': 815, 'away': 120, 'cover': 470, 'aluminum': 60, 'foil': 780, 'soft': 1836, 'everybodi': 685, 'piec': 1462, 'brown': 253, 'broccoli': 246, 'pictur': 1460, 'prior': 1532, 'trader': 2093, 'green': 899, 'ground': 907, 'granul': 891, 'toast': 2068, 'medium': 1229, 'peel': 1440, 'eggplant': 653, 'soak': 1832, 'unusu': 2138, 'tonight': 2079, 'oh': 1352, 'larg': 1105, 'base': 146, 'amp': 66, 'bouillon': 227, 'cube': 507, 'tbl': 1996, 'lemon': 1126, 'juic': 1060, 'strong': 1931, 'order': 1377, 'greek': 898, 'restaur': 1640, 'bowl': 229, 'often': 1351, 'disappoint': 587, 'cute': 520, 'method': 1244, 'assembl': 104, 'peach': 1435, 'sweet': 1966, 'halv': 926, 'moment': 1280, 'pop': 1497, 'mouth': 1288, 'terribl': 2017, 'divid': 596, 'third': 2042, 'mess': 1241, 'lt': 1175, 'gt': 912, 'modif': 1273, 'extrem': 704, 'decent': 538, 'tb': 1995, 'improv': 1007, 'school': 1721, 'websit': 2191, 'turkey': 2112, 'peanut': 1436, 'burger': 266, 'especi': 673, 'tangi': 1984, 'bbq': 158, 'saute': 1712, 'pork': 1500, 'tender': 2013, 'root': 1669, 'anyth': 78, 'titl': 2067, 'matter': 1217, 'treat': 2099, 'consum': 433, 'diet': 577, 'sliver': 1811, 'fun': 826, 'fair': 713, 'walk': 2175, 'spread': 1889, 'beauti': 163, 'creol': 487, 'immedi': 1003, 'ds': 622, 'lucki': 1177, 'receiv': 1601, 'basket': 151, 'cornstarch': 457, 'plate': 1481, 'mushi': 1295, 'kick': 1073, 'favourit': 734, 'snack': 1828, 'sandwich': 1702, 'measur': 1225, 'oliv': 1361, 'regularli': 1619, 'ft': 821, 'sunday': 1952, 'easter': 640, 'ny': 1342, 'alon': 49, 'defin': 544, 'fabul': 707, 'oat': 1343, 'grape': 892, 'flake': 764, 'microwav': 1247, 'min': 1253, 'carb': 301, 'u': 2123, 'shape': 1761, 'throughout': 2051, 'citru': 378, 'felt': 741, 'decad': 537, 'pour': 1512, 'squeez': 1895, 'bottl': 224, 'wrote': 2245, 'perfectli': 1448, 'test': 2019, 'dozen': 610, 'group': 908, 'six': 1798, 'known': 1092, 'network': 1314, 'winner': 2219, 'easili': 639, 'overcook': 1390, 'fast': 725, 'spice': 1879, 'crisp': 491, 'pick': 1456, 'tag': 1979, 'game': 834, 'dark': 527, 'dutch': 629, 'process': 1537, 'run': 1684, 'pack': 1400, 'overli': 1391, 'save': 1713, 'thumb': 2056, 'glaze': 859, 'jasmin': 1052, 'thoroughli': 2044, 'crumb': 499, 'meatloaf': 1228, 'smooth': 1825, 'besid': 181, 'tire': 2066, 'morn': 1285, 'rel': 1621, 'spaghetti': 1869, 'walnut': 2176, 'cupboard': 512, 'herb': 955, 'basil': 150, 'caus': 316, 'bitter': 199, 'ador': 23, 'goat': 863, 'custard': 518, 'unsweeten': 2137, 'tooth': 2081, 'etc': 676, 'jar': 1051, 'cucumb': 508, 'costco': 461, 'sell': 1742, 'issu': 1041, 'solut': 1842, 'correct': 458, 'chemic': 340, 'balanc': 136, 'burn': 267, 'nose': 1328, 'avoid': 117, 'kosher': 1093, 'occas': 1346, 'product': 1540, 'requir': 1633, 'plu': 1489, 'anymor': 76, 'graini': 883, 'flop': 775, 'chef': 339, 'chines': 354, 'funni': 828, 'given': 856, 'along': 50, 'bad': 128, 'beat': 161, 'tell': 2007, 'said': 1692, 'yield': 2256, 'origin': 1382, 'natur': 1303, 'crumbl': 500, 'thicker': 2035, 'pasta': 1427, 'parmesan': 1418, 'pound': 1511, 'steak': 1906, 'comment': 411, 'anxiou': 74, 'success': 1943, 'someon': 1845, 'function': 827, 'gobbl': 864, 'box': 230, 'krispi': 1095, 'local': 1161, 'okay': 1357, 'goe': 866, 'rib': 1646, 'pb': 1433, 'conveni': 442, 'magazin': 1186, 'adventur': 26, 'eater': 643, 'halloween': 925, 'oreo': 1380, 'plastic': 1480, 'flower': 778, 'garnish': 839, 'slow': 1813, 'cooker': 448, 'throw': 2052, 'yet': 2255, 'dog': 601, 'row': 1677, 'jelli': 1053, 'yellow': 2253, 'soy': 1867, 'organ': 1381, 'starch': 1901, 'thicken': 2034, 'amaz': 62, 'sage': 1691, 'credit': 485, 'weekend': 2195, 'miss': 1264, 'directli': 585, 'buttermilk': 277, 'roast': 1662, 'gravi': 894, 'rub': 1679, 'big': 190, 'fan': 718, 'promis': 1543, 'jalapeno': 1046, 'potenti': 1508, 'abl': 0, 'prepar': 1521, 'hate': 938, 'cost': 460, 'c': 280, 'favor': 732, 'club': 388, 'soda': 1834, 'speed': 1876, 'freezer': 803, 'parm': 1417, 'romano': 1666, 'mozzarella': 1290, 'parsley': 1419, 'pita': 1474, 'pizza': 1475, 'cocktail': 394, 'chilli': 353, 'saut': 1711, 'thinli': 2040, 'spring': 1890, 'scale': 1717, 'oop': 1370, 'till': 2061, 'sort': 1858, 'odd': 1348, 'dice': 574, 'quicker': 1576, 'tastier': 1992, 'essenc': 674, 'spanish': 1870, 'artichok': 98, 'heart': 946, 'melt': 1234, 'boneless': 217, 'skinless': 1805, 'alot': 51, 'twist': 2117, 'lower': 1174, 'mother': 1287, 'impress': 1006, 'pineappl': 1469, 'batter': 156, 'safe': 1690, 'plenti': 1488, 'smoki': 1824, 'meant': 1224, 'tour': 2090, 'copi': 451, 'savori': 1714, 'menu': 1238, 'thyme': 2058, 'oregano': 1379, 'coriand': 453, 'allspic': 46, 'depend': 557, 'upon': 2140, 'thai': 2022, 'cheap': 330, 'mapl': 1198, 'stuff': 1936, 'basic': 149, 'sausag': 1710, 'versatil': 2162, 'money': 1281, 'trick': 2102, 'frequent': 805, 'yeast': 2252, 'rais': 1581, 'veg': 2153, 'aw': 118, 'mac': 1182, 'ined': 1018, 'wast': 2182, 'expens': 698, 'salvag': 1700, 'least': 1120, 'onc': 1364, 'specif': 1873, 'e': 630, 'similar': 1783, 'lover': 1172, 'superb': 1955, 'earlier': 633, 'tbsp': 1998, 'curri': 517, 'stovetop': 1924, 'wateri': 2186, 'provid': 1550, 'mom': 1279, 'thanksgiv': 2024, 'freshli': 807, 'whip': 2209, 'mixer': 1267, 'berri': 180, 'blackberri': 201, 'bet': 183, 'surprisingli': 1963, 'wait': 2174, 'inde': 1014, 'skeptic': 1800, 'boil': 214, 'pressur': 1525, 'shred': 1777, 'noodl': 1324, 'import': 1004, 'ripe': 1657, 'loaf': 1158, 'pecan': 1438, 'book': 219, 'sister': 1795, 'gritti': 904, 'ratio': 1590, 'chestnut': 342, 'crunch': 501, 'file': 749, 'alittl': 42, 'take': 1980, 'feta': 744, 'written': 2243, 'truli': 2107, 'close': 385, 'live': 1154, 'taco': 1977, 'evenli': 680, 'lighter': 1140, 'popcorn': 1498, 'fyi': 831, 'beaten': 162, 'soooo': 1854, 'dumpl': 625, 'suspect': 1964, 'pay': 1432, 'rave': 1591, 'experi': 699, 'white': 2211, 'wheat': 2205, 'cheaper': 331, 'applesauc': 89, 'dash': 529, 'nutmeg': 1338, 'afternoon': 31, 'flax': 771, 'ball': 137, 'ham': 927, 'eve': 678, 'worcestershir': 2229, 'frig': 813, 'understand': 2131, 'state': 1904, 'desir': 563, 'rare': 1586, 'rule': 1682, 'worthi': 2237, 'sear': 1731, 'rush': 1686, 'door': 605, 'noth': 1331, 'quarter': 1570, 'class': 380, 'abov': 1, 'drain': 611, 'crispi': 492, 'fact': 709, 'slight': 1809, 'grind': 903, 'point': 1492, 'bring': 244, 'slightli': 1810, 'hint': 964, 'power': 1514, 'fudg': 822, 'decreas': 542, 'jam': 1048, 'veget': 2155, 'cobbler': 393, 'particular': 1423, 'increas': 1012, 'x': 2247, 'thu': 2055, 'strongli': 1933, 'butteri': 276, 'maker': 1192, 'loav': 1159, 'machin': 1184, 'stop': 1920, 'transfer': 2095, 'stand': 1897, 'avail': 114, 'improvis': 1008, 'harden': 936, 'wax': 2187, 'dear': 536, 'dill': 581, 'short': 1772, 'prep': 1520, 'sampl': 1701, 'disappear': 586, 'picki': 1457, 'convers': 443, 'ga': 832, 'mark': 1207, 'sprout': 1892, 'outsid': 1386, 'refresh': 1611, 'mayonnais': 1221, 'tarragon': 1986, 'shower': 1776, 'sad': 1688, 'pint': 1471, 'altern': 57, 'disast': 588, 'dissolv': 595, 'mush': 1294, 'choc': 358, 'carol': 305, 'bay': 157, 'crush': 503, 'cracker': 474, 'notch': 1329, 'scallop': 1719, 'fish': 760, 'prmr': 1533, 'pac': 1398, 'mari': 1202, 'pull': 1557, 'tabl': 1975, 'daili': 525, 'potluck': 1509, 'evapor': 677, 'teaspoon': 2001, 'mama': 1193, 'kitten': 1085, 'bother': 223, 'drizzl': 620, 'coat': 391, 'crystal': 506, 'tend': 2012, 'profession': 1541, 'sale': 1694, 'sold': 1840, 'son': 1850, 'shop': 1771, 'pass': 1425, 'dad': 524, 'face': 708, 'worth': 2236, 'couscou': 469, 'chickpea': 346, 'yr': 2262, 'doubt': 607, 'longer': 1165, 'marri': 1210, 'choic': 361, 'gotten': 878, 'pancak': 1410, 'hardli': 937, 'resembl': 1635, 'weeknight': 2197, 'pair': 1405, 'rosemari': 1671, 'cast': 311, 'iron': 1039, 'skillet': 1802, 'imposs': 1005, 'effect': 649, 'basmati': 152, 'asparagu': 103, 'rins': 1656, 'pam': 1407, 'colleg': 404, 'page': 1403, 'onto': 1369, 'rotisseri': 1674, 'tart': 1987, 'simpli': 1787, 'sharon': 1763, 'normal': 1325, 'granola': 890, 'variat': 2149, 'swap': 1965, 'apricot': 94, 'due': 623, 'price': 1530, 'nectar': 1307, 'mango': 1196, 'perhap': 1449, 'hang': 932, 'polish': 1494, 'worst': 2235, 'fryer': 820, 'seal': 1730, 'chewi': 344, 'wedg': 2193, 'gummi': 919, 'lol': 1163, 'cranberri': 476, 'search': 1732, 'convert': 444, 'teriyaki': 2016, 'mayo': 1220, 'bath': 155, 'annacia': 71, 'pink': 1470, 'creamier': 482, 'varieti': 2150, 'appeal': 84, 'ultim': 2124, 'main': 1188, 'cours': 468, 'paprika': 1414, 'tho': 2043, 'healthier': 942, 'pantri': 1412, 'head': 939, 'straight': 1925, 'toaster': 2069, 'move': 1289, 'uncov': 2129, 'newest': 1317, 'zaar': 2268, 'jalepeno': 1047, 'lemonad': 1127, 'town': 2092, 'curiou': 515, 'zest': 2270, 'mini': 1257, 'tartar': 1988, 'chipotl': 356, 'ran': 1583, 'curdl': 514, 'fillet': 751, 'goodi': 872, 'combo': 408, 'sea': 1728, 'feel': 739, 'decid': 539, 'advic': 27, 'balsam': 138, 'cilantro': 375, 'scare': 1720, 'dream': 613, 'allow': 45, 'spong': 1885, 'knead': 1088, 'form': 794, 'open': 1371, 'ensur': 667, 'proper': 1545, 'fulli': 825, 'die': 576, 'ya': 2248, 'told': 2074, 'birthday': 194, 'none': 1323, 'lick': 1135, 'kidney': 1075, 'splash': 1882, 'remind': 1627, 'minu': 1261, 'loos': 1167, 'particularli': 1424, 'hair': 922, 'clean': 382, 'essenti': 675, 'receip': 1600, 'soo': 1851, 'boy': 231, 'site': 1797, 'pillsburi': 1465, 'steam': 1907, 'pepperoni': 1445, 'bell': 177, 'packag': 1401, 'factor': 710, 'interest': 1033, 'aroma': 96, 'scrumptiou': 1727, 'bird': 193, 'skin': 1804, 'reach': 1593, 'skip': 1806, 'sift': 1781, 'fluffi': 779, 'poster': 1505, 'soap': 1833, 'grate': 893, 'pamper': 1408, 'coffe': 398, 'load': 1157, 'hesit': 957, 'outstand': 1387, 'excit': 696, 'highli': 963, 'flavorless': 769, 'continu': 437, 'sat': 1703, 'nearli': 1305, 'list': 1149, 'gram': 884, 'four': 799, 'world': 2232, 'describ': 559, 'achiev': 10, 'kielbasa': 1076, 'easiest': 638, 'busi': 272, 'friendli': 812, 'shine': 1769, 'qualiti': 1567, 'snap': 1829, 'grain': 882, 'leg': 1125, 'girl': 853, 'remov': 1628, 'cat': 312, 'proceed': 1536, 'wise': 2222, 'vari': 2148, 'german': 847, 'stone': 1919, 'authent': 112, 'kale': 1066, 'suit': 1949, 'hurt': 994, 'dens': 556, 'blah': 202, 'high': 961, 'altitud': 59, 'level': 1134, 'life': 1137, 'everyday': 686, 'crock': 494, 'burnt': 269, 'overal': 1389, 'reserv': 1636, 'instant': 1026, 'lost': 1169, 'quart': 1569, 'lid': 1136, 'bone': 216, 'garbag': 836, 'scallion': 1718, 'chile': 350, 'eaten': 642, 'yesterday': 2254, 'basi': 148, 'thrown': 2053, 'rotat': 1672, 'beet': 170, 'chunk': 371, 'blender': 206, 'zip': 2273, 'processor': 1538, 'somewher': 1849, 'current': 516, 'devour': 570, 'rita': 1660, 'serious': 1751, 'advis': 28, 'oj': 1355, 'thru': 2054, 'rid': 1651, 'heard': 945, 'bourbon': 228, 'compar': 415, 'disgust': 591, 'flaki': 765, 'break': 238, 'apart': 82, 'tini': 2064, 'anyon': 77, 'pilaf': 1463, 'skim': 1803, 'gone': 870, 'adult': 24, 'possibl': 1503, 'quantiti': 1568, 'breadcrumb': 237, 'three': 2048, 'smokey': 1823, 'win': 2216, 'kittenc': 1086, 'english': 663, 'mum': 1293, 'candi': 294, 'eas': 635, 'hey': 958, 'block': 208, 'patti': 1430, 'pat': 1429, 'scoop': 1723, 'electr': 655, 'fork': 793, 'saturday': 1705, 'addict': 17, 'match': 1216, 'crowd': 498, 'pleaser': 1487, 'prevent': 1528, 'panko': 1411, 'watch': 2183, 'sensit': 1746, 'spent': 1878, 'travel': 2097, 'cole': 401, 'slaw': 1807, 'north': 1326, 'tater': 1993, 'mostli': 1286, 'fix': 763, 'labor': 1099, 'god': 865, 'bless': 207, 'recent': 1602, 'publish': 1553, 'kill': 1077, 'contain': 434, 'alcohol': 40, 'attract': 109, 'poultri': 1510, 'eye': 705, 'determin': 568, 'five': 762, 'lightli': 1141, 'failur': 712, 'worri': 2233, 'rye': 1687, 'squar': 1893, 'simplic': 1788, 'flatten': 767, 'bed': 167, 'young': 2260, 'celeri': 320, 'obvious': 1345, 'creami': 481, 'ricotta': 1650, 'cutter': 521, 'handl': 931, 'greasi': 896, 'month': 1283, 'brought': 252, 'rose': 1670, 'bore': 221, 'garam': 835, 'masala': 1214, 'indian': 1015, 'richer': 1649, 'advanc': 25, 'ranch': 1584, 'brilliant': 242, 'individu': 1017, 'complement': 418, 'monterey': 1282, 'jack': 1045, 'roommat': 1668, 'stem': 1908, 'bright': 241, 'sadli': 1689, 'ideal': 998, 'pine': 1468, 'sharp': 1764, 'middl': 1248, 'http': 987, 'repeat': 1629, 'froze': 816, 'print': 1531, 'buffet': 261, 'variou': 2151, 'pretzel': 1527, 'weekli': 2196, 'teeth': 2006, 'gift': 850, 'recipi': 1605, 'visit': 2167, 'brandi': 235, 'margarin': 1200, 'liver': 1155, 'crazi': 478, 'common': 413, 'nobodi': 1321, 'remain': 1624, 'health': 940, 'memori': 1236, 'intend': 1031, 'waffl': 2173, 'econom': 644, 'nasti': 1302, 'im': 1001, 'tin': 2063, 'edg': 646, 'festiv': 743, 'incorpor': 1011, 'rhubarb': 1645, 'horseradish': 980, 'bonu': 218, 'gorgeou': 875, 'gon': 869, 'na': 1300, 'hr': 986, 'zucchini': 2275, 'properli': 1546, 'manag': 1195, 'sooooo': 1855, 'french': 804, 'hummu': 990, 'contribut': 439, 'dust': 628, 'quich': 1574, 'bulk': 262, 'plum': 1490, 'recipezaar': 1604, 'member': 1235, 'teenag': 2005, 'subtl': 1942, 'forev': 788, 'cheesecak': 337, 'shame': 1760, 'tea': 1999, 'irish': 1038, 'zesti': 2271, 'cal': 287, 'posit': 1502, 'neg': 1310, 'fell': 740, 'liter': 1152, 'split': 1884, 'unlik': 2135, 'seen': 1740, 'confection': 427, 'weigh': 2198, 'taken': 1981, 'write': 2242, 'involv': 1037, 'figur': 748, 'cider': 374, 'macaroni': 1183, 'n': 1299, 'shorten': 1773, 'cuz': 522, 'amazingli': 63, 'alfredo': 41, 'mild': 1250, 'protein': 1548, 'sweeter': 1968, 'stevia': 1910, 'afterward': 33, 'becam': 164, 'difficult': 579, 'moistur': 1276, 'classic': 381, 'hold': 967, 'veal': 2152, 'agav': 34, 'accur': 9, 'leaf': 1117, 'ton': 2077, 'mexico': 1246, 'tasteless': 1990, 'effort': 650, 'meld': 1232, 'beyond': 188, 'alright': 54, 'didnt': 575, 'scrambl': 1724, 'complain': 416, 'til': 2059, 'children': 349, 'mizznezz': 1269, 'coleslaw': 402, 'nervou': 1313, 'singl': 1791, 'hide': 960, 'father': 728, 'picnic': 1459, 'benefit': 178, 'raisin': 1582, 'squash': 1894, 'crab': 472, 'themselv': 2029, 'thinner': 2041, 'sign': 1782, 'warn': 2179, 'choos': 363, 'mood': 1284, 'reheat': 1620, 'trip': 2103, 'platter': 1482, 'caramel': 299, 'previou': 1529, 'fit': 761, 'true': 2106, 'margarita': 1201, 'practic': 1515, 'crunchi': 502, 'american': 64, 'explain': 701, 'blood': 209, 'necessari': 1306, 'degre': 548, 'weird': 2200, 'job': 1055, 'whether': 2207, 'intrigu': 1035, 'spend': 1877, 'elimin': 657, 'greas': 895, 'stapl': 1899, 'faster': 726, 'risk': 1659, 'born': 222, 'ill': 1000, 'choy': 368, 'rum': 1683, 'tempt': 2010, 'resist': 1637, 'refer': 1610, 'speak': 1871, 'lamb': 1103, 'simmer': 1784, 'fault': 729, 'mmmm': 1271, 'oyster': 1395, 'loin': 1162, 'tblsp': 1997, 'ive': 1044, 'deal': 535, 'offic': 1350, 'scratch': 1726, 'terrif': 2018, 'ww': 2246, 'canadian': 293, 'toddler': 2071, 'grandson': 888, 'rind': 1654, 'lazi': 1115, 'knife': 1090, 'gingerbread': 852, 'whenev': 2206, 'b': 124, 'crack': 473, 'lite': 1151, 'pear': 1437, 'marshmallow': 1212, 'creme': 486, 'gooey': 873, 'chose': 365, 'de': 534, 'lasagna': 1107, 'charm': 329, 'merlot': 1240, 'amt': 67, 'lentil': 1129, 'hershey': 956, 'eleg': 656, 'teen': 2004, 'cornmeal': 456, 'compliment': 421, 'dure': 627, 'venison': 2160, 'bf': 189, 'chow': 366, 'team': 2000, 'poach': 1491, 'pesto': 1452, 'penn': 1441, 'roxygirl': 1678, 'wasnt': 2181, 'darn': 528, 'flip': 772, 'onlin': 1368, 'wild': 2215, 'becom': 166, 'popular': 1499, 'gourmet': 879, 'cafe': 283, 'kinda': 1081, 'crescent': 489, 'creativ': 484, 'sens': 1744, 'fear': 735, 'clove': 387, 'relish': 1623, 'tapioca': 1985, 'farmer': 723, 'purpl': 1562, 'nurs': 1336, 'di': 572, 'smile': 1820, 'report': 1631, 'approv': 91, 'techniqu': 2002, 'hearti': 947, 'weather': 2189, 'hamburg': 928, 'cheesi': 338, 'weight': 2199, 'heap': 943, 'miracl': 1263, 'catch': 313, 'modifi': 1274, 'gf': 849, 'spectacular': 1875, 'household': 984, 'tough': 2089, 'tang': 1983, 'btw': 258, 'canada': 292, 'specifi': 1874, 'toothpick': 2082, 'dont': 604, 'blue': 210, 'bare': 143, 'detail': 566, 'poke': 1493, 'kudo': 1096, 'metal': 1243, 'sourdough': 1864, 'neighbor': 1311, 'chuck': 370, 'qt': 1566, 'asid': 101, 'drip': 618, 'wet': 2203, 'larger': 1106, 'towel': 2091, 'line': 1145, 'crouton': 497, 'childhood': 348, 'preserv': 1523, 'asian': 100, 'doughi': 609, 'footbal': 786, 'allerg': 43, 'mmm': 1270, 'invit': 1036, 'held': 953, 'secret': 1735, 'garden': 837, 'forgiv': 790, 'doctor': 598, 'delect': 550, 'fruiti': 819, 'wife': 2214, 'uncl': 2127, 'bill': 192, 'skewer': 1801, 'sin': 1789, 'tee': 2003, 'anyhow': 75, 'holi': 969, 'anchovi': 68, 'canning': 295, 'kahlua': 1064, 'beverag': 187, 'liqueur': 1147, 'fav': 730, 'preheat': 1519, 'celebr': 319, 'rack': 1580, 'knew': 1089, 'inform': 1021, 'graham': 881, 'mistak': 1265, 'send': 1743, 'fold': 781, 'march': 1199, 'letter': 1132, 'experienc': 700, 'lemoni': 1128, 'jello': 1054, 'fed': 737, 'allergi': 44, 'alter': 56, 'wafer': 2172, 'wipe': 2221, 'research': 1634, 'thrill': 2050, 'standard': 1898, 'child': 347, 'diabet': 573, 'honestli': 974, 'barbecu': 141, 'learn': 1119, 'simpler': 1786, 'question': 1573, 'web': 2190, 'tilapia': 2060, 'brush': 256, 'concoct': 425, 'pinch': 1467, 'near': 1304, 'clue': 389, 'guacamol': 913, 'vodka': 2168, 'thigh': 2036, 'canola': 296, 'declar': 540, 'acid': 11, 'voila': 2169, 'crusti': 505, 'fiber': 746, 'date': 530, 'count': 464, 'began': 173, 'supermarket': 1956, 'saltin': 1699, 'aftertast': 32, 'opt': 1374, 'devil': 569, 'yolk': 2259, 'turmer': 2113, 'space': 1868, 'air': 39, 'neither': 1312, 'contest': 436, 'excess': 695, 'nutti': 1341, 'afraid': 30, 'heck': 952, 'cheat': 332, 'strip': 1930, 'somewhat': 1848, 'whatev': 2204, 'burst': 271, 'desert': 561, 'age': 35, 'delic': 552, 'gallon': 833, 'case': 308, 'bergi': 179, 'soupi': 1861, 'unbeliev': 2126, 'rotel': 1673, 'paula': 1431, 'inspir': 1025, 'clam': 379, 'bodi': 213, 'counter': 465, 'shallot': 1759, 'mellow': 1233, 'settl': 1756, 'ps': 1552, 'yumm': 2265, 'sue': 1945, 'challeng': 325, 'hook': 977, 'author': 113, 'assum': 105, 'initi': 1023, 'appear': 85, 'thx': 2057, 'period': 1450, 'aunt': 110, 'discard': 589, 'marjoram': 1206, 'lo': 1156, 'mein': 1231, 'glue': 860, 'releas': 1622, 'brussel': 257, 'cob': 392, 'sherri': 1768, 'saucepan': 1707, 'oili': 1354, 'major': 1190, 'indic': 1016, 'descript': 560, 'coars': 390, 'cant': 297, 'brother': 251, 'fight': 747, 'snow': 1831, 'emeril': 659, 'accord': 8, 'kiss': 1083, 'mint': 1260, 'center': 321, 'accid': 5, 'detect': 567, 'famou': 717, 'copycat': 452, 'within': 2224, 'marinara': 1205, 'angel': 69, 'barbequ': 142, 'surfac': 1961, 'area': 95, 'sunflow': 1953, 'bagel': 131, 'contrast': 438, 'grandma': 886, 'smother': 1827, 'gather': 840, 'cycl': 523, 'key': 1072, 'valentin': 2145, 'friday': 809, 'revis': 1644, 'sauci': 1708, 'cholesterol': 362, 'approx': 92, 'fianc': 745, 'pool': 1495, 'whisk': 2210, 'accompani': 7, 'ridicul': 1652, 'gross': 906, 'chew': 343, 'appar': 83, 'seriou': 1750, 'laid': 1102, 'critic': 493, 'beach': 159, 'cod': 397, 'divin': 597, 'hole': 968, 'occasion': 1347, 'blanch': 203, 'gosh': 876, 'content': 435, 'tortellini': 2084, 'purchas': 1560, 'zing': 2272, 'empti': 660, 'artifici': 99, 'killer': 1078, 'offer': 1349, 'hurri': 993, 'begin': 174, 'self': 1741, 'l': 1097, 'non': 1322, 'baguett': 132, 'fennel': 742, 'magic': 1187, 'virgin': 2166, 'commerci': 412, 'wound': 2239, 'cashew': 309, 'f': 706, 'bast': 153, 'appetit': 87, 'event': 681, 'gelatin': 842, 'eacut': 631, 'limit': 1144, 'crepe': 488, 'girlfriend': 854, 'sourc': 1863, 'partial': 1422, 'despit': 564, 'taught': 1994, 'germ': 846, 'chanc': 326, 'youngest': 2261, 'marmalad': 1209, 'folk': 782, 'sent': 1747, 'oppos': 1373, 'butterscotch': 278, 'firm': 758, 'fave': 731, 'alphabet': 52, 'puf': 1555, 'judg': 1059, 'regard': 1615, 'wide': 2213, 'caper': 298, 'thaw': 2027, 'defrost': 546, 'swirl': 1969, 'typo': 2122, 'doesnt': 600, 'parent': 1416, 'complic': 420, 'produc': 1539, 'certain': 323, 'adapt': 15, 'fuss': 829, 'drive': 619, 'entre': 670, 'vinaigrett': 2164, 'buttercream': 275, 'enhanc': 664, 'proport': 1547, 'ritz': 1661, 'burner': 268, 'internet': 1034, 'proof': 1544, 'aussi': 111, 'carmel': 304, 'depth': 558, 'gruyer': 911, 'lay': 1113, 'needless': 1309, 'colour': 406, 'watcher': 2184, 'tofu': 2072, 'concentr': 422, 'mainli': 1189, 'poor': 1496, 'submit': 1940, 'precook': 1517, 'unabl': 2125, 'gum': 917, 'kiwi': 1087, 'countri': 466, 'instantli': 1027, 'minor': 1259, 'higher': 962, 'gold': 867, 'duplic': 626, 'front': 814, 'drank': 612, 'meet': 1230, 'deli': 551, 'wed': 2192, 'strang': 1927, 'affect': 29, 'minim': 1258, 'shave': 1765, 'fanci': 719, 'kim': 1079, 'marvel': 1213, 'numer': 1335, 'forget': 789, 'forgotten': 792, 'fashion': 724, 'lighten': 1139, 'ed': 645, 'behind': 175, 'smash': 1818, 'frank': 800, 'laugh': 1111, 'control': 440, 'joy': 1058, 'jan': 1049, 'mmmmm': 1272, 'upset': 2141, 'hungri': 991, 'beg': 172, 'craisin': 475, 'pkg': 1476, 'p': 1397, 'zero': 2269, 'floor': 774, 'badli': 129, 'pain': 1404, 'refus': 1614, 'thankyou': 2025, 'slowli': 1814, 'summertim': 1951, 'palat': 1406, 'concept': 423, 'softer': 1838, 'seper': 1749, 'lose': 1168, 'punch': 1559, 'ring': 1655, 'karen': 1067, 'fairli': 714, 'bev': 186, 'rubberi': 1680, 'fortun': 795, 'supris': 1959, 'stumbl': 1937, 'circl': 377, 'forum': 796, 'yummo': 2267, 'stomach': 1918, 'approxim': 93, 'june': 1063, 'trust': 2108, 'cow': 471, 'pinto': 1472, 'ladi': 1101, 'brisket': 245, 'lumpi': 1180, 'phenomen': 1453, 'barley': 145, 'complaint': 417, 'unsalt': 2136, 'coke': 399, 'kalamata': 1065, 'theme': 2028, 'guilt': 916, 'honest': 973, 'therefor': 2030, 'kraft': 1094, 'bargain': 144, 'basement': 147, 'sneak': 1830, 'remaind': 1625, 'florida': 776, 'slurri': 1815, 'lean': 1118, 'closer': 386, 'betti': 185, 'dislik': 593, 'strain': 1926, 'fudgi': 823, 'stiff': 1914, 'stronger': 1932, 'inexpens': 1019, 'thermomet': 2031, 'lump': 1179, 'switch': 1971, 'return': 1642, 'refri': 1612, 'adopt': 22, 'tenderloin': 2014, 'pin': 1466, 'push': 1564, 'hunt': 992, 'yoghurt': 2257, 'edit': 648, 'anywher': 81, 'bomb': 215, 'tequila': 2015, 'sip': 1793, 'pic': 1455, 'grown': 910, 'sirloin': 1794, 'solv': 1843, 'everytim': 689, 'wont': 2228, 'suck': 1944, 'pectin': 1439, 'messi': 1242, 'romain': 1665, 'hoisin': 966, 'fond': 784, 'awar': 119, 'honor': 976, 'adobo': 21, 'intens': 1032, 'dairi': 526, 'ident': 999, 'pile': 1464, 'marsala': 1211, 'brunch': 255, 'grand': 885, 'handi': 930, 'convinc': 445, 'creamer': 480, 'constantli': 432, 'purpos': 1563, 'anytim': 79, 'dehydr': 549, 'law': 1112, 'stretch': 1929, 'eggi': 652, 'peppermint': 1444, 'meringu': 1239, 'regardless': 1616, 'gentli': 844, 'answer': 73, 'info': 1020, 'prais': 1516, 'vegi': 2158, 'clearli': 384, 'pipe': 1473, 'yeah': 2250, 'ziploc': 2274, 'roux': 1676, 'culinari': 509, 'quest': 1572, 'joke': 1057, 'stage': 1896, 'volum': 2170, 'project': 1542, 'lobster': 1160, 'cheer': 335, 'mill': 1252, 'serrano': 1752, 'sick': 1779, 'northern': 1327, 'ty': 2119, 'tube': 2110, 'prove': 1549, 'eventu': 682, 'convect': 441, 'char': 328, 'wors': 2234, 'pace': 1399, 'fire': 757, 'caught': 314, 'lard': 1104, 'velveeta': 2159, 'griddl': 901, 'rang': 1585, 'stori': 1922, 'float': 773, 'valu': 2146, 'caution': 317, 'consider': 430, 'dissapoint': 594, 'rees': 1609, 'novic': 1333, 'deg': 547, 'hear': 944, 'respons': 1638, 'earth': 634, 'ordinari': 1378, 'intak': 1030, 'chowder': 367, 'butt': 273, 'older': 1360, 'board': 212, 'regret': 1617, 'luckili': 1178, 'awsom': 123, 'pleasant': 1485, 'enter': 668, 'listen': 1150}\n",
      "['abl', 'abov', 'absolut', 'absorb', 'abund', 'accid', 'accident', 'accompani', 'accord', 'accur', 'achiev', 'acid', 'across', 'actual', 'ad', 'adapt', 'add', 'addict', 'addit', 'adjust', 'admit', 'adobo', 'adopt', 'ador', 'adult', 'advanc', 'adventur', 'advic', 'advis', 'affect', 'afraid', 'afternoon', 'aftertast', 'afterward', 'agav', 'age', 'ago', 'agre', 'ahead', 'air', 'alcohol', 'alfredo', 'alittl', 'allerg', 'allergi', 'allow', 'allspic', 'almond', 'almost', 'alon', 'along', 'alot', 'alphabet', 'alreadi', 'alright', 'also', 'alter', 'altern', 'although', 'altitud', 'aluminum', 'alway', 'amaz', 'amazingli', 'american', 'amount', 'amp', 'amt', 'anchovi', 'angel', 'ani', 'annacia', 'anoth', 'answer', 'anxiou', 'anyhow', 'anymor', 'anyon', 'anyth', 'anytim', 'anyway', 'anywher', 'apart', 'appar', 'appeal', 'appear', 'appet', 'appetit', 'appl', 'applesauc', 'appreci', 'approv', 'approx', 'approxim', 'apricot', 'area', 'aroma', 'around', 'artichok', 'artifici', 'asian', 'asid', 'ask', 'asparagu', 'assembl', 'assum', 'ate', 'attempt', 'attent', 'attract', 'aunt', 'aussi', 'authent', 'author', 'avail', 'averag', 'avocado', 'avoid', 'aw', 'awar', 'away', 'awesom', 'awhil', 'awsom', 'b', 'babi', 'back', 'bacon', 'bad', 'badli', 'bag', 'bagel', 'baguett', 'bake', 'baker', 'bakeri', 'balanc', 'ball', 'balsam', 'banana', 'bar', 'barbecu', 'barbequ', 'bare', 'bargain', 'barley', 'base', 'basement', 'basi', 'basic', 'basil', 'basket', 'basmati', 'bast', 'batch', 'bath', 'batter', 'bay', 'bbq', 'beach', 'bean', 'beat', 'beaten', 'beauti', 'becam', 'becaus', 'becom', 'bed', 'beef', 'beer', 'beet', 'befor', 'beg', 'began', 'begin', 'behind', 'believ', 'bell', 'benefit', 'bergi', 'berri', 'besid', 'best', 'bet', 'better', 'betti', 'bev', 'beverag', 'beyond', 'bf', 'big', 'bigger', 'bill', 'bird', 'birthday', 'biscuit', 'bisquick', 'bit', 'bite', 'bitter', 'black', 'blackberri', 'blah', 'blanch', 'bland', 'blend', 'blender', 'bless', 'block', 'blood', 'blue', 'blueberri', 'board', 'bodi', 'boil', 'bomb', 'bone', 'boneless', 'bonu', 'book', 'boost', 'bore', 'born', 'bother', 'bottl', 'bottom', 'bought', 'bouillon', 'bourbon', 'bowl', 'box', 'boy', 'boyfriend', 'bran', 'brand', 'brandi', 'bread', 'breadcrumb', 'break', 'breakfast', 'breast', 'bright', 'brilliant', 'brine', 'bring', 'brisket', 'broccoli', 'broil', 'broiler', 'broke', 'broth', 'brother', 'brought', 'brown', 'browni', 'brunch', 'brush', 'brussel', 'btw', 'bubbl', 'bud', 'buffet', 'bulk', 'bun', 'bunch', 'bundt', 'burger', 'burn', 'burner', 'burnt', 'burrito', 'burst', 'busi', 'butt', 'butter', 'buttercream', 'butteri', 'buttermilk', 'butterscotch', 'buy', 'c', 'ca', 'cabbag', 'cafe', 'cajun', 'cake', 'cakey', 'cal', 'call', 'calori', 'came', 'camp', 'canada', 'canadian', 'candi', 'canning', 'canola', 'cant', 'caper', 'caramel', 'caraway', 'carb', 'cardamom', 'care', 'carmel', 'carol', 'carri', 'carrot', 'case', 'cashew', 'casserol', 'cast', 'cat', 'catch', 'caught', 'cauliflow', 'caus', 'caution', 'cayenn', 'celebr', 'celeri', 'center', 'cereal', 'certain', 'certainli', 'challeng', 'chanc', 'chang', 'char', 'charm', 'cheap', 'cheaper', 'cheat', 'check', 'cheddar', 'cheer', 'chees', 'cheesecak', 'cheesi', 'chef', 'chemic', 'cherri', 'chestnut', 'chew', 'chewi', 'chicken', 'chickpea', 'child', 'childhood', 'children', 'chile', 'chili', 'chill', 'chilli', 'chines', 'chip', 'chipotl', 'chive', 'choc', 'chocol', 'chocolatey', 'choic', 'cholesterol', 'choos', 'chop', 'chose', 'chow', 'chowder', 'choy', 'christma', 'chuck', 'chunk', 'chunki', 'church', 'cider', 'cilantro', 'cinnamon', 'circl', 'citru', 'clam', 'class', 'classic', 'clean', 'clear', 'clearli', 'close', 'closer', 'clove', 'club', 'clue', 'coars', 'coat', 'cob', 'cobbler', 'cocktail', 'cocoa', 'coconut', 'cod', 'coffe', 'coke', 'cold', 'cole', 'coleslaw', 'collect', 'colleg', 'color', 'colour', 'combin', 'combo', 'come', 'comfort', 'comment', 'commerci', 'common', 'compani', 'compar', 'complain', 'complaint', 'complement', 'complet', 'complic', 'compliment', 'concentr', 'concept', 'concern', 'concoct', 'condens', 'confection', 'confus', 'consid', 'consider', 'consist', 'constantli', 'consum', 'contain', 'content', 'contest', 'continu', 'contrast', 'contribut', 'control', 'convect', 'conveni', 'convers', 'convert', 'convinc', 'cook', 'cookbook', 'cooker', 'cooki', 'cool', 'copi', 'copycat', 'coriand', 'corn', 'cornbread', 'cornmeal', 'cornstarch', 'correct', 'correctli', 'cost', 'costco', 'cottag', 'could', 'count', 'counter', 'countri', 'coupl', 'cours', 'couscou', 'cover', 'cow', 'crab', 'crack', 'cracker', 'craisin', 'cranberri', 'crave', 'crazi', 'cream', 'creamer', 'creami', 'creamier', 'creat', 'creativ', 'credit', 'creme', 'creol', 'crepe', 'crescent', 'crisco', 'crisp', 'crispi', 'critic', 'crock', 'crockpot', 'cross', 'crouton', 'crowd', 'crumb', 'crumbl', 'crunch', 'crunchi', 'crush', 'crust', 'crusti', 'crystal', 'cube', 'cucumb', 'culinari', 'cumin', 'cup', 'cupboard', 'cupcak', 'curdl', 'curiou', 'current', 'curri', 'custard', 'cut', 'cute', 'cutter', 'cuz', 'cycl', 'dad', 'daili', 'dairi', 'dark', 'darn', 'dash', 'date', 'daughter', 'day', 'dd', 'de', 'deal', 'dear', 'decad', 'decent', 'decid', 'declar', 'decor', 'decreas', 'deep', 'defin', 'definit', 'defrost', 'deg', 'degre', 'dehydr', 'delect', 'deli', 'delic', 'delici', 'delight', 'delish', 'dens', 'depend', 'depth', 'describ', 'descript', 'desert', 'deserv', 'desir', 'despit', 'dessert', 'detail', 'detect', 'determin', 'devil', 'devour', 'dh', 'di', 'diabet', 'dice', 'didnt', 'die', 'diet', 'differ', 'difficult', 'dijon', 'dill', 'dinner', 'dip', 'direct', 'directli', 'disappear', 'disappoint', 'disast', 'discard', 'discov', 'disgust', 'dish', 'dislik', 'dissapoint', 'dissolv', 'divid', 'divin', 'doctor', 'doe', 'doesnt', 'dog', 'dollop', 'done', 'dont', 'door', 'doubl', 'doubt', 'dough', 'doughi', 'dozen', 'drain', 'drank', 'dream', 'dredg', 'dress', 'dri', 'drink', 'drip', 'drive', 'drizzl', 'drop', 'ds', 'due', 'dump', 'dumpl', 'duplic', 'dure', 'dust', 'dutch', 'e', 'eacut', 'earli', 'earlier', 'earth', 'eas', 'easi', 'easier', 'easiest', 'easili', 'easter', 'eat', 'eaten', 'eater', 'econom', 'ed', 'edg', 'edibl', 'edit', 'effect', 'effort', 'egg', 'eggi', 'eggplant', 'either', 'electr', 'eleg', 'elimin', 'els', 'emeril', 'empti', 'enchilada', 'end', 'english', 'enhanc', 'enjoy', 'enough', 'ensur', 'enter', 'entir', 'entre', 'equal', 'error', 'especi', 'essenc', 'essenti', 'etc', 'evapor', 'eve', 'even', 'evenli', 'event', 'eventu', 'ever', 'everi', 'everybodi', 'everyday', 'everyon', 'everyth', 'everytim', 'everywher', 'exact', 'exactli', 'excel', 'except', 'excess', 'excit', 'expect', 'expens', 'experi', 'experienc', 'explain', 'extra', 'extract', 'extrem', 'eye', 'f', 'fabul', 'face', 'fact', 'factor', 'fail', 'failur', 'fair', 'fairli', 'fall', 'famili', 'famou', 'fan', 'fanci', 'fantast', 'far', 'farm', 'farmer', 'fashion', 'fast', 'faster', 'fat', 'father', 'fault', 'fav', 'fave', 'favor', 'favorit', 'favourit', 'fear', 'feast', 'fed', 'feed', 'feel', 'fell', 'felt', 'fennel', 'festiv', 'feta', 'fianc', 'fiber', 'fight', 'figur', 'file', 'fill', 'fillet', 'final', 'find', 'fine', 'finger', 'finish', 'fire', 'firm', 'first', 'fish', 'fit', 'five', 'fix', 'flake', 'flaki', 'flat', 'flatten', 'flavor', 'flavorless', 'flavour', 'flax', 'flip', 'float', 'floor', 'flop', 'florida', 'flour', 'flower', 'fluffi', 'foil', 'fold', 'folk', 'follow', 'fond', 'food', 'footbal', 'foreman', 'forev', 'forget', 'forgiv', 'forgot', 'forgotten', 'fork', 'form', 'fortun', 'forum', 'forward', 'found', 'four', 'frank', 'free', 'freez', 'freezer', 'french', 'frequent', 'fresh', 'freshli', 'fri', 'friday', 'fridg', 'friend', 'friendli', 'frig', 'front', 'frost', 'froze', 'frozen', 'fruit', 'fruiti', 'fryer', 'ft', 'fudg', 'fudgi', 'full', 'fulli', 'fun', 'function', 'funni', 'fuss', 'futur', 'fyi', 'ga', 'gallon', 'game', 'garam', 'garbag', 'garden', 'garlic', 'garnish', 'gather', 'gave', 'gelatin', 'gener', 'gentli', 'georg', 'germ', 'german', 'get', 'gf', 'gift', 'ginger', 'gingerbread', 'girl', 'girlfriend', 'give', 'given', 'glad', 'glass', 'glaze', 'glue', 'gluten', 'go', 'goat', 'gobbl', 'god', 'goe', 'gold', 'golden', 'gon', 'gone', 'good', 'goodi', 'gooey', 'googl', 'gorgeou', 'gosh', 'got', 'gotten', 'gourmet', 'grab', 'graham', 'grain', 'graini', 'gram', 'grand', 'grandma', 'grandmoth', 'grandson', 'granni', 'granola', 'granul', 'grape', 'grate', 'gravi', 'greas', 'greasi', 'great', 'greek', 'green', 'grew', 'griddl', 'grill', 'grind', 'gritti', 'groceri', 'gross', 'ground', 'group', 'grow', 'grown', 'gruyer', 'gt', 'guacamol', 'guess', 'guest', 'guilt', 'gum', 'gumbo', 'gummi', 'guy', 'ha', 'hair', 'half', 'halfway', 'halloween', 'halv', 'ham', 'hamburg', 'hand', 'handi', 'handl', 'hang', 'happen', 'happi', 'hard', 'harden', 'hardli', 'hate', 'head', 'health', 'healthi', 'healthier', 'heap', 'hear', 'heard', 'heart', 'hearti', 'heat', 'heaven', 'heavenli', 'heavi', 'heck', 'held', 'help', 'herb', 'hershey', 'hesit', 'hey', 'hi', 'hide', 'high', 'higher', 'highli', 'hint', 'hit', 'hoisin', 'hold', 'hole', 'holi', 'holiday', 'home', 'homemad', 'honest', 'honestli', 'honey', 'honor', 'hook', 'hope', 'horribl', 'horseradish', 'hot', 'hour', 'hous', 'household', 'howev', 'hr', 'http', 'hubbi', 'huge', 'hummu', 'hungri', 'hunt', 'hurri', 'hurt', 'husband', 'ice', 'idea', 'ideal', 'ident', 'ill', 'im', 'imagin', 'immedi', 'import', 'imposs', 'impress', 'improv', 'improvis', 'inch', 'includ', 'incorpor', 'increas', 'incred', 'inde', 'indian', 'indic', 'individu', 'ined', 'inexpens', 'info', 'inform', 'ingredi', 'initi', 'insid', 'inspir', 'instant', 'instantli', 'instead', 'instruct', 'intak', 'intend', 'intens', 'interest', 'internet', 'intrigu', 'invit', 'involv', 'irish', 'iron', 'island', 'issu', 'italian', 'item', 'ive', 'jack', 'jalapeno', 'jalepeno', 'jam', 'jan', 'japanes', 'jar', 'jasmin', 'jelli', 'jello', 'job', 'joe', 'joke', 'joy', 'judg', 'juic', 'juici', 'juli', 'june', 'kahlua', 'kalamata', 'kale', 'karen', 'keep', 'keeper', 'kept', 'ketchup', 'key', 'kick', 'kid', 'kidney', 'kielbasa', 'kill', 'killer', 'kim', 'kind', 'kinda', 'king', 'kiss', 'kitchen', 'kitten', 'kittenc', 'kiwi', 'knead', 'knew', 'knife', 'know', 'known', 'kosher', 'kraft', 'krispi', 'kudo', 'l', 'la', 'labor', 'lack', 'ladi', 'laid', 'lamb', 'lard', 'larg', 'larger', 'lasagna', 'last', 'late', 'later', 'laugh', 'law', 'lay', 'layer', 'lazi', 'lb', 'leaf', 'lean', 'learn', 'least', 'leav', 'leek', 'left', 'leftov', 'leg', 'lemon', 'lemonad', 'lemoni', 'lentil', 'less', 'let', 'letter', 'lettuc', 'level', 'lick', 'lid', 'life', 'light', 'lighten', 'lighter', 'lightli', 'like', 'lime', 'limit', 'line', 'liner', 'liqueur', 'liquid', 'list', 'listen', 'lite', 'liter', 'littl', 'live', 'liver', 'lo', 'load', 'loaf', 'loav', 'lobster', 'local', 'loin', 'lol', 'long', 'longer', 'look', 'loos', 'lose', 'lost', 'lot', 'love', 'lover', 'low', 'lower', 'lt', 'luck', 'lucki', 'luckili', 'lump', 'lumpi', 'lunch', 'mac', 'macaroni', 'machin', 'made', 'magazin', 'magic', 'main', 'mainli', 'major', 'make', 'maker', 'mama', 'man', 'manag', 'mango', 'mani', 'mapl', 'march', 'margarin', 'margarita', 'mari', 'marin', 'marinad', 'marinara', 'marjoram', 'mark', 'market', 'marmalad', 'marri', 'marsala', 'marshmallow', 'marvel', 'masala', 'mash', 'match', 'matter', 'may', 'mayb', 'mayo', 'mayonnais', 'meal', 'mean', 'meant', 'measur', 'meat', 'meatbal', 'meatloaf', 'medium', 'meet', 'mein', 'meld', 'mellow', 'melt', 'member', 'memori', 'mention', 'menu', 'meringu', 'merlot', 'mess', 'messi', 'metal', 'method', 'mexican', 'mexico', 'microwav', 'middl', 'might', 'mild', 'milk', 'mill', 'min', 'minc', 'mind', 'mine', 'mini', 'minim', 'minor', 'mint', 'minu', 'minut', 'miracl', 'miss', 'mistak', 'mix', 'mixer', 'mixtur', 'mizznezz', 'mmm', 'mmmm', 'mmmmm', 'modif', 'modifi', 'moist', 'moistur', 'molass', 'mold', 'mom', 'moment', 'money', 'monterey', 'month', 'mood', 'morn', 'mostli', 'mother', 'mouth', 'move', 'mozzarella', 'much', 'muffin', 'mum', 'mush', 'mushi', 'mushroom', 'must', 'mustard', 'n', 'na', 'name', 'nasti', 'natur', 'near', 'nearli', 'necessari', 'nectar', 'need', 'needless', 'neg', 'neighbor', 'neither', 'nervou', 'network', 'never', 'new', 'newest', 'next', 'nice', 'night', 'nobodi', 'non', 'none', 'noodl', 'normal', 'north', 'northern', 'nose', 'notch', 'note', 'noth', 'notic', 'novic', 'number', 'numer', 'nurs', 'nut', 'nutmeg', 'nutrit', 'nutriti', 'nutti', 'ny', 'oat', 'oatmeal', 'obvious', 'occas', 'occasion', 'odd', 'offer', 'offic', 'often', 'oh', 'oil', 'oili', 'oj', 'ok', 'okay', 'okra', 'old', 'older', 'oliv', 'omg', 'omit', 'onc', 'one', 'onion', 'onli', 'onlin', 'onto', 'oop', 'open', 'opinion', 'oppos', 'opt', 'option', 'orang', 'order', 'ordinari', 'oregano', 'oreo', 'organ', 'origin', 'otherwis', 'ounc', 'outcom', 'outsid', 'outstand', 'oven', 'overal', 'overcook', 'overli', 'overnight', 'overpow', 'overwhelm', 'oyster', 'oz', 'p', 'pac', 'pace', 'pack', 'packag', 'packet', 'page', 'pain', 'pair', 'palat', 'pam', 'pamper', 'pan', 'pancak', 'panko', 'pantri', 'paper', 'paprika', 'parchment', 'parent', 'parm', 'parmesan', 'parsley', 'part', 'parti', 'partial', 'particular', 'particularli', 'pass', 'past', 'pasta', 'pastri', 'pat', 'patti', 'paula', 'pay', 'pb', 'pea', 'peach', 'peanut', 'pear', 'pecan', 'pectin', 'peel', 'penn', 'peopl', 'pepper', 'peppermint', 'pepperoni', 'per', 'perfect', 'perfectli', 'perhap', 'period', 'person', 'pesto', 'phenomen', 'photo', 'pic', 'pick', 'picki', 'pickl', 'picnic', 'pictur', 'pie', 'piec', 'pilaf', 'pile', 'pillsburi', 'pin', 'pinch', 'pine', 'pineappl', 'pink', 'pint', 'pinto', 'pipe', 'pita', 'pizza', 'pkg', 'place', 'plain', 'plan', 'plastic', 'plate', 'platter', 'play', 'pleas', 'pleasant', 'pleasantli', 'pleaser', 'plenti', 'plu', 'plum', 'poach', 'point', 'poke', 'polish', 'pool', 'poor', 'pop', 'popcorn', 'popular', 'pork', 'portion', 'posit', 'possibl', 'post', 'poster', 'pot', 'potato', 'potenti', 'potluck', 'poultri', 'pound', 'pour', 'powder', 'power', 'practic', 'prais', 'precook', 'prefer', 'preheat', 'prep', 'prepar', 'present', 'preserv', 'press', 'pressur', 'pretti', 'pretzel', 'prevent', 'previou', 'price', 'print', 'prior', 'prmr', 'probabl', 'problem', 'proceed', 'process', 'processor', 'produc', 'product', 'profession', 'project', 'promis', 'proof', 'proper', 'properli', 'proport', 'protein', 'prove', 'provid', 'provolon', 'ps', 'publish', 'pud', 'puf', 'puff', 'pull', 'pumpkin', 'punch', 'purchas', 'pure', 'purpl', 'purpos', 'push', 'put', 'qt', 'qualiti', 'quantiti', 'quart', 'quarter', 'queen', 'quest', 'question', 'quich', 'quick', 'quicker', 'quickli', 'quit', 'quot', 'rack', 'rais', 'raisin', 'ran', 'ranch', 'rang', 'rare', 'raspberri', 'rate', 'rather', 'ratio', 'rave', 'raw', 'reach', 'read', 'readi', 'real', 'realiz', 'realli', 'reason', 'receip', 'receiv', 'recent', 'recip', 'recipezaar', 'recipi', 'recommend', 'red', 'reduc', 'rees', 'refer', 'refresh', 'refri', 'refriger', 'refus', 'regard', 'regardless', 'regret', 'regular', 'regularli', 'reheat', 'rel', 'releas', 'relish', 'remain', 'remaind', 'rememb', 'remind', 'remov', 'repeat', 'replac', 'report', 'request', 'requir', 'research', 'resembl', 'reserv', 'resist', 'respons', 'rest', 'restaur', 'result', 'return', 'review', 'revis', 'rhubarb', 'rib', 'rice', 'rich', 'richer', 'ricotta', 'rid', 'ridicul', 'right', 'rind', 'ring', 'rins', 'ripe', 'rise', 'risk', 'rita', 'ritz', 'roast', 'rock', 'roll', 'romain', 'romano', 'room', 'roommat', 'root', 'rose', 'rosemari', 'rotat', 'rotel', 'rotisseri', 'round', 'roux', 'row', 'roxygirl', 'rub', 'rubberi', 'ruin', 'rule', 'rum', 'run', 'runni', 'rush', 'rye', 'sad', 'sadli', 'safe', 'sage', 'said', 'salad', 'sale', 'salmon', 'salsa', 'salt', 'salti', 'saltin', 'salvag', 'sampl', 'sandwich', 'sat', 'satisfi', 'saturday', 'sauc', 'saucepan', 'sauci', 'sauerkraut', 'sausag', 'saut', 'saute', 'save', 'savori', 'saw', 'say', 'scale', 'scallion', 'scallop', 'scare', 'school', 'scone', 'scoop', 'scrambl', 'scrape', 'scratch', 'scrumptiou', 'sea', 'seafood', 'seal', 'sear', 'search', 'season', 'second', 'secret', 'section', 'see', 'seed', 'seem', 'seen', 'self', 'sell', 'send', 'sens', 'sensat', 'sensit', 'sent', 'separ', 'seper', 'seriou', 'serious', 'serrano', 'serv', 'sesam', 'set', 'settl', 'sever', 'shake', 'shallot', 'shame', 'shape', 'share', 'sharon', 'sharp', 'shave', 'sheet', 'shell', 'sherri', 'shine', 'shock', 'shop', 'short', 'shorten', 'shot', 'show', 'shower', 'shred', 'shrimp', 'sick', 'side', 'sift', 'sign', 'similar', 'simmer', 'simpl', 'simpler', 'simpli', 'simplic', 'sin', 'sinc', 'singl', 'sink', 'sip', 'sirloin', 'sister', 'sit', 'site', 'six', 'size', 'skeptic', 'skewer', 'skillet', 'skim', 'skin', 'skinless', 'skip', 'slaw', 'slice', 'slight', 'slightli', 'sliver', 'sloppi', 'slow', 'slowli', 'slurri', 'small', 'smaller', 'smash', 'smell', 'smile', 'smith', 'smoke', 'smokey', 'smoki', 'smooth', 'smoothi', 'smother', 'snack', 'snap', 'sneak', 'snow', 'soak', 'soap', 'soda', 'sodium', 'soft', 'soften', 'softer', 'soggi', 'sold', 'solid', 'solut', 'solv', 'somehow', 'someon', 'someth', 'sometim', 'somewhat', 'somewher', 'son', 'soo', 'soon', 'sooo', 'soooo', 'sooooo', 'soooooo', 'sorri', 'sort', 'sound', 'soup', 'soupi', 'sour', 'sourc', 'sourdough', 'south', 'southern', 'soy', 'space', 'spaghetti', 'spanish', 'speak', 'special', 'specif', 'specifi', 'spectacular', 'speed', 'spend', 'spent', 'spice', 'spici', 'spinach', 'splash', 'splenda', 'split', 'spong', 'spoon', 'spot', 'spray', 'spread', 'spring', 'sprinkl', 'sprout', 'squar', 'squash', 'squeez', 'stage', 'stand', 'standard', 'stapl', 'star', 'starch', 'start', 'starter', 'state', 'stay', 'steak', 'steam', 'stem', 'step', 'stevia', 'stew', 'stick', 'sticki', 'stiff', 'still', 'stir', 'stock', 'stomach', 'stone', 'stop', 'store', 'stori', 'stove', 'stovetop', 'straight', 'strain', 'strang', 'strawberri', 'stretch', 'strip', 'strong', 'stronger', 'strongli', 'stuck', 'stuf', 'stuff', 'stumbl', 'style', 'sub', 'submit', 'substitut', 'subtl', 'success', 'suck', 'sue', 'suffici', 'sugar', 'suggest', 'suit', 'summer', 'summertim', 'sunday', 'sunflow', 'super', 'superb', 'supermarket', 'supper', 'suppos', 'supris', 'sure', 'surfac', 'surpris', 'surprisingli', 'suspect', 'swap', 'sweet', 'sweeten', 'sweeter', 'swirl', 'swiss', 'switch', 'syrup', 'ta', 'tabasco', 'tabl', 'tablespoon', 'taco', 'tad', 'tag', 'take', 'taken', 'talk', 'tang', 'tangi', 'tapioca', 'tarragon', 'tart', 'tartar', 'tast', 'tasteless', 'tasti', 'tastier', 'tater', 'taught', 'tb', 'tbl', 'tblsp', 'tbsp', 'tea', 'team', 'teaspoon', 'techniqu', 'tee', 'teen', 'teenag', 'teeth', 'tell', 'temp', 'temperatur', 'tempt', 'ten', 'tend', 'tender', 'tenderloin', 'tequila', 'teriyaki', 'terribl', 'terrif', 'test', 'texa', 'textur', 'thai', 'thank', 'thanksgiv', 'thankyou', 'thanx', 'thaw', 'theme', 'themselv', 'therefor', 'thermomet', 'thi', 'thick', 'thicken', 'thicker', 'thigh', 'thin', 'thing', 'think', 'thinli', 'thinner', 'third', 'tho', 'thoroughli', 'though', 'thought', 'thousand', 'three', 'threw', 'thrill', 'throughout', 'throw', 'thrown', 'thru', 'thu', 'thumb', 'thx', 'thyme', 'til', 'tilapia', 'till', 'time', 'tin', 'tini', 'tip', 'tire', 'titl', 'toast', 'toaster', 'today', 'toddler', 'tofu', 'togeth', 'told', 'tomato', 'tomorrow', 'ton', 'toni', 'tonight', 'took', 'tooth', 'toothpick', 'top', 'tortellini', 'tortilla', 'toss', 'total', 'touch', 'tough', 'tour', 'towel', 'town', 'trader', 'tradit', 'transfer', 'trash', 'travel', 'tray', 'treat', 'tree', 'tri', 'trick', 'trip', 'tripl', 'troubl', 'true', 'truli', 'trust', 'tsp', 'tube', 'tuna', 'turkey', 'turmer', 'turn', 'tweak', 'twice', 'twist', 'two', 'ty', 'type', 'typic', 'typo', 'u', 'ultim', 'unabl', 'unbeliev', 'uncl', 'uncook', 'uncov', 'undercook', 'understand', 'unfortun', 'uniqu', 'unless', 'unlik', 'unsalt', 'unsweeten', 'unusu', 'updat', 'upon', 'upset', 'us', 'use', 'usual', 'valentin', 'valu', 'vanilla', 'vari', 'variat', 'varieti', 'variou', 'veal', 'veg', 'vegan', 'veget', 'vegetarian', 'veggi', 'vegi', 'velveeta', 'venison', 'veri', 'versatil', 'version', 'vinaigrett', 'vinegar', 'virgin', 'visit', 'vodka', 'voila', 'volum', 'wa', 'wafer', 'waffl', 'wait', 'walk', 'walnut', 'want', 'warm', 'warn', 'wash', 'wasnt', 'wast', 'watch', 'watcher', 'water', 'wateri', 'wax', 'way', 'weather', 'web', 'websit', 'wed', 'wedg', 'week', 'weekend', 'weekli', 'weeknight', 'weigh', 'weight', 'weird', 'well', 'went', 'wet', 'whatev', 'wheat', 'whenev', 'whether', 'whi', 'whip', 'whisk', 'white', 'whole', 'wide', 'wife', 'wild', 'win', 'wine', 'wing', 'winner', 'winter', 'wipe', 'wise', 'wish', 'within', 'without', 'wo', 'wonder', 'wont', 'worcestershir', 'word', 'work', 'world', 'worri', 'wors', 'worst', 'worth', 'worthi', 'would', 'wound', 'wow', 'wrap', 'write', 'written', 'wrong', 'wrote', 'ww', 'x', 'ya', 'ye', 'yeah', 'year', 'yeast', 'yellow', 'yesterday', 'yet', 'yield', 'yoghurt', 'yogurt', 'yolk', 'young', 'youngest', 'yr', 'yuck', 'yum', 'yumm', 'yummi', 'yummo', 'zaar', 'zero', 'zest', 'zesti', 'zing', 'zip', 'ziploc', 'zucchini', 'zwt']\n"
     ]
    }
   ],
   "source": [
    "print(bagofwords.vocabulary_)\n",
    "print(bagofwords.get_feature_names())"
   ]
  },
  {
   "cell_type": "code",
   "execution_count": 61,
   "id": "75d37834",
   "metadata": {},
   "outputs": [
    {
     "data": {
      "text/html": [
       "<div>\n",
       "<style scoped>\n",
       "    .dataframe tbody tr th:only-of-type {\n",
       "        vertical-align: middle;\n",
       "    }\n",
       "\n",
       "    .dataframe tbody tr th {\n",
       "        vertical-align: top;\n",
       "    }\n",
       "\n",
       "    .dataframe thead th {\n",
       "        text-align: right;\n",
       "    }\n",
       "</style>\n",
       "<table border=\"1\" class=\"dataframe\">\n",
       "  <thead>\n",
       "    <tr style=\"text-align: right;\">\n",
       "      <th></th>\n",
       "      <th>RecipeId</th>\n",
       "      <th>AuthorId</th>\n",
       "      <th>AuthorName</th>\n",
       "      <th>Rating</th>\n",
       "      <th>Review</th>\n",
       "      <th>DateSubmitted</th>\n",
       "      <th>DateModified</th>\n",
       "      <th>Sentiment</th>\n",
       "    </tr>\n",
       "    <tr>\n",
       "      <th>ReviewId</th>\n",
       "      <th></th>\n",
       "      <th></th>\n",
       "      <th></th>\n",
       "      <th></th>\n",
       "      <th></th>\n",
       "      <th></th>\n",
       "      <th></th>\n",
       "      <th></th>\n",
       "    </tr>\n",
       "  </thead>\n",
       "  <tbody>\n",
       "    <tr>\n",
       "      <th>1118827</th>\n",
       "      <td>252161</td>\n",
       "      <td>107135</td>\n",
       "      <td>Dienia B.</td>\n",
       "      <td>5</td>\n",
       "      <td>fast easy cheap tasty  served with sarah beths...</td>\n",
       "      <td>2010-06-19T14:18:11Z</td>\n",
       "      <td>2010-06-19T14:18:11Z</td>\n",
       "      <td>1</td>\n",
       "    </tr>\n",
       "    <tr>\n",
       "      <th>1267367</th>\n",
       "      <td>139769</td>\n",
       "      <td>2042874</td>\n",
       "      <td>risingsun9365</td>\n",
       "      <td>0</td>\n",
       "      <td>I just finished this recipe and shamelessly sc...</td>\n",
       "      <td>2011-11-21T18:18:42Z</td>\n",
       "      <td>2011-11-21T18:18:42Z</td>\n",
       "      <td>0</td>\n",
       "    </tr>\n",
       "    <tr>\n",
       "      <th>873928</th>\n",
       "      <td>181206</td>\n",
       "      <td>137428</td>\n",
       "      <td>ctrmom</td>\n",
       "      <td>0</td>\n",
       "      <td>I am assigning no stars because I have not yet...</td>\n",
       "      <td>2009-05-22T14:04:15Z</td>\n",
       "      <td>2009-05-22T14:04:15Z</td>\n",
       "      <td>0</td>\n",
       "    </tr>\n",
       "    <tr>\n",
       "      <th>899197</th>\n",
       "      <td>35813</td>\n",
       "      <td>992009</td>\n",
       "      <td>divertingbailey</td>\n",
       "      <td>5</td>\n",
       "      <td>Such amazing cookies! Even people who aren't h...</td>\n",
       "      <td>2009-07-02T12:30:11Z</td>\n",
       "      <td>2009-07-02T12:30:11Z</td>\n",
       "      <td>1</td>\n",
       "    </tr>\n",
       "    <tr>\n",
       "      <th>42088</th>\n",
       "      <td>50080</td>\n",
       "      <td>26584</td>\n",
       "      <td>Vic17460</td>\n",
       "      <td>2</td>\n",
       "      <td>\\r\\nAs I looked this recipe over, I wondered h...</td>\n",
       "      <td>2003-02-20T07:19:16Z</td>\n",
       "      <td>2003-02-20T07:19:16Z</td>\n",
       "      <td>0</td>\n",
       "    </tr>\n",
       "    <tr>\n",
       "      <th>...</th>\n",
       "      <td>...</td>\n",
       "      <td>...</td>\n",
       "      <td>...</td>\n",
       "      <td>...</td>\n",
       "      <td>...</td>\n",
       "      <td>...</td>\n",
       "      <td>...</td>\n",
       "      <td>...</td>\n",
       "    </tr>\n",
       "    <tr>\n",
       "      <th>954408</th>\n",
       "      <td>387934</td>\n",
       "      <td>137302</td>\n",
       "      <td>CarrolJ</td>\n",
       "      <td>5</td>\n",
       "      <td>Wonderful served with salsa!  I couldn't belie...</td>\n",
       "      <td>2009-09-24T13:39:06Z</td>\n",
       "      <td>2009-09-24T13:39:06Z</td>\n",
       "      <td>1</td>\n",
       "    </tr>\n",
       "    <tr>\n",
       "      <th>833509</th>\n",
       "      <td>349579</td>\n",
       "      <td>58104</td>\n",
       "      <td>Rita1652</td>\n",
       "      <td>0</td>\n",
       "      <td>YUMMO! Comfort food this is!\\r\\nThere is a lot...</td>\n",
       "      <td>2009-03-23T18:36:34Z</td>\n",
       "      <td>2009-03-23T18:36:34Z</td>\n",
       "      <td>0</td>\n",
       "    </tr>\n",
       "    <tr>\n",
       "      <th>480449</th>\n",
       "      <td>84347</td>\n",
       "      <td>487387</td>\n",
       "      <td>Tee Angel</td>\n",
       "      <td>5</td>\n",
       "      <td>It was my turn to bake for the birthday girl a...</td>\n",
       "      <td>2007-09-16T15:48:30Z</td>\n",
       "      <td>2007-09-16T15:48:30Z</td>\n",
       "      <td>1</td>\n",
       "    </tr>\n",
       "    <tr>\n",
       "      <th>1318554</th>\n",
       "      <td>272990</td>\n",
       "      <td>107135</td>\n",
       "      <td>Dienia B.</td>\n",
       "      <td>5</td>\n",
       "      <td>made this in the blender used recipe #224908  ...</td>\n",
       "      <td>2012-07-23T21:22:11Z</td>\n",
       "      <td>2012-07-23T21:22:11Z</td>\n",
       "      <td>1</td>\n",
       "    </tr>\n",
       "    <tr>\n",
       "      <th>674163</th>\n",
       "      <td>124449</td>\n",
       "      <td>167003</td>\n",
       "      <td>ColoradoCookin</td>\n",
       "      <td>1</td>\n",
       "      <td>It was... awful.  In all my reviews this is on...</td>\n",
       "      <td>2008-07-18T17:34:49Z</td>\n",
       "      <td>2008-07-18T17:34:49Z</td>\n",
       "      <td>0</td>\n",
       "    </tr>\n",
       "  </tbody>\n",
       "</table>\n",
       "<p>142 rows × 8 columns</p>\n",
       "</div>"
      ],
      "text/plain": [
       "          RecipeId  AuthorId       AuthorName  Rating  \\\n",
       "ReviewId                                                \n",
       "1118827     252161    107135        Dienia B.       5   \n",
       "1267367     139769   2042874    risingsun9365       0   \n",
       "873928      181206    137428           ctrmom       0   \n",
       "899197       35813    992009  divertingbailey       5   \n",
       "42088        50080     26584         Vic17460       2   \n",
       "...            ...       ...              ...     ...   \n",
       "954408      387934    137302          CarrolJ       5   \n",
       "833509      349579     58104         Rita1652       0   \n",
       "480449       84347    487387        Tee Angel       5   \n",
       "1318554     272990    107135        Dienia B.       5   \n",
       "674163      124449    167003   ColoradoCookin       1   \n",
       "\n",
       "                                                     Review  \\\n",
       "ReviewId                                                      \n",
       "1118827   fast easy cheap tasty  served with sarah beths...   \n",
       "1267367   I just finished this recipe and shamelessly sc...   \n",
       "873928    I am assigning no stars because I have not yet...   \n",
       "899197    Such amazing cookies! Even people who aren't h...   \n",
       "42088     \\r\\nAs I looked this recipe over, I wondered h...   \n",
       "...                                                     ...   \n",
       "954408    Wonderful served with salsa!  I couldn't belie...   \n",
       "833509    YUMMO! Comfort food this is!\\r\\nThere is a lot...   \n",
       "480449    It was my turn to bake for the birthday girl a...   \n",
       "1318554   made this in the blender used recipe #224908  ...   \n",
       "674163    It was... awful.  In all my reviews this is on...   \n",
       "\n",
       "                 DateSubmitted          DateModified  Sentiment  \n",
       "ReviewId                                                         \n",
       "1118827   2010-06-19T14:18:11Z  2010-06-19T14:18:11Z          1  \n",
       "1267367   2011-11-21T18:18:42Z  2011-11-21T18:18:42Z          0  \n",
       "873928    2009-05-22T14:04:15Z  2009-05-22T14:04:15Z          0  \n",
       "899197    2009-07-02T12:30:11Z  2009-07-02T12:30:11Z          1  \n",
       "42088     2003-02-20T07:19:16Z  2003-02-20T07:19:16Z          0  \n",
       "...                        ...                   ...        ...  \n",
       "954408    2009-09-24T13:39:06Z  2009-09-24T13:39:06Z          1  \n",
       "833509    2009-03-23T18:36:34Z  2009-03-23T18:36:34Z          0  \n",
       "480449    2007-09-16T15:48:30Z  2007-09-16T15:48:30Z          1  \n",
       "1318554   2012-07-23T21:22:11Z  2012-07-23T21:22:11Z          1  \n",
       "674163    2008-07-18T17:34:49Z  2008-07-18T17:34:49Z          0  \n",
       "\n",
       "[142 rows x 8 columns]"
      ]
     },
     "execution_count": 61,
     "metadata": {},
     "output_type": "execute_result"
    }
   ],
   "source": [
    "sample_reviews[sample_reviews['Review'].str.contains('zaar')]"
   ]
  },
  {
   "cell_type": "code",
   "execution_count": 62,
   "id": "4034371e",
   "metadata": {},
   "outputs": [],
   "source": [
    "pd.set_option('display.max_colwidth', None)"
   ]
  },
  {
   "cell_type": "code",
   "execution_count": 63,
   "id": "a37f94e6",
   "metadata": {},
   "outputs": [
    {
     "data": {
      "text/html": [
       "<div>\n",
       "<style scoped>\n",
       "    .dataframe tbody tr th:only-of-type {\n",
       "        vertical-align: middle;\n",
       "    }\n",
       "\n",
       "    .dataframe tbody tr th {\n",
       "        vertical-align: top;\n",
       "    }\n",
       "\n",
       "    .dataframe thead th {\n",
       "        text-align: right;\n",
       "    }\n",
       "</style>\n",
       "<table border=\"1\" class=\"dataframe\">\n",
       "  <thead>\n",
       "    <tr style=\"text-align: right;\">\n",
       "      <th></th>\n",
       "      <th>RecipeId</th>\n",
       "      <th>AuthorId</th>\n",
       "      <th>AuthorName</th>\n",
       "      <th>Rating</th>\n",
       "      <th>Review</th>\n",
       "      <th>DateSubmitted</th>\n",
       "      <th>DateModified</th>\n",
       "      <th>Sentiment</th>\n",
       "    </tr>\n",
       "    <tr>\n",
       "      <th>ReviewId</th>\n",
       "      <th></th>\n",
       "      <th></th>\n",
       "      <th></th>\n",
       "      <th></th>\n",
       "      <th></th>\n",
       "      <th></th>\n",
       "      <th></th>\n",
       "      <th></th>\n",
       "    </tr>\n",
       "  </thead>\n",
       "  <tbody>\n",
       "    <tr>\n",
       "      <th>1118827</th>\n",
       "      <td>252161</td>\n",
       "      <td>107135</td>\n",
       "      <td>Dienia B.</td>\n",
       "      <td>5</td>\n",
       "      <td>fast easy cheap tasty  served with sarah beths peas  recipe #428882  complete fast cheap meal zaar tour 6</td>\n",
       "      <td>2010-06-19T14:18:11Z</td>\n",
       "      <td>2010-06-19T14:18:11Z</td>\n",
       "      <td>1</td>\n",
       "    </tr>\n",
       "    <tr>\n",
       "      <th>1267367</th>\n",
       "      <td>139769</td>\n",
       "      <td>2042874</td>\n",
       "      <td>risingsun9365</td>\n",
       "      <td>0</td>\n",
       "      <td>I just finished this recipe and shamelessly scraped and licked the spoons.  It is amazing.  I added 6 oz of chocolate instead of the 3 it calls for. I think that it has a great balance between sweet and chocolate.  I am attending a crafters holiday bazaar this weekend, I'm hoping this will make a nice addition to my collection of jams and jellies that I sell.  THANK YOU</td>\n",
       "      <td>2011-11-21T18:18:42Z</td>\n",
       "      <td>2011-11-21T18:18:42Z</td>\n",
       "      <td>0</td>\n",
       "    </tr>\n",
       "    <tr>\n",
       "      <th>873928</th>\n",
       "      <td>181206</td>\n",
       "      <td>137428</td>\n",
       "      <td>ctrmom</td>\n",
       "      <td>0</td>\n",
       "      <td>I am assigning no stars because I have not yet made this as written, but this is as close as recipezaar has to the recipe our friends Newell and Karen gave us for Salsa Cruda de Tomatillo, which is 5 star excellent. The only real difference is jalapeno peppers instead of poblanos. Our recipe says 1 lb. tomatillos, 1 onion, 1 clove garlic, 2 jalapenos, 1 small bunch cilantro. I think we used 3/4 t salt. Thanks for posting!</td>\n",
       "      <td>2009-05-22T14:04:15Z</td>\n",
       "      <td>2009-05-22T14:04:15Z</td>\n",
       "      <td>0</td>\n",
       "    </tr>\n",
       "    <tr>\n",
       "      <th>899197</th>\n",
       "      <td>35813</td>\n",
       "      <td>992009</td>\n",
       "      <td>divertingbailey</td>\n",
       "      <td>5</td>\n",
       "      <td>Such amazing cookies! Even people who aren't huge fans of oatmeal cookies love these! Best cookie recipe I've gotten off 'zaar yet!</td>\n",
       "      <td>2009-07-02T12:30:11Z</td>\n",
       "      <td>2009-07-02T12:30:11Z</td>\n",
       "      <td>1</td>\n",
       "    </tr>\n",
       "    <tr>\n",
       "      <th>42088</th>\n",
       "      <td>50080</td>\n",
       "      <td>26584</td>\n",
       "      <td>Vic17460</td>\n",
       "      <td>2</td>\n",
       "      <td>\\r\\nAs I looked this recipe over, I wondered how this would cook slowly for 30 minutes without liquid.  Recipezaar Support was helpful, and encouraged me to find an answer and give it a try. I chose vegetable broth at ½ cup per serving. (2½ cups for 6 servings.) This seemed to be about right. I put the broth in after adding the cardamom and nutmeg in step 3. (The recipe calls for garlic twice &amp;#8211; I chose to add it in step 1, and sautéed it with the onion.)  Back to step 3, it is hard to brown that much chopped vegetable. The cabbage seems to release liquid, so the process is not real dry. I never got even the potatoes to brown, thought I stirred for over 10 minutes. I choose serranos for the peppers.  I served it with injera bread. It is ok, but even with six chopped serranos, it comes across as kind of bland.  This could be just because I am missing something about Ethiopian cooking. (More cardamom??) We have some Ethiopian restaurants in the area, and I shall give one a try before going on in an Ethiopian direction. \\r\\n</td>\n",
       "      <td>2003-02-20T07:19:16Z</td>\n",
       "      <td>2003-02-20T07:19:16Z</td>\n",
       "      <td>0</td>\n",
       "    </tr>\n",
       "    <tr>\n",
       "      <th>...</th>\n",
       "      <td>...</td>\n",
       "      <td>...</td>\n",
       "      <td>...</td>\n",
       "      <td>...</td>\n",
       "      <td>...</td>\n",
       "      <td>...</td>\n",
       "      <td>...</td>\n",
       "      <td>...</td>\n",
       "    </tr>\n",
       "    <tr>\n",
       "      <th>954408</th>\n",
       "      <td>387934</td>\n",
       "      <td>137302</td>\n",
       "      <td>CarrolJ</td>\n",
       "      <td>5</td>\n",
       "      <td>Wonderful served with salsa!  I couldn't believe how much it resembles Chili Rellano in flavor.  Surprisingly no one would ever know that there are torn pieces of flour tortillas even in this.I would think if you had any leftover it would be good inserted into a fresh tortilla with salsa and served as a breakfast burrito as well.     Very good! Made for PAC Fall 2009.\\n\\nhttp://www.recipezaar.com/bb/viewtopic.zsp?t=310505&amp;postdays=0&amp;postorder=asc&amp;start=0</td>\n",
       "      <td>2009-09-24T13:39:06Z</td>\n",
       "      <td>2009-09-24T13:39:06Z</td>\n",
       "      <td>1</td>\n",
       "    </tr>\n",
       "    <tr>\n",
       "      <th>833509</th>\n",
       "      <td>349579</td>\n",
       "      <td>58104</td>\n",
       "      <td>Rita1652</td>\n",
       "      <td>0</td>\n",
       "      <td>YUMMO! Comfort food this is!\\r\\nThere is a lot of juice that is released from the cabbage. It would be good to remove the top for half the cooking time. The Worcestershire sauce I added to the meat using only 1 teaspoon. Skipped the salt. used olive oil for sauteing the onions.\\r\\nMade for PAC http://www.recipezaar.com/bb/viewtopic.zsp?t=296583&amp;postdays=0&amp;postorder=asc&amp;start=0\\r\\nThanks!</td>\n",
       "      <td>2009-03-23T18:36:34Z</td>\n",
       "      <td>2009-03-23T18:36:34Z</td>\n",
       "      <td>0</td>\n",
       "    </tr>\n",
       "    <tr>\n",
       "      <th>480449</th>\n",
       "      <td>84347</td>\n",
       "      <td>487387</td>\n",
       "      <td>Tee Angel</td>\n",
       "      <td>5</td>\n",
       "      <td>It was my turn to bake for the birthday girl at work. She requested 'anything cherry'. I searched through Recipezaar for something quick. This recipe was a huge hit at work! Thank you for posting.</td>\n",
       "      <td>2007-09-16T15:48:30Z</td>\n",
       "      <td>2007-09-16T15:48:30Z</td>\n",
       "      <td>1</td>\n",
       "    </tr>\n",
       "    <tr>\n",
       "      <th>1318554</th>\n",
       "      <td>272990</td>\n",
       "      <td>107135</td>\n",
       "      <td>Dienia B.</td>\n",
       "      <td>5</td>\n",
       "      <td>made this in the blender used recipe #224908  used a little milk not cream just cause i dont want to be in more trouble with doc this is great  made for zaar world tour8</td>\n",
       "      <td>2012-07-23T21:22:11Z</td>\n",
       "      <td>2012-07-23T21:22:11Z</td>\n",
       "      <td>1</td>\n",
       "    </tr>\n",
       "    <tr>\n",
       "      <th>674163</th>\n",
       "      <td>124449</td>\n",
       "      <td>167003</td>\n",
       "      <td>ColoradoCookin</td>\n",
       "      <td>1</td>\n",
       "      <td>It was... awful.  In all my reviews this is only the second one in my 3 years with zaar that I've given 1 star.  The flavors do NOT mix and it was just plan gross.  I didn't taste enough of it for texture or anything else.  Just 1 teaspoon for each person in my house yielded the \"EW YUCK\" reaction!!</td>\n",
       "      <td>2008-07-18T17:34:49Z</td>\n",
       "      <td>2008-07-18T17:34:49Z</td>\n",
       "      <td>0</td>\n",
       "    </tr>\n",
       "  </tbody>\n",
       "</table>\n",
       "<p>142 rows × 8 columns</p>\n",
       "</div>"
      ],
      "text/plain": [
       "          RecipeId  AuthorId       AuthorName  Rating  \\\n",
       "ReviewId                                                \n",
       "1118827     252161    107135        Dienia B.       5   \n",
       "1267367     139769   2042874    risingsun9365       0   \n",
       "873928      181206    137428           ctrmom       0   \n",
       "899197       35813    992009  divertingbailey       5   \n",
       "42088        50080     26584         Vic17460       2   \n",
       "...            ...       ...              ...     ...   \n",
       "954408      387934    137302          CarrolJ       5   \n",
       "833509      349579     58104         Rita1652       0   \n",
       "480449       84347    487387        Tee Angel       5   \n",
       "1318554     272990    107135        Dienia B.       5   \n",
       "674163      124449    167003   ColoradoCookin       1   \n",
       "\n",
       "                                                                                                                                                                                                                                                                                                                                                                                                                                                                                                                                                                                                                                                                                                                                                                                                                                                                                                                                                                                                                                                                                      Review  \\\n",
       "ReviewId                                                                                                                                                                                                                                                                                                                                                                                                                                                                                                                                                                                                                                                                                                                                                                                                                                                                                                                                                                                                                                                                                       \n",
       "1118827                                                                                                                                                                                                                                                                                                                                                                                                                                                                                                                                                                                                                                                                                                                                                                                                                                                                                                                                                                            fast easy cheap tasty  served with sarah beths peas  recipe #428882  complete fast cheap meal zaar tour 6   \n",
       "1267367                                                                                                                                                                                                                                                                                                                                                                                                                                                                                                                                                                                                                                                                                                 I just finished this recipe and shamelessly scraped and licked the spoons.  It is amazing.  I added 6 oz of chocolate instead of the 3 it calls for. I think that it has a great balance between sweet and chocolate.  I am attending a crafters holiday bazaar this weekend, I'm hoping this will make a nice addition to my collection of jams and jellies that I sell.  THANK YOU   \n",
       "873928                                                                                                                                                                                                                                                                                                                                                                                                                                                                                                                                                                                                                                             I am assigning no stars because I have not yet made this as written, but this is as close as recipezaar has to the recipe our friends Newell and Karen gave us for Salsa Cruda de Tomatillo, which is 5 star excellent. The only real difference is jalapeno peppers instead of poblanos. Our recipe says 1 lb. tomatillos, 1 onion, 1 clove garlic, 2 jalapenos, 1 small bunch cilantro. I think we used 3/4 t salt. Thanks for posting!   \n",
       "899197                                                                                                                                                                                                                                                                                                                                                                                                                                                                                                                                                                                                                                                                                                                                                                                                                                                                                                                                                   Such amazing cookies! Even people who aren't huge fans of oatmeal cookies love these! Best cookie recipe I've gotten off 'zaar yet!   \n",
       "42088     \\r\\nAs I looked this recipe over, I wondered how this would cook slowly for 30 minutes without liquid.  Recipezaar Support was helpful, and encouraged me to find an answer and give it a try. I chose vegetable broth at ½ cup per serving. (2½ cups for 6 servings.) This seemed to be about right. I put the broth in after adding the cardamom and nutmeg in step 3. (The recipe calls for garlic twice &#8211; I chose to add it in step 1, and sautéed it with the onion.)  Back to step 3, it is hard to brown that much chopped vegetable. The cabbage seems to release liquid, so the process is not real dry. I never got even the potatoes to brown, thought I stirred for over 10 minutes. I choose serranos for the peppers.  I served it with injera bread. It is ok, but even with six chopped serranos, it comes across as kind of bland.  This could be just because I am missing something about Ethiopian cooking. (More cardamom??) We have some Ethiopian restaurants in the area, and I shall give one a try before going on in an Ethiopian direction. \\r\\n   \n",
       "...                                                                                                                                                                                                                                                                                                                                                                                                                                                                                                                                                                                                                                                                                                                                                                                                                                                                                                                                                                                                                                                                                      ...   \n",
       "954408                                                                                                                                                                                                                                                                                                                                                                                                                                                                                                                                                                                                            Wonderful served with salsa!  I couldn't believe how much it resembles Chili Rellano in flavor.  Surprisingly no one would ever know that there are torn pieces of flour tortillas even in this.I would think if you had any leftover it would be good inserted into a fresh tortilla with salsa and served as a breakfast burrito as well.     Very good! Made for PAC Fall 2009.\\n\\nhttp://www.recipezaar.com/bb/viewtopic.zsp?t=310505&postdays=0&postorder=asc&start=0   \n",
       "833509                                                                                                                                                                                                                                                                                                                                                                                                                                                                                                                                                                                                                                                                                YUMMO! Comfort food this is!\\r\\nThere is a lot of juice that is released from the cabbage. It would be good to remove the top for half the cooking time. The Worcestershire sauce I added to the meat using only 1 teaspoon. Skipped the salt. used olive oil for sauteing the onions.\\r\\nMade for PAC http://www.recipezaar.com/bb/viewtopic.zsp?t=296583&postdays=0&postorder=asc&start=0\\r\\nThanks!   \n",
       "480449                                                                                                                                                                                                                                                                                                                                                                                                                                                                                                                                                                                                                                                                                                                                                                                                                                                                                  It was my turn to bake for the birthday girl at work. She requested 'anything cherry'. I searched through Recipezaar for something quick. This recipe was a huge hit at work! Thank you for posting.   \n",
       "1318554                                                                                                                                                                                                                                                                                                                                                                                                                                                                                                                                                                                                                                                                                                                                                                                                                                                                                                            made this in the blender used recipe #224908  used a little milk not cream just cause i dont want to be in more trouble with doc this is great  made for zaar world tour8   \n",
       "674163                                                                                                                                                                                                                                                                                                                                                                                                                                                                                                                                                                                                                                                                                                                                                                          It was... awful.  In all my reviews this is only the second one in my 3 years with zaar that I've given 1 star.  The flavors do NOT mix and it was just plan gross.  I didn't taste enough of it for texture or anything else.  Just 1 teaspoon for each person in my house yielded the \"EW YUCK\" reaction!!   \n",
       "\n",
       "                 DateSubmitted          DateModified  Sentiment  \n",
       "ReviewId                                                         \n",
       "1118827   2010-06-19T14:18:11Z  2010-06-19T14:18:11Z          1  \n",
       "1267367   2011-11-21T18:18:42Z  2011-11-21T18:18:42Z          0  \n",
       "873928    2009-05-22T14:04:15Z  2009-05-22T14:04:15Z          0  \n",
       "899197    2009-07-02T12:30:11Z  2009-07-02T12:30:11Z          1  \n",
       "42088     2003-02-20T07:19:16Z  2003-02-20T07:19:16Z          0  \n",
       "...                        ...                   ...        ...  \n",
       "954408    2009-09-24T13:39:06Z  2009-09-24T13:39:06Z          1  \n",
       "833509    2009-03-23T18:36:34Z  2009-03-23T18:36:34Z          0  \n",
       "480449    2007-09-16T15:48:30Z  2007-09-16T15:48:30Z          1  \n",
       "1318554   2012-07-23T21:22:11Z  2012-07-23T21:22:11Z          1  \n",
       "674163    2008-07-18T17:34:49Z  2008-07-18T17:34:49Z          0  \n",
       "\n",
       "[142 rows x 8 columns]"
      ]
     },
     "execution_count": 63,
     "metadata": {},
     "output_type": "execute_result"
    }
   ],
   "source": [
    "sample_reviews[sample_reviews['Review'].str.contains('zaar')]"
   ]
  },
  {
   "cell_type": "markdown",
   "id": "fb63a4bb",
   "metadata": {},
   "source": [
    "I was very curious about certain words such as zaar, dh, zwt, pac, so I made the code above to start diging more into what they mean. I found out the following:\n",
    "- Zaar: It was the previous name of the website was recipezaar.com and people often reffer to the site as Zaar, many of the comments say they are happy to find a recipe they found before in zaar, others jsut talking about the site (mostly the old comments).\n",
    "- dh: abbreviation for Dietary history\n",
    "- zwt: seemed like a random word but it actually is an abbreviation for Zero Waiting Time, makes sense to have it on positive since it means the recipe is very fast to make which makes people have a positive sentiment towards the recipe.\n",
    "- pac: pace. Some people refer to the apce being fast and easy which is also positive.\n",
    "- tag: was the most tricky one, the main one is people talking about being tagged on the recipe by someone or in most cases say they are 'tagging it' or 'tagged it' because they liked it (apparently they are saving it on favorites, maybe was a previous name from previous site since  most of this comments are old).  In some case no real meaning, 'tag game' was mentioned 169 times as well as people asking or talking about being tagged in certain recipe. "
   ]
  },
  {
   "cell_type": "markdown",
   "id": "dca88983",
   "metadata": {},
   "source": [
    "# Testing sentences with logreg"
   ]
  },
  {
   "cell_type": "code",
   "execution_count": 64,
   "id": "d676a34f",
   "metadata": {
    "scrolled": true
   },
   "outputs": [
    {
     "name": "stdout",
     "output_type": "stream",
     "text": [
      "['wonder', 'love', 'amaz']\n"
     ]
    }
   ],
   "source": [
    "# Preprocess the new sentence\n",
    "new_sentence = \"wonderful I love it, its amazing\"\n",
    "new_sentece = str(new_sentence)\n",
    "\n",
    "preprocessed_sentence = my_tokenizer(new_sentence)  # Applies the same preprocessing steps used for training\n",
    "#preprocessed_sentence = ' '.join(preprocessed_sentence)  # Converts the list of tokens to a single string\n",
    "# preprocessed not really working, have to update this\n",
    "print(preprocessed_sentence)\n",
    "\n",
    "#check recall , balance, confusion matrix, TIDF ---> different type (score based on how often they appear)\n",
    "# check decision tree, knn, compre different models\n"
   ]
  },
  {
   "cell_type": "code",
   "execution_count": 65,
   "id": "091fad70",
   "metadata": {},
   "outputs": [
    {
     "name": "stdout",
     "output_type": "stream",
     "text": [
      "[['wonder', 'love', 'amaz']]\n",
      "[0]\n"
     ]
    }
   ],
   "source": [
    "# Transforms the preprocessed sentence using the trained CountVectorizer (bag of words)\n",
    "new_sentence_transformed = bagofwords.transform([preprocessed_sentence[0]])\n",
    "print([preprocessed_sentence])\n",
    "print(logreg.predict(new_sentence_transformed))\n",
    "\n",
    "\n"
   ]
  },
  {
   "cell_type": "code",
   "execution_count": 66,
   "id": "12f31d8c",
   "metadata": {},
   "outputs": [
    {
     "name": "stdout",
     "output_type": "stream",
     "text": [
      "['delici', 'veri', 'yummi', 'love']\n",
      "[1]\n"
     ]
    }
   ],
   "source": [
    "# Transforms the preprocessed sentence using the trained CountVectorizer (bag of words)\n",
    "# Preprocess the new sentence\n",
    "new_sentence = \"delicious, its very yummy, i love it\"\n",
    "new_sentece = str(new_sentence)\n",
    "\n",
    "preprocessed_sentence = my_tokenizer(new_sentence)  # Applies the same preprocessing steps used for training\n",
    "#preprocessed_sentence = ' '.join(preprocessed_sentence)  # Converts the list of tokens to a single string\n",
    "# preprocessed not really working, have to update this\n",
    "print(preprocessed_sentence)\n",
    "\n",
    "new_sentence_transformed = bagofwords.transform([new_sentence])\n",
    "\n",
    "print(logreg.predict(new_sentence_transformed))\n"
   ]
  },
  {
   "cell_type": "markdown",
   "id": "ecd42669",
   "metadata": {},
   "source": [
    "Testing with positive words, the log reg predicts that it is positive (1)"
   ]
  },
  {
   "cell_type": "code",
   "execution_count": 67,
   "id": "5c5db3e1",
   "metadata": {},
   "outputs": [
    {
     "name": "stdout",
     "output_type": "stream",
     "text": [
      "good nice\n",
      "The sentence has a negative sentiment.\n"
     ]
    }
   ],
   "source": [
    "# Transforms the preprocessed sentence using the trained CountVectorizer (bag of words)\n",
    "# Preprocess the new sentence\n",
    "new_sentence = \"good nice\"\n",
    "new_sentence = str(new_sentence)\n",
    "\n",
    "preprocessed_sentence = my_tokenizer(new_sentence)  # Applies the same preprocessing steps used for training\n",
    "preprocessed_sentence = ' '.join(preprocessed_sentence)  # Converts the list of tokens to a single string\n",
    "\n",
    "print(preprocessed_sentence)\n",
    "\n",
    "new_sentence_transformed = bagofwords.transform([preprocessed_sentence])\n",
    "sentiment_prediction = logreg.predict(new_sentence_transformed)\n",
    "\n",
    "if sentiment_prediction == 1:\n",
    "    print(\"The sentence has a positive sentiment.\")\n",
    "else:\n",
    "    print(\"The sentence has a negative sentiment.\")\n"
   ]
  },
  {
   "cell_type": "markdown",
   "id": "1e59747a",
   "metadata": {},
   "source": [
    "Doing a second test, this time with printing if the sentiment is negative or positive instead of 1 or 0"
   ]
  },
  {
   "cell_type": "code",
   "execution_count": 68,
   "id": "8581262d",
   "metadata": {
    "scrolled": true
   },
   "outputs": [
    {
     "name": "stdout",
     "output_type": "stream",
     "text": [
      "The sentence has a negative sentiment.\n"
     ]
    }
   ],
   "source": [
    "# Transforms the preprocessed sentence using the trained CountVectorizer (bag of words)\n",
    "new_sentence_transformed = bagofwords.transform([preprocessed_sentence[0]])\n",
    "\n",
    "\n",
    "# Make a prediction on the transformed sentence using the trained logistic regression model\n",
    "sentiment_prediction = logreg.predict(new_sentence_transformed)\n",
    "\n",
    "# Interpreting the prediction ... 1 would be something similar to a good rating (5 stars), while 0 would be a bad one\n",
    "if sentiment_prediction == 1:\n",
    "    print(\"The sentence has a positive sentiment.\")\n",
    "else:\n",
    "    print(\"The sentence has a negative sentiment.\")"
   ]
  },
  {
   "cell_type": "markdown",
   "id": "d6ece28a",
   "metadata": {},
   "source": [
    "Because of the data imbalance, it was always predicting Positive comments (since 90% of the data is positive), after resampling, the prediction is a lot better as long as there are more than 3 words (usually doesnt work for only 1 or 2 words)."
   ]
  },
  {
   "cell_type": "code",
   "execution_count": 69,
   "id": "783501ef",
   "metadata": {},
   "outputs": [
    {
     "name": "stdout",
     "output_type": "stream",
     "text": [
      "              precision    recall  f1-score   support\n",
      "\n",
      "           0       0.70      0.82      0.76      4990\n",
      "           1       0.79      0.65      0.71      5010\n",
      "\n",
      "    accuracy                           0.74     10000\n",
      "   macro avg       0.74      0.74      0.74     10000\n",
      "weighted avg       0.75      0.74      0.74     10000\n",
      "\n"
     ]
    }
   ],
   "source": [
    "# Get predicted probabilities for positive class\n",
    "y_pred_prob = logreg.predict_proba(X_test_sample_transformed)[:, 1]\n",
    "\n",
    "# Adjust the decision threshold\n",
    "threshold = 0.6  # threshold (experimenting with different values)\n",
    "y_pred = (y_pred_prob >= threshold).astype(int)\n",
    "\n",
    "# Calculate precision, recall, and other metrics\n",
    "from sklearn.metrics import classification_report\n",
    "print(classification_report(y_test_sample, y_pred))\n"
   ]
  },
  {
   "cell_type": "code",
   "execution_count": 70,
   "id": "a554d29b",
   "metadata": {},
   "outputs": [],
   "source": [
    "##### do a confusion matrix"
   ]
  },
  {
   "cell_type": "code",
   "execution_count": 71,
   "id": "2dda2970",
   "metadata": {},
   "outputs": [
    {
     "name": "stdout",
     "output_type": "stream",
     "text": [
      "Best Threshold: 0.4\n",
      "Best Metric Value: 0.7629\n"
     ]
    }
   ],
   "source": [
    "import numpy as np\n",
    "from sklearn.metrics import accuracy_score, precision_score, recall_score, f1_score\n",
    "\n",
    "# Obtain the predicted probabilities for the positive class\n",
    "y_pred_prob = logreg.predict_proba(X_test_sample_transformed)[:, 1]\n",
    "\n",
    "# Define the range of threshold values to evaluate\n",
    "thresholds = np.arange(0.1, 1.0, 0.1)\n",
    "\n",
    "# Initialize variables to store the best threshold and corresponding metric value\n",
    "best_threshold = None\n",
    "best_metric = 0.0\n",
    "\n",
    "# Iterate over the threshold values\n",
    "for threshold in thresholds:\n",
    "    # Convert predicted probabilities into binary predictions based on the threshold\n",
    "    y_pred = (y_pred_prob >= threshold).astype(int)\n",
    "    \n",
    "    # Calculate the evaluation metric of interest (e.g., accuracy, precision, recall, F1 score)\n",
    "    metric_value = accuracy_score(y_test_sample, y_pred)  # Replace with the desired metric\n",
    "    \n",
    "    # Check if the current metric value is better than the previous best\n",
    "    if metric_value > best_metric:\n",
    "        best_metric = metric_value\n",
    "        best_threshold = threshold\n",
    "\n",
    "# Print the best threshold and corresponding metric value\n",
    "print(\"Best Threshold:\", best_threshold)\n",
    "print(\"Best Metric Value:\", best_metric)\n"
   ]
  },
  {
   "cell_type": "code",
   "execution_count": 72,
   "id": "7505b3bc",
   "metadata": {},
   "outputs": [],
   "source": [
    "### try graph"
   ]
  },
  {
   "cell_type": "code",
   "execution_count": 73,
   "id": "bbb941f8",
   "metadata": {},
   "outputs": [
    {
     "name": "stdout",
     "output_type": "stream",
     "text": [
      "The sentence has a positive sentiment.\n"
     ]
    }
   ],
   "source": [
    "# Preprocess the new sentence\n",
    "new_sentence = \"amazing good\"\n",
    "preprocessed_sentence = my_tokenizer(new_sentence)\n",
    "preprocessed_sentence = ' '.join(preprocessed_sentence)  # Join the tokens into a single string\n",
    "\n",
    "# Transform the preprocessed sentence using the trained CountVectorizer\n",
    "new_sentence_transformed = bagofwords.transform([preprocessed_sentence])\n",
    "\n",
    "# Get the predicted probabilities for the positive class\n",
    "y_pred_prob = logreg.predict_proba(new_sentence_transformed)[:, 1]\n",
    "\n",
    "# Adjust the decision threshold\n",
    "threshold = 0.4  # Set the desired threshold \n",
    "sentiment_prediction = int(y_pred_prob >= threshold)\n",
    "\n",
    "# Print the sentiment prediction\n",
    "if sentiment_prediction == 1:\n",
    "    print(\"The sentence has a positive sentiment.\")\n",
    "else:\n",
    "    print(\"The sentence has a negative sentiment.\")\n"
   ]
  },
  {
   "cell_type": "markdown",
   "id": "3c179924",
   "metadata": {},
   "source": [
    "# Tuning Hyper parameters"
   ]
  },
  {
   "cell_type": "code",
   "execution_count": 74,
   "id": "f0d14b7e",
   "metadata": {
    "scrolled": false
   },
   "outputs": [
    {
     "name": "stdout",
     "output_type": "stream",
     "text": [
      "Best parameter: {'C': 0.1}\n",
      "Best score: 0.7571428571428571\n",
      "Train score: 0.7878214285714286\n",
      "Test score: 0.7605\n"
     ]
    }
   ],
   "source": [
    "from sklearn.model_selection import GridSearchCV\n",
    "\n",
    "# Define the parameter grid\n",
    "param_grid = {'C': [0.001, 0.01, 0.1, 1, 10, 100]}\n",
    "\n",
    "# Create the GridSearchCV object\n",
    "grid_search = GridSearchCV(LogisticRegression(), param_grid, cv=5)\n",
    "\n",
    "# Fit the grid search to the training data\n",
    "grid_search.fit(X_train_sample_transformed, y_train_sample)\n",
    "\n",
    "# Print the best parameter and the corresponding score\n",
    "print(\"Best parameter:\", grid_search.best_params_)\n",
    "print(\"Best score:\", grid_search.best_score_)\n",
    "\n",
    "# Get the best model\n",
    "best_model = grid_search.best_estimator_\n",
    "\n",
    "# Training and test score of the best model\n",
    "print(f\"Train score: {best_model.score(X_train_sample_transformed, y_train_sample)}\")\n",
    "print(f\"Test score: {best_model.score(X_test_sample_transformed, y_test_sample)}\")\n"
   ]
  },
  {
   "cell_type": "code",
   "execution_count": 75,
   "id": "2fe298d7",
   "metadata": {},
   "outputs": [
    {
     "name": "stdout",
     "output_type": "stream",
     "text": [
      "Train score: 0.7878214285714286\n",
      "Test score: 0.7605\n"
     ]
    }
   ],
   "source": [
    "# my logreg is already with C = 0.1\n",
    "\n",
    "# Training and test score\n",
    "print(f\"Train score: {logreg.score(X_train_sample_transformed, y_train_sample)}\")\n",
    "print(f\"Test score: {logreg.score(X_test_sample_transformed, y_test_sample)}\")"
   ]
  },
  {
   "cell_type": "markdown",
   "id": "dad42f32",
   "metadata": {},
   "source": [
    "My log reg was already with the best parameter available "
   ]
  },
  {
   "cell_type": "markdown",
   "id": "edd5f43e",
   "metadata": {},
   "source": [
    "# trying TFIDVectorizer"
   ]
  },
  {
   "cell_type": "code",
   "execution_count": 76,
   "id": "fde5f1b0",
   "metadata": {},
   "outputs": [],
   "source": [
    "from sklearn.feature_extraction.text import TfidfVectorizer"
   ]
  },
  {
   "cell_type": "code",
   "execution_count": 77,
   "id": "549856bc",
   "metadata": {},
   "outputs": [],
   "source": [
    "\n",
    "# tfidf = TfidfVectorizer(tokenizer = my_tokenizer).fit(sample_reviews[\"Review\"])\n",
    "# sample_transformed = tfidf.transform(sample_reviews[\"Review\"])\n",
    "\n",
    "# tfidf_df = pd.DataFrame(columns=tfidf.get_feature_names(), data=sample_transformed.toarray())\n",
    "# display(tfidf_df)"
   ]
  },
  {
   "cell_type": "code",
   "execution_count": 78,
   "id": "dd95e704",
   "metadata": {},
   "outputs": [
    {
     "data": {
      "text/plain": [
       "(28000, 2277)"
      ]
     },
     "execution_count": 78,
     "metadata": {},
     "output_type": "execute_result"
    }
   ],
   "source": [
    "tfidf = TfidfVectorizer(min_df=20,\n",
    "                        tokenizer=my_tokenizer)\n",
    "tfidf.fit(X_train_sample)\n",
    "\n",
    "X_train_transformed = tfidf.transform(X_train_sample)\n",
    "X_test_transformed = tfidf.transform(X_test_sample)\n",
    "\n",
    "X_train_transformed.shape"
   ]
  },
  {
   "cell_type": "code",
   "execution_count": 79,
   "id": "87fae314",
   "metadata": {},
   "outputs": [
    {
     "data": {
      "image/png": "[encoded data removed]",
      "text/plain": [
       "<Figure size 1500x500 with 1 Axes>"
      ]
     },
     "metadata": {},
     "output_type": "display_data"
    }
   ],
   "source": [
    "word_counts = pd.DataFrame(\n",
    "    {\"counts\": X_train_transformed.toarray().sum(axis=0)},\n",
    "    index=tfidf.get_feature_names()\n",
    ").sort_values(\"counts\", ascending=False)\n",
    "\n",
    "word_counts.head(20).plot(kind=\"bar\", figsize=(15, 5), legend=False)\n",
    "plt.title(\"Top 20 highest weighted words by TF-IDF\")\n",
    "plt.ylabel(\"Total TF-IDF weight\")\n",
    "plt.xticks(rotation=45)\n",
    "plt.show()"
   ]
  },
  {
   "cell_type": "code",
   "execution_count": 80,
   "id": "cebb9c0a",
   "metadata": {},
   "outputs": [
    {
     "data": {
      "text/plain": [
       "LogisticRegression()"
      ]
     },
     "execution_count": 80,
     "metadata": {},
     "output_type": "execute_result"
    }
   ],
   "source": [
    "logreg = LogisticRegression()\n",
    "logreg.fit(X_train_transformed, y_train_sample)"
   ]
  },
  {
   "cell_type": "code",
   "execution_count": 81,
   "id": "c66db936",
   "metadata": {},
   "outputs": [],
   "source": [
    "coefficients = logreg.coef_[0]\n",
    "word_coefficients = pd.DataFrame({\"word\": tfidf.get_feature_names(), \"coefficient\": coefficients})\n",
    "top_positive_words = word_coefficients.sort_values(\"coefficient\", ascending=False).head(20)\n"
   ]
  },
  {
   "cell_type": "code",
   "execution_count": 82,
   "id": "6f3b8466",
   "metadata": {},
   "outputs": [
    {
     "data": {
      "text/html": [
       "<div>\n",
       "<style scoped>\n",
       "    .dataframe tbody tr th:only-of-type {\n",
       "        vertical-align: middle;\n",
       "    }\n",
       "\n",
       "    .dataframe tbody tr th {\n",
       "        vertical-align: top;\n",
       "    }\n",
       "\n",
       "    .dataframe thead th {\n",
       "        text-align: right;\n",
       "    }\n",
       "</style>\n",
       "<table border=\"1\" class=\"dataframe\">\n",
       "  <thead>\n",
       "    <tr style=\"text-align: right;\">\n",
       "      <th></th>\n",
       "      <th>word</th>\n",
       "      <th>coefficient</th>\n",
       "    </tr>\n",
       "  </thead>\n",
       "  <tbody>\n",
       "    <tr>\n",
       "      <th>2023</th>\n",
       "      <td>thank</td>\n",
       "      <td>5.273376</td>\n",
       "    </tr>\n",
       "    <tr>\n",
       "      <th>1979</th>\n",
       "      <td>tag</td>\n",
       "      <td>4.129741</td>\n",
       "    </tr>\n",
       "    <tr>\n",
       "      <th>897</th>\n",
       "      <td>great</td>\n",
       "      <td>3.696792</td>\n",
       "    </tr>\n",
       "    <tr>\n",
       "      <th>1447</th>\n",
       "      <td>perfect</td>\n",
       "      <td>3.504450</td>\n",
       "    </tr>\n",
       "    <tr>\n",
       "      <th>1387</th>\n",
       "      <td>outstand</td>\n",
       "      <td>3.386321</td>\n",
       "    </tr>\n",
       "    <tr>\n",
       "      <th>2227</th>\n",
       "      <td>wonder</td>\n",
       "      <td>3.276018</td>\n",
       "    </tr>\n",
       "    <tr>\n",
       "      <th>571</th>\n",
       "      <td>dh</td>\n",
       "      <td>3.136232</td>\n",
       "    </tr>\n",
       "    <tr>\n",
       "      <th>693</th>\n",
       "      <td>excel</td>\n",
       "      <td>3.105115</td>\n",
       "    </tr>\n",
       "    <tr>\n",
       "      <th>1398</th>\n",
       "      <td>pac</td>\n",
       "      <td>3.087588</td>\n",
       "    </tr>\n",
       "    <tr>\n",
       "      <th>720</th>\n",
       "      <td>fantast</td>\n",
       "      <td>3.054140</td>\n",
       "    </tr>\n",
       "    <tr>\n",
       "      <th>553</th>\n",
       "      <td>delici</td>\n",
       "      <td>3.035483</td>\n",
       "    </tr>\n",
       "    <tr>\n",
       "      <th>2268</th>\n",
       "      <td>zaar</td>\n",
       "      <td>2.890357</td>\n",
       "    </tr>\n",
       "    <tr>\n",
       "      <th>1171</th>\n",
       "      <td>love</td>\n",
       "      <td>2.766412</td>\n",
       "    </tr>\n",
       "    <tr>\n",
       "      <th>2143</th>\n",
       "      <td>use</td>\n",
       "      <td>2.725964</td>\n",
       "    </tr>\n",
       "    <tr>\n",
       "      <th>2266</th>\n",
       "      <td>yummi</td>\n",
       "      <td>2.704747</td>\n",
       "    </tr>\n",
       "    <tr>\n",
       "      <th>1319</th>\n",
       "      <td>nice</td>\n",
       "      <td>2.555622</td>\n",
       "    </tr>\n",
       "    <tr>\n",
       "      <th>1611</th>\n",
       "      <td>refresh</td>\n",
       "      <td>2.494446</td>\n",
       "    </tr>\n",
       "    <tr>\n",
       "      <th>2233</th>\n",
       "      <td>worri</td>\n",
       "      <td>2.480232</td>\n",
       "    </tr>\n",
       "    <tr>\n",
       "      <th>791</th>\n",
       "      <td>forgot</td>\n",
       "      <td>2.462952</td>\n",
       "    </tr>\n",
       "    <tr>\n",
       "      <th>1185</th>\n",
       "      <td>made</td>\n",
       "      <td>2.456053</td>\n",
       "    </tr>\n",
       "  </tbody>\n",
       "</table>\n",
       "</div>"
      ],
      "text/plain": [
       "          word  coefficient\n",
       "2023     thank     5.273376\n",
       "1979       tag     4.129741\n",
       "897      great     3.696792\n",
       "1447   perfect     3.504450\n",
       "1387  outstand     3.386321\n",
       "2227    wonder     3.276018\n",
       "571         dh     3.136232\n",
       "693      excel     3.105115\n",
       "1398       pac     3.087588\n",
       "720    fantast     3.054140\n",
       "553     delici     3.035483\n",
       "2268      zaar     2.890357\n",
       "1171      love     2.766412\n",
       "2143       use     2.725964\n",
       "2266     yummi     2.704747\n",
       "1319      nice     2.555622\n",
       "1611   refresh     2.494446\n",
       "2233     worri     2.480232\n",
       "791     forgot     2.462952\n",
       "1185      made     2.456053"
      ]
     },
     "execution_count": 82,
     "metadata": {},
     "output_type": "execute_result"
    }
   ],
   "source": [
    "top_positive_words"
   ]
  },
  {
   "cell_type": "code",
   "execution_count": 83,
   "id": "f73d81ca",
   "metadata": {},
   "outputs": [
    {
     "data": {
      "image/png": "[encoded data removed]",
      "text/plain": [
       "<Figure size 1500x500 with 1 Axes>"
      ]
     },
     "metadata": {},
     "output_type": "display_data"
    }
   ],
   "source": [
    "word_counts = pd.DataFrame(\n",
    "    {\"coefficients\": logreg.coef_[0]},\n",
    "    index=tfidf.get_feature_names()\n",
    ").sort_values(\"coefficients\", ascending=False)\n",
    "\n",
    "word_counts.head(20).plot(kind=\"bar\", figsize=(15, 5), legend=False)\n",
    "plt.title(\"The 20 highest model coefficients indicating positive sentiment\")\n",
    "plt.ylabel(\"Coefficients\")\n",
    "plt.xticks(rotation=45)\n",
    "plt.show()"
   ]
  },
  {
   "cell_type": "markdown",
   "id": "e5c0ff1c",
   "metadata": {},
   "source": [
    "With TfidfVectorizer, the coefficients are a lot better! this would help me a lot on my sentiment analysis!"
   ]
  },
  {
   "cell_type": "code",
   "execution_count": 84,
   "id": "0a128b7a",
   "metadata": {},
   "outputs": [
    {
     "data": {
      "image/png": "[encoded data removed]",
      "text/plain": [
       "<Figure size 1500x500 with 1 Axes>"
      ]
     },
     "metadata": {},
     "output_type": "display_data"
    }
   ],
   "source": [
    "word_counts = pd.DataFrame(\n",
    "    {\"coefficients\": logreg.coef_[0]},\n",
    "    index=tfidf.get_feature_names()\n",
    ").sort_values(\"coefficients\", ascending=False)\n",
    "\n",
    "word_counts.tail(20).plot(kind=\"bar\", figsize=(15, 5), legend=False)\n",
    "plt.title(\"The 20 highest model coefficients indicating positive sentiment\")\n",
    "plt.ylabel(\"Coefficients\")\n",
    "plt.xticks(rotation=45)\n",
    "plt.show()"
   ]
  },
  {
   "cell_type": "markdown",
   "id": "b0ba6fd9",
   "metadata": {},
   "source": [
    "The negtive words also have a ot better coefficient thatn my original CountVectorizer! "
   ]
  },
  {
   "cell_type": "code",
   "execution_count": 93,
   "id": "34722e22",
   "metadata": {},
   "outputs": [
    {
     "name": "stdout",
     "output_type": "stream",
     "text": [
      "Train score: 0.7908928571428572\n",
      "Test score: 0.7655\n"
     ]
    }
   ],
   "source": [
    "print(f\"Train score: {logreg.score(X_train_transformed, y_train_sample)}\")\n",
    "print(f\"Test score: {logreg.score(X_test_transformed, y_test_sample)}\")"
   ]
  },
  {
   "cell_type": "markdown",
   "id": "b4f75dc0",
   "metadata": {},
   "source": [
    "The score is basicaly the same as the previous logistic regression, while having higher coefficients which will have more weight when analyzing sentences!"
   ]
  },
  {
   "cell_type": "markdown",
   "id": "c5d5fba6",
   "metadata": {},
   "source": [
    "And now the test with sentences to see how better it does!"
   ]
  },
  {
   "cell_type": "code",
   "execution_count": 100,
   "id": "6bdd1491",
   "metadata": {},
   "outputs": [
    {
     "name": "stdout",
     "output_type": "stream",
     "text": [
      "['wast']\n",
      "The sentence has a negative sentiment.\n"
     ]
    }
   ],
   "source": [
    "# Preprocess the new sentence\n",
    "new_sentence = \"waste\"\n",
    "preprocessed_sentence = my_tokenizer(new_sentence)\n",
    "preprocessed_sentence = ' '.join(preprocessed_sentence)  # Join the tokens into a single string\n",
    "\n",
    "# Transform the preprocessed sentence using the trained CountVectorizer\n",
    "new_sentence_transformed = bagofwords.transform([preprocessed_sentence])\n",
    "\n",
    "# Get the predicted probabilities for the positive class\n",
    "y_pred_prob = logreg.predict_proba(new_sentence_transformed)[:, 1]\n",
    "\n",
    "# Adjust the decision threshold\n",
    "threshold = 0.4  # Set the desired threshold \n",
    "sentiment_prediction = int(y_pred_prob >= threshold)\n",
    "\n",
    "print([preprocessed_sentence])\n",
    "\n",
    "\n",
    "# Print the sentiment prediction\n",
    "if sentiment_prediction == 1:\n",
    "    print(\"The sentence has a positive sentiment.\")\n",
    "else:\n",
    "    print(\"The sentence has a negative sentiment.\")\n"
   ]
  },
  {
   "cell_type": "markdown",
   "id": "f5e61b91",
   "metadata": {},
   "source": [
    "And it is working even with one word now! Because coefficients are higher, they hav e ahigher weight, so now my sentence doesnt need more than 3 keywords as before to be able to effectively predict the sentiment of the sentence!"
   ]
  },
  {
   "cell_type": "code",
   "execution_count": 87,
   "id": "244c3204",
   "metadata": {},
   "outputs": [],
   "source": [
    "# from sklearn.metrics import classification_report\n",
    "\n",
    "\n",
    "# # Assuming you have y_true (true labels) and y_pred (predicted labels)\n",
    "# report = classification_report(y_true, y_pred)\n",
    "# print(report)\n",
    "\n"
   ]
  },
  {
   "cell_type": "code",
   "execution_count": 88,
   "id": "5bc6ebf9",
   "metadata": {},
   "outputs": [],
   "source": [
    "# from sklearn.utils import resample"
   ]
  },
  {
   "cell_type": "code",
   "execution_count": 89,
   "id": "f6b4d2ce",
   "metadata": {},
   "outputs": [],
   "source": [
    "# print('Number of samples before:', X_train_sample_transformed.shape)\n",
    "\n",
    "# print(X_test_sample_transformed.shape)\n",
    "# X_upsampled, y_upsampled = resample(X_train_sample_transformed[y_train_sample == 1], \n",
    "#                                     y_train_sample[y_train_sample == 1], \n",
    "#                                     replace=True, \n",
    "#                                     n_samples= 50000, \n",
    "#                                     stratify = y_train_sample,\n",
    "#                                     random_state=1)\n",
    "\n",
    "# print('Number of samples afer:', X_upsampled.shape)"
   ]
  },
  {
   "cell_type": "code",
   "execution_count": 90,
   "id": "30d26008",
   "metadata": {},
   "outputs": [],
   "source": [
    "# questions to make\n",
    "# should i make a decision tree for the recomendation? or knn or something with bayes?\n",
    "\n",
    "# self note: do model evaluation, test True positives, false positive, true negative, false negative\n",
    "# there is class imbalance so do model evaluation stuff\n",
    "# i hae to do a value_counts to see how many i have of each rating to make a good resample\n",
    "# use stratify , will pick samples in a smart way"
   ]
  },
  {
   "cell_type": "code",
   "execution_count": 91,
   "id": "109bb05c",
   "metadata": {},
   "outputs": [],
   "source": [
    "# acurracy , precision, recall, confusion matrix\n",
    "# ok i have to try different classifiers, hyperparameters (diffeerent c values, k values, which ones are performing the best)\n",
    "# resample\n",
    "# stratify\n",
    "# create similar content to the text adata, how do we write code, expand on my own data.\n",
    "# word cloud is ok\n"
   ]
  },
  {
   "cell_type": "code",
   "execution_count": 92,
   "id": "9ee67a83",
   "metadata": {},
   "outputs": [],
   "source": [
    "# try svm, hyper parameter, KNN, create pipelines ----> \n",
    "# ue counvectorizer or tfid... check ML pipelines.... "
   ]
  }
 ],
 "metadata": {
  "kernelspec": {
   "display_name": "Python 3 (ipykernel)",
   "language": "python",
   "name": "python3"
  },
  "language_info": {
   "codemirror_mode": {
    "name": "ipython",
    "version": 3
   },
   "file_extension": ".py",
   "mimetype": "text/x-python",
   "name": "python",
   "nbconvert_exporter": "python",
   "pygments_lexer": "ipython3",
   "version": "3.8.16"
  }
 },
 "nbformat": 4,
 "nbformat_minor": 5
}
